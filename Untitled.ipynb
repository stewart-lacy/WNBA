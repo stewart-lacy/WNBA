{
 "cells": [
  {
   "cell_type": "code",
   "execution_count": null,
   "metadata": {},
   "outputs": [],
   "source": [
    "left_corner_3_made, right_corner_3_made, mid_range_Right_Side__made,Mid_Range_made, Mid_Range_LC_made\n",
    ",Mid_Range_RC_made, Mid_Range_LS_made, NRA_Center_made, RA_made, RA_made_2, Above_The_Break_3_LC_made, \n",
    "Above_The_Brbeak_3_RC_made_1, Above_The_Break_3_RC_made_2, Above_The_Break_3_center_made"
   ]
  },
  {
   "cell_type": "code",
   "execution_count": null,
   "metadata": {},
   "outputs": [],
   "source": [
    "Shots_made_onCourt=Shots_made_onCourt.append(mid_range_Right_Side__made)\n",
    "Shots_made_onCourt"
   ]
  }
 ],
 "metadata": {
  "kernelspec": {
   "display_name": "Python 3",
   "language": "python",
   "name": "python3"
  },
  "language_info": {
   "codemirror_mode": {
    "name": "ipython",
    "version": 3
   },
   "file_extension": ".py",
   "mimetype": "text/x-python",
   "name": "python",
   "nbconvert_exporter": "python",
   "pygments_lexer": "ipython3",
   "version": "3.7.4"
  }
 },
 "nbformat": 4,
 "nbformat_minor": 4
}
