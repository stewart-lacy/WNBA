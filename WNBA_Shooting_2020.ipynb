{
 "cells": [
  {
   "cell_type": "code",
   "execution_count": 3,
   "metadata": {},
   "outputs": [],
   "source": [
    "import pandas as pd \n",
    "import numpy as np \n",
    "import matplotlib.pyplot as plt\n",
    "import seaborn as sns \n",
    "%matplotlib inline "
   ]
  },
  {
   "cell_type": "code",
   "execution_count": 4,
   "metadata": {},
   "outputs": [
    {
     "data": {
      "text/html": [
       "<div>\n",
       "<style scoped>\n",
       "    .dataframe tbody tr th:only-of-type {\n",
       "        vertical-align: middle;\n",
       "    }\n",
       "\n",
       "    .dataframe tbody tr th {\n",
       "        vertical-align: top;\n",
       "    }\n",
       "\n",
       "    .dataframe thead th {\n",
       "        text-align: right;\n",
       "    }\n",
       "</style>\n",
       "<table border=\"1\" class=\"dataframe\">\n",
       "  <thead>\n",
       "    <tr style=\"text-align: right;\">\n",
       "      <th></th>\n",
       "      <th>PLAYER_NAME</th>\n",
       "      <th>SHOT_ZONE_BASIC</th>\n",
       "      <th>SHOT_ZONE_AREA</th>\n",
       "      <th>SHOT_ZONE_RANGE</th>\n",
       "      <th>SHOT_DISTANCE</th>\n",
       "      <th>LOC_X</th>\n",
       "      <th>LOC_Y</th>\n",
       "      <th>Count</th>\n",
       "    </tr>\n",
       "  </thead>\n",
       "  <tbody>\n",
       "    <tr>\n",
       "      <td>0</td>\n",
       "      <td>Natasha Howard</td>\n",
       "      <td>Mid-Range</td>\n",
       "      <td>Right Side(R)</td>\n",
       "      <td>8-16 ft.</td>\n",
       "      <td>10</td>\n",
       "      <td>107</td>\n",
       "      <td>-9</td>\n",
       "      <td>1</td>\n",
       "    </tr>\n",
       "    <tr>\n",
       "      <td>1</td>\n",
       "      <td>Kiah Stokes</td>\n",
       "      <td>In The Paint (Non-RA)</td>\n",
       "      <td>Center(C)</td>\n",
       "      <td>Less Than 8 ft.</td>\n",
       "      <td>5</td>\n",
       "      <td>-30</td>\n",
       "      <td>41</td>\n",
       "      <td>1</td>\n",
       "    </tr>\n",
       "    <tr>\n",
       "      <td>2</td>\n",
       "      <td>Breanna Stewart</td>\n",
       "      <td>Restricted Area</td>\n",
       "      <td>Center(C)</td>\n",
       "      <td>Less Than 8 ft.</td>\n",
       "      <td>1</td>\n",
       "      <td>-15</td>\n",
       "      <td>0</td>\n",
       "      <td>1</td>\n",
       "    </tr>\n",
       "    <tr>\n",
       "      <td>3</td>\n",
       "      <td>Amanda Zahui B</td>\n",
       "      <td>Mid-Range</td>\n",
       "      <td>Center(C)</td>\n",
       "      <td>16-24 ft.</td>\n",
       "      <td>17</td>\n",
       "      <td>-1</td>\n",
       "      <td>176</td>\n",
       "      <td>1</td>\n",
       "    </tr>\n",
       "    <tr>\n",
       "      <td>4</td>\n",
       "      <td>Layshia Clarendon</td>\n",
       "      <td>Restricted Area</td>\n",
       "      <td>Center(C)</td>\n",
       "      <td>Less Than 8 ft.</td>\n",
       "      <td>2</td>\n",
       "      <td>21</td>\n",
       "      <td>14</td>\n",
       "      <td>1</td>\n",
       "    </tr>\n",
       "    <tr>\n",
       "      <td>...</td>\n",
       "      <td>...</td>\n",
       "      <td>...</td>\n",
       "      <td>...</td>\n",
       "      <td>...</td>\n",
       "      <td>...</td>\n",
       "      <td>...</td>\n",
       "      <td>...</td>\n",
       "      <td>...</td>\n",
       "    </tr>\n",
       "    <tr>\n",
       "      <td>8030</td>\n",
       "      <td>Brittney Sykes</td>\n",
       "      <td>Mid-Range</td>\n",
       "      <td>Left Side(L)</td>\n",
       "      <td>8-16 ft.</td>\n",
       "      <td>11</td>\n",
       "      <td>-111</td>\n",
       "      <td>39</td>\n",
       "      <td>1</td>\n",
       "    </tr>\n",
       "    <tr>\n",
       "      <td>8031</td>\n",
       "      <td>Chelsea Gray</td>\n",
       "      <td>Restricted Area</td>\n",
       "      <td>Center(C)</td>\n",
       "      <td>Less Than 8 ft.</td>\n",
       "      <td>0</td>\n",
       "      <td>0</td>\n",
       "      <td>-6</td>\n",
       "      <td>1</td>\n",
       "    </tr>\n",
       "    <tr>\n",
       "      <td>8032</td>\n",
       "      <td>Nneka Ogwumike</td>\n",
       "      <td>Mid-Range</td>\n",
       "      <td>Right Side Center(RC)</td>\n",
       "      <td>16-24 ft.</td>\n",
       "      <td>18</td>\n",
       "      <td>72</td>\n",
       "      <td>168</td>\n",
       "      <td>1</td>\n",
       "    </tr>\n",
       "    <tr>\n",
       "      <td>8033</td>\n",
       "      <td>Kayla McBride</td>\n",
       "      <td>Above the Break 3</td>\n",
       "      <td>Right Side(R)</td>\n",
       "      <td>24+ ft.</td>\n",
       "      <td>22</td>\n",
       "      <td>225</td>\n",
       "      <td>43</td>\n",
       "      <td>1</td>\n",
       "    </tr>\n",
       "    <tr>\n",
       "      <td>8034</td>\n",
       "      <td>Danielle Robinson</td>\n",
       "      <td>Restricted Area</td>\n",
       "      <td>Center(C)</td>\n",
       "      <td>Less Than 8 ft.</td>\n",
       "      <td>2</td>\n",
       "      <td>23</td>\n",
       "      <td>11</td>\n",
       "      <td>1</td>\n",
       "    </tr>\n",
       "  </tbody>\n",
       "</table>\n",
       "<p>8035 rows × 8 columns</p>\n",
       "</div>"
      ],
      "text/plain": [
       "            PLAYER_NAME        SHOT_ZONE_BASIC         SHOT_ZONE_AREA  \\\n",
       "0        Natasha Howard              Mid-Range          Right Side(R)   \n",
       "1           Kiah Stokes  In The Paint (Non-RA)              Center(C)   \n",
       "2       Breanna Stewart        Restricted Area              Center(C)   \n",
       "3        Amanda Zahui B              Mid-Range              Center(C)   \n",
       "4     Layshia Clarendon        Restricted Area              Center(C)   \n",
       "...                 ...                    ...                    ...   \n",
       "8030     Brittney Sykes              Mid-Range           Left Side(L)   \n",
       "8031       Chelsea Gray        Restricted Area              Center(C)   \n",
       "8032     Nneka Ogwumike              Mid-Range  Right Side Center(RC)   \n",
       "8033      Kayla McBride      Above the Break 3          Right Side(R)   \n",
       "8034  Danielle Robinson        Restricted Area              Center(C)   \n",
       "\n",
       "      SHOT_ZONE_RANGE  SHOT_DISTANCE  LOC_X  LOC_Y  Count  \n",
       "0            8-16 ft.             10    107     -9      1  \n",
       "1     Less Than 8 ft.              5    -30     41      1  \n",
       "2     Less Than 8 ft.              1    -15      0      1  \n",
       "3           16-24 ft.             17     -1    176      1  \n",
       "4     Less Than 8 ft.              2     21     14      1  \n",
       "...               ...            ...    ...    ...    ...  \n",
       "8030         8-16 ft.             11   -111     39      1  \n",
       "8031  Less Than 8 ft.              0      0     -6      1  \n",
       "8032        16-24 ft.             18     72    168      1  \n",
       "8033          24+ ft.             22    225     43      1  \n",
       "8034  Less Than 8 ft.              2     23     11      1  \n",
       "\n",
       "[8035 rows x 8 columns]"
      ]
     },
     "execution_count": 4,
     "metadata": {},
     "output_type": "execute_result"
    }
   ],
   "source": [
    "file_to_load = pd.read_csv(\"WNBA_Shooting_.csv\")\n",
    "pd.set_option('display.max_columns', None)\n",
    "file_to_load['Count'] =1\n",
    "file_to_load"
   ]
  },
  {
   "cell_type": "markdown",
   "metadata": {},
   "source": [
    "# Left Corner 3"
   ]
  },
  {
   "cell_type": "code",
   "execution_count": 105,
   "metadata": {},
   "outputs": [
    {
     "name": "stdout",
     "output_type": "stream",
     "text": [
      "Jewell Loyd\n"
     ]
    }
   ],
   "source": [
    "## Grabbing all shots taken from the Left Corner 3\n",
    "L_Corner_3=file_to_load.loc[file_to_load['SHOT_ZONE_BASIC'] == 'Left Corner 3']\n",
    "## Grouping the shots made and sorting them to show the player who made the most shots, also reseting the index \n",
    "L_Corner_3_made_df=L_Corner_3.groupby(by='PLAYER_NAME').sum()['Count'].sort_values(ascending=False).to_frame().head(10).reset_index()\n",
    "## creating an if statment to look at the top 5 players to ensure that there isn't a tie, if there is then printing their names\n",
    "if L_Corner_3_made_df.Count[0] == L_Corner_3_made_df.Count[1]:\n",
    "    L_Corner_3_Player_1 = L_Corner_3_made_df.PLAYER_NAME[0]\n",
    "    L_Corner_3_Player_2 = L_Corner_3_made_df.PLAYER_NAME[1]\n",
    "    L_Corner_3_lookup_1 = L_Corner_3.loc[L_Corner_3['PLAYER_NAME'] == L_Corner_3_Player_1]\n",
    "    L_Corner_3_lookup_2 = L_Corner_3.loc[L_Corner_3['PLAYER_NAME'] == L_Corner_3_Player_2]\n",
    "    print(f\"{RA_made_df.PLAYER_NAME[0]} and {RA_made_df.PLAYER_NAME[1]}\")\n",
    "    L_Corner_3__combined=L_Corner_3_lookup_1.append(L_Corner_3_lookup_2)\n",
    "    \n",
    "elif L_Corner_3_made_df.Count[0] == L_Corner_3_made_df.Count[1] and L_Corner_3_made_df.Count[1] == L_Corner_3_made_df.Count[2]:\n",
    "    L_Corner_3_Player_1 = L_Corner_3_made_df.PLAYER_NAME[0]\n",
    "    L_Corner_3_Player_2 = L_Corner_3_made_df.PLAYER_NAME[1]\n",
    "    L_Corner_3_Player_3 = L_Corner_3_made_df.PLAYER_NAME[2]\n",
    "    L_Corner_3_lookup_1 = L_Corner_3.loc[L_Corner_3['PLAYER_NAME'] == L_Corner_3_Player_1]\n",
    "    L_Corner_3_lookup_2 = L_Corner_3.loc[L_Corner_3['PLAYER_NAME'] == L_Corner_3_Player_2]\n",
    "    L_Corner_3_lookup_3 = L_Corner_3.loc[L_Corner_3['PLAYER_NAME'] == L_Corner_3_Player_3]\n",
    "    print(f\"{L_Corner_3_made_df.PLAYER_NAME[0]}, {L_Corner_3_made_df.PLAYER_NAME[1]}, {L_Corner_3_made_df.PLAYER_NAME[2]}\")\n",
    "    L_Corner_3__combined=L_Corner_3_lookup_1.append(L_Corner_3_lookup_2)\n",
    "    L_Corner_3__combined = L_Corner_3__combined.append(L_Corner_3_lookup_3)\n",
    "\n",
    "elif L_Corner_3_made_df.Count[0] == L_Corner_3_made_df.Count[1] and L_Corner_3_made_df.Count[1] == L_Corner_3_made_df.Count[2] and L_Corner_3_made_df.Count[3] == L_Corner_3_made_df.Count[2]:\n",
    "    L_Corner_3_Player_1 = L_Corner_3_made_df.PLAYER_NAME[0]\n",
    "    L_Corner_3_Player_2 = L_Corner_3_made_df.PLAYER_NAME[1]\n",
    "    L_Corner_3_Player_3 = L_Corner_3_made_df.PLAYER_NAME[2]\n",
    "    L_Corner_3_Player_4 = L_Corner_3_made_df.PLAYER_NAME[3]\n",
    "    L_Corner_3_lookup_1 = L_Corner_3.loc[L_Corner_3['PLAYER_NAME'] == L_Corner_3_Player_1]\n",
    "    L_Corner_3_lookup_2 = L_Corner_3.loc[L_Corner_3['PLAYER_NAME'] == L_Corner_3_Player_2]\n",
    "    L_Corner_3_lookup_3 = L_Corner_3.loc[L_Corner_3['PLAYER_NAME'] == L_Corner_3_Player_3]\n",
    "    L_Corner_3_lookup_4 = L_Corner_3.loc[L_Corner_3['PLAYER_NAME'] == L_Corner_3_Player_4]\n",
    "    print(f\"{L_Corner_3_made_df.PLAYER_NAME[0]}, {L_Corner_3_made_df.PLAYER_NAME[1]}, {L_Corner_3_made_df.PLAYER_NAME[2]}, and{L_Corner_3_made_df.PLAYER_NAME[3]}\") \n",
    "    L_Corner_3__combined=L_Corner_3_lookup_1.append(L_Corner_3_lookup_2)\n",
    "    L_Corner_3__combined = L_Corner_3__combined.append(L_Corner_3_lookup_3)\n",
    "    L_Corner_3__combined = L_Corner_3__combined.append(L_Corner_3_lookup_4)\n",
    "\n",
    "elif L_Corner_3_made_df.Count[0] == L_Corner_3_made_df.Count[1] and L_Corner_3_made_df.Count[1] == L_Corner_3_made_df.Count[2] and L_Corner_3_made_df.Count[3] == L_Corner_3_made_df.Count[2] and L_Corner_3_made_df.Count[4] == L_Corner_3_made_df.Count[3] and L_Corner_3_made_df.Count[5] == L_Corner_3_made_df.Count[4]:\n",
    "    L_Corner_3_Player_1 = L_Corner_3_made_df.PLAYER_NAME[0]\n",
    "    L_Corner_3_Player_2 = L_Corner_3_made_df.PLAYER_NAME[1]\n",
    "    L_Corner_3_Player_3 = L_Corner_3_made_df.PLAYER_NAME[2]\n",
    "    L_Corner_3_Player_4 = L_Corner_3_made_df.PLAYER_NAME[3]\n",
    "    L_Corner_3_Player_5 = L_Corner_3_made_df.PLAYER_NAME[4]\n",
    "    L_Corner_3_Player_6 = L_Corner_3_made_df.PLAYER_NAME[5]\n",
    "    L_Corner_3_lookup_1 = L_Corner_3.loc[L_Corner_3['PLAYER_NAME'] == L_Corner_3_Player_1]\n",
    "    L_Corner_3_lookup_2 = L_Corner_3.loc[L_Corner_3['PLAYER_NAME'] == L_Corner_3_Player_2]\n",
    "    L_Corner_3_lookup_3 = L_Corner_3.loc[L_Corner_3['PLAYER_NAME'] == L_Corner_3_Player_3]\n",
    "    L_Corner_3_lookup_4 = L_Corner_3.loc[L_Corner_3['PLAYER_NAME'] == L_Corner_3_Player_4]\n",
    "    L_Corner_3_lookup_5 = L_Corner_3.loc[L_Corner_3['PLAYER_NAME'] == L_Corner_3_Player_5]\n",
    "    L_Corner_3_lookup_6 = L_Corner_3.loc[L_Corner_3['PLAYER_NAME'] == L_Corner_3_Player_6]\n",
    "    print(f\"{L_Corner_3_made_df.PLAYER_NAME[0]}, {L_Corner_3_made_df.PLAYER_NAME[1]}, {L_Corner_3_made_df.PLAYER_NAME[2]}, and{L_Corner_3_made_df.PLAYER_NAME[3]}\") \n",
    "    L_Corner_3__combined=L_Corner_3_lookup_1.append(L_Corner_3_lookup_2)\n",
    "    L_Corner_3__combined = L_Corner_3__combined.append(L_Corner_3_lookup_3)\n",
    "    L_Corner_3__combined = L_Corner_3__combined.append(L_Corner_3_lookup_4)\n",
    "    L_Corner_3__combined = L_Corner_3__combined.append(L_Corner_3_lookup_5)\n",
    "    L_Corner_3__combined = L_Corner_3__combined.append(L_Corner_3_lookup_6)\n",
    "\n",
    "elif L_Corner_3_made_df.Count[0] != L_Corner_3_made_df.Count[1]:\n",
    "    print(f\"{L_Corner_3_made_df.PLAYER_NAME[0]}\")\n",
    "    L_Corner_3__combined=L_Corner_3.loc[L_Corner_3['PLAYER_NAME'] == L_Corner_3_made_df.PLAYER_NAME[0]]   \n",
    "\n",
    "else:\n",
    "    print(\"Can't compute\")   "
   ]
  },
  {
   "cell_type": "markdown",
   "metadata": {},
   "source": [
    "# Right Corner 3"
   ]
  },
  {
   "cell_type": "code",
   "execution_count": 106,
   "metadata": {},
   "outputs": [
    {
     "name": "stdout",
     "output_type": "stream",
     "text": [
      "Satou Sabally\n"
     ]
    }
   ],
   "source": [
    "R_Corner_3=file_to_load.loc[file_to_load['SHOT_ZONE_BASIC'] == 'Right Corner 3']\n",
    "R_Corner_3_made_df=R_Corner_3.groupby(by='PLAYER_NAME').sum()['Count'].sort_values(ascending=False).to_frame().head(10).reset_index()\n",
    "\n",
    "## creating an if statment to look at the top 5 players to ensure that there isn't a tie, if there is then printing their names\n",
    "if R_Corner_3_made_df.Count[0] == R_Corner_3_made_df.Count[1]:\n",
    "    R_Corner_3_Player_1 = R_Corner_3_made_df.PLAYER_NAME[0]\n",
    "    R_Corner_3_Player_2 = R_Corner_3_made_df.PLAYER_NAME[1]\n",
    "    R_Corner_3_lookup_1 = R_Corner_3.loc[R_Corner_3['PLAYER_NAME'] == R_Corner_3_Player_1]\n",
    "    R_Corner_3_lookup_2 = R_Corner_3.loc[R_Corner_3['PLAYER_NAME'] == R_Corner_3_Player_2]\n",
    "    print(f\"{R_Corner_3_made_df.PLAYER_NAME[0]} and {R_Corner_3_made_df.PLAYER_NAME[1]}\")\n",
    "    R_Corner_3__combined = R_Corner_3_lookup_1.append(R_Corner_3_lookup_2)\n",
    "    \n",
    "elif R_Corner_3_made_df.Count[0] == R_Corner_3_made_df.Count[1] and R_Corner_3_made_df.Count[1] == R_Corner_3_made_df.Count[2]:\n",
    "    R_Corner_3_Player_1 = R_Corner_3_made_df.PLAYER_NAME[0]\n",
    "    R_Corner_3_Player_2 = R_Corner_3_made_df.PLAYER_NAME[1]\n",
    "    R_Corner_3_Player_3 = R_Corner_3_made_df.PLAYER_NAME[2]\n",
    "    R_Corner_3_lookup_1 = R_Corner_3.loc[R_Corner_3['PLAYER_NAME'] == R_Corner_3_Player_1]\n",
    "    R_Corner_3_lookup_2 = R_Corner_3.loc[R_Corner_3['PLAYER_NAME'] == R_Corner_3_Player_2]\n",
    "    R_Corner_3_lookup_3 = R_Corner_3.loc[R_Corner_3['PLAYER_NAME'] == R_Corner_3_Player_3]\n",
    "    print(f\"{R_Corner_3_made_df.PLAYER_NAME[0]}, {R_Corner_3_made_df.PLAYER_NAME[1]}, {R_Corner_3_made_df.PLAYER_NAME[2]}\")\n",
    "    R_Corner_3__combined = R_Corner_3_lookup_1.append(R_Corner_3_lookup_2)\n",
    "    R_Corner_3__combined = R_Corner_3__combined.append(R_Corner_3_lookup_3)\n",
    "\n",
    "elif R_Corner_3_made_df.Count[0] == R_Corner_3_made_df.Count[1] and R_Corner_3_made_df.Count[1] == R_Corner_3_made_df.Count[2] and R_Corner_3_made_df.Count[3] == R_Corner_3_made_df.Count[2]:\n",
    "    R_Corner_3_Player_1 = R_Corner_3_made_df.PLAYER_NAME[0]\n",
    "    R_Corner_3_Player_2 = R_Corner_3_made_df.PLAYER_NAME[1]\n",
    "    R_Corner_3_Player_3 = R_Corner_3_made_df.PLAYER_NAME[2]\n",
    "    R_Corner_3_Player_4 = R_Corner_3_made_df.PLAYER_NAME[3]\n",
    "    R_Corner_3_lookup_1 = R_Corner_3.loc[R_Corner_3['PLAYER_NAME'] == R_Corner_3_Player_1]\n",
    "    R_Corner_3_lookup_2 = R_Corner_3.loc[R_Corner_3['PLAYER_NAME'] == R_Corner_3_Player_2]\n",
    "    R_Corner_3_lookup_3 = R_Corner_3.loc[R_Corner_3['PLAYER_NAME'] == R_Corner_3_Player_3]\n",
    "    R_Corner_3_lookup_4 = R_Corner_3.loc[R_Corner_3['PLAYER_NAME'] == R_Corner_3_Player_4]\n",
    "    print(f\"{R_Corner_3_made_df.PLAYER_NAME[0]}, {R_Corner_3_made_df.PLAYER_NAME[1]}, {R_Corner_3_made_df.PLAYER_NAME[2]}, and{R_Corner_3_made_df.PLAYER_NAME[3]}\") \n",
    "    R_Corner_3__combined = R_Corner_3_lookup_1.append(R_Corner_3_lookup_2)\n",
    "    R_Corner_3__combined = R_Corner_3__combined.append(R_Corner_3_lookup_3)\n",
    "    R_Corner_3__combined = R_Corner_3__combined.append(R_Corner_3_lookup_4)\n",
    "    \n",
    "\n",
    "elif R_Corner_3_made_df.Count[0] == R_Corner_3_made_df.Count[1] and R_Corner_3_made_df.Count[1] == R_Corner_3_made_df.Count[2] and R_Corner_3_made_df.Count[3] == R_Corner_3_made_df.Count[2] and R_Corner_3_made_df.Count[4] == R_Corner_3_made_df.Count[3] and R_Corner_3_made_df.Count[5] == R_Corner_3_made_df.Count[4]:\n",
    "    R_Corner_3_Player_1 = R_Corner_3_made_df.PLAYER_NAME[0]\n",
    "    R_Corner_3_Player_2 = R_Corner_3_made_df.PLAYER_NAME[1]\n",
    "    R_Corner_3_Player_3 = R_Corner_3_made_df.PLAYER_NAME[2]\n",
    "    R_Corner_3_Player_4 = R_Corner_3_made_df.PLAYER_NAME[3]\n",
    "    R_Corner_3_Player_5 = R_Corner_3_made_df.PLAYER_NAME[4]\n",
    "    R_Corner_3_Player_6 = R_Corner_3_made_df.PLAYER_NAME[5]    \n",
    "    R_Corner_3_lookup_1 = R_Corner_3.loc[R_Corner_3['PLAYER_NAME'] == R_Corner_3_Player_1]\n",
    "    R_Corner_3_lookup_2 = R_Corner_3.loc[R_Corner_3['PLAYER_NAME'] == R_Corner_3_Player_2]\n",
    "    R_Corner_3_lookup_3 = R_Corner_3.loc[R_Corner_3['PLAYER_NAME'] == R_Corner_3_Player_3]\n",
    "    R_Corner_3_lookup_4 = R_Corner_3.loc[R_Corner_3['PLAYER_NAME'] == R_Corner_3_Player_4]\n",
    "    R_Corner_3_lookup_5 = R_Corner_3.loc[R_Corner_3['PLAYER_NAME'] == R_Corner_3_Player_5]\n",
    "    R_Corner_3_lookup_6 = R_Corner_3.loc[R_Corner_3['PLAYER_NAME'] == R_Corner_3_Player_6]\n",
    "    print(f\"{R_Corner_3_made_df.PLAYER_NAME[0]}, {R_Corner_3_made_df.PLAYER_NAME[1]}, {R_Corner_3_made_df.PLAYER_NAME[2]}, and{R_Corner_3_made_df.PLAYER_NAME[3]}\") \n",
    "    R_Corner_3__combined = R_Corner_3_lookup_1.append(R_Corner_3_lookup_2)\n",
    "    R_Corner_3__combined = R_Corner_3__combined.append(R_Corner_3_lookup_3)\n",
    "    R_Corner_3__combined = R_Corner_3__combined.append(R_Corner_3_lookup_4)\n",
    "    R_Corner_3__combined = R_Corner_3__combined.append(R_Corner_3_lookup_5)\n",
    "    R_Corner_3__combined = R_Corner_3__combined.append(R_Corner_3_lookup_6)\n",
    "\n",
    "elif R_Corner_3_made_df.Count[0] != R_Corner_3_made_df.Count[1]:\n",
    "    print(f\"{R_Corner_3_made_df.PLAYER_NAME[0]}\")\n",
    "    R_Corner_3__combined=R_Corner_3.loc[R_Corner_3['PLAYER_NAME'] == R_Corner_3_made_df.PLAYER_NAME[0]]   \n",
    "\n",
    "else:\n",
    "    print(\"Can't compute\")\n",
    "Shots_made_onCourt=L_Corner_3__combined.append(R_Corner_3__combined)"
   ]
  },
  {
   "cell_type": "markdown",
   "metadata": {},
   "source": [
    "# Mid Range "
   ]
  },
  {
   "cell_type": "code",
   "execution_count": 108,
   "metadata": {},
   "outputs": [
    {
     "data": {
      "text/plain": [
       "array(['Right Side(R)', 'Center(C)', 'Left Side(L)',\n",
       "       'Left Side Center(LC)', 'Right Side Center(RC)'], dtype=object)"
      ]
     },
     "execution_count": 108,
     "metadata": {},
     "output_type": "execute_result"
    }
   ],
   "source": [
    "Mid_Range=file_to_load.loc[file_to_load['SHOT_ZONE_BASIC'] == 'Mid-Range']\n",
    "Mid_Range.SHOT_ZONE_AREA.unique()"
   ]
  },
  {
   "cell_type": "markdown",
   "metadata": {},
   "source": [
    "### Right Side "
   ]
  },
  {
   "cell_type": "code",
   "execution_count": 109,
   "metadata": {},
   "outputs": [
    {
     "name": "stdout",
     "output_type": "stream",
     "text": [
      "Courtney Williams\n"
     ]
    }
   ],
   "source": [
    "Mid_Range_Right = Mid_Range.loc[Mid_Range['SHOT_ZONE_AREA'] =='Right Side(R)']\n",
    "Mid_Range_Right_made_df=Mid_Range_Right.groupby(by='PLAYER_NAME').sum()['Count'].sort_values(ascending=False).to_frame().head(10).reset_index()\n",
    "\n",
    "## creating an if statment to look at the top 5 players to ensure that there isn't a tie, if there is then printing their names\n",
    "if Mid_Range_Right_made_df.Count[0] == Mid_Range_Right_made_df.Count[1]:\n",
    "    Mid_Range_Right_Player_1 = Mid_Range_Right_made_df.PLAYER_NAME[0]\n",
    "    Mid_Range_Right_Player_2 = Mid_Range_Right_made_df.PLAYER_NAME[1]\n",
    "    Mid_Range_Right_lookup_1 = Mid_Range_Right.loc[Mid_Range_Right['PLAYER_NAME'] == Mid_Range_Right_Player_1]\n",
    "    Mid_Range_Right_lookup_2 = Mid_Range_Right.loc[Mid_Range_Right['PLAYER_NAME'] == Mid_Range_Right_Player_2]\n",
    "    print(f\"{Mid_Range_Right_made_df.PLAYER_NAME[0]} and {Mid_Range_Right_made_df.PLAYER_NAME[1]}\")\n",
    "    Mid_Range_Right_combined = Mid_Range_Right_lookup_1.append(Mid_Range_Right_lookup_2)\n",
    "    \n",
    "elif Mid_Range_Right_made_df.Count[0] == Mid_Range_Right_made_df.Count[1] and Mid_Range_Right_made_df.Count[1] == Mid_Range_Right_made_df.Count[2]:\n",
    "    Mid_Range_Right_Player_1 = Mid_Range_Right_made_df.PLAYER_NAME[0]\n",
    "    Mid_Range_Right_Player_2 = Mid_Range_Right_made_df.PLAYER_NAME[1]\n",
    "    Mid_Range_Right_Player_3 = Mid_Range_Right_made_df.PLAYER_NAME[2]\n",
    "    Mid_Range_Right_lookup_1 = Mid_Range_Right.loc[Mid_Range_Right['PLAYER_NAME'] == Mid_Range_Right_Player_1]\n",
    "    Mid_Range_Right_lookup_2 = Mid_Range_Right.loc[Mid_Range_Right['PLAYER_NAME'] == Mid_Range_Right_Player_2]\n",
    "    Mid_Range_Right_lookup_3 = Mid_Range_Right.loc[Mid_Range_Right['PLAYER_NAME'] == Mid_Range_Right_Player_3]\n",
    "    print(f\"{Mid_Range_Right_made_df.PLAYER_NAME[0]}, {Mid_Range_Right_made_df.PLAYER_NAME[1]}, {Mid_Range_Right_made_df.PLAYER_NAME[2]}\")\n",
    "    Mid_Range_Right_combined = Mid_Range_Right_lookup_1.append(Mid_Range_Right_lookup_2)\n",
    "    Mid_Range_Right_combined = Mid_Range_Right_combined.append(Mid_Range_Right_lookup_3)\n",
    "\n",
    "elif Mid_Range_Right_made_df.Count[0] == Mid_Range_Right_made_df.Count[1] and Mid_Range_Right_made_df.Count[1] == Mid_Range_Right_made_df.Count[2] and Mid_Range_Right_made_df.Count[3] == Mid_Range_Right_made_df.Count[2]:\n",
    "    Mid_Range_Right_Player_1 = Mid_Range_Right_made_df.PLAYER_NAME[0]\n",
    "    Mid_Range_Right_Player_2 = Mid_Range_Right_made_df.PLAYER_NAME[1]\n",
    "    Mid_Range_Right_Player_3 = Mid_Range_Right_made_df.PLAYER_NAME[2]\n",
    "    Mid_Range_Right_Player_4 = Mid_Range_Right_made_df.PLAYER_NAME[3]\n",
    "    Mid_Range_Right_lookup_1 = Mid_Range_Right.loc[Mid_Range_Right['PLAYER_NAME'] == Mid_Range_Right_Player_1]\n",
    "    Mid_Range_Right_lookup_2 = Mid_Range_Right.loc[Mid_Range_Right['PLAYER_NAME'] == Mid_Range_Right_Player_2]\n",
    "    Mid_Range_Right_lookup_3 = Mid_Range_Right.loc[Mid_Range_Right['PLAYER_NAME'] == Mid_Range_Right_Player_3]\n",
    "    Mid_Range_Right_lookup_4 = Mid_Range_Right.loc[Mid_Range_Right['PLAYER_NAME'] == Mid_Range_Right_Player_4]\n",
    "    print(f\"{Mid_Range_Right_made_df.PLAYER_NAME[0]}, {Mid_Range_Right_made_df.PLAYER_NAME[1]}, {Mid_Range_Right_made_df.PLAYER_NAME[2]}, and{Mid_Range_Right_made_df.PLAYER_NAME[3]}\") \n",
    "    Mid_Range_Right_combined = Mid_Range_Right_lookup_1.append(Mid_Range_Right_lookup_2)\n",
    "    Mid_Range_Right_combined = Mid_Range_Right_combined.append(Mid_Range_Right_lookup_3)\n",
    "    Mid_Range_Right_combined = Mid_Range_Right_combined.append(Mid_Range_Right_lookup_4)\n",
    "    \n",
    "\n",
    "elif Mid_Range_Right_made_df.Count[0] == Mid_Range_Right_made_df.Count[1] and Mid_Range_Right_made_df.Count[1] == Mid_Range_Right_made_df.Count[2] and Mid_Range_Right_made_df.Count[3] == Mid_Range_Right_made_df.Count[2] and Mid_Range_Right_made_df.Count[4] == Mid_Range_Right_made_df.Count[3] and Mid_Range_Right_made_df.Count[5] == Mid_Range_Right_made_df.Count[4]:\n",
    "    Mid_Range_Right_Player_1 = Mid_Range_Right_made_df.PLAYER_NAME[0]\n",
    "    Mid_Range_Right_Player_2 = Mid_Range_Right_made_df.PLAYER_NAME[1]\n",
    "    Mid_Range_Right_Player_3 = Mid_Range_Right_made_df.PLAYER_NAME[2]\n",
    "    Mid_Range_Right_Player_4 = Mid_Range_Right_made_df.PLAYER_NAME[3]\n",
    "    Mid_Range_Right_Player_5 = Mid_Range_Right_made_df.PLAYER_NAME[4]   \n",
    "    Mid_Range_Right_Player_6 = Mid_Range_Right_made_df.PLAYER_NAME[5]    \n",
    "    Mid_Range_Right_lookup_1 = Mid_Range_Right.loc[Mid_Range_Right['PLAYER_NAME'] == Mid_Range_Right_Player_1]\n",
    "    Mid_Range_Right_lookup_2 = Mid_Range_Right.loc[Mid_Range_Right['PLAYER_NAME'] == Mid_Range_Right_Player_2]\n",
    "    Mid_Range_Right_lookup_3 = Mid_Range_Right.loc[Mid_Range_Right['PLAYER_NAME'] == Mid_Range_Right_Player_3]\n",
    "    Mid_Range_Right_lookup_4 = Mid_Range_Right.loc[Mid_Range_Right['PLAYER_NAME'] == Mid_Range_Right_Player_4]\n",
    "    Mid_Range_Right_lookup_5 = Mid_Range_Right.loc[Mid_Range_Right['PLAYER_NAME'] == Mid_Range_Right_Player_5]\n",
    "    Mid_Range_Right_lookup_6 = Mid_Range_Right.loc[Mid_Range_Right['PLAYER_NAME'] == Mid_Range_Right_Player_6]\n",
    "    print(f\"{Mid_Range_Right_made_df.PLAYER_NAME[0]}, {Mid_Range_Right_made_df.PLAYER_NAME[1]}, {Mid_Range_Right_made_df.PLAYER_NAME[2]}, and{Mid_Range_Right_made_df.PLAYER_NAME[3]}\") \n",
    "    Mid_Range_Right_combined = Mid_Range_Right_lookup_1.append(Mid_Range_Right_lookup_2)\n",
    "    Mid_Range_Right_combined = Mid_Range_Right_combined.append(Mid_Range_Right_lookup_3)\n",
    "    Mid_Range_Right_combined = Mid_Range_Right_combined.append(Mid_Range_Right_lookup_4)\n",
    "    Mid_Range_Right_combined = Mid_Range_Right_combined.append(Mid_Range_Right_lookup_5)\n",
    "    Mid_Range_Right_combined = Mid_Range_Right_combined.append(Mid_Range_Right_lookup_6)\n",
    "\n",
    "\n",
    "elif Mid_Range_Right_made_df.Count[0] != Mid_Range_Right_made_df.Count[1]:\n",
    "    print(f\"{Mid_Range_Right_made_df.PLAYER_NAME[0]}\")\n",
    "    Mid_Range_Right_combined=Mid_Range_Right.loc[Mid_Range_Right['PLAYER_NAME'] == Mid_Range_Right_made_df.PLAYER_NAME[0]]   \n",
    "\n",
    "else:\n",
    "    print(\"Can't compute\")\n",
    "Shots_made_onCourt=Shots_made_onCourt.append(Mid_Range_Right_combined)"
   ]
  },
  {
   "cell_type": "markdown",
   "metadata": {},
   "source": [
    "### Center"
   ]
  },
  {
   "cell_type": "code",
   "execution_count": 110,
   "metadata": {},
   "outputs": [
    {
     "name": "stdout",
     "output_type": "stream",
     "text": [
      "Kayla McBride\n"
     ]
    }
   ],
   "source": [
    "Mid_Range=file_to_load.loc[file_to_load['SHOT_ZONE_BASIC'] == 'Mid-Range']\n",
    "Mid_Range_Center = Mid_Range.loc[Mid_Range['SHOT_ZONE_AREA'] =='Center(C)']\n",
    "Mid_Range_Center_made_df=Mid_Range_Center.groupby(by='PLAYER_NAME').sum()['Count'].sort_values(ascending=False).to_frame().head(10).reset_index()\n",
    "\n",
    "## creating an if statment to look at the top 5 players to ensure that there isn't a tie, if there is then printing their names\n",
    "if Mid_Range_Center_made_df.Count[0] == Mid_Range_Center_made_df.Count[1]:\n",
    "    Mid_Range_Center_Player_1 = Mid_Range_Center_made_df.PLAYER_NAME[0]\n",
    "    Mid_Range_Center_Player_2 = Mid_Range_Center_made_df.PLAYER_NAME[1]\n",
    "    Mid_Range_Center_lookup_1 = Mid_Range_Center.loc[Mid_Range_Center['PLAYER_NAME'] == Mid_Range_Center_Player_1]\n",
    "    Mid_Range_Center_lookup_2 = Mid_Range_Center.loc[Mid_Range_Center['PLAYER_NAME'] == Mid_Range_Center_Player_2]\n",
    "    print(f\"{Mid_Range_Center_made_df.PLAYER_NAME[0]} and {Mid_Range_Center_made_df.PLAYER_NAME[1]}\")\n",
    "    Mid_Range_Center_combined = Mid_Range_Center_lookup_1.append(Mid_Range_Center_lookup_2)\n",
    "    \n",
    "elif Mid_Range_Center_made_df.Count[0] == Mid_Range_Center_made_df.Count[1] and Mid_Range_Center_made_df.Count[1] == Mid_Range_Center_made_df.Count[2]:\n",
    "    Mid_Range_Center_Player_1 = Mid_Range_Center_made_df.PLAYER_NAME[0]\n",
    "    Mid_Range_Center_Player_2 = Mid_Range_Center_made_df.PLAYER_NAME[1]\n",
    "    Mid_Range_Center_Player_3 = Mid_Range_Center_made_df.PLAYER_NAME[2]\n",
    "    Mid_Range_Center_lookup_1 = Mid_Range_Center.loc[Mid_Range_Center['PLAYER_NAME'] == Mid_Range_Center_Player_1]\n",
    "    Mid_Range_Center_lookup_2 = Mid_Range_Center.loc[Mid_Range_Center['PLAYER_NAME'] == Mid_Range_Center_Player_2]\n",
    "    Mid_Range_Center_lookup_3 = Mid_Range_Center.loc[Mid_Range_Center['PLAYER_NAME'] == Mid_Range_Center_Player_3]\n",
    "    print(f\"{Mid_Range_Center_made_df.PLAYER_NAME[0]}, {Mid_Range_Center_made_df.PLAYER_NAME[1]}, {Mid_Range_Center_made_df.PLAYER_NAME[2]}\")\n",
    "    Mid_Range_Center_combined = Mid_Range_Center_lookup_1.append(Mid_Range_Center_lookup_2)\n",
    "    Mid_Range_Center_combined = Mid_Range_Center_combined.append(Mid_Range_Center_lookup_3)\n",
    "\n",
    "elif Mid_Range_Center_made_df.Count[0] == Mid_Range_Center_made_df.Count[1] and Mid_Range_Center_made_df.Count[1] == Mid_Range_Center_made_df.Count[2] and Mid_Range_Center_made_df.Count[3] == Mid_Range_Center_made_df.Count[2]:\n",
    "    Mid_Range_Center_Player_1 = Mid_Range_Center_made_df.PLAYER_NAME[0]\n",
    "    Mid_Range_Center_Player_2 = Mid_Range_Center_made_df.PLAYER_NAME[1]\n",
    "    Mid_Range_Center_Player_3 = Mid_Range_Center_made_df.PLAYER_NAME[2]\n",
    "    Mid_Range_Center_Player_4 = Mid_Range_Center_made_df.PLAYER_NAME[3]\n",
    "    Mid_Range_Center_lookup_1 = Mid_Range_Center.loc[Mid_Range_Center['PLAYER_NAME'] == Mid_Range_Center_Player_1]\n",
    "    Mid_Range_Center_lookup_2 = Mid_Range_Center.loc[Mid_Range_Center['PLAYER_NAME'] == Mid_Range_Center_Player_2]\n",
    "    Mid_Range_Center_lookup_3 = Mid_Range_Center.loc[Mid_Range_Center['PLAYER_NAME'] == Mid_Range_Center_Player_3]\n",
    "    Mid_Range_Center_lookup_4 = Mid_Range_Center.loc[Mid_Range_Center['PLAYER_NAME'] == Mid_Range_Center_Player_4]\n",
    "    print(f\"{Mid_Range_Center_made_df.PLAYER_NAME[0]}, {Mid_Range_Center_made_df.PLAYER_NAME[1]}, {Mid_Range_Center_made_df.PLAYER_NAME[2]}, and{Mid_Range_Center_made_df.PLAYER_NAME[3]}\") \n",
    "    Mid_Range_Center_combined = Mid_Range_Center_lookup_1.append(Mid_Range_Center_lookup_2)\n",
    "    Mid_Range_Center_combined = Mid_Range_Center_combined.append(Mid_Range_Center_lookup_3)\n",
    "    Mid_Range_Center_combined = Mid_Range_Center_combined.append(Mid_Range_Center_lookup_4)\n",
    "    \n",
    "\n",
    "elif Mid_Range_Center_made_df.Count[0] == Mid_Range_Center_made_df.Count[1] and Mid_Range_Center_made_df.Count[1] == Mid_Range_Center_made_df.Count[2] and Mid_Range_Center_made_df.Count[3] == Mid_Range_Center_made_df.Count[2] and Mid_Range_Center_made_df.Count[4] == Mid_Range_Center_made_df.Count[3] and Mid_Range_Center_made_df.Count[5] == Mid_Range_Center_made_df.Count[4]:\n",
    "    Mid_Range_Center_Player_1 = Mid_Range_Center_made_df.PLAYER_NAME[0]\n",
    "    Mid_Range_Center_Player_2 = Mid_Range_Center_made_df.PLAYER_NAME[1]\n",
    "    Mid_Range_Center_Player_3 = Mid_Range_Center_made_df.PLAYER_NAME[2]\n",
    "    Mid_Range_Center_Player_4 = Mid_Range_Center_made_df.PLAYER_NAME[3]\n",
    "    Mid_Range_Center_Player_5 = Mid_Range_Center_made_df.PLAYER_NAME[4]\n",
    "    Mid_Range_Center_Player_6 = Mid_Range_Center_made_df.PLAYER_NAME[5]\n",
    "\n",
    "    Mid_Range_Center_lookup_1 = Mid_Range_Center.loc[Mid_Range_Center['PLAYER_NAME'] == Mid_Range_Center_Player_1]\n",
    "    Mid_Range_Center_lookup_2 = Mid_Range_Center.loc[Mid_Range_Center['PLAYER_NAME'] == Mid_Range_Center_Player_2]\n",
    "    Mid_Range_Center_lookup_3 = Mid_Range_Center.loc[Mid_Range_Center['PLAYER_NAME'] == Mid_Range_Center_Player_3]\n",
    "    Mid_Range_Center_lookup_4 = Mid_Range_Center.loc[Mid_Range_Center['PLAYER_NAME'] == Mid_Range_Center_Player_4]\n",
    "    Mid_Range_Center_lookup_5 = Mid_Range_Center.loc[Mid_Range_Center['PLAYER_NAME'] == Mid_Range_Center_Player_5]\n",
    "    Mid_Range_Center_lookup_6 = Mid_Range_Center.loc[Mid_Range_Center['PLAYER_NAME'] == Mid_Range_Center_Player_6]\n",
    "    \n",
    "    print(f\"{Mid_Range_Center_made_df.PLAYER_NAME[0]}, {Mid_Range_Center_made_df.PLAYER_NAME[1]}, {Mid_Range_Center_made_df.PLAYER_NAME[2]}, and{Mid_Range_Center_made_df.PLAYER_NAME[3]}\") \n",
    "    \n",
    "    Mid_Range_Center_combined = Mid_Range_Center_lookup_1.append(Mid_Range_Center_lookup_2)\n",
    "    Mid_Range_Center_combined = Mid_Range_Center_combined.append(Mid_Range_Center_lookup_3)\n",
    "    Mid_Range_Center_combined = Mid_Range_Center_combined.append(Mid_Range_Center_lookup_4)\n",
    "    Mid_Range_Center_combined = Mid_Range_Center_combined.append(Mid_Range_Center_lookup_5)\n",
    "    Mid_Range_Center_combined = Mid_Range_Center_combined.append(Mid_Range_Center_lookup_6)\n",
    "\n",
    "\n",
    "elif Mid_Range_Center_made_df.Count[0] != Mid_Range_Center_made_df.Count[1]:\n",
    "    print(f\"{Mid_Range_Center_made_df.PLAYER_NAME[0]}\")\n",
    "    Mid_Range_Center_combined=Mid_Range_Center.loc[Mid_Range_Center['PLAYER_NAME'] == Mid_Range_Center_made_df.PLAYER_NAME[0]]   \n",
    "\n",
    "else:\n",
    "    print(\"Can't compute\")\n",
    "Shots_made_onCourt=Shots_made_onCourt.append(Mid_Range_Center_combined)"
   ]
  },
  {
   "cell_type": "markdown",
   "metadata": {},
   "source": [
    "### Left Side Center"
   ]
  },
  {
   "cell_type": "code",
   "execution_count": 111,
   "metadata": {},
   "outputs": [
    {
     "name": "stdout",
     "output_type": "stream",
     "text": [
      "Courtney Williams\n"
     ]
    }
   ],
   "source": [
    "Mid_Range_LC = Mid_Range.loc[Mid_Range['SHOT_ZONE_AREA'] =='Left Side Center(LC)']\n",
    "Mid_Range_LC_made_df=Mid_Range_LC.groupby(by='PLAYER_NAME').sum()['Count'].sort_values(ascending=False).to_frame().head(10).reset_index()\n",
    "\n",
    "\n",
    "## creating an if statment to look at the top 5 players to ensure that there isn't a tie, if there is then printing their names\n",
    "if Mid_Range_LC_made_df.Count[0] == Mid_Range_LC_made_df.Count[1]:\n",
    "    Mid_Range_LC_Player_1 = Mid_Range_LC_made_df.PLAYER_NAME[0]\n",
    "    Mid_Range_LC_Player_2 = Mid_Range_LC_made_df.PLAYER_NAME[1]\n",
    "    Mid_Range_LC_lookup_1 = Mid_Range_LC.loc[Mid_Range_LC['PLAYER_NAME'] == Mid_Range_LC_Player_1]\n",
    "    Mid_Range_LC_lookup_2 = Mid_Range_LC.loc[Mid_Range_LC['PLAYER_NAME'] == Mid_Range_LC_Player_2]\n",
    "    print(f\"{Mid_Range_LC_made_df.PLAYER_NAME[0]} and {Mid_Range_LC_made_df.PLAYER_NAME[1]}\")\n",
    "    Mid_Range_LC__combined = Mid_Range_LC_lookup_1.append(Mid_Range_LC_lookup_2)\n",
    "    \n",
    "elif Mid_Range_LC_made_df.Count[0] == Mid_Range_LC_made_df.Count[1] and Mid_Range_LC_made_df.Count[1] == Mid_Range_LC_made_df.Count[2]:\n",
    "    Mid_Range_LC_Player_1 = Mid_Range_LC_made_df.PLAYER_NAME[0]\n",
    "    Mid_Range_LC_Player_2 = Mid_Range_LC_made_df.PLAYER_NAME[1]\n",
    "    Mid_Range_LC_Player_3 = Mid_Range_LC_made_df.PLAYER_NAME[2]\n",
    "    Mid_Range_LC_lookup_1 = Mid_Range_LC.loc[Mid_Range_LC['PLAYER_NAME'] == Mid_Range_LC_Player_1]\n",
    "    Mid_Range_LC_lookup_2 = Mid_Range_LC.loc[Mid_Range_LC['PLAYER_NAME'] == Mid_Range_LC_Player_2]\n",
    "    Mid_Range_LC_lookup_3 = Mid_Range_LC.loc[Mid_Range_LC['PLAYER_NAME'] == Mid_Range_LC_Player_3]\n",
    "    print(f\"{Mid_Range_LC_made_df.PLAYER_NAME[0]}, {Mid_Range_LC_made_df.PLAYER_NAME[1]}, {Mid_Range_LC_made_df.PLAYER_NAME[2]}\")\n",
    "    Mid_Range_LC__combined = Mid_Range_LC_Player_1.append(Mid_Range_LC_Player_2)\n",
    "    Mid_Range_LC__combined = Mid_Range_LC__combined.append(Mid_Range_LC_Player_3)\n",
    "\n",
    "elif Mid_Range_LC_made_df.Count[0] == Mid_Range_LC_made_df.Count[1] and Mid_Range_LC_made_df.Count[1] == Mid_Range_LC_made_df.Count[2] and Mid_Range_LC_made_df.Count[3] == Mid_Range_LC_made_df.Count[2]:\n",
    "    Mid_Range_LC_Player_1 = Mid_Range_LC_made_df.PLAYER_NAME[0]\n",
    "    Mid_Range_LC_Player_2 = Mid_Range_LC_made_df.PLAYER_NAME[1]\n",
    "    Mid_Range_LC_Player_3 = Mid_Range_LC_made_df.PLAYER_NAME[2]\n",
    "    Mid_Range_LC_Player_4 = Mid_Range_LC_made_df.PLAYER_NAME[3]\n",
    "    Mid_Range_LC_lookup_1 = Mid_Range_LC.loc[Mid_Range_LC['PLAYER_NAME'] == Mid_Range_LC_Player_1]\n",
    "    Mid_Range_LC_lookup_2 = Mid_Range_LC.loc[Mid_Range_LC['PLAYER_NAME'] == Mid_Range_LC_Player_2]\n",
    "    Mid_Range_LC_lookup_3 = Mid_Range_LC.loc[Mid_Range_LC['PLAYER_NAME'] == Mid_Range_LC_Player_3]\n",
    "    Mid_Range_LC_lookup_4 = Mid_Range_LC.loc[Mid_Range_LC['PLAYER_NAME'] == Mid_Range_LC_Player_4]\n",
    "    print(f\"{Mid_Range_LC_made_df.PLAYER_NAME[0]}, {Mid_Range_LC_made_df.PLAYER_NAME[1]}, {Mid_Range_LC_made_df.PLAYER_NAME[2]}, and{Mid_Range_LC_made_df.PLAYER_NAME[3]}\") \n",
    "    Mid_Range_LC__combined = Mid_Range_LC_Player_1.append(Mid_Range_LC_Player_2)\n",
    "    Mid_Range_LC__combined = Mid_Range_LC__combined.append(Mid_Range_LC_Player_3)\n",
    "    Mid_Range_LC__combined = Mid_Range_LC__combined.append(Mid_Range_LC_Player_4)\n",
    "    \n",
    "\n",
    "elif Mid_Range_LC_made_df.Count[0] == Mid_Range_LC_made_df.Count[1] and Mid_Range_LC_made_df.Count[1] == Mid_Range_LC_made_df.Count[2] and Mid_Range_LC_made_df.Count[3] == Mid_Range_LC_made_df.Count[2] and Mid_Range_LC_made_df.Count[4] == Mid_Range_LC_made_df.Count[3] and Mid_Range_LC_made_df.Count[5] == Mid_Range_LC_made_df.Count[4]:\n",
    "    Mid_Range_LC_Player_1 = Mid_Range_LC_made_df.PLAYER_NAME[0]\n",
    "    Mid_Range_LC_Player_2 = Mid_Range_LC_made_df.PLAYER_NAME[1]\n",
    "    Mid_Range_LC_Player_3 = Mid_Range_LC_made_df.PLAYER_NAME[2]\n",
    "    Mid_Range_LC_Player_4 = Mid_Range_LC_made_df.PLAYER_NAME[3]\n",
    "    Mid_Range_LC_Player_5 = Mid_Range_LC_made_df.PLAYER_NAME[4]\n",
    "    Mid_Range_LC_Player_6 = Mid_Range_LC_made_df.PLAYER_NAME[5]\n",
    "\n",
    "    Mid_Range_LC_lookup_1 = Mid_Range_LC.loc[Mid_Range_LC['PLAYER_NAME'] == Mid_Range_LC_Player_1]\n",
    "    Mid_Range_LC_lookup_2 = Mid_Range_LC.loc[Mid_Range_LC['PLAYER_NAME'] == Mid_Range_LC_Player_2]\n",
    "    Mid_Range_LC_lookup_3 = Mid_Range_LC.loc[Mid_Range_LC['PLAYER_NAME'] == Mid_Range_LC_Player_3]\n",
    "    Mid_Range_LC_lookup_4 = Mid_Range_LC.loc[Mid_Range_LC['PLAYER_NAME'] == Mid_Range_LC_Player_4]\n",
    "    Mid_Range_LC_lookup_5 = Mid_Range_LC.loc[Mid_Range_LC['PLAYER_NAME'] == Mid_Range_LC_Player_5]\n",
    "    Mid_Range_LC_lookup_6 = Mid_Range_LC.loc[Mid_Range_LC['PLAYER_NAME'] == Mid_Range_LC_Player_6]\n",
    "    \n",
    "    print(f\"{Mid_Range_LC_made_df.PLAYER_NAME[0]}, {Mid_Range_LC_made_df.PLAYER_NAME[1]}, {Mid_Range_LC_made_df.PLAYER_NAME[2]}, and{Mid_Range_LC_made_df.PLAYER_NAME[3]}\") \n",
    "    \n",
    "    Mid_Range_LC__combined = Mid_Range_LC_lookup_1.append(Mid_Range_LC_lookup_2)\n",
    "    Mid_Range_LC__combined = Mid_Range_LC__combined.append(Mid_Range_LC_lookup_3)\n",
    "    Mid_Range_LC__combined = Mid_Range_LC__combined.append(Mid_Range_LC_lookup_4)\n",
    "    Mid_Range_LC__combined = Mid_Range_LC__combined.append(Mid_Range_LC_lookup_5)\n",
    "    Mid_Range_LC__combined = Mid_Range_LC__combined.append(Mid_Range_LC_lookup_6)\n",
    "\n",
    "\n",
    "elif Mid_Range_LC_made_df.Count[0] != Mid_Range_LC_made_df.Count[1]:\n",
    "    print(f\"{Mid_Range_LC_made_df.PLAYER_NAME[0]}\")\n",
    "    Mid_Range_LC__combined=Mid_Range_LC.loc[Mid_Range_LC['PLAYER_NAME'] == Mid_Range_LC_made_df.PLAYER_NAME[0]]   \n",
    "\n",
    "else:\n",
    "    print(\"Can't compute\")\n",
    "Shots_made_onCourt=Shots_made_onCourt.append(Mid_Range_LC__combined)"
   ]
  },
  {
   "cell_type": "markdown",
   "metadata": {},
   "source": [
    "### Right Side Center"
   ]
  },
  {
   "cell_type": "code",
   "execution_count": 113,
   "metadata": {},
   "outputs": [
    {
     "name": "stdout",
     "output_type": "stream",
     "text": [
      "Courtney Williams\n"
     ]
    }
   ],
   "source": [
    "Mid_Range_RC = Mid_Range.loc[Mid_Range['SHOT_ZONE_AREA'] =='Right Side Center(RC)']\n",
    "Mid_Range_RC_made_df=Mid_Range_RC.groupby(by='PLAYER_NAME').sum()['Count'].sort_values(ascending=False).to_frame().head(10).reset_index()\n",
    "\n",
    "\n",
    "## creating an if statment to look at the top 5 players to ensure that there isn't a tie, if there is then printing their names\n",
    "if Mid_Range_RC_made_df.Count[0] == Mid_Range_RC_made_df.Count[1]:\n",
    "    Mid_Range_RC_Player_1 = Mid_Range_RC_made_df.PLAYER_NAME[0]\n",
    "    Mid_Range_RC_Player_2 = Mid_Range_RC_made_df.PLAYER_NAME[1]\n",
    "    Mid_Range_RC_lookup_1 = Mid_Range_RC.loc[Mid_Range_RC['PLAYER_NAME'] == Mid_Range_RC_Player_1]\n",
    "    Mid_Range_RC_lookup_2 = Mid_Range_RC.loc[Mid_Range_RC['PLAYER_NAME'] == Mid_Range_RC_Player_2]\n",
    "    print(f\"{Mid_Range_RC_made_df.PLAYER_NAME[0]} and {Mid_Range_RC_made_df.PLAYER_NAME[1]}\")\n",
    "    Mid_Range_RC__combined = Mid_Range_RC_lookup_1.append(Mid_Range_RC_lookup_2)\n",
    "    \n",
    "elif Mid_Range_RC_made_df.Count[0] == Mid_Range_RC_made_df.Count[1] and Mid_Range_RC_made_df.Count[1] == Mid_Range_RC_made_df.Count[2]:\n",
    "    Mid_Range_RC_Player_1 = Mid_Range_RC_made_df.PLAYER_NAME[0]\n",
    "    Mid_Range_RC_Player_2 = Mid_Range_RC_made_df.PLAYER_NAME[1]\n",
    "    Mid_Range_RC_Player_3 = Mid_Range_RC_made_df.PLAYER_NAME[2]\n",
    "    Mid_Range_RC_lookup_1 = Mid_Range_RC.loc[Mid_Range_RC['PLAYER_NAME'] == Mid_Range_RC_Player_1]\n",
    "    Mid_Range_RC_lookup_2 = Mid_Range_RC.loc[Mid_Range_RC['PLAYER_NAME'] == Mid_Range_RC_Player_2]\n",
    "    Mid_Range_RC_lookup_3 = Mid_Range_RC.loc[Mid_Range_RC['PLAYER_NAME'] == Mid_Range_RC_Player_3]\n",
    "    print(f\"{Mid_Range_RC_made_df.PLAYER_NAME[0]}, {Mid_Range_RC_made_df.PLAYER_NAME[1]}, {Mid_Range_RC_made_df.PLAYER_NAME[2]}\")\n",
    "    Mid_Range_RC__combined = Mid_Range_RC_Player_1.append(Mid_Range_RC_Player_2)\n",
    "    Mid_Range_RC__combined = Mid_Range_RC__combined.append(Mid_Range_RC_Player_3)\n",
    "\n",
    "elif Mid_Range_RC_made_df.Count[0] == Mid_Range_RC_made_df.Count[1] and Mid_Range_RC_made_df.Count[1] == Mid_Range_RC_made_df.Count[2] and Mid_Range_RC_made_df.Count[3] == Mid_Range_RC_made_df.Count[2]:\n",
    "    Mid_Range_RC_Player_1 = Mid_Range_RC_made_df.PLAYER_NAME[0]\n",
    "    Mid_Range_RC_Player_2 = Mid_Range_RC_made_df.PLAYER_NAME[1]\n",
    "    Mid_Range_RC_Player_3 = Mid_Range_RC_made_df.PLAYER_NAME[2]\n",
    "    Mid_Range_RC_Player_4 = Mid_Range_RC_made_df.PLAYER_NAME[3]\n",
    "    Mid_Range_RC_lookup_1 = Mid_Range_RC.loc[Mid_Range_RC['PLAYER_NAME'] == Mid_Range_RC_Player_1]\n",
    "    Mid_Range_RC_lookup_2 = Mid_Range_RC.loc[Mid_Range_RC['PLAYER_NAME'] == Mid_Range_RC_Player_2]\n",
    "    Mid_Range_RC_lookup_3 = Mid_Range_RC.loc[Mid_Range_RC['PLAYER_NAME'] == Mid_Range_RC_Player_3]\n",
    "    Mid_Range_RC_lookup_4 = Mid_Range_RC.loc[Mid_Range_RC['PLAYER_NAME'] == Mid_Range_RC_Player_4]\n",
    "    print(f\"{Mid_Range_RC_made_df.PLAYER_NAME[0]}, {Mid_Range_RC_made_df.PLAYER_NAME[1]}, {Mid_Range_RC_made_df.PLAYER_NAME[2]}, and{Mid_Range_RC_made_df.PLAYER_NAME[3]}\") \n",
    "    Mid_Range_RC__combined = Mid_Range_RC_Player_1.append(Mid_Range_RC_Player_2)\n",
    "    Mid_Range_RC__combined = Mid_Range_RC__combined.append(Mid_Range_RC_Player_3)\n",
    "    Mid_Range_RC__combined = Mid_Range_RC__combined.append(Mid_Range_RC_Player_4)\n",
    "    \n",
    "\n",
    "elif Mid_Range_RC_made_df.Count[0] == Mid_Range_RC_made_df.Count[1] and Mid_Range_RC_made_df.Count[1] == Mid_Range_RC_made_df.Count[2] and Mid_Range_RC_made_df.Count[3] == Mid_Range_RC_made_df.Count[2] and Mid_Range_RC_made_df.Count[4] == Mid_Range_RC_made_df.Count[3] and Mid_Range_RC_made_df.Count[5] == Mid_Range_RC_made_df.Count[4]:\n",
    "    Mid_Range_RC_Player_1 = Mid_Range_RC_made_df.PLAYER_NAME[0]\n",
    "    Mid_Range_RC_Player_2 = Mid_Range_RC_made_df.PLAYER_NAME[1]\n",
    "    Mid_Range_RC_Player_3 = Mid_Range_RC_made_df.PLAYER_NAME[2]\n",
    "    Mid_Range_RC_Player_4 = Mid_Range_RC_made_df.PLAYER_NAME[3]\n",
    "    Mid_Range_RC_Player_5 = Mid_Range_RC_made_df.PLAYER_NAME[4]\n",
    "    Mid_Range_RC_Player_6 = Mid_Range_RC_made_df.PLAYER_NAME[5]\n",
    "\n",
    "    Mid_Range_RC_lookup_1 = Mid_Range_RC.loc[Mid_Range_RC['PLAYER_NAME'] == Mid_Range_RC_Player_1]\n",
    "    Mid_Range_RC_lookup_2 = Mid_Range_RC.loc[Mid_Range_RC['PLAYER_NAME'] == Mid_Range_RC_Player_2]\n",
    "    Mid_Range_RC_lookup_3 = Mid_Range_RC.loc[Mid_Range_RC['PLAYER_NAME'] == Mid_Range_RC_Player_3]\n",
    "    Mid_Range_RC_lookup_4 = Mid_Range_RC.loc[Mid_Range_RC['PLAYER_NAME'] == Mid_Range_RC_Player_4]\n",
    "    Mid_Range_RC_lookup_5 = Mid_Range_RC.loc[Mid_Range_RC['PLAYER_NAME'] == Mid_Range_RC_Player_5]\n",
    "    Mid_Range_RC_lookup_6 = Mid_Range_RC.loc[Mid_Range_RC['PLAYER_NAME'] == Mid_Range_RC_Player_6]\n",
    "    \n",
    "    print(f\"{Mid_Range_RC_made_df.PLAYER_NAME[0]}, {Mid_Range_RC_made_df.PLAYER_NAME[1]}, {Mid_Range_RC_made_df.PLAYER_NAME[2]}, and{Mid_Range_RC_made_df.PLAYER_NAME[3]}\") \n",
    "    \n",
    "    Mid_Range_RC__combined = Mid_Range_RC_lookup_1.append(Mid_Range_RC_lookup_2)\n",
    "    Mid_Range_RC__combined = Mid_Range_RC__combined.append(Mid_Range_RC_lookup_3)\n",
    "    Mid_Range_RC__combined = Mid_Range_RC__combined.append(Mid_Range_RC_lookup_4)\n",
    "    Mid_Range_RC__combined = Mid_Range_RC__combined.append(Mid_Range_RC_lookup_5)\n",
    "    Mid_Range_RC__combined = Mid_Range_RC__combined.append(Mid_Range_RC_lookup_6)\n",
    "\n",
    "\n",
    "elif Mid_Range_RC_made_df.Count[0] != Mid_Range_RC_made_df.Count[1]:\n",
    "    print(f\"{Mid_Range_RC_made_df.PLAYER_NAME[0]}\")\n",
    "    Mid_Range_RC__combined=Mid_Range_RC.loc[Mid_Range_RC['PLAYER_NAME'] == Mid_Range_RC_made_df.PLAYER_NAME[0]]   \n",
    "\n",
    "else:\n",
    "    print(\"Can't compute\")\n",
    "Shots_made_onCourt=Shots_made_onCourt.append(Mid_Range_RC__combined)\n"
   ]
  },
  {
   "cell_type": "code",
   "execution_count": 114,
   "metadata": {},
   "outputs": [
    {
     "data": {
      "text/html": [
       "<div>\n",
       "<style scoped>\n",
       "    .dataframe tbody tr th:only-of-type {\n",
       "        vertical-align: middle;\n",
       "    }\n",
       "\n",
       "    .dataframe tbody tr th {\n",
       "        vertical-align: top;\n",
       "    }\n",
       "\n",
       "    .dataframe thead th {\n",
       "        text-align: right;\n",
       "    }\n",
       "</style>\n",
       "<table border=\"1\" class=\"dataframe\">\n",
       "  <thead>\n",
       "    <tr style=\"text-align: right;\">\n",
       "      <th></th>\n",
       "      <th>PLAYER_NAME</th>\n",
       "      <th>SHOT_ZONE_BASIC</th>\n",
       "      <th>SHOT_ZONE_AREA</th>\n",
       "      <th>SHOT_ZONE_RANGE</th>\n",
       "      <th>SHOT_DISTANCE</th>\n",
       "      <th>LOC_X</th>\n",
       "      <th>LOC_Y</th>\n",
       "      <th>Count</th>\n",
       "    </tr>\n",
       "  </thead>\n",
       "  <tbody>\n",
       "    <tr>\n",
       "      <td>540</td>\n",
       "      <td>Jewell Loyd</td>\n",
       "      <td>Left Corner 3</td>\n",
       "      <td>Left Side(L)</td>\n",
       "      <td>24+ ft.</td>\n",
       "      <td>23</td>\n",
       "      <td>-237</td>\n",
       "      <td>-7</td>\n",
       "      <td>1</td>\n",
       "    </tr>\n",
       "    <tr>\n",
       "      <td>1242</td>\n",
       "      <td>Jewell Loyd</td>\n",
       "      <td>Left Corner 3</td>\n",
       "      <td>Left Side(L)</td>\n",
       "      <td>24+ ft.</td>\n",
       "      <td>23</td>\n",
       "      <td>-237</td>\n",
       "      <td>-12</td>\n",
       "      <td>1</td>\n",
       "    </tr>\n",
       "    <tr>\n",
       "      <td>2270</td>\n",
       "      <td>Jewell Loyd</td>\n",
       "      <td>Left Corner 3</td>\n",
       "      <td>Left Side(L)</td>\n",
       "      <td>24+ ft.</td>\n",
       "      <td>22</td>\n",
       "      <td>-226</td>\n",
       "      <td>-7</td>\n",
       "      <td>1</td>\n",
       "    </tr>\n",
       "    <tr>\n",
       "      <td>3055</td>\n",
       "      <td>Jewell Loyd</td>\n",
       "      <td>Left Corner 3</td>\n",
       "      <td>Left Side(L)</td>\n",
       "      <td>24+ ft.</td>\n",
       "      <td>22</td>\n",
       "      <td>-226</td>\n",
       "      <td>12</td>\n",
       "      <td>1</td>\n",
       "    </tr>\n",
       "    <tr>\n",
       "      <td>3057</td>\n",
       "      <td>Jewell Loyd</td>\n",
       "      <td>Left Corner 3</td>\n",
       "      <td>Left Side(L)</td>\n",
       "      <td>24+ ft.</td>\n",
       "      <td>23</td>\n",
       "      <td>-232</td>\n",
       "      <td>1</td>\n",
       "      <td>1</td>\n",
       "    </tr>\n",
       "    <tr>\n",
       "      <td>...</td>\n",
       "      <td>...</td>\n",
       "      <td>...</td>\n",
       "      <td>...</td>\n",
       "      <td>...</td>\n",
       "      <td>...</td>\n",
       "      <td>...</td>\n",
       "      <td>...</td>\n",
       "      <td>...</td>\n",
       "    </tr>\n",
       "    <tr>\n",
       "      <td>7376</td>\n",
       "      <td>Courtney Williams</td>\n",
       "      <td>Mid-Range</td>\n",
       "      <td>Right Side Center(RC)</td>\n",
       "      <td>16-24 ft.</td>\n",
       "      <td>17</td>\n",
       "      <td>124</td>\n",
       "      <td>120</td>\n",
       "      <td>1</td>\n",
       "    </tr>\n",
       "    <tr>\n",
       "      <td>7394</td>\n",
       "      <td>Courtney Williams</td>\n",
       "      <td>Mid-Range</td>\n",
       "      <td>Right Side Center(RC)</td>\n",
       "      <td>16-24 ft.</td>\n",
       "      <td>17</td>\n",
       "      <td>74</td>\n",
       "      <td>163</td>\n",
       "      <td>1</td>\n",
       "    </tr>\n",
       "    <tr>\n",
       "      <td>7416</td>\n",
       "      <td>Courtney Williams</td>\n",
       "      <td>Mid-Range</td>\n",
       "      <td>Right Side Center(RC)</td>\n",
       "      <td>16-24 ft.</td>\n",
       "      <td>17</td>\n",
       "      <td>100</td>\n",
       "      <td>149</td>\n",
       "      <td>1</td>\n",
       "    </tr>\n",
       "    <tr>\n",
       "      <td>7720</td>\n",
       "      <td>Courtney Williams</td>\n",
       "      <td>Mid-Range</td>\n",
       "      <td>Right Side Center(RC)</td>\n",
       "      <td>16-24 ft.</td>\n",
       "      <td>17</td>\n",
       "      <td>122</td>\n",
       "      <td>127</td>\n",
       "      <td>1</td>\n",
       "    </tr>\n",
       "    <tr>\n",
       "      <td>7727</td>\n",
       "      <td>Courtney Williams</td>\n",
       "      <td>Mid-Range</td>\n",
       "      <td>Right Side Center(RC)</td>\n",
       "      <td>16-24 ft.</td>\n",
       "      <td>20</td>\n",
       "      <td>150</td>\n",
       "      <td>133</td>\n",
       "      <td>1</td>\n",
       "    </tr>\n",
       "  </tbody>\n",
       "</table>\n",
       "<p>98 rows × 8 columns</p>\n",
       "</div>"
      ],
      "text/plain": [
       "            PLAYER_NAME SHOT_ZONE_BASIC         SHOT_ZONE_AREA  \\\n",
       "540         Jewell Loyd   Left Corner 3           Left Side(L)   \n",
       "1242        Jewell Loyd   Left Corner 3           Left Side(L)   \n",
       "2270        Jewell Loyd   Left Corner 3           Left Side(L)   \n",
       "3055        Jewell Loyd   Left Corner 3           Left Side(L)   \n",
       "3057        Jewell Loyd   Left Corner 3           Left Side(L)   \n",
       "...                 ...             ...                    ...   \n",
       "7376  Courtney Williams       Mid-Range  Right Side Center(RC)   \n",
       "7394  Courtney Williams       Mid-Range  Right Side Center(RC)   \n",
       "7416  Courtney Williams       Mid-Range  Right Side Center(RC)   \n",
       "7720  Courtney Williams       Mid-Range  Right Side Center(RC)   \n",
       "7727  Courtney Williams       Mid-Range  Right Side Center(RC)   \n",
       "\n",
       "     SHOT_ZONE_RANGE  SHOT_DISTANCE  LOC_X  LOC_Y  Count  \n",
       "540          24+ ft.             23   -237     -7      1  \n",
       "1242         24+ ft.             23   -237    -12      1  \n",
       "2270         24+ ft.             22   -226     -7      1  \n",
       "3055         24+ ft.             22   -226     12      1  \n",
       "3057         24+ ft.             23   -232      1      1  \n",
       "...              ...            ...    ...    ...    ...  \n",
       "7376       16-24 ft.             17    124    120      1  \n",
       "7394       16-24 ft.             17     74    163      1  \n",
       "7416       16-24 ft.             17    100    149      1  \n",
       "7720       16-24 ft.             17    122    127      1  \n",
       "7727       16-24 ft.             20    150    133      1  \n",
       "\n",
       "[98 rows x 8 columns]"
      ]
     },
     "execution_count": 114,
     "metadata": {},
     "output_type": "execute_result"
    }
   ],
   "source": [
    "Shots_made_onCourt"
   ]
  },
  {
   "cell_type": "markdown",
   "metadata": {},
   "source": [
    "### Left Side"
   ]
  },
  {
   "cell_type": "code",
   "execution_count": 115,
   "metadata": {},
   "outputs": [
    {
     "name": "stdout",
     "output_type": "stream",
     "text": [
      "Candice Dupree\n"
     ]
    }
   ],
   "source": [
    "Mid_Range_LS=Mid_Range.loc[Mid_Range['SHOT_ZONE_AREA'] == 'Left Side(L)']\n",
    "Mid_Range_LS_made_df=Mid_Range_LS.groupby(by='PLAYER_NAME').sum()['Count'].sort_values(ascending=False).to_frame().head(10).reset_index()\n",
    "\n",
    "## creating an if statment to look at the top 5 players to ensure that there isn't a tie, if there is then printing their names\n",
    "if Mid_Range_LS_made_df.Count[0] == Mid_Range_LS_made_df.Count[1]:\n",
    "    Mid_Range_LS_Player_1 = Mid_Range_LS_made_df.PLAYER_NAME[0]\n",
    "    Mid_Range_LS_Player_2 = Mid_Range_LS_made_df.PLAYER_NAME[1]\n",
    "    Mid_Range_LS_lookup_1 = Mid_Range_LS.loc[Mid_Range_LS['PLAYER_NAME'] == Mid_Range_LS_Player_1]\n",
    "    Mid_Range_LS_lookup_2 = Mid_Range_LS.loc[Mid_Range_LS['PLAYER_NAME'] == Mid_Range_LS_Player_2]\n",
    "    print(f\"{Mid_Range_LS_made_df.PLAYER_NAME[0]} and {Mid_Range_LS_made_df.PLAYER_NAME[1]}\")\n",
    "    Mid_Range_LS__combined = Mid_Range_LS_lookup_1.append(Mid_Range_LS_lookup_2)\n",
    "    \n",
    "elif Mid_Range_LS_made_df.Count[0] == Mid_Range_LS_made_df.Count[1] and Mid_Range_LS_made_df.Count[1] == Mid_Range_LS_made_df.Count[2]:\n",
    "    Mid_Range_LS_Player_1 = Mid_Range_LS_made_df.PLAYER_NAME[0]\n",
    "    Mid_Range_LS_Player_2 = Mid_Range_LS_made_df.PLAYER_NAME[1]\n",
    "    Mid_Range_LS_Player_3 = Mid_Range_LS_made_df.PLAYER_NAME[2]\n",
    "    Mid_Range_LS_lookup_1 = Mid_Range_LS.loc[Mid_Range_LS['PLAYER_NAME'] == Mid_Range_LS_Player_1]\n",
    "    Mid_Range_LS_lookup_2 = Mid_Range_LS.loc[Mid_Range_LS['PLAYER_NAME'] == Mid_Range_LS_Player_2]\n",
    "    Mid_Range_LS_lookup_3 = Mid_Range_LS.loc[Mid_Range_LS['PLAYER_NAME'] == Mid_Range_LS_Player_3]\n",
    "    print(f\"{Mid_Range_LS_made_df.PLAYER_NAME[0]}, {Mid_Range_LS_made_df.PLAYER_NAME[1]}, {Mid_Range_LS_made_df.PLAYER_NAME[2]}\")\n",
    "    Mid_Range_LS__combined = Mid_Range_LS_Player_1.append(Mid_Range_LS_Player_2)\n",
    "    Mid_Range_LS__combined = Mid_Range_LS__combined.append(Mid_Range_LS_Player_3)\n",
    "\n",
    "elif Mid_Range_LS_made_df.Count[0] == Mid_Range_LS_made_df.Count[1] and Mid_Range_LS_made_df.Count[1] == Mid_Range_LS_made_df.Count[2] and Mid_Range_LS_made_df.Count[3] == Mid_Range_LS_made_df.Count[2]:\n",
    "    Mid_Range_LS_Player_1 = Mid_Range_LS_made_df.PLAYER_NAME[0]\n",
    "    Mid_Range_LS_Player_2 = Mid_Range_LS_made_df.PLAYER_NAME[1]\n",
    "    Mid_Range_LS_Player_3 = Mid_Range_LS_made_df.PLAYER_NAME[2]\n",
    "    Mid_Range_LS_Player_4 = Mid_Range_LS_made_df.PLAYER_NAME[3]\n",
    "    Mid_Range_LS_lookup_1 = Mid_Range_LS.loc[Mid_Range_LS['PLAYER_NAME'] == Mid_Range_LS_Player_1]\n",
    "    Mid_Range_LS_lookup_2 = Mid_Range_LS.loc[Mid_Range_LS['PLAYER_NAME'] == Mid_Range_LS_Player_2]\n",
    "    Mid_Range_LS_lookup_3 = Mid_Range_LS.loc[Mid_Range_LS['PLAYER_NAME'] == Mid_Range_LS_Player_3]\n",
    "    Mid_Range_LS_lookup_4 = Mid_Range_LS.loc[Mid_Range_LS['PLAYER_NAME'] == Mid_Range_LS_Player_4]\n",
    "    print(f\"{Mid_Range_LS_made_df.PLAYER_NAME[0]}, {Mid_Range_LS_made_df.PLAYER_NAME[1]}, {Mid_Range_LS_made_df.PLAYER_NAME[2]}, and{Mid_Range_LS_made_df.PLAYER_NAME[3]}\") \n",
    "    Mid_Range_LS__combined = Mid_Range_LS_Player_1.append(Mid_Range_LS_Player_2)\n",
    "    Mid_Range_LS__combined = Mid_Range_LS__combined.append(Mid_Range_LS_Player_3)\n",
    "    Mid_Range_LS__combined = Mid_Range_LS__combined.append(Mid_Range_LS_Player_4)\n",
    "    \n",
    "\n",
    "elif Mid_Range_LS_made_df.Count[0] == Mid_Range_LS_made_df.Count[1] and Mid_Range_LS_made_df.Count[1] == Mid_Range_LS_made_df.Count[2] and Mid_Range_LS_made_df.Count[3] == Mid_Range_LS_made_df.Count[2] and Mid_Range_LS_made_df.Count[4] == Mid_Range_LS_made_df.Count[3] and Mid_Range_LS_made_df.Count[5] == Mid_Range_LS_made_df.Count[4]:\n",
    "    Mid_Range_LS_Player_1 = Mid_Range_LS_made_df.PLAYER_NAME[0]\n",
    "    Mid_Range_LS_Player_2 = Mid_Range_LS_made_df.PLAYER_NAME[1]\n",
    "    Mid_Range_LS_Player_3 = Mid_Range_LS_made_df.PLAYER_NAME[2]\n",
    "    Mid_Range_LS_Player_4 = Mid_Range_LS_made_df.PLAYER_NAME[3]\n",
    "    Mid_Range_LS_Player_5 = Mid_Range_LS_made_df.PLAYER_NAME[4]\n",
    "    Mid_Range_LS_Player_6 = Mid_Range_LS_made_df.PLAYER_NAME[5]\n",
    "\n",
    "    Mid_Range_LS_lookup_1 = Mid_Range_LS.loc[Mid_Range_LS['PLAYER_NAME'] == Mid_Range_LS_Player_1]\n",
    "    Mid_Range_LS_lookup_2 = Mid_Range_LS.loc[Mid_Range_LS['PLAYER_NAME'] == Mid_Range_LS_Player_2]\n",
    "    Mid_Range_LS_lookup_3 = Mid_Range_LS.loc[Mid_Range_LS['PLAYER_NAME'] == Mid_Range_LS_Player_3]\n",
    "    Mid_Range_LS_lookup_4 = Mid_Range_LS.loc[Mid_Range_LS['PLAYER_NAME'] == Mid_Range_LS_Player_4]\n",
    "    Mid_Range_LS_lookup_5 = Mid_Range_LS.loc[Mid_Range_LS['PLAYER_NAME'] == Mid_Range_LS_Player_5]\n",
    "    Mid_Range_LS_lookup_6 = Mid_Range_LS.loc[Mid_Range_LS['PLAYER_NAME'] == Mid_Range_LS_Player_6]\n",
    "    \n",
    "    print(f\"{Mid_Range_LS_made_df.PLAYER_NAME[0]}, {Mid_Range_LS_made_df.PLAYER_NAME[1]}, {Mid_Range_LS_made_df.PLAYER_NAME[2]}, and{Mid_Range_LS_made_df.PLAYER_NAME[3]}\") \n",
    "    \n",
    "    Mid_Range_LS__combined = Mid_Range_LS_lookup_1.append(Mid_Range_LS_lookup_2)\n",
    "    Mid_Range_LS__combined = Mid_Range_LS__combined.append(Mid_Range_LS_lookup_3)\n",
    "    Mid_Range_LS__combined = Mid_Range_LS__combined.append(Mid_Range_LS_lookup_4)\n",
    "    Mid_Range_LS__combined = Mid_Range_LS__combined.append(Mid_Range_LS_lookup_5)\n",
    "    Mid_Range_LS__combined = Mid_Range_LS__combined.append(Mid_Range_LS_lookup_6)\n",
    "\n",
    "\n",
    "elif Mid_Range_LS_made_df.Count[0] != Mid_Range_LS_made_df.Count[1]:\n",
    "    print(f\"{Mid_Range_LS_made_df.PLAYER_NAME[0]}\")\n",
    "    Mid_Range_LS__combined=Mid_Range_LS.loc[Mid_Range_LS['PLAYER_NAME'] == Mid_Range_LS_made_df.PLAYER_NAME[0]]   \n",
    "\n",
    "else:\n",
    "    print(\"Can't compute\")\n",
    "Shots_made_onCourt=Shots_made_onCourt.append(Mid_Range_LS__combined)\n"
   ]
  },
  {
   "cell_type": "code",
   "execution_count": 116,
   "metadata": {},
   "outputs": [
    {
     "data": {
      "text/html": [
       "<div>\n",
       "<style scoped>\n",
       "    .dataframe tbody tr th:only-of-type {\n",
       "        vertical-align: middle;\n",
       "    }\n",
       "\n",
       "    .dataframe tbody tr th {\n",
       "        vertical-align: top;\n",
       "    }\n",
       "\n",
       "    .dataframe thead th {\n",
       "        text-align: right;\n",
       "    }\n",
       "</style>\n",
       "<table border=\"1\" class=\"dataframe\">\n",
       "  <thead>\n",
       "    <tr style=\"text-align: right;\">\n",
       "      <th></th>\n",
       "      <th>PLAYER_NAME</th>\n",
       "      <th>SHOT_ZONE_BASIC</th>\n",
       "      <th>SHOT_ZONE_AREA</th>\n",
       "      <th>SHOT_ZONE_RANGE</th>\n",
       "      <th>SHOT_DISTANCE</th>\n",
       "      <th>LOC_X</th>\n",
       "      <th>LOC_Y</th>\n",
       "      <th>Count</th>\n",
       "    </tr>\n",
       "  </thead>\n",
       "  <tbody>\n",
       "    <tr>\n",
       "      <td>540</td>\n",
       "      <td>Jewell Loyd</td>\n",
       "      <td>Left Corner 3</td>\n",
       "      <td>Left Side(L)</td>\n",
       "      <td>24+ ft.</td>\n",
       "      <td>23</td>\n",
       "      <td>-237</td>\n",
       "      <td>-7</td>\n",
       "      <td>1</td>\n",
       "    </tr>\n",
       "    <tr>\n",
       "      <td>1242</td>\n",
       "      <td>Jewell Loyd</td>\n",
       "      <td>Left Corner 3</td>\n",
       "      <td>Left Side(L)</td>\n",
       "      <td>24+ ft.</td>\n",
       "      <td>23</td>\n",
       "      <td>-237</td>\n",
       "      <td>-12</td>\n",
       "      <td>1</td>\n",
       "    </tr>\n",
       "    <tr>\n",
       "      <td>2270</td>\n",
       "      <td>Jewell Loyd</td>\n",
       "      <td>Left Corner 3</td>\n",
       "      <td>Left Side(L)</td>\n",
       "      <td>24+ ft.</td>\n",
       "      <td>22</td>\n",
       "      <td>-226</td>\n",
       "      <td>-7</td>\n",
       "      <td>1</td>\n",
       "    </tr>\n",
       "    <tr>\n",
       "      <td>3055</td>\n",
       "      <td>Jewell Loyd</td>\n",
       "      <td>Left Corner 3</td>\n",
       "      <td>Left Side(L)</td>\n",
       "      <td>24+ ft.</td>\n",
       "      <td>22</td>\n",
       "      <td>-226</td>\n",
       "      <td>12</td>\n",
       "      <td>1</td>\n",
       "    </tr>\n",
       "    <tr>\n",
       "      <td>3057</td>\n",
       "      <td>Jewell Loyd</td>\n",
       "      <td>Left Corner 3</td>\n",
       "      <td>Left Side(L)</td>\n",
       "      <td>24+ ft.</td>\n",
       "      <td>23</td>\n",
       "      <td>-232</td>\n",
       "      <td>1</td>\n",
       "      <td>1</td>\n",
       "    </tr>\n",
       "    <tr>\n",
       "      <td>...</td>\n",
       "      <td>...</td>\n",
       "      <td>...</td>\n",
       "      <td>...</td>\n",
       "      <td>...</td>\n",
       "      <td>...</td>\n",
       "      <td>...</td>\n",
       "      <td>...</td>\n",
       "      <td>...</td>\n",
       "    </tr>\n",
       "    <tr>\n",
       "      <td>5698</td>\n",
       "      <td>Candice Dupree</td>\n",
       "      <td>Mid-Range</td>\n",
       "      <td>Left Side(L)</td>\n",
       "      <td>16-24 ft.</td>\n",
       "      <td>16</td>\n",
       "      <td>-165</td>\n",
       "      <td>26</td>\n",
       "      <td>1</td>\n",
       "    </tr>\n",
       "    <tr>\n",
       "      <td>6473</td>\n",
       "      <td>Candice Dupree</td>\n",
       "      <td>Mid-Range</td>\n",
       "      <td>Left Side(L)</td>\n",
       "      <td>8-16 ft.</td>\n",
       "      <td>12</td>\n",
       "      <td>-93</td>\n",
       "      <td>78</td>\n",
       "      <td>1</td>\n",
       "    </tr>\n",
       "    <tr>\n",
       "      <td>6751</td>\n",
       "      <td>Candice Dupree</td>\n",
       "      <td>Mid-Range</td>\n",
       "      <td>Left Side(L)</td>\n",
       "      <td>8-16 ft.</td>\n",
       "      <td>13</td>\n",
       "      <td>-130</td>\n",
       "      <td>36</td>\n",
       "      <td>1</td>\n",
       "    </tr>\n",
       "    <tr>\n",
       "      <td>7258</td>\n",
       "      <td>Candice Dupree</td>\n",
       "      <td>Mid-Range</td>\n",
       "      <td>Left Side(L)</td>\n",
       "      <td>16-24 ft.</td>\n",
       "      <td>16</td>\n",
       "      <td>-163</td>\n",
       "      <td>31</td>\n",
       "      <td>1</td>\n",
       "    </tr>\n",
       "    <tr>\n",
       "      <td>7949</td>\n",
       "      <td>Candice Dupree</td>\n",
       "      <td>Mid-Range</td>\n",
       "      <td>Left Side(L)</td>\n",
       "      <td>8-16 ft.</td>\n",
       "      <td>12</td>\n",
       "      <td>-125</td>\n",
       "      <td>18</td>\n",
       "      <td>1</td>\n",
       "    </tr>\n",
       "  </tbody>\n",
       "</table>\n",
       "<p>114 rows × 8 columns</p>\n",
       "</div>"
      ],
      "text/plain": [
       "         PLAYER_NAME SHOT_ZONE_BASIC SHOT_ZONE_AREA SHOT_ZONE_RANGE  \\\n",
       "540      Jewell Loyd   Left Corner 3   Left Side(L)         24+ ft.   \n",
       "1242     Jewell Loyd   Left Corner 3   Left Side(L)         24+ ft.   \n",
       "2270     Jewell Loyd   Left Corner 3   Left Side(L)         24+ ft.   \n",
       "3055     Jewell Loyd   Left Corner 3   Left Side(L)         24+ ft.   \n",
       "3057     Jewell Loyd   Left Corner 3   Left Side(L)         24+ ft.   \n",
       "...              ...             ...            ...             ...   \n",
       "5698  Candice Dupree       Mid-Range   Left Side(L)       16-24 ft.   \n",
       "6473  Candice Dupree       Mid-Range   Left Side(L)        8-16 ft.   \n",
       "6751  Candice Dupree       Mid-Range   Left Side(L)        8-16 ft.   \n",
       "7258  Candice Dupree       Mid-Range   Left Side(L)       16-24 ft.   \n",
       "7949  Candice Dupree       Mid-Range   Left Side(L)        8-16 ft.   \n",
       "\n",
       "      SHOT_DISTANCE  LOC_X  LOC_Y  Count  \n",
       "540              23   -237     -7      1  \n",
       "1242             23   -237    -12      1  \n",
       "2270             22   -226     -7      1  \n",
       "3055             22   -226     12      1  \n",
       "3057             23   -232      1      1  \n",
       "...             ...    ...    ...    ...  \n",
       "5698             16   -165     26      1  \n",
       "6473             12    -93     78      1  \n",
       "6751             13   -130     36      1  \n",
       "7258             16   -163     31      1  \n",
       "7949             12   -125     18      1  \n",
       "\n",
       "[114 rows x 8 columns]"
      ]
     },
     "execution_count": 116,
     "metadata": {},
     "output_type": "execute_result"
    }
   ],
   "source": [
    "Shots_made_onCourt"
   ]
  },
  {
   "cell_type": "markdown",
   "metadata": {},
   "source": [
    "# In the paint (NON_RA)"
   ]
  },
  {
   "cell_type": "code",
   "execution_count": 117,
   "metadata": {},
   "outputs": [
    {
     "data": {
      "text/plain": [
       "array(['Center(C)', 'Left Side(L)', 'Right Side(R)'], dtype=object)"
      ]
     },
     "execution_count": 117,
     "metadata": {},
     "output_type": "execute_result"
    }
   ],
   "source": [
    "In_the_paint_nra=file_to_load.loc[file_to_load['SHOT_ZONE_BASIC'] =='In The Paint (Non-RA)']\n",
    "In_the_paint_nra.SHOT_ZONE_AREA.unique()"
   ]
  },
  {
   "cell_type": "markdown",
   "metadata": {},
   "source": [
    "### Center"
   ]
  },
  {
   "cell_type": "code",
   "execution_count": 118,
   "metadata": {},
   "outputs": [
    {
     "name": "stdout",
     "output_type": "stream",
     "text": [
      "Alyssa Thomas\n"
     ]
    }
   ],
   "source": [
    "NRA_Center=In_the_paint_nra.loc[In_the_paint_nra['SHOT_ZONE_AREA'] == 'Center(C)']\n",
    "NRA_Center_made_df=NRA_Center.groupby(by='PLAYER_NAME').sum()['Count'].sort_values(ascending=False).to_frame().head(10).reset_index()\n",
    "\n",
    "## creating an if statment to look at the top 5 players to ensure that there isn't a tie, if there is then printing their names\n",
    "if NRA_Center_made_df.Count[0] == NRA_Center_made_df.Count[1]:\n",
    "    NRA_Center_Player_1 = NRA_Center_made_df.PLAYER_NAME[0]\n",
    "    NRA_Center_Player_2 = NRA_Center_made_df.PLAYER_NAME[1]\n",
    "    NRA_Center_lookup_1 = NRA_Center.loc[NRA_Center['PLAYER_NAME'] == NRA_Center_Player_1]\n",
    "    NRA_Center_lookup_2 = NRA_Center.loc[NRA_Center['PLAYER_NAME'] == NRA_Center_Player_2]\n",
    "    print(f\"{NRA_Center_made_df.PLAYER_NAME[0]} and {NRA_Center_made_df.PLAYER_NAME[1]}\")\n",
    "    NRA_Center__combined = NRA_Center_lookup_1.append(NRA_Center_lookup_2)\n",
    "    \n",
    "elif NRA_Center_made_df.Count[0] == NRA_Center_made_df.Count[1] and NRA_Center_made_df.Count[1] == NRA_Center_made_df.Count[2]:\n",
    "    NRA_Center_Player_1 = NRA_Center_made_df.PLAYER_NAME[0]\n",
    "    NRA_Center_Player_2 = NRA_Center_made_df.PLAYER_NAME[1]\n",
    "    NRA_Center_Player_3 = NRA_Center_made_df.PLAYER_NAME[2]\n",
    "    NRA_Center_lookup_1 = NRA_Center.loc[NRA_Center['PLAYER_NAME'] == NRA_Center_Player_1]\n",
    "    NRA_Center_lookup_2 = NRA_Center.loc[NRA_Center['PLAYER_NAME'] == NRA_Center_Player_2]\n",
    "    NRA_Center_lookup_3 = NRA_Center.loc[NRA_Center['PLAYER_NAME'] == NRA_Center_Player_3]\n",
    "    print(f\"{NRA_Center_made_df.PLAYER_NAME[0]}, {NRA_Center_made_df.PLAYER_NAME[1]}, {NRA_Center_made_df.PLAYER_NAME[2]}\")\n",
    "    NRA_Center__combined = NRA_Center_Player_1.append(NRA_Center_Player_2)\n",
    "    NRA_Center__combined = NRA_Center__combined.append(NRA_Center_Player_3)\n",
    "\n",
    "elif NRA_Center_made_df.Count[0] == NRA_Center_made_df.Count[1] and NRA_Center_made_df.Count[1] == NRA_Center_made_df.Count[2] and NRA_Center_made_df.Count[3] == NRA_Center_made_df.Count[2]:\n",
    "    NRA_Center_Player_1 = NRA_Center_made_df.PLAYER_NAME[0]\n",
    "    NRA_Center_Player_2 = NRA_Center_made_df.PLAYER_NAME[1]\n",
    "    NRA_Center_Player_3 = NRA_Center_made_df.PLAYER_NAME[2]\n",
    "    NRA_Center_Player_4 = NRA_Center_made_df.PLAYER_NAME[3]\n",
    "    NRA_Center_lookup_1 = NRA_Center.loc[NRA_Center['PLAYER_NAME'] == NRA_Center_Player_1]\n",
    "    NRA_Center_lookup_2 = NRA_Center.loc[NRA_Center['PLAYER_NAME'] == NRA_Center_Player_2]\n",
    "    NRA_Center_lookup_3 = NRA_Center.loc[NRA_Center['PLAYER_NAME'] == NRA_Center_Player_3]\n",
    "    NRA_Center_lookup_4 = NRA_Center.loc[NRA_Center['PLAYER_NAME'] == NRA_Center_Player_4]\n",
    "    print(f\"{NRA_Center_made_df.PLAYER_NAME[0]}, {NRA_Center_made_df.PLAYER_NAME[1]}, {NRA_Center_made_df.PLAYER_NAME[2]}, and{NRA_Center_made_df.PLAYER_NAME[3]}\") \n",
    "    NRA_Center__combined = NRA_Center_Player_1.append(NRA_Center_Player_2)\n",
    "    NRA_Center__combined = NRA_Center__combined.append(NRA_Center_Player_3)\n",
    "    NRA_Center__combined = NRA_Center__combined.append(NRA_Center_Player_4)\n",
    "    \n",
    "\n",
    "elif NRA_Center_made_df.Count[0] == NRA_Center_made_df.Count[1] and NRA_Center_made_df.Count[1] == NRA_Center_made_df.Count[2] and NRA_Center_made_df.Count[3] == NRA_Center_made_df.Count[2] and NRA_Center_made_df.Count[4] == NRA_Center_made_df.Count[3] and NRA_Center_made_df.Count[5] == NRA_Center_made_df.Count[4]:\n",
    "    NRA_Center_Player_1 = NRA_Center_made_df.PLAYER_NAME[0]\n",
    "    NRA_Center_Player_2 = NRA_Center_made_df.PLAYER_NAME[1]\n",
    "    NRA_Center_Player_3 = NRA_Center_made_df.PLAYER_NAME[2]\n",
    "    NRA_Center_Player_4 = NRA_Center_made_df.PLAYER_NAME[3]\n",
    "    NRA_Center_Player_5 = NRA_Center_made_df.PLAYER_NAME[4]\n",
    "    NRA_Center_Player_6 = NRA_Center_made_df.PLAYER_NAME[5]\n",
    "\n",
    "    NRA_Center_lookup_1 = NRA_Center.loc[NRA_Center['PLAYER_NAME'] == NRA_Center_Player_1]\n",
    "    NRA_Center_lookup_2 = NRA_Center.loc[NRA_Center['PLAYER_NAME'] == NRA_Center_Player_2]\n",
    "    NRA_Center_lookup_3 = NRA_Center.loc[NRA_Center['PLAYER_NAME'] == NRA_Center_Player_3]\n",
    "    NRA_Center_lookup_4 = NRA_Center.loc[NRA_Center['PLAYER_NAME'] == NRA_Center_Player_4]\n",
    "    NRA_Center_lookup_5 = NRA_Center.loc[NRA_Center['PLAYER_NAME'] == NRA_Center_Player_5]\n",
    "    NRA_Center_lookup_6 = NRA_Center.loc[NRA_Center['PLAYER_NAME'] == NRA_Center_Player_6]\n",
    "    \n",
    "    print(f\"{NRA_Center_made_df.PLAYER_NAME[0]}, {NRA_Center_made_df.PLAYER_NAME[1]}, {NRA_Center_made_df.PLAYER_NAME[2]}, and{NRA_Center_made_df.PLAYER_NAME[3]}\") \n",
    "    \n",
    "    NRA_Center__combined = NRA_Center_lookup_1.append(NRA_Center_lookup_2)\n",
    "    NRA_Center__combined = NRA_Center__combined.append(NRA_Center_lookup_3)\n",
    "    NRA_Center__combined = NRA_Center__combined.append(NRA_Center_lookup_4)\n",
    "    NRA_Center__combined = NRA_Center__combined.append(NRA_Center_lookup_5)\n",
    "    NRA_Center__combined = NRA_Center__combined.append(NRA_Center_lookup_6)\n",
    "\n",
    "\n",
    "elif NRA_Center_made_df.Count[0] != NRA_Center_made_df.Count[1]:\n",
    "    print(f\"{NRA_Center_made_df.PLAYER_NAME[0]}\")\n",
    "    NRA_Center__combined=NRA_Center.loc[NRA_Center['PLAYER_NAME'] == NRA_Center_made_df.PLAYER_NAME[0]]   \n",
    "\n",
    "else:\n",
    "    print(\"Can't compute\")\n",
    "Shots_made_onCourt=Shots_made_onCourt.append(NRA_Center__combined)\n",
    "    "
   ]
  },
  {
   "cell_type": "code",
   "execution_count": 119,
   "metadata": {},
   "outputs": [
    {
     "data": {
      "text/html": [
       "<div>\n",
       "<style scoped>\n",
       "    .dataframe tbody tr th:only-of-type {\n",
       "        vertical-align: middle;\n",
       "    }\n",
       "\n",
       "    .dataframe tbody tr th {\n",
       "        vertical-align: top;\n",
       "    }\n",
       "\n",
       "    .dataframe thead th {\n",
       "        text-align: right;\n",
       "    }\n",
       "</style>\n",
       "<table border=\"1\" class=\"dataframe\">\n",
       "  <thead>\n",
       "    <tr style=\"text-align: right;\">\n",
       "      <th></th>\n",
       "      <th>PLAYER_NAME</th>\n",
       "      <th>SHOT_ZONE_BASIC</th>\n",
       "      <th>SHOT_ZONE_AREA</th>\n",
       "      <th>SHOT_ZONE_RANGE</th>\n",
       "      <th>SHOT_DISTANCE</th>\n",
       "      <th>LOC_X</th>\n",
       "      <th>LOC_Y</th>\n",
       "      <th>Count</th>\n",
       "    </tr>\n",
       "  </thead>\n",
       "  <tbody>\n",
       "    <tr>\n",
       "      <td>540</td>\n",
       "      <td>Jewell Loyd</td>\n",
       "      <td>Left Corner 3</td>\n",
       "      <td>Left Side(L)</td>\n",
       "      <td>24+ ft.</td>\n",
       "      <td>23</td>\n",
       "      <td>-237</td>\n",
       "      <td>-7</td>\n",
       "      <td>1</td>\n",
       "    </tr>\n",
       "    <tr>\n",
       "      <td>1242</td>\n",
       "      <td>Jewell Loyd</td>\n",
       "      <td>Left Corner 3</td>\n",
       "      <td>Left Side(L)</td>\n",
       "      <td>24+ ft.</td>\n",
       "      <td>23</td>\n",
       "      <td>-237</td>\n",
       "      <td>-12</td>\n",
       "      <td>1</td>\n",
       "    </tr>\n",
       "    <tr>\n",
       "      <td>2270</td>\n",
       "      <td>Jewell Loyd</td>\n",
       "      <td>Left Corner 3</td>\n",
       "      <td>Left Side(L)</td>\n",
       "      <td>24+ ft.</td>\n",
       "      <td>22</td>\n",
       "      <td>-226</td>\n",
       "      <td>-7</td>\n",
       "      <td>1</td>\n",
       "    </tr>\n",
       "    <tr>\n",
       "      <td>3055</td>\n",
       "      <td>Jewell Loyd</td>\n",
       "      <td>Left Corner 3</td>\n",
       "      <td>Left Side(L)</td>\n",
       "      <td>24+ ft.</td>\n",
       "      <td>22</td>\n",
       "      <td>-226</td>\n",
       "      <td>12</td>\n",
       "      <td>1</td>\n",
       "    </tr>\n",
       "    <tr>\n",
       "      <td>3057</td>\n",
       "      <td>Jewell Loyd</td>\n",
       "      <td>Left Corner 3</td>\n",
       "      <td>Left Side(L)</td>\n",
       "      <td>24+ ft.</td>\n",
       "      <td>23</td>\n",
       "      <td>-232</td>\n",
       "      <td>1</td>\n",
       "      <td>1</td>\n",
       "    </tr>\n",
       "    <tr>\n",
       "      <td>...</td>\n",
       "      <td>...</td>\n",
       "      <td>...</td>\n",
       "      <td>...</td>\n",
       "      <td>...</td>\n",
       "      <td>...</td>\n",
       "      <td>...</td>\n",
       "      <td>...</td>\n",
       "      <td>...</td>\n",
       "    </tr>\n",
       "    <tr>\n",
       "      <td>7314</td>\n",
       "      <td>Alyssa Thomas</td>\n",
       "      <td>In The Paint (Non-RA)</td>\n",
       "      <td>Center(C)</td>\n",
       "      <td>Less Than 8 ft.</td>\n",
       "      <td>4</td>\n",
       "      <td>2</td>\n",
       "      <td>45</td>\n",
       "      <td>1</td>\n",
       "    </tr>\n",
       "    <tr>\n",
       "      <td>7329</td>\n",
       "      <td>Alyssa Thomas</td>\n",
       "      <td>In The Paint (Non-RA)</td>\n",
       "      <td>Center(C)</td>\n",
       "      <td>Less Than 8 ft.</td>\n",
       "      <td>4</td>\n",
       "      <td>36</td>\n",
       "      <td>20</td>\n",
       "      <td>1</td>\n",
       "    </tr>\n",
       "    <tr>\n",
       "      <td>7334</td>\n",
       "      <td>Alyssa Thomas</td>\n",
       "      <td>In The Paint (Non-RA)</td>\n",
       "      <td>Center(C)</td>\n",
       "      <td>8-16 ft.</td>\n",
       "      <td>8</td>\n",
       "      <td>0</td>\n",
       "      <td>83</td>\n",
       "      <td>1</td>\n",
       "    </tr>\n",
       "    <tr>\n",
       "      <td>7686</td>\n",
       "      <td>Alyssa Thomas</td>\n",
       "      <td>In The Paint (Non-RA)</td>\n",
       "      <td>Center(C)</td>\n",
       "      <td>Less Than 8 ft.</td>\n",
       "      <td>4</td>\n",
       "      <td>35</td>\n",
       "      <td>34</td>\n",
       "      <td>1</td>\n",
       "    </tr>\n",
       "    <tr>\n",
       "      <td>7692</td>\n",
       "      <td>Alyssa Thomas</td>\n",
       "      <td>In The Paint (Non-RA)</td>\n",
       "      <td>Center(C)</td>\n",
       "      <td>Less Than 8 ft.</td>\n",
       "      <td>4</td>\n",
       "      <td>-37</td>\n",
       "      <td>24</td>\n",
       "      <td>1</td>\n",
       "    </tr>\n",
       "  </tbody>\n",
       "</table>\n",
       "<p>170 rows × 8 columns</p>\n",
       "</div>"
      ],
      "text/plain": [
       "        PLAYER_NAME        SHOT_ZONE_BASIC SHOT_ZONE_AREA  SHOT_ZONE_RANGE  \\\n",
       "540     Jewell Loyd          Left Corner 3   Left Side(L)          24+ ft.   \n",
       "1242    Jewell Loyd          Left Corner 3   Left Side(L)          24+ ft.   \n",
       "2270    Jewell Loyd          Left Corner 3   Left Side(L)          24+ ft.   \n",
       "3055    Jewell Loyd          Left Corner 3   Left Side(L)          24+ ft.   \n",
       "3057    Jewell Loyd          Left Corner 3   Left Side(L)          24+ ft.   \n",
       "...             ...                    ...            ...              ...   \n",
       "7314  Alyssa Thomas  In The Paint (Non-RA)      Center(C)  Less Than 8 ft.   \n",
       "7329  Alyssa Thomas  In The Paint (Non-RA)      Center(C)  Less Than 8 ft.   \n",
       "7334  Alyssa Thomas  In The Paint (Non-RA)      Center(C)         8-16 ft.   \n",
       "7686  Alyssa Thomas  In The Paint (Non-RA)      Center(C)  Less Than 8 ft.   \n",
       "7692  Alyssa Thomas  In The Paint (Non-RA)      Center(C)  Less Than 8 ft.   \n",
       "\n",
       "      SHOT_DISTANCE  LOC_X  LOC_Y  Count  \n",
       "540              23   -237     -7      1  \n",
       "1242             23   -237    -12      1  \n",
       "2270             22   -226     -7      1  \n",
       "3055             22   -226     12      1  \n",
       "3057             23   -232      1      1  \n",
       "...             ...    ...    ...    ...  \n",
       "7314              4      2     45      1  \n",
       "7329              4     36     20      1  \n",
       "7334              8      0     83      1  \n",
       "7686              4     35     34      1  \n",
       "7692              4    -37     24      1  \n",
       "\n",
       "[170 rows x 8 columns]"
      ]
     },
     "execution_count": 119,
     "metadata": {},
     "output_type": "execute_result"
    }
   ],
   "source": [
    "Shots_made_onCourt"
   ]
  },
  {
   "cell_type": "markdown",
   "metadata": {},
   "source": [
    "## Restricted Area"
   ]
  },
  {
   "cell_type": "code",
   "execution_count": 120,
   "metadata": {},
   "outputs": [
    {
     "name": "stdout",
     "output_type": "stream",
     "text": [
      "Dearica Hamby and Brionna Jones\n"
     ]
    }
   ],
   "source": [
    "RA=file_to_load.loc[file_to_load['SHOT_ZONE_BASIC'] == 'Restricted Area']\n",
    "RA_made_df=RA.groupby(by='PLAYER_NAME').sum()['Count'].sort_values(ascending=False).to_frame().head(10).reset_index()\n",
    "\n",
    "## creating an if statment to look at the top 5 players to ensure that there isn't a tie, if there is then printing their names\n",
    "if RA_made_df.Count[0] == RA_made_df.Count[1]:\n",
    "    RA_Player_1 = RA_made_df.PLAYER_NAME[0]\n",
    "    RA_Player_2 = RA_made_df.PLAYER_NAME[1]\n",
    "    RA_lookup_1 = RA.loc[RA['PLAYER_NAME'] == RA_Player_1]\n",
    "    RA_lookup_2 = RA.loc[RA['PLAYER_NAME'] == RA_Player_2]\n",
    "    print(f\"{RA_made_df.PLAYER_NAME[0]} and {RA_made_df.PLAYER_NAME[1]}\")\n",
    "    RA__combined = RA_lookup_1.append(RA_lookup_2)\n",
    "    \n",
    "elif RA_made_df.Count[0] == RA_made_df.Count[1] and RA_made_df.Count[1] == RA_made_df.Count[2]:\n",
    "    RA_Player_1 = RA_made_df.PLAYER_NAME[0]\n",
    "    RA_Player_2 = RA_made_df.PLAYER_NAME[1]\n",
    "    RA_Player_3 = RA_made_df.PLAYER_NAME[2]\n",
    "    RA_lookup_1 = RA.loc[RA['PLAYER_NAME'] == RA_Player_1]\n",
    "    RA_lookup_2 = RA.loc[RA['PLAYER_NAME'] == RA_Player_2]\n",
    "    RA_lookup_3 = RA.loc[RA['PLAYER_NAME'] == RA_Player_3]\n",
    "    print(f\"{RA_made_df.PLAYER_NAME[0]}, {RA_made_df.PLAYER_NAME[1]}, {RA_made_df.PLAYER_NAME[2]}\")\n",
    "    RA__combined = RA_Player_1.append(RA_Player_2)\n",
    "    RA__combined = RA__combined.append(RA_Player_3)\n",
    "\n",
    "elif RA_made_df.Count[0] == RA_made_df.Count[1] and RA_made_df.Count[1] == RA_made_df.Count[2] and RA_made_df.Count[3] == RA_made_df.Count[2]:\n",
    "    RA_Player_1 = RA_made_df.PLAYER_NAME[0]\n",
    "    RA_Player_2 = RA_made_df.PLAYER_NAME[1]\n",
    "    RA_Player_3 = RA_made_df.PLAYER_NAME[2]\n",
    "    RA_Player_4 = RA_made_df.PLAYER_NAME[3]\n",
    "    RA_lookup_1 = RA.loc[RA['PLAYER_NAME'] == RA_Player_1]\n",
    "    RA_lookup_2 = RA.loc[RA['PLAYER_NAME'] == RA_Player_2]\n",
    "    RA_lookup_3 = RA.loc[RA['PLAYER_NAME'] == RA_Player_3]\n",
    "    RA_lookup_4 = RA.loc[RA['PLAYER_NAME'] == RA_Player_4]\n",
    "    print(f\"{RA_made_df.PLAYER_NAME[0]}, {RA_made_df.PLAYER_NAME[1]}, {RA_made_df.PLAYER_NAME[2]}, and{RA_made_df.PLAYER_NAME[3]}\") \n",
    "    RA__combined = RA_Player_1.append(RA_Player_2)\n",
    "    RA__combined = RA__combined.append(RA_Player_3)\n",
    "    RA__combined = RA__combined.append(RA_Player_4)\n",
    "    \n",
    "\n",
    "elif RA_made_df.Count[0] == RA_made_df.Count[1] and RA_made_df.Count[1] == RA_made_df.Count[2] and RA_made_df.Count[3] == RA_made_df.Count[2] and RA_made_df.Count[4] == RA_made_df.Count[3] and RA_made_df.Count[5] == RA_made_df.Count[4]:\n",
    "    RA_Player_1 = RA_made_df.PLAYER_NAME[0]\n",
    "    RA_Player_2 = RA_made_df.PLAYER_NAME[1]\n",
    "    RA_Player_3 = RA_made_df.PLAYER_NAME[2]\n",
    "    RA_Player_4 = RA_made_df.PLAYER_NAME[3]\n",
    "    RA_Player_5 = RA_made_df.PLAYER_NAME[4]\n",
    "    RA_Player_6 = RA_made_df.PLAYER_NAME[5]\n",
    "\n",
    "    RA_lookup_1 = RA.loc[RA['PLAYER_NAME'] == RA_Player_1]\n",
    "    RA_lookup_2 = RA.loc[RA['PLAYER_NAME'] == RA_Player_2]\n",
    "    RA_lookup_3 = RA.loc[RA['PLAYER_NAME'] == RA_Player_3]\n",
    "    RA_lookup_4 = RA.loc[RA['PLAYER_NAME'] == RA_Player_4]\n",
    "    RA_lookup_5 = RA.loc[RA['PLAYER_NAME'] == RA_Player_5]\n",
    "    RA_lookup_6 = RA.loc[RA['PLAYER_NAME'] == RA_Player_6]\n",
    "    \n",
    "    print(f\"{RA_made_df.PLAYER_NAME[0]}, {RA_made_df.PLAYER_NAME[1]}, {RA_made_df.PLAYER_NAME[2]}, and{RA_made_df.PLAYER_NAME[3]}\") \n",
    "    \n",
    "    RA__combined = RA_lookup_1.append(RA_lookup_2)\n",
    "    RA__combined = RA__combined.append(RA_lookup_3)\n",
    "    RA__combined = RA__combined.append(RA_lookup_4)\n",
    "    RA__combined = RA__combined.append(RA_lookup_5)\n",
    "    RA__combined = RA__combined.append(RA_lookup_6)\n",
    "\n",
    "\n",
    "elif RA_made_df.Count[0] != RA_made_df.Count[1]:\n",
    "    print(f\"{RA_made_df.PLAYER_NAME[0]}\")\n",
    "    RA__combined=RA.loc[RA['PLAYER_NAME'] == RA_made_df.PLAYER_NAME[0]]   \n",
    "\n",
    "else:\n",
    "    print(\"Can't compute\")\n",
    "Shots_made_onCourt=Shots_made_onCourt.append(RA__combined) "
   ]
  },
  {
   "cell_type": "markdown",
   "metadata": {},
   "source": [
    "## Above the Break 3"
   ]
  },
  {
   "cell_type": "code",
   "execution_count": 121,
   "metadata": {},
   "outputs": [
    {
     "data": {
      "text/plain": [
       "array(['Left Side Center(LC)', 'Right Side Center(RC)', 'Left Side(L)',\n",
       "       'Center(C)', 'Right Side(R)'], dtype=object)"
      ]
     },
     "execution_count": 121,
     "metadata": {},
     "output_type": "execute_result"
    }
   ],
   "source": [
    "Above_The_Break_3=file_to_load.loc[file_to_load['SHOT_ZONE_BASIC'] == 'Above the Break 3']\n",
    "Above_The_Break_3.SHOT_ZONE_AREA.unique()"
   ]
  },
  {
   "cell_type": "markdown",
   "metadata": {},
   "source": [
    "### Left Side Center "
   ]
  },
  {
   "cell_type": "code",
   "execution_count": 122,
   "metadata": {},
   "outputs": [
    {
     "name": "stdout",
     "output_type": "stream",
     "text": [
      "Arike Ogunbowale\n"
     ]
    }
   ],
   "source": [
    "Above_The_Break_3_LC=Above_The_Break_3.loc[Above_The_Break_3['SHOT_ZONE_AREA']=='Left Side Center(LC)']\n",
    "Above_The_Break_3_LC_made_df =Above_The_Break_3_LC.groupby(by='PLAYER_NAME').sum()['Count'].sort_values(ascending=False).head(10).reset_index()\n",
    "\n",
    "\n",
    "## creating an if statment to look at the top 5 players to ensure that there isn't a tie, if there is then printing their names\n",
    "if Above_The_Break_3_LC_made_df.Count[0] == Above_The_Break_3_LC_made_df.Count[1]:\n",
    "    Above_The_Break_3_LC_Player_1 = Above_The_Break_3_LC_made_df.PLAYER_NAME[0]\n",
    "    Above_The_Break_3_LC_Player_2 = Above_The_Break_3_LC_made_df.PLAYER_NAME[1]\n",
    "    Above_The_Break_3_LC_lookup_1 = Above_The_Break_3_LC.loc[Above_The_Break_3_LC['PLAYER_NAME'] == Above_The_Break_3_LC_Player_1]\n",
    "    Above_The_Break_3_LC_lookup_2 = Above_The_Break_3_LC.loc[Above_The_Break_3_LC['PLAYER_NAME'] == Above_The_Break_3_LC_Player_2]\n",
    "    print(f\"{Above_The_Break_3_LC_made_df.PLAYER_NAME[0]} and {Above_The_Break_3_LC_made_df.PLAYER_NAME[1]}\")\n",
    "    Above_The_Break_3_LC__combined = Above_The_Break_3_LC_lookup_1.append(Above_The_Break_3_LC_lookup_2)\n",
    "    \n",
    "elif Above_The_Break_3_LC_made_df.Count[0] == Above_The_Break_3_LC_made_df.Count[1] and Above_The_Break_3_LC_made_df.Count[1] == Above_The_Break_3_LC_made_df.Count[2]:\n",
    "    Above_The_Break_3_LC_Player_1 = Above_The_Break_3_LC_made_df.PLAYER_NAME[0]\n",
    "    Above_The_Break_3_LC_Player_2 = Above_The_Break_3_LC_made_df.PLAYER_NAME[1]\n",
    "    Above_The_Break_3_LC_Player_3 = Above_The_Break_3_LC_made_df.PLAYER_NAME[2]\n",
    "    Above_The_Break_3_LC_lookup_1 = Above_The_Break_3_LC.loc[Above_The_Break_3_LC['PLAYER_NAME'] == Above_The_Break_3_LC_Player_1]\n",
    "    Above_The_Break_3_LC_lookup_2 = Above_The_Break_3_LC.loc[Above_The_Break_3_LC['PLAYER_NAME'] == Above_The_Break_3_LC_Player_2]\n",
    "    Above_The_Break_3_LC_lookup_3 = Above_The_Break_3_LC.loc[Above_The_Break_3_LC['PLAYER_NAME'] == Above_The_Break_3_LC_Player_3]\n",
    "    print(f\"{Above_The_Break_3_LC_made_df.PLAYER_NAME[0]}, {Above_The_Break_3_LC_made_df.PLAYER_NAME[1]}, {Above_The_Break_3_LC_made_df.PLAYER_NAME[2]}\")\n",
    "    Above_The_Break_3_LC__combined = Above_The_Break_3_LC_Player_1.append(Above_The_Break_3_LC_Player_2)\n",
    "    Above_The_Break_3_LC__combined = Above_The_Break_3_LC__combined.append(Above_The_Break_3_LC_Player_3)\n",
    "\n",
    "elif Above_The_Break_3_LC_made_df.Count[0] == Above_The_Break_3_LC_made_df.Count[1] and Above_The_Break_3_LC_made_df.Count[1] == Above_The_Break_3_LC_made_df.Count[2] and Above_The_Break_3_LC_made_df.Count[3] == Above_The_Break_3_LC_made_df.Count[2]:\n",
    "    Above_The_Break_3_LC_Player_1 = Above_The_Break_3_LC_made_df.PLAYER_NAME[0]\n",
    "    Above_The_Break_3_LC_Player_2 = Above_The_Break_3_LC_made_df.PLAYER_NAME[1]\n",
    "    Above_The_Break_3_LC_Player_3 = Above_The_Break_3_LC_made_df.PLAYER_NAME[2]\n",
    "    Above_The_Break_3_LC_Player_4 = Above_The_Break_3_LC_made_df.PLAYER_NAME[3]\n",
    "    Above_The_Break_3_LC_lookup_1 = Above_The_Break_3_LC.loc[Above_The_Break_3_LC['PLAYER_NAME'] == Above_The_Break_3_LC_Player_1]\n",
    "    Above_The_Break_3_LC_lookup_2 = Above_The_Break_3_LC.loc[Above_The_Break_3_LC['PLAYER_NAME'] == Above_The_Break_3_LC_Player_2]\n",
    "    Above_The_Break_3_LC_lookup_3 = Above_The_Break_3_LC.loc[Above_The_Break_3_LC['PLAYER_NAME'] == Above_The_Break_3_LC_Player_3]\n",
    "    Above_The_Break_3_LC_lookup_4 = Above_The_Break_3_LC.loc[Above_The_Break_3_LC['PLAYER_NAME'] == Above_The_Break_3_LC_Player_4]\n",
    "    print(f\"{Above_The_Break_3_LC_made_df.PLAYER_NAME[0]}, {Above_The_Break_3_LC_made_df.PLAYER_NAME[1]}, {Above_The_Break_3_LC_made_df.PLAYER_NAME[2]}, and{Above_The_Break_3_LC_made_df.PLAYER_NAME[3]}\") \n",
    "    Above_The_Break_3_LC__combined = Above_The_Break_3_LC_Player_1.append(Above_The_Break_3_LC_Player_2)\n",
    "    Above_The_Break_3_LC__combined = Above_The_Break_3_LC__combined.append(Above_The_Break_3_LC_Player_3)\n",
    "    Above_The_Break_3_LC__combined = Above_The_Break_3_LC__combined.append(Above_The_Break_3_LC_Player_4)\n",
    "    \n",
    "\n",
    "elif Above_The_Break_3_LC_made_df.Count[0] == Above_The_Break_3_LC_made_df.Count[1] and Above_The_Break_3_LC_made_df.Count[1] == Above_The_Break_3_LC_made_df.Count[2] and Above_The_Break_3_LC_made_df.Count[3] == Above_The_Break_3_LC_made_df.Count[2] and Above_The_Break_3_LC_made_df.Count[4] == Above_The_Break_3_LC_made_df.Count[3] and Above_The_Break_3_LC_made_df.Count[5] == Above_The_Break_3_LC_made_df.Count[4]:\n",
    "    Above_The_Break_3_LC_Player_1 = Above_The_Break_3_LC_made_df.PLAYER_NAME[0]\n",
    "    Above_The_Break_3_LC_Player_2 = Above_The_Break_3_LC_made_df.PLAYER_NAME[1]\n",
    "    Above_The_Break_3_LC_Player_3 = Above_The_Break_3_LC_made_df.PLAYER_NAME[2]\n",
    "    Above_The_Break_3_LC_Player_4 = Above_The_Break_3_LC_made_df.PLAYER_NAME[3]\n",
    "    Above_The_Break_3_LC_Player_5 = Above_The_Break_3_LC_made_df.PLAYER_NAME[4]\n",
    "    Above_The_Break_3_LC_Player_6 = Above_The_Break_3_LC_made_df.PLAYER_NAME[5]\n",
    "\n",
    "    Above_The_Break_3_LC_lookup_1 = Above_The_Break_3_LC.loc[Above_The_Break_3_LC['PLAYER_NAME'] == Above_The_Break_3_LC_Player_1]\n",
    "    Above_The_Break_3_LC_lookup_2 = Above_The_Break_3_LC.loc[Above_The_Break_3_LC['PLAYER_NAME'] == Above_The_Break_3_LC_Player_2]\n",
    "    Above_The_Break_3_LC_lookup_3 = Above_The_Break_3_LC.loc[Above_The_Break_3_LC['PLAYER_NAME'] == Above_The_Break_3_LC_Player_3]\n",
    "    Above_The_Break_3_LC_lookup_4 = Above_The_Break_3_LC.loc[Above_The_Break_3_LC['PLAYER_NAME'] == Above_The_Break_3_LC_Player_4]\n",
    "    Above_The_Break_3_LC_lookup_5 = Above_The_Break_3_LC.loc[Above_The_Break_3_LC['PLAYER_NAME'] == Above_The_Break_3_LC_Player_5]\n",
    "    Above_The_Break_3_LC_lookup_6 = Above_The_Break_3_LC.loc[Above_The_Break_3_LC['PLAYER_NAME'] == Above_The_Break_3_LC_Player_6]\n",
    "    \n",
    "    print(f\"{Above_The_Break_3_LC_made_df.PLAYER_NAME[0]}, {Above_The_Break_3_LC_made_df.PLAYER_NAME[1]}, {Above_The_Break_3_LC_made_df.PLAYER_NAME[2]}, and{Above_The_Break_3_LC_made_df.PLAYER_NAME[3]}\") \n",
    "    \n",
    "    Above_The_Break_3_LC__combined = Above_The_Break_3_LC_lookup_1.append(Above_The_Break_3_LC_lookup_2)\n",
    "    Above_The_Break_3_LC__combined = Above_The_Break_3_LC__combined.append(Above_The_Break_3_LC_lookup_3)\n",
    "    Above_The_Break_3_LC__combined = Above_The_Break_3_LC__combined.append(Above_The_Break_3_LC_lookup_4)\n",
    "    Above_The_Break_3_LC__combined = Above_The_Break_3_LC__combined.append(Above_The_Break_3_LC_lookup_5)\n",
    "    Above_The_Break_3_LC__combined = Above_The_Break_3_LC__combined.append(Above_The_Break_3_LC_lookup_6)\n",
    "\n",
    "\n",
    "elif Above_The_Break_3_LC_made_df.Count[0] != Above_The_Break_3_LC_made_df.Count[1]:\n",
    "    print(f\"{Above_The_Break_3_LC_made_df.PLAYER_NAME[0]}\")\n",
    "    Above_The_Break_3_LC__combined=Above_The_Break_3_LC.loc[Above_The_Break_3_LC['PLAYER_NAME'] == Above_The_Break_3_LC_made_df.PLAYER_NAME[0]]   \n",
    "\n",
    "else:\n",
    "    print(\"Can't compute\")\n",
    "Shots_made_onCourt=Shots_made_onCourt.append(Above_The_Break_3_LC__combined)\n"
   ]
  },
  {
   "cell_type": "code",
   "execution_count": 124,
   "metadata": {},
   "outputs": [
    {
     "data": {
      "text/plain": [
       "array(['Jewell Loyd', 'Satou Sabally', 'Courtney Williams',\n",
       "       'Kayla McBride', 'Candice Dupree', 'Alyssa Thomas',\n",
       "       'Dearica Hamby', 'Brionna Jones', 'Arike Ogunbowale'], dtype=object)"
      ]
     },
     "execution_count": 124,
     "metadata": {},
     "output_type": "execute_result"
    }
   ],
   "source": [
    "Shots_made_onCourt.PLAYER_NAME.unique()"
   ]
  },
  {
   "cell_type": "markdown",
   "metadata": {},
   "source": [
    "### Right Side Center"
   ]
  },
  {
   "cell_type": "code",
   "execution_count": 125,
   "metadata": {},
   "outputs": [
    {
     "name": "stdout",
     "output_type": "stream",
     "text": [
      "Julie Allemand and Kelsey Mitchell\n"
     ]
    }
   ],
   "source": [
    "Above_The_Break_3_RC = Above_The_Break_3.loc[Above_The_Break_3['SHOT_ZONE_AREA']=='Right Side Center(RC)']\n",
    "Above_The_Break_3_RC_made_df = Above_The_Break_3_RC.groupby(by='PLAYER_NAME').sum()['Count'].sort_values(ascending=False).to_frame().head(10).reset_index()\n",
    "\n",
    "## creating an if statment to look at the top 5 players to ensure that there isn't a tie, if there is then printing their names\n",
    "if Above_The_Break_3_RC_made_df.Count[0] == Above_The_Break_3_RC_made_df.Count[1]:\n",
    "    Above_The_Break_3_RC_Player_1 = Above_The_Break_3_RC_made_df.PLAYER_NAME[0]\n",
    "    Above_The_Break_3_RC_Player_2 = Above_The_Break_3_RC_made_df.PLAYER_NAME[1]\n",
    "    Above_The_Break_3_RC_lookup_1 = Above_The_Break_3_RC.loc[Above_The_Break_3_RC['PLAYER_NAME'] == Above_The_Break_3_RC_Player_1]\n",
    "    Above_The_Break_3_RC_lookup_2 = Above_The_Break_3_RC.loc[Above_The_Break_3_RC['PLAYER_NAME'] == Above_The_Break_3_RC_Player_2]\n",
    "    print(f\"{Above_The_Break_3_RC_made_df.PLAYER_NAME[0]} and {Above_The_Break_3_RC_made_df.PLAYER_NAME[1]}\")\n",
    "    Above_The_Break_3_RC__combined = Above_The_Break_3_RC_lookup_1.append(Above_The_Break_3_RC_lookup_2)\n",
    "    \n",
    "elif Above_The_Break_3_RC_made_df.Count[0] == Above_The_Break_3_RC_made_df.Count[1] and Above_The_Break_3_RC_made_df.Count[1] == Above_The_Break_3_RC_made_df.Count[2]:\n",
    "    Above_The_Break_3_RC_Player_1 = Above_The_Break_3_RC_made_df.PLAYER_NAME[0]\n",
    "    Above_The_Break_3_RC_Player_2 = Above_The_Break_3_RC_made_df.PLAYER_NAME[1]\n",
    "    Above_The_Break_3_RC_Player_3 = Above_The_Break_3_RC_made_df.PLAYER_NAME[2]\n",
    "    Above_The_Break_3_RC_lookup_1 = Above_The_Break_3_RC.loc[Above_The_Break_3_RC['PLAYER_NAME'] == Above_The_Break_3_RC_Player_1]\n",
    "    Above_The_Break_3_RC_lookup_2 = Above_The_Break_3_RC.loc[Above_The_Break_3_RC['PLAYER_NAME'] == Above_The_Break_3_RC_Player_2]\n",
    "    Above_The_Break_3_RC_lookup_3 = Above_The_Break_3_RC.loc[Above_The_Break_3_RC['PLAYER_NAME'] == Above_The_Break_3_RC_Player_3]\n",
    "    print(f\"{Above_The_Break_3_RC_made_df.PLAYER_NAME[0]}, {Above_The_Break_3_RC_made_df.PLAYER_NAME[1]}, {Above_The_Break_3_RC_made_df.PLAYER_NAME[2]}\")\n",
    "    Above_The_Break_3_RC__combined = Above_The_Break_3_RC_Player_1.append(Above_The_Break_3_RC_Player_2)\n",
    "    Above_The_Break_3_RC__combined = Above_The_Break_3_RC__combined.append(Above_The_Break_3_RC_Player_3)\n",
    "\n",
    "elif Above_The_Break_3_RC_made_df.Count[0] == Above_The_Break_3_RC_made_df.Count[1] and Above_The_Break_3_RC_made_df.Count[1] == Above_The_Break_3_RC_made_df.Count[2] and Above_The_Break_3_RC_made_df.Count[3] == Above_The_Break_3_RC_made_df.Count[2]:\n",
    "    Above_The_Break_3_RC_Player_1 = Above_The_Break_3_RC_made_df.PLAYER_NAME[0]\n",
    "    Above_The_Break_3_RC_Player_2 = Above_The_Break_3_RC_made_df.PLAYER_NAME[1]\n",
    "    Above_The_Break_3_RC_Player_3 = Above_The_Break_3_RC_made_df.PLAYER_NAME[2]\n",
    "    Above_The_Break_3_RC_Player_4 = Above_The_Break_3_RC_made_df.PLAYER_NAME[3]\n",
    "    Above_The_Break_3_RC_lookup_1 = Above_The_Break_3_RC.loc[Above_The_Break_3_RC['PLAYER_NAME'] == Above_The_Break_3_RC_Player_1]\n",
    "    Above_The_Break_3_RC_lookup_2 = Above_The_Break_3_RC.loc[Above_The_Break_3_RC['PLAYER_NAME'] == Above_The_Break_3_RC_Player_2]\n",
    "    Above_The_Break_3_RC_lookup_3 = Above_The_Break_3_RC.loc[Above_The_Break_3_RC['PLAYER_NAME'] == Above_The_Break_3_RC_Player_3]\n",
    "    Above_The_Break_3_RC_lookup_4 = Above_The_Break_3_RC.loc[Above_The_Break_3_RC['PLAYER_NAME'] == Above_The_Break_3_RC_Player_4]\n",
    "    print(f\"{Above_The_Break_3_RC_made_df.PLAYER_NAME[0]}, {Above_The_Break_3_RC_made_df.PLAYER_NAME[1]}, {Above_The_Break_3_RC_made_df.PLAYER_NAME[2]}, and{Above_The_Break_3_RC_made_df.PLAYER_NAME[3]}\") \n",
    "    Above_The_Break_3_RC__combined = Above_The_Break_3_RC_Player_1.append(Above_The_Break_3_RC_Player_2)\n",
    "    Above_The_Break_3_RC__combined = Above_The_Break_3_RC__combined.append(Above_The_Break_3_RC_Player_3)\n",
    "    Above_The_Break_3_RC__combined = Above_The_Break_3_RC__combined.append(Above_The_Break_3_RC_Player_4)\n",
    "    \n",
    "\n",
    "elif Above_The_Break_3_RC_made_df.Count[0] == Above_The_Break_3_RC_made_df.Count[1] and Above_The_Break_3_RC_made_df.Count[1] == Above_The_Break_3_RC_made_df.Count[2] and Above_The_Break_3_RC_made_df.Count[3] == Above_The_Break_3_RC_made_df.Count[2] and Above_The_Break_3_RC_made_df.Count[4] == Above_The_Break_3_RC_made_df.Count[3] and Above_The_Break_3_RC_made_df.Count[5] == Above_The_Break_3_RC_made_df.Count[4]:\n",
    "    Above_The_Break_3_RC_Player_1 = Above_The_Break_3_RC_made_df.PLAYER_NAME[0]\n",
    "    Above_The_Break_3_RC_Player_2 = Above_The_Break_3_RC_made_df.PLAYER_NAME[1]\n",
    "    Above_The_Break_3_RC_Player_3 = Above_The_Break_3_RC_made_df.PLAYER_NAME[2]\n",
    "    Above_The_Break_3_RC_Player_4 = Above_The_Break_3_RC_made_df.PLAYER_NAME[3]\n",
    "    Above_The_Break_3_RC_Player_5 = Above_The_Break_3_RC_made_df.PLAYER_NAME[4]\n",
    "    Above_The_Break_3_RC_Player_6 = Above_The_Break_3_RC_made_df.PLAYER_NAME[5]\n",
    "\n",
    "    Above_The_Break_3_RC_lookup_1 = Above_The_Break_3_RC.loc[Above_The_Break_3_RC['PLAYER_NAME'] == Above_The_Break_3_RC_Player_1]\n",
    "    Above_The_Break_3_RC_lookup_2 = Above_The_Break_3_RC.loc[Above_The_Break_3_RC['PLAYER_NAME'] == Above_The_Break_3_RC_Player_2]\n",
    "    Above_The_Break_3_RC_lookup_3 = Above_The_Break_3_RC.loc[Above_The_Break_3_RC['PLAYER_NAME'] == Above_The_Break_3_RC_Player_3]\n",
    "    Above_The_Break_3_RC_lookup_4 = Above_The_Break_3_RC.loc[Above_The_Break_3_RC['PLAYER_NAME'] == Above_The_Break_3_RC_Player_4]\n",
    "    Above_The_Break_3_RC_lookup_5 = Above_The_Break_3_RC.loc[Above_The_Break_3_RC['PLAYER_NAME'] == Above_The_Break_3_RC_Player_5]\n",
    "    Above_The_Break_3_RC_lookup_6 = Above_The_Break_3_RC.loc[Above_The_Break_3_RC['PLAYER_NAME'] == Above_The_Break_3_RC_Player_6]\n",
    "    \n",
    "    print(f\"{Above_The_Break_3_RC_made_df.PLAYER_NAME[0]}, {Above_The_Break_3_RC_made_df.PLAYER_NAME[1]}, {Above_The_Break_3_RC_made_df.PLAYER_NAME[2]}, and{Above_The_Break_3_RC_made_df.PLAYER_NAME[3]}\") \n",
    "    \n",
    "    Above_The_Break_3_RC__combined = Above_The_Break_3_RC_lookup_1.append(Above_The_Break_3_RC_lookup_2)\n",
    "    Above_The_Break_3_RC__combined = Above_The_Break_3_RC__combined.append(Above_The_Break_3_RC_lookup_3)\n",
    "    Above_The_Break_3_RC__combined = Above_The_Break_3_RC__combined.append(Above_The_Break_3_RC_lookup_4)\n",
    "    Above_The_Break_3_RC__combined = Above_The_Break_3_RC__combined.append(Above_The_Break_3_RC_lookup_5)\n",
    "    Above_The_Break_3_RC__combined = Above_The_Break_3_RC__combined.append(Above_The_Break_3_RC_lookup_6)\n",
    "\n",
    "\n",
    "elif Above_The_Break_3_RC_made_df.Count[0] != Above_The_Break_3_RC_made_df.Count[1]:\n",
    "    print(f\"{Above_The_Break_3_RC_made_df.PLAYER_NAME[0]}\")\n",
    "    Above_The_Break_3_RC__combined=Above_The_Break_3_RC.loc[Above_The_Break_3_RC['PLAYER_NAME'] == Above_The_Break_3_RC_made_df.PLAYER_NAME[0]]   \n",
    "\n",
    "else:\n",
    "    print(\"Can't compute\")\n",
    "Shots_made_onCourt=Shots_made_onCourt.append(Above_The_Break_3_RC__combined)"
   ]
  },
  {
   "cell_type": "markdown",
   "metadata": {},
   "source": [
    "### Center"
   ]
  },
  {
   "cell_type": "code",
   "execution_count": 126,
   "metadata": {},
   "outputs": [
    {
     "name": "stdout",
     "output_type": "stream",
     "text": [
      "Kelsey Mitchell\n"
     ]
    }
   ],
   "source": [
    "Above_The_Break_3_center=Above_The_Break_3.loc[Above_The_Break_3['SHOT_ZONE_AREA']=='Center(C)']\n",
    "Above_The_Break_3_center_made_df=Above_The_Break_3_center.groupby(by='PLAYER_NAME').sum()['Count'].sort_values(ascending=False).to_frame().head(10).reset_index()\n",
    "\n",
    "## creating an if statment to look at the top 5 players to ensure that there isn't a tie, if there is then printing their names\n",
    "if Above_The_Break_3_center_made_df.Count[0] == Above_The_Break_3_center_made_df.Count[1]:\n",
    "    Above_The_Break_3_center_Player_1 = Above_The_Break_3_center_made_df.PLAYER_NAME[0]\n",
    "    Above_The_Break_3_center_Player_2 = Above_The_Break_3_center_made_df.PLAYER_NAME[1]\n",
    "    Above_The_Break_3_center_lookup_1 = Above_The_Break_3_center.loc[Above_The_Break_3_center['PLAYER_NAME'] == Above_The_Break_3_center_Player_1]\n",
    "    Above_The_Break_3_center_lookup_2 = Above_The_Break_3_center.loc[Above_The_Break_3_center['PLAYER_NAME'] == Above_The_Break_3_center_Player_2]\n",
    "    print(f\"{Above_The_Break_3_center_made_df.PLAYER_NAME[0]} and {Above_The_Break_3_center_made_df.PLAYER_NAME[1]}\")\n",
    "    Above_The_Break_3_center__combined = Above_The_Break_3_center_lookup_1.append(Above_The_Break_3_center_lookup_2)\n",
    "    \n",
    "elif Above_The_Break_3_center_made_df.Count[0] == Above_The_Break_3_center_made_df.Count[1] and Above_The_Break_3_center_made_df.Count[1] == Above_The_Break_3_center_made_df.Count[2]:\n",
    "    Above_The_Break_3_center_Player_1 = Above_The_Break_3_center_made_df.PLAYER_NAME[0]\n",
    "    Above_The_Break_3_center_Player_2 = Above_The_Break_3_center_made_df.PLAYER_NAME[1]\n",
    "    Above_The_Break_3_center_Player_3 = Above_The_Break_3_center_made_df.PLAYER_NAME[2]\n",
    "    Above_The_Break_3_center_lookup_1 = Above_The_Break_3_center.loc[Above_The_Break_3_center['PLAYER_NAME'] == Above_The_Break_3_center_Player_1]\n",
    "    Above_The_Break_3_center_lookup_2 = Above_The_Break_3_center.loc[Above_The_Break_3_center['PLAYER_NAME'] == Above_The_Break_3_center_Player_2]\n",
    "    Above_The_Break_3_center_lookup_3 = Above_The_Break_3_center.loc[Above_The_Break_3_center['PLAYER_NAME'] == Above_The_Break_3_center_Player_3]\n",
    "    print(f\"{Above_The_Break_3_center_made_df.PLAYER_NAME[0]}, {Above_The_Break_3_center_made_df.PLAYER_NAME[1]}, {Above_The_Break_3_center_made_df.PLAYER_NAME[2]}\")\n",
    "    Above_The_Break_3_center__combined = Above_The_Break_3_center_Player_1.append(Above_The_Break_3_center_Player_2)\n",
    "    Above_The_Break_3_center__combined = Above_The_Break_3_center__combined.append(Above_The_Break_3_center_Player_3)\n",
    "\n",
    "elif Above_The_Break_3_center_made_df.Count[0] == Above_The_Break_3_center_made_df.Count[1] and Above_The_Break_3_center_made_df.Count[1] == Above_The_Break_3_center_made_df.Count[2] and Above_The_Break_3_center_made_df.Count[3] == Above_The_Break_3_center_made_df.Count[2]:\n",
    "    Above_The_Break_3_center_Player_1 = Above_The_Break_3_center_made_df.PLAYER_NAME[0]\n",
    "    Above_The_Break_3_center_Player_2 = Above_The_Break_3_center_made_df.PLAYER_NAME[1]\n",
    "    Above_The_Break_3_center_Player_3 = Above_The_Break_3_center_made_df.PLAYER_NAME[2]\n",
    "    Above_The_Break_3_center_Player_4 = Above_The_Break_3_center_made_df.PLAYER_NAME[3]\n",
    "    Above_The_Break_3_center_lookup_1 = Above_The_Break_3_center.loc[Above_The_Break_3_center['PLAYER_NAME'] == Above_The_Break_3_center_Player_1]\n",
    "    Above_The_Break_3_center_lookup_2 = Above_The_Break_3_center.loc[Above_The_Break_3_center['PLAYER_NAME'] == Above_The_Break_3_center_Player_2]\n",
    "    Above_The_Break_3_center_lookup_3 = Above_The_Break_3_center.loc[Above_The_Break_3_center['PLAYER_NAME'] == Above_The_Break_3_center_Player_3]\n",
    "    Above_The_Break_3_center_lookup_4 = Above_The_Break_3_center.loc[Above_The_Break_3_center['PLAYER_NAME'] == Above_The_Break_3_center_Player_4]\n",
    "    print(f\"{Above_The_Break_3_center_made_df.PLAYER_NAME[0]}, {Above_The_Break_3_center_made_df.PLAYER_NAME[1]}, {Above_The_Break_3_center_made_df.PLAYER_NAME[2]}, and{Above_The_Break_3_center_made_df.PLAYER_NAME[3]}\") \n",
    "    Above_The_Break_3_center__combined = Above_The_Break_3_center_Player_1.append(Above_The_Break_3_center_Player_2)\n",
    "    Above_The_Break_3_center__combined = Above_The_Break_3_center__combined.append(Above_The_Break_3_center_Player_3)\n",
    "    Above_The_Break_3_center__combined = Above_The_Break_3_center__combined.append(Above_The_Break_3_center_Player_4)\n",
    "    \n",
    "\n",
    "elif Above_The_Break_3_center_made_df.Count[0] == Above_The_Break_3_center_made_df.Count[1] and Above_The_Break_3_center_made_df.Count[1] == Above_The_Break_3_center_made_df.Count[2] and Above_The_Break_3_center_made_df.Count[3] == Above_The_Break_3_center_made_df.Count[2] and Above_The_Break_3_center_made_df.Count[4] == Above_The_Break_3_center_made_df.Count[3] and Above_The_Break_3_center_made_df.Count[5] == Above_The_Break_3_center_made_df.Count[4]:\n",
    "    Above_The_Break_3_center_Player_1 = Above_The_Break_3_center_made_df.PLAYER_NAME[0]\n",
    "    Above_The_Break_3_center_Player_2 = Above_The_Break_3_center_made_df.PLAYER_NAME[1]\n",
    "    Above_The_Break_3_center_Player_3 = Above_The_Break_3_center_made_df.PLAYER_NAME[2]\n",
    "    Above_The_Break_3_center_Player_4 = Above_The_Break_3_center_made_df.PLAYER_NAME[3]\n",
    "    Above_The_Break_3_center_Player_5 = Above_The_Break_3_center_made_df.PLAYER_NAME[4]\n",
    "    Above_The_Break_3_center_Player_6 = Above_The_Break_3_center_made_df.PLAYER_NAME[5]\n",
    "\n",
    "    Above_The_Break_3_center_lookup_1 = Above_The_Break_3_center.loc[Above_The_Break_3_center['PLAYER_NAME'] == Above_The_Break_3_center_Player_1]\n",
    "    Above_The_Break_3_center_lookup_2 = Above_The_Break_3_center.loc[Above_The_Break_3_center['PLAYER_NAME'] == Above_The_Break_3_center_Player_2]\n",
    "    Above_The_Break_3_center_lookup_3 = Above_The_Break_3_center.loc[Above_The_Break_3_center['PLAYER_NAME'] == Above_The_Break_3_center_Player_3]\n",
    "    Above_The_Break_3_center_lookup_4 = Above_The_Break_3_center.loc[Above_The_Break_3_center['PLAYER_NAME'] == Above_The_Break_3_center_Player_4]\n",
    "    Above_The_Break_3_center_lookup_5 = Above_The_Break_3_center.loc[Above_The_Break_3_center['PLAYER_NAME'] == Above_The_Break_3_center_Player_5]\n",
    "    Above_The_Break_3_center_lookup_6 = Above_The_Break_3_center.loc[Above_The_Break_3_center['PLAYER_NAME'] == Above_The_Break_3_center_Player_6]\n",
    "    \n",
    "    print(f\"{Above_The_Break_3_center_made_df.PLAYER_NAME[0]}, {Above_The_Break_3_center_made_df.PLAYER_NAME[1]}, {Above_The_Break_3_center_made_df.PLAYER_NAME[2]}, and{Above_The_Break_3_center_made_df.PLAYER_NAME[3]}\") \n",
    "    \n",
    "    Above_The_Break_3_center__combined = Above_The_Break_3_center_lookup_1.append(Above_The_Break_3_center_lookup_2)\n",
    "    Above_The_Break_3_center__combined = Above_The_Break_3_center__combined.append(Above_The_Break_3_center_lookup_3)\n",
    "    Above_The_Break_3_center__combined = Above_The_Break_3_center__combined.append(Above_The_Break_3_center_lookup_4)\n",
    "    Above_The_Break_3_center__combined = Above_The_Break_3_center__combined.append(Above_The_Break_3_center_lookup_5)\n",
    "    Above_The_Break_3_center__combined = Above_The_Break_3_center__combined.append(Above_The_Break_3_center_lookup_6)\n",
    "\n",
    "\n",
    "elif Above_The_Break_3_center_made_df.Count[0] != Above_The_Break_3_center_made_df.Count[1]:\n",
    "    print(f\"{Above_The_Break_3_center_made_df.PLAYER_NAME[0]}\")\n",
    "    Above_The_Break_3_center__combined=Above_The_Break_3_center.loc[Above_The_Break_3_center['PLAYER_NAME'] == Above_The_Break_3_center_made_df.PLAYER_NAME[0]]   \n",
    "\n",
    "else:\n",
    "    print(\"Can't compute\")\n",
    "Shots_made_onCourt=Shots_made_onCourt.append(Above_The_Break_3_center__combined)\n",
    "    "
   ]
  },
  {
   "cell_type": "code",
   "execution_count": 128,
   "metadata": {},
   "outputs": [
    {
     "data": {
      "text/html": [
       "<div>\n",
       "<style scoped>\n",
       "    .dataframe tbody tr th:only-of-type {\n",
       "        vertical-align: middle;\n",
       "    }\n",
       "\n",
       "    .dataframe tbody tr th {\n",
       "        vertical-align: top;\n",
       "    }\n",
       "\n",
       "    .dataframe thead th {\n",
       "        text-align: right;\n",
       "    }\n",
       "</style>\n",
       "<table border=\"1\" class=\"dataframe\">\n",
       "  <thead>\n",
       "    <tr style=\"text-align: right;\">\n",
       "      <th></th>\n",
       "      <th>PLAYER_NAME</th>\n",
       "      <th>SHOT_ZONE_BASIC</th>\n",
       "      <th>SHOT_ZONE_AREA</th>\n",
       "      <th>SHOT_ZONE_RANGE</th>\n",
       "      <th>SHOT_DISTANCE</th>\n",
       "      <th>LOC_X</th>\n",
       "      <th>LOC_Y</th>\n",
       "      <th>Count</th>\n",
       "    </tr>\n",
       "  </thead>\n",
       "  <tbody>\n",
       "    <tr>\n",
       "      <td>540</td>\n",
       "      <td>Jewell Loyd</td>\n",
       "      <td>Left Corner 3</td>\n",
       "      <td>Left Side(L)</td>\n",
       "      <td>24+ ft.</td>\n",
       "      <td>23</td>\n",
       "      <td>-237</td>\n",
       "      <td>-7</td>\n",
       "      <td>1</td>\n",
       "    </tr>\n",
       "    <tr>\n",
       "      <td>1242</td>\n",
       "      <td>Jewell Loyd</td>\n",
       "      <td>Left Corner 3</td>\n",
       "      <td>Left Side(L)</td>\n",
       "      <td>24+ ft.</td>\n",
       "      <td>23</td>\n",
       "      <td>-237</td>\n",
       "      <td>-12</td>\n",
       "      <td>1</td>\n",
       "    </tr>\n",
       "    <tr>\n",
       "      <td>2270</td>\n",
       "      <td>Jewell Loyd</td>\n",
       "      <td>Left Corner 3</td>\n",
       "      <td>Left Side(L)</td>\n",
       "      <td>24+ ft.</td>\n",
       "      <td>22</td>\n",
       "      <td>-226</td>\n",
       "      <td>-7</td>\n",
       "      <td>1</td>\n",
       "    </tr>\n",
       "    <tr>\n",
       "      <td>3055</td>\n",
       "      <td>Jewell Loyd</td>\n",
       "      <td>Left Corner 3</td>\n",
       "      <td>Left Side(L)</td>\n",
       "      <td>24+ ft.</td>\n",
       "      <td>22</td>\n",
       "      <td>-226</td>\n",
       "      <td>12</td>\n",
       "      <td>1</td>\n",
       "    </tr>\n",
       "    <tr>\n",
       "      <td>3057</td>\n",
       "      <td>Jewell Loyd</td>\n",
       "      <td>Left Corner 3</td>\n",
       "      <td>Left Side(L)</td>\n",
       "      <td>24+ ft.</td>\n",
       "      <td>23</td>\n",
       "      <td>-232</td>\n",
       "      <td>1</td>\n",
       "      <td>1</td>\n",
       "    </tr>\n",
       "    <tr>\n",
       "      <td>...</td>\n",
       "      <td>...</td>\n",
       "      <td>...</td>\n",
       "      <td>...</td>\n",
       "      <td>...</td>\n",
       "      <td>...</td>\n",
       "      <td>...</td>\n",
       "      <td>...</td>\n",
       "      <td>...</td>\n",
       "    </tr>\n",
       "    <tr>\n",
       "      <td>5707</td>\n",
       "      <td>Kelsey Mitchell</td>\n",
       "      <td>Above the Break 3</td>\n",
       "      <td>Center(C)</td>\n",
       "      <td>16-24 ft.</td>\n",
       "      <td>23</td>\n",
       "      <td>-46</td>\n",
       "      <td>228</td>\n",
       "      <td>1</td>\n",
       "    </tr>\n",
       "    <tr>\n",
       "      <td>6488</td>\n",
       "      <td>Kelsey Mitchell</td>\n",
       "      <td>Above the Break 3</td>\n",
       "      <td>Center(C)</td>\n",
       "      <td>24+ ft.</td>\n",
       "      <td>25</td>\n",
       "      <td>-52</td>\n",
       "      <td>253</td>\n",
       "      <td>1</td>\n",
       "    </tr>\n",
       "    <tr>\n",
       "      <td>6733</td>\n",
       "      <td>Kelsey Mitchell</td>\n",
       "      <td>Above the Break 3</td>\n",
       "      <td>Center(C)</td>\n",
       "      <td>16-24 ft.</td>\n",
       "      <td>23</td>\n",
       "      <td>-22</td>\n",
       "      <td>233</td>\n",
       "      <td>1</td>\n",
       "    </tr>\n",
       "    <tr>\n",
       "      <td>7235</td>\n",
       "      <td>Kelsey Mitchell</td>\n",
       "      <td>Above the Break 3</td>\n",
       "      <td>Center(C)</td>\n",
       "      <td>24+ ft.</td>\n",
       "      <td>24</td>\n",
       "      <td>-28</td>\n",
       "      <td>244</td>\n",
       "      <td>1</td>\n",
       "    </tr>\n",
       "    <tr>\n",
       "      <td>7551</td>\n",
       "      <td>Kelsey Mitchell</td>\n",
       "      <td>Above the Break 3</td>\n",
       "      <td>Center(C)</td>\n",
       "      <td>24+ ft.</td>\n",
       "      <td>25</td>\n",
       "      <td>36</td>\n",
       "      <td>253</td>\n",
       "      <td>1</td>\n",
       "    </tr>\n",
       "  </tbody>\n",
       "</table>\n",
       "<p>410 rows × 8 columns</p>\n",
       "</div>"
      ],
      "text/plain": [
       "          PLAYER_NAME    SHOT_ZONE_BASIC SHOT_ZONE_AREA SHOT_ZONE_RANGE  \\\n",
       "540       Jewell Loyd      Left Corner 3   Left Side(L)         24+ ft.   \n",
       "1242      Jewell Loyd      Left Corner 3   Left Side(L)         24+ ft.   \n",
       "2270      Jewell Loyd      Left Corner 3   Left Side(L)         24+ ft.   \n",
       "3055      Jewell Loyd      Left Corner 3   Left Side(L)         24+ ft.   \n",
       "3057      Jewell Loyd      Left Corner 3   Left Side(L)         24+ ft.   \n",
       "...               ...                ...            ...             ...   \n",
       "5707  Kelsey Mitchell  Above the Break 3      Center(C)       16-24 ft.   \n",
       "6488  Kelsey Mitchell  Above the Break 3      Center(C)         24+ ft.   \n",
       "6733  Kelsey Mitchell  Above the Break 3      Center(C)       16-24 ft.   \n",
       "7235  Kelsey Mitchell  Above the Break 3      Center(C)         24+ ft.   \n",
       "7551  Kelsey Mitchell  Above the Break 3      Center(C)         24+ ft.   \n",
       "\n",
       "      SHOT_DISTANCE  LOC_X  LOC_Y  Count  \n",
       "540              23   -237     -7      1  \n",
       "1242             23   -237    -12      1  \n",
       "2270             22   -226     -7      1  \n",
       "3055             22   -226     12      1  \n",
       "3057             23   -232      1      1  \n",
       "...             ...    ...    ...    ...  \n",
       "5707             23    -46    228      1  \n",
       "6488             25    -52    253      1  \n",
       "6733             23    -22    233      1  \n",
       "7235             24    -28    244      1  \n",
       "7551             25     36    253      1  \n",
       "\n",
       "[410 rows x 8 columns]"
      ]
     },
     "execution_count": 128,
     "metadata": {},
     "output_type": "execute_result"
    }
   ],
   "source": [
    "Shots_made_onCourt"
   ]
  },
  {
   "cell_type": "code",
   "execution_count": 35,
   "metadata": {},
   "outputs": [],
   "source": [
    "import pandas as pd\n",
    "from scipy.stats import binned_statistic_2d\n",
    "import seaborn as sns\n",
    "from bokeh.plotting import figure\n",
    "from math import pi\n",
    "%matplotlib inline\n",
    "\n",
    "import urllib\n",
    "import matplotlib.pyplot as plt\n",
    "from matplotlib.patches import Circle, Rectangle, Arc\n",
    "def draw_court(ax=None, color='black', lw=2, outer_lines=False):\n",
    "    # If an axes object isn't provided to plot onto, just get current one\n",
    "    if ax is None:\n",
    "        ax = plt.gca()\n",
    "\n",
    "    # Create the various parts of an NBA basketball court\n",
    "\n",
    "    # Create the basketball hoop\n",
    "    # Diameter of a hoop is 18\" so it has a radius of 9\", which is a value\n",
    "    # 7.5 in our coordinate system\n",
    "    hoop = Circle((0, 0), radius=7.5, linewidth=lw, color=color, fill=False)\n",
    "\n",
    "    # Create backboard\n",
    "    backboard = Rectangle((-30, -7.5), 60, -1, linewidth=lw, color=color)\n",
    "\n",
    "    # The paint\n",
    "    # Create the outer box 0f the paint, width=16ft, height=19ft\n",
    "    outer_box = Rectangle((-80, -47.5), 160, 190, linewidth=lw, color=color,\n",
    "                          fill=False)\n",
    "    # Create the inner box of the paint, widt=12ft, height=19ft\n",
    "    inner_box = Rectangle((-60, -47.5), 120, 190, linewidth=lw, color=color,\n",
    "                          fill=False)\n",
    "\n",
    "    # Create free throw top arc\n",
    "    top_free_throw = Arc((0, 142.5), 120, 120, theta1=0, theta2=180,\n",
    "                         linewidth=lw, color=color, fill=False)\n",
    "    # Create free throw bottom arc\n",
    "    bottom_free_throw = Arc((0, 142.5), 120, 120, theta1=180, theta2=0,\n",
    "                            linewidth=lw, color=color, linestyle='dashed')\n",
    "    # Restricted Zone, it is an arc with 4ft radius from center of the hoop\n",
    "    restricted = Arc((0, 0), 80, 80, theta1=0, theta2=180, linewidth=lw,\n",
    "                     color=color)\n",
    "\n",
    "    # Three point line\n",
    "    # Create the side 3pt lines, they are 14ft long before they begin to arc\n",
    "    corner_three_a = Rectangle((-220, -47.5), 0, 140, linewidth=lw,\n",
    "                               color=color)\n",
    "    corner_three_b = Rectangle((220, -47.5), 0, 140, linewidth=lw, color=color)\n",
    "    # 3pt arc - center of arc will be the hoop, arc is 23'9\" away from hoop\n",
    "    # I just played around with the theta values until they lined up with the \n",
    "    # threes\n",
    "    three_arc = Arc((0, 0), 475, 475, theta1=22, theta2=158, linewidth=lw,\n",
    "                    color=color)\n",
    "\n",
    "    # Center Court\n",
    "    center_outer_arc = Arc((0, 422.5), 120, 120, theta1=180, theta2=0,\n",
    "                           linewidth=lw, color=color)\n",
    "    center_inner_arc = Arc((0, 422.5), 40, 40, theta1=180, theta2=0,\n",
    "                           linewidth=lw, color=color)\n",
    "\n",
    "    # List of the court elements to be plotted onto the axes\n",
    "    court_elements = [hoop, backboard, outer_box, inner_box, top_free_throw,\n",
    "                      bottom_free_throw, restricted, corner_three_a,\n",
    "                      corner_three_b, three_arc, center_outer_arc,\n",
    "                      center_inner_arc]\n",
    "\n",
    "    if outer_lines:\n",
    "        # Draw the half court line, baseline and side out bound lines\n",
    "        outer_lines = Rectangle((-250, -47.5), 500, 470, linewidth=lw,\n",
    "                                color=color, fill=False)\n",
    "        court_elements.append(outer_lines)\n",
    "\n",
    "    # Add the court elements onto the axes\n",
    "    for element in court_elements:\n",
    "        ax.add_patch(element)\n",
    "\n",
    "    return ax"
   ]
  },
  {
   "cell_type": "code",
   "execution_count": 36,
   "metadata": {},
   "outputs": [
    {
     "data": {
      "image/png": "[encoded data removed]",
      "text/plain": [
       "<Figure size 864x792 with 1 Axes>"
      ]
     },
     "metadata": {
      "needs_background": "light"
     },
     "output_type": "display_data"
    }
   ],
   "source": [
    "plt.figure(figsize=(12,11))\n",
    "draw_court(outer_lines=True, color=\"black\")\n",
    "plt.scatter(left_corner_3_made.LOC_X, left_corner_3_made.LOC_Y,label='Jewel Llyod', color='Green')\n",
    "plt.scatter(right_corner_3_made.LOC_X, right_corner_3_made.LOC_Y,label='Satou Sabally', color=\"red\")\n",
    "plt.scatter(mid_range_Right_Side__made.LOC_X, mid_range_Right_Side__made.LOC_Y,label='Courtney Wiliams', color=\"blue\")\n",
    "plt.scatter(Mid_Range_made.LOC_X, Mid_Range_made.LOC_Y,label='Kayla McBride', color=\"grey\")\n",
    "plt.scatter(Mid_Range_LC_made.LOC_X, Mid_Range_LC_made.LOC_Y,label='Courtney Williams', color=\"blue\")\n",
    "plt.scatter(Mid_Range_RC_made.LOC_X, Mid_Range_RC_made.LOC_Y,label='Courtney Williams', color=\"blue\")\n",
    "plt.scatter(Mid_Range_LS_made.LOC_X, Mid_Range_LS_made.LOC_Y,label='Candice Dupree', color=\"lime\")\n",
    "plt.scatter(NRA_Center_made.LOC_X, NRA_Center_made.LOC_Y,label='Alyssa Thomas', color=\"pink\")\n",
    "plt.scatter(RA_made.LOC_X, RA_made.LOC_Y,label='Dearica Hamby', color=\"purple\")\n",
    "plt.scatter(RA_made_2.LOC_X, RA_made_2.LOC_Y,label='Brionna Jones', color=\"brown\")\n",
    "plt.scatter(Above_The_Break_3_LC_made.LOC_X, Above_The_Break_3_LC_made.LOC_Y,label='Arike Ogunbowale', color=\"yellow\")\n",
    "plt.scatter(Above_The_Break_3_RC_made_1.LOC_X, Above_The_Break_3_RC_made_1.LOC_Y,label='Kelsey Mitchell', color=\"gold\")\n",
    "plt.scatter(Above_The_Break_3_RC_made_2.LOC_X, Above_The_Break_3_RC_made_2.LOC_Y,label='Julie Allemand', color=\"crimson\")\n",
    "plt.scatter(Above_The_Break_3_center_made.LOC_X, Above_The_Break_3_center_made.LOC_Y,label='Kelsey Mitchell', color=\"gold\")\n",
    "plt.xlim(-300,300)\n",
    "plt.ylim(-100,500)\n",
    "plt.legend(loc='upper right')\n",
    "plt.show()\n"
   ]
  },
  {
   "cell_type": "code",
   "execution_count": 37,
   "metadata": {},
   "outputs": [],
   "source": [
    "import plotly.graph_objects as go\n",
    "def draw_plotly_court(fig, fig_width=600, margins=10):\n",
    "\n",
    "    import numpy as np\n",
    "\n",
    "    # From: https://community.plot.ly/t/arc-shape-with-path/7205/5\n",
    "    def ellipse_arc(x_center=0.0, y_center=0.0, a=10.5, b=10.5, start_angle=0.0, end_angle=2 * np.pi, N=200, closed=False):\n",
    "        t = np.linspace(start_angle, end_angle, N)\n",
    "        x = x_center + a * np.cos(t)\n",
    "        y = y_center + b * np.sin(t)\n",
    "        path = f'M {x[0]}, {y[0]}'\n",
    "        for k in range(1, len(t)):\n",
    "            path += f'L{x[k]}, {y[k]}'\n",
    "        if closed:\n",
    "            path += ' Z'\n",
    "        return path\n",
    "\n",
    "    fig_height = fig_width * (470 + 2 * margins) / (500 + 2 * margins)\n",
    "    fig.update_layout(width=fig_width, height=fig_height)\n",
    "\n",
    "    # Set axes ranges\n",
    "    fig.update_xaxes(range=[-250 - margins, 250 + margins])\n",
    "    fig.update_yaxes(range=[-52.5 - margins, 417.5 + margins])\n",
    "\n",
    "    threept_break_y = 89.47765084\n",
    "    three_line_col = \"#fa4d00\"\n",
    "    main_line_col = \"#fa4d00\"\n",
    "\n",
    "    fig.update_layout(\n",
    "        # Line Horizontal\n",
    "        margin=dict(l=20, r=20, t=20, b=20),\n",
    "        paper_bgcolor='rgb(102,102,102)',\n",
    "        plot_bgcolor='rgb(102,102,102)',\n",
    "        yaxis=dict(\n",
    "            scaleanchor=\"x\",\n",
    "            scaleratio=1,\n",
    "            showgrid=False,\n",
    "            zeroline=False,\n",
    "            showline=False,\n",
    "            ticks='',\n",
    "            showticklabels=False,\n",
    "            fixedrange=True,\n",
    "        ),\n",
    "        xaxis=dict(\n",
    "            showgrid=False,\n",
    "            zeroline=False,\n",
    "            showline=False,\n",
    "            ticks='',\n",
    "            showticklabels=False,\n",
    "            fixedrange=True,\n",
    "        ),\n",
    "        shapes=[\n",
    "            dict(\n",
    "                type=\"rect\", x0=-250, y0=-52.5, x1=250, y1=417.5,\n",
    "                line=dict(color=main_line_col, width=1),\n",
    "                # fillcolor='#333333',\n",
    "                layer='below'\n",
    "            ),\n",
    "            dict(\n",
    "                type=\"rect\", x0=-80, y0=-52.5, x1=80, y1=137.5,\n",
    "                line=dict(color=main_line_col, width=1),\n",
    "                # fillcolor='#333333',\n",
    "                layer='below'\n",
    "            ),\n",
    "            dict(\n",
    "                type=\"rect\", x0=-60, y0=-52.5, x1=60, y1=137.5,\n",
    "                line=dict(color=main_line_col, width=1),\n",
    "                # fillcolor='#333333',\n",
    "                layer='below'\n",
    "            ),\n",
    "            dict(\n",
    "                type=\"circle\", x0=-60, y0=77.5, x1=60, y1=197.5, xref=\"x\", yref=\"y\",\n",
    "                line=dict(color=main_line_col, width=1),\n",
    "                # fillcolor='#dddddd',\n",
    "                layer='below'\n",
    "            ),\n",
    "            dict(\n",
    "                type=\"line\", x0=-60, y0=137.5, x1=60, y1=137.5,\n",
    "                line=dict(color=main_line_col, width=1),\n",
    "                layer='below'\n",
    "            ),\n",
    "\n",
    "            dict(\n",
    "                type=\"rect\", x0=-2, y0=-7.25, x1=2, y1=-12.5,\n",
    "                line=dict(color=\"#ec7607\", width=1),\n",
    "                fillcolor='#ec7607',\n",
    "            ),\n",
    "            dict(\n",
    "                type=\"circle\", x0=-7.5, y0=-7.5, x1=7.5, y1=7.5, xref=\"x\", yref=\"y\",\n",
    "                line=dict(color=\"#ec7607\", width=1),\n",
    "            ),\n",
    "            dict(\n",
    "                type=\"line\", x0=-30, y0=-12.5, x1=30, y1=-12.5,\n",
    "                line=dict(color=\"#ec7607\", width=1),\n",
    "            ),\n",
    "\n",
    "            dict(type=\"path\",\n",
    "                 path=ellipse_arc(a=40, b=40, start_angle=0, end_angle=np.pi),\n",
    "                 line=dict(color=main_line_col, width=1), layer='below'),\n",
    "            dict(type=\"path\",\n",
    "                 path=ellipse_arc(a=237.5, b=237.5, start_angle=0.386283101, end_angle=np.pi - 0.386283101),\n",
    "                 line=dict(color=main_line_col, width=1), layer='below'),\n",
    "            dict(\n",
    "                type=\"line\", x0=-220, y0=-52.5, x1=-220, y1=threept_break_y,\n",
    "                line=dict(color=three_line_col, width=1), layer='below'\n",
    "            ),\n",
    "            dict(\n",
    "                type=\"line\", x0=-220, y0=-52.5, x1=-220, y1=threept_break_y,\n",
    "                line=dict(color=three_line_col, width=1), layer='below'\n",
    "            ),\n",
    "            dict(\n",
    "                type=\"line\", x0=220, y0=-52.5, x1=220, y1=threept_break_y,\n",
    "                line=dict(color=three_line_col, width=1), layer='below'\n",
    "            ),\n",
    "\n",
    "            dict(\n",
    "                type=\"line\", x0=-250, y0=227.5, x1=-220, y1=227.5,\n",
    "                line=dict(color=main_line_col, width=1), layer='below'\n",
    "            ),\n",
    "            dict(\n",
    "                type=\"line\", x0=250, y0=227.5, x1=220, y1=227.5,\n",
    "                line=dict(color=main_line_col, width=1), layer='below'\n",
    "            ),\n",
    "            dict(\n",
    "                type=\"line\", x0=-90, y0=17.5, x1=-80, y1=17.5,\n",
    "                line=dict(color=main_line_col, width=1), layer='below'\n",
    "            ),\n",
    "            dict(\n",
    "                type=\"line\", x0=-90, y0=27.5, x1=-80, y1=27.5,\n",
    "                line=dict(color=main_line_col, width=1), layer='below'\n",
    "            ),\n",
    "            dict(\n",
    "                type=\"line\", x0=-90, y0=57.5, x1=-80, y1=57.5,\n",
    "                line=dict(color=main_line_col, width=1), layer='below'\n",
    "            ),\n",
    "            dict(\n",
    "                type=\"line\", x0=-90, y0=87.5, x1=-80, y1=87.5,\n",
    "                line=dict(color=main_line_col, width=1), layer='below'\n",
    "            ),\n",
    "            dict(\n",
    "                type=\"line\", x0=90, y0=17.5, x1=80, y1=17.5,\n",
    "                line=dict(color=main_line_col, width=1), layer='below'\n",
    "            ),\n",
    "            dict(\n",
    "                type=\"line\", x0=90, y0=27.5, x1=80, y1=27.5,\n",
    "                line=dict(color=main_line_col, width=1), layer='below'\n",
    "            ),\n",
    "            dict(\n",
    "                type=\"line\", x0=90, y0=57.5, x1=80, y1=57.5,\n",
    "                line=dict(color=main_line_col, width=1), layer='below'\n",
    "            ),\n",
    "            dict(\n",
    "                type=\"line\", x0=90, y0=87.5, x1=80, y1=87.5,\n",
    "                line=dict(color=main_line_col, width=1), layer='below'\n",
    "            ),\n",
    "            dict(type=\"path\",\n",
    "                 path=ellipse_arc(y_center=417.5, a=60, b=60, start_angle=-0, end_angle=-np.pi),\n",
    "                 line=dict(color=main_line_col, width=1), layer='below'),\n",
    "        \n",
    "            dict(\n",
    "                type= 'line',\n",
    "                yref= 'y', y0=170, y1= 250,\n",
    "                xref= 'x', x0=140, x1= 200, \n",
    "                line=(dict(color=main_line_col, width=1))\n",
    "            ),\n",
    "             dict(\n",
    "                type= 'line',\n",
    "                yref= 'y', y0=170, y1= 250,\n",
    "                xref= 'x', x0=140, x1= 200, \n",
    "                line=(dict(color=main_line_col, width=1))\n",
    "            ),\n",
    "\n",
    "        ]\n",
    "    )\n",
    "    return True\n"
   ]
  },
  {
   "cell_type": "code",
   "execution_count": 104,
   "metadata": {},
   "outputs": [
    {
     "data": {
      "application/vnd.plotly.v1+json": {
       "config": {
        "plotlyServerURL": "https://plot.ly"
       },
       "data": [],
       "layout": {
        "annotations": [
         {
          "showarrow": false,
          "text": "Jewell Lloyd",
          "x": 0.015,
          "xref": "paper",
          "y": -0.01,
          "yref": "paper"
         },
         {
          "showarrow": false,
          "text": "Candice Dupree",
          "x": 0.17,
          "xref": "paper",
          "y": 0.1,
          "yref": "paper"
         },
         {
          "showarrow": false,
          "text": "Arike Ogunbowale",
          "x": 0.029,
          "xref": "paper",
          "y": 0.46,
          "yref": "paper"
         },
         {
          "showarrow": false,
          "text": "Courtney Williams",
          "x": 0.21,
          "xref": "paper",
          "y": 0.36,
          "yref": "paper"
         },
         {
          "showarrow": false,
          "text": "Kelsey Mitchell",
          "x": 0.5,
          "xref": "paper",
          "y": 0.61,
          "yref": "paper"
         },
         {
          "showarrow": false,
          "text": "Kayla McBride",
          "x": 0.5,
          "xref": "paper",
          "y": 0.41,
          "yref": "paper"
         },
         {
          "showarrow": false,
          "text": "Alyssa Thomas",
          "x": 0.5,
          "xref": "paper",
          "y": 0.215,
          "yref": "paper"
         },
         {
          "showarrow": false,
          "text": "Dearica Hamby",
          "x": 0.42,
          "xref": "paper",
          "y": 0.04,
          "yref": "paper"
         },
         {
          "showarrow": false,
          "text": "Brionna Jones",
          "x": 0.58,
          "xref": "paper",
          "y": 0.04,
          "yref": "paper"
         },
         {
          "showarrow": false,
          "text": "Courtney Williams",
          "x": 0.77,
          "xref": "paper",
          "y": 0.36,
          "yref": "paper"
         },
         {
          "showarrow": false,
          "text": "Courtney Williams",
          "x": 0.85,
          "xref": "paper",
          "y": 0.1,
          "yref": "paper"
         },
         {
          "showarrow": false,
          "text": "Kelsey Mitchell",
          "x": 0.82,
          "xref": "paper",
          "y": 0.56,
          "yref": "paper"
         },
         {
          "showarrow": false,
          "text": "Julie Allemand",
          "x": 0.95,
          "xref": "paper",
          "y": 0.42,
          "yref": "paper"
         },
         {
          "showarrow": false,
          "text": "Satou Sabally",
          "x": 1,
          "xref": "paper",
          "y": -0.01,
          "yref": "paper"
         },
         {
          "showarrow": false,
          "text": "Created by @stewart_lil_productions",
          "x": 0.98,
          "xref": "paper",
          "y": 0.92,
          "yref": "paper"
         }
        ],
        "font": {
         "color": "White",
         "family": "Arial, Tahoma, Helvetica",
         "size": 10
        },
        "height": 565.3846153846154,
        "images": [
         {
          "layer": "above",
          "opacity": 1,
          "sizex": 80,
          "sizey": 80,
          "sizing": "stretch",
          "source": "https://ak-static.cms.nba.com/wp-content/uploads/headshots/wnba/204319.png",
          "x": -270,
          "xanchor": "left",
          "xref": "x",
          "y": 30,
          "yanchor": "top",
          "yref": "y"
         },
         {
          "layer": "above",
          "opacity": 1,
          "sizex": 80,
          "sizey": 80,
          "sizing": "stretch",
          "source": "https://ak-static.cms.nba.com/wp-content/uploads/headshots/wnba/200676.png",
          "x": -175,
          "xanchor": "left",
          "xref": "x",
          "y": 80,
          "yanchor": "top",
          "yref": "y"
         },
         {
          "layer": "above",
          "opacity": 1,
          "sizex": 80,
          "sizey": 80,
          "sizing": "stretch",
          "source": "https://ak-static.cms.nba.com/wp-content/uploads/headshots/wnba/1629481.png",
          "x": -250,
          "xanchor": "left",
          "xref": "x",
          "y": 250,
          "yanchor": "top",
          "yref": "y"
         },
         {
          "layer": "above",
          "opacity": 1,
          "sizex": 80,
          "sizey": 80,
          "sizing": "stretch",
          "source": "https://ak-static.cms.nba.com/wp-content/uploads/headshots/wnba/1627675.png",
          "x": -150,
          "xanchor": "left",
          "xref": "x",
          "y": 200,
          "yanchor": "top",
          "yref": "y"
         },
         {
          "layer": "above",
          "opacity": 1,
          "sizex": 80,
          "sizey": 80,
          "sizing": "stretch",
          "source": "https://ak-static.cms.nba.com/wp-content/uploads/headshots/wnba/1628909.png",
          "x": -40,
          "xanchor": "left",
          "xref": "x",
          "y": 325,
          "yanchor": "top",
          "yref": "y"
         },
         {
          "layer": "above",
          "opacity": 1,
          "sizex": 80,
          "sizey": 80,
          "sizing": "stretch",
          "source": "https://ak-static.cms.nba.com/wp-content/uploads/headshots/wnba/203825.png",
          "x": -40,
          "xanchor": "left",
          "xref": "x",
          "y": 225,
          "yanchor": "top",
          "yref": "y"
         },
         {
          "layer": "above",
          "opacity": 1,
          "sizex": 80,
          "sizey": 80,
          "sizing": "stretch",
          "source": "https://ak-static.cms.nba.com/wp-content/uploads/headshots/wnba/203826.png",
          "x": -40,
          "xanchor": "left",
          "xref": "x",
          "y": 135,
          "yanchor": "top",
          "yref": "y"
         },
         {
          "layer": "above",
          "opacity": 1,
          "sizex": 80,
          "sizey": 80,
          "sizing": "stretch",
          "source": "https://ak-static.cms.nba.com/wp-content/uploads/headshots/wnba/204324.png",
          "x": -75,
          "xanchor": "left",
          "xref": "x",
          "y": 50,
          "yanchor": "top",
          "yref": "y"
         },
         {
          "layer": "above",
          "opacity": 1,
          "sizex": 80,
          "sizey": 80,
          "sizing": "stretch",
          "source": "https://ak-static.cms.nba.com/wp-content/uploads/headshots/wnba/1628280.png",
          "x": 0,
          "xanchor": "left",
          "xref": "x",
          "y": 50,
          "yanchor": "top",
          "yref": "y"
         },
         {
          "layer": "above",
          "opacity": 1,
          "sizex": 80,
          "sizey": 80,
          "sizing": "stretch",
          "source": "https://ak-static.cms.nba.com/wp-content/uploads/headshots/wnba/1627700.png",
          "x": 160,
          "xanchor": "left",
          "xref": "x",
          "y": 231,
          "yanchor": "top",
          "yref": "y"
         },
         {
          "layer": "above",
          "opacity": 1,
          "sizex": 80,
          "sizey": 80,
          "sizing": "stretch",
          "source": "https://ak-static.cms.nba.com/wp-content/uploads/headshots/wnba/1628909.png",
          "x": 90,
          "xanchor": "left",
          "xref": "x",
          "y": 300,
          "yanchor": "top",
          "yref": "y"
         },
         {
          "layer": "above",
          "opacity": 1,
          "sizex": 80,
          "sizey": 80,
          "sizing": "stretch",
          "source": "https://ak-static.cms.nba.com/wp-content/uploads/headshots/wnba/1627675.png",
          "x": 60,
          "xanchor": "left",
          "xref": "x",
          "y": 200,
          "yanchor": "top",
          "yref": "y"
         },
         {
          "layer": "above",
          "opacity": 1,
          "sizex": 80,
          "sizey": 80,
          "sizing": "stretch",
          "source": "https://ak-static.cms.nba.com/wp-content/uploads/headshots/wnba/1627675.png",
          "x": 100,
          "xanchor": "left",
          "xref": "x",
          "y": 80,
          "yanchor": "top",
          "yref": "y"
         },
         {
          "layer": "above",
          "opacity": 1,
          "sizex": 80,
          "sizey": 80,
          "sizing": "stretch",
          "source": "https://ak-static.cms.nba.com/wp-content/uploads/headshots/wnba/1630149.png",
          "x": 195,
          "xanchor": "left",
          "xref": "x",
          "y": 30,
          "yanchor": "top",
          "yref": "y"
         },
         {
          "layer": "above",
          "opacity": 1,
          "sizex": 150,
          "sizey": 100,
          "sizing": "stretch",
          "source": "data:image/png;base64,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",
          "x": -250,
          "xanchor": "left",
          "xref": "x",
          "y": 415,
          "yanchor": "top",
          "yref": "y"
         }
        ],
        "margin": {
         "b": 20,
         "l": 20,
         "r": 20,
         "t": 20
        },
        "paper_bgcolor": "rgb(102,102,102)",
        "plot_bgcolor": "rgb(102,102,102)",
        "shapes": [
         {
          "layer": "below",
          "line": {
           "color": "#fa4d00",
           "width": 1
          },
          "type": "rect",
          "x0": -250,
          "x1": 250,
          "y0": -52.5,
          "y1": 417.5
         },
         {
          "layer": "below",
          "line": {
           "color": "#fa4d00",
           "width": 1
          },
          "type": "rect",
          "x0": -80,
          "x1": 80,
          "y0": -52.5,
          "y1": 137.5
         },
         {
          "layer": "below",
          "line": {
           "color": "#fa4d00",
           "width": 1
          },
          "type": "rect",
          "x0": -60,
          "x1": 60,
          "y0": -52.5,
          "y1": 137.5
         },
         {
          "layer": "below",
          "line": {
           "color": "#fa4d00",
           "width": 1
          },
          "type": "circle",
          "x0": -60,
          "x1": 60,
          "xref": "x",
          "y0": 77.5,
          "y1": 197.5,
          "yref": "y"
         },
         {
          "layer": "below",
          "line": {
           "color": "#fa4d00",
           "width": 1
          },
          "type": "line",
          "x0": -60,
          "x1": 60,
          "y0": 137.5,
          "y1": 137.5
         },
         {
          "fillcolor": "#ec7607",
          "line": {
           "color": "#ec7607",
           "width": 1
          },
          "type": "rect",
          "x0": -2,
          "x1": 2,
          "y0": -7.25,
          "y1": -12.5
         },
         {
          "line": {
           "color": "#ec7607",
           "width": 1
          },
          "type": "circle",
          "x0": -7.5,
          "x1": 7.5,
          "xref": "x",
          "y0": -7.5,
          "y1": 7.5,
          "yref": "y"
         },
         {
          "line": {
           "color": "#ec7607",
           "width": 1
          },
          "type": "line",
          "x0": -30,
          "x1": 30,
          "y0": -12.5,
          "y1": -12.5
         },
         {
          "layer": "below",
          "line": {
           "color": "#fa4d00",
           "width": 1
          },
          "path": "M 40.0, 0.0L39.995015580706294, 0.6314496805454785L39.980063565046954, 1.262741990592421L39.955147679377745, 1.8937195988623197L39.92027413325974, 2.524225252506946L39.87545161791173, 3.1541018162990584L39.82069130404424, 3.7831923117937976L39.75600683907551, 4.411339956451001L39.68141434373031, 5.038388202708703L39.59693240802228, 5.664180776998066L39.50258208662095, 6.2885617186900316L39.39838689360442, 6.911375418963981L39.284372796599214, 7.532466659588715L39.16056821030858, 8.151680651606085L39.027003989430945, 8.768863073907653L38.88371342097028, 9.383860111694748L38.730732215940286, 9.996518494812335L38.568098500464465, 10.606685535947147L38.39585280627428, 11.214209168680577L38.21403806060779, 11.818937985386802L38.02269957551132, 12.420721274966752L37.82188503654668, 13.019409060408469L37.611644490907025, 13.614852136164512L37.39203033494393, 14.206902105337136L37.163097301109225, 14.795411416661873L36.92490244431443, 15.380233401280435L36.677505127711555, 15.961222309293639L36.42096700789849, 16.538233346085363L36.15535201955294, 17.111122708408384L35.88072635949854, 17.679747620223164L35.59715847020721, 18.24396636828064L35.30471902274188, 18.80363833744012L35.003480899143746, 19.35862404571355L34.69351917426859, 19.908785179027323L34.37491109707648, 20.453984625693067L34.04773607137979, 20.994086510578732L33.712075636054024, 21.528956228971545L33.3680134447167, 22.058460480124296L33.01563524487905, 22.582467300476722L32.65502885657596, 23.100846096543542L32.28628415047942, 23.613467677461134L31.909493025500772, 24.12020428718458L31.52474938588769, 24.62092963632717L31.132149117821196, 25.115518933634334L30.73179006551883, 25.603848917084285L30.32377200684982, 26.085797884607466L29.90819662846836, 26.561245724417248L29.485167500471157, 27.03007394494435L29.054790050585577, 27.49216570436737L28.61717153789485, 27.94740583973226L28.172421026106885, 28.39568089565331L27.720649356373272, 28.83687915258865L27.261969119665352, 29.27089065468307L26.796494628714207, 29.697607237171326L26.324341889521506, 30.11692255333508L25.84562857244839, 30.52873210100674L25.360473982889545, 30.932933248613562L24.86899903153981, 31.329425260755613L24.37132620426067, 31.718109323311143L23.86757953155424, 32.09888856806312L23.357884557652255, 32.47166809684083L22.842368309227794, 32.8363550051705L22.321159263737613, 33.19285840542903L21.79438731740282, 33.5410894494951L21.262183752836062, 33.88096135089195L20.7246812063231, 34.21238940641647L20.182013634767102, 34.53529101724893L19.634316282303747, 34.84958570953838L19.081725646595583, 35.15519515445841L18.524379444813913, 35.45204318772835L17.962416579316805, 35.74005582859496L17.395977103031722, 36.01916129827006L16.825202184551365, 36.289290037819256L16.25023407295156, 36.55037472549747L15.671216062339726, 36.802350293526985L15.08829245614304, 37.04515394431365L14.501608531144981, 37.278725166097395L13.9113105012793, 37.503005748033004L13.317545481190443, 37.71793979469748L12.720461449569529, 37.923473740020384L12.12020721227491, 38.11955636063357L11.51693236524666, 38.306138788637185L10.91078725722413, 38.483174523778516L10.301922952275863, 38.650619445040874L9.690491192151326, 38.80843182163945L9.076644358463605, 38.95657232342151L8.460535434712762, 39.095004030668285L7.842317968159125, 39.223692443296166L7.222146031556092, 39.3426054894548L6.600174184751969, 39.451713533520106L5.976557436170438, 39.5509893834801L5.351451204179166, 39.64040829771169L4.725011278356322, 39.71994799114678L4.097393780664536, 39.789588640826274L3.4687551265420287, 39.84931289084027L2.8392519859206358, 39.89910585665355L2.2090412441803267, 39.93895512881515L1.578279963050113, 39.96885077605103L0.9471253414649641, 39.98878534773912L0.3157346763885285, 39.998753875766255L-0.3157346763885325, 39.998753875766255L-0.9471253414649592, 39.98878534773912L-1.5782799630501079, 39.96885077605103L-2.2090412441803218, 39.93895512881515L-2.83925198592064, 39.89910585665355L-3.468755126542033, 39.84931289084027L-4.0973937806645315, 39.789588640826274L-4.725011278356318, 39.71994799114678L-5.3514512041791615, 39.64040829771169L-5.976557436170433, 39.5509893834801L-6.600174184751974, 39.451713533520106L-7.222146031556088, 39.3426054894548L-7.84231796815912, 39.223692443296166L-8.460535434712758, 39.095004030668285L-9.076644358463602, 38.95657232342151L-9.690491192151331, 38.808431821639445L-10.301922952275868, 38.650619445040874L-10.910787257224124, 38.483174523778516L-11.516932365246657, 38.306138788637185L-12.120207212274906, 38.119556360633574L-12.720461449569525, 37.923473740020384L-13.317545481190447, 37.71793979469748L-13.911310501279296, 37.503005748033004L-14.501608531144978, 37.278725166097395L-15.088292456143037, 37.045153944313654L-15.67121606233972, 36.802350293526985L-16.25023407295156, 36.55037472549746L-16.82520218455136, 36.289290037819256L-17.39597710303172, 36.01916129827006L-17.962416579316812, 35.74005582859496L-18.524379444813906, 35.45204318772835L-19.081725646595586, 35.15519515445841L-19.63431628230374, 34.84958570953839L-20.182013634767095, 34.53529101724894L-20.7246812063231, 34.21238940641647L-21.26218375283605, 33.88096135089196L-21.79438731740282, 33.5410894494951L-22.3211592637376, 33.192858405429035L-22.84236830922779, 32.8363550051705L-23.357884557652255, 32.47166809684083L-23.867579531554235, 32.098888568063124L-24.37132620426067, 31.718109323311143L-24.8689990315398, 31.32942526075562L-25.360473982889545, 30.932933248613566L-25.845628572448398, 30.52873210100674L-26.324341889521502, 30.116922553335087L-26.796494628714207, 29.697607237171326L-27.261969119665345, 29.27089065468308L-27.720649356373272, 28.836879152588658L-28.17242102610688, 28.39568089565332L-28.617171537894848, 27.947405839732262L-29.054790050585577, 27.492165704367366L-29.485167500471157, 27.030073944944352L-29.90819662846836, 26.561245724417248L-30.323772006849815, 26.085797884607473L-30.731790065518826, 25.60384891708429L-31.1321491178212, 25.115518933634334L-31.52474938588769, 24.620929636327173L-31.909493025500772, 24.12020428718458L-32.28628415047941, 23.613467677461145L-32.65502885657596, 23.100846096543542L-33.01563524487905, 22.58246730047672L-33.368013444716695, 22.058460480124303L-33.712075636054024, 21.528956228971538L-34.047736071379774, 20.99408651057874L-34.37491109707648, 20.453984625693067L-34.69351917426859, 19.90878517902732L-35.003480899143746, 19.358624045713555L-35.30471902274188, 18.80363833744012L-35.597158470207205, 18.243966368280645L-35.88072635949854, 17.679747620223164L-36.15535201955294, 17.111122708408377L-36.42096700789849, 16.538233346085367L-36.677505127711555, 15.961222309293635L-36.92490244431443, 15.380233401280439L-37.163097301109225, 14.795411416661873L-37.392030334943925, 14.206902105337145L-37.611644490907025, 13.614852136164517L-37.82188503654668, 13.019409060408464L-38.02269957551131, 12.420721274966759L-38.21403806060779, 11.818937985386802L-38.39585280627428, 11.214209168680584L-38.568098500464465, 10.606685535947149L-38.73073221594029, 9.99651849481233L-38.88371342097028, 9.383860111694753L-39.027003989430945, 8.768863073907653L-39.160568210308575, 8.151680651606094L-39.284372796599214, 7.532466659588717L-39.39838689360442, 6.911375418963976L-39.50258208662095, 6.288561718690037L-39.59693240802228, 5.664180776998063L-39.68141434373031, 5.0383882027087115L-39.75600683907551, 4.411339956451003L-39.82069130404424, 3.7831923117937927L-39.87545161791173, 3.154101816299064L-39.92027413325974, 2.524225252506944L-39.955147679377745, 1.893719598862328L-39.980063565046954, 1.2627419905924229L-39.995015580706294, 0.6314496805454728L-40.0, 4.898587196589413e-15",
          "type": "path"
         },
         {
          "layer": "below",
          "line": {
           "color": "#fa4d00",
           "width": 1
          },
          "path": "M 220.00000002647042, 89.47765077578319L218.91923546938534, 92.09027278437074L217.80744586439718, 94.68984383780392L216.6647887733834, 97.27599552708344L215.4914261327353, 99.84836134499089L214.2875242304087, 102.40657673802988L213.05325368235742, 104.95027915809018L211.78878940835403, 107.47910811382769L210.49431060720033, 109.99270522175311L209.17000073133127, 112.4907142570216L207.81604746081638, 114.97278120391675L206.43264267676193, 117.43855430602136L205.01998243411757, 119.88768411606807L203.5782669338917, 122.31982354546268L202.10770049477918, 124.7346279134733L200.60849152420525, 127.13175499607823L199.0808524887905, 129.51086507446564L197.52499988424003, 131.8716209831781L195.941154204662, 134.21368815789566L194.32953991131944, 136.53673468284975L192.6903854008196, 138.84043133786213L191.02392297274588, 141.12445164500178L189.33038879673668, 143.3884719148528L187.6100228790154, 145.6321712923876L185.86306902837697, 147.85523180243834L184.08977482163576, 150.05733839475977L182.2903915685389, 152.23817898867804L180.46517427615095, 154.3974445173186L178.6143816127146, 156.53482897140674L176.73827587099245, 158.65002944263506L174.8371229310949, 160.74274616659133L172.91119222280005, 162.8126825652409L170.96075668737024, 164.85954528895738L168.98609273887115, 166.88304425809602L166.98748022499842, 168.8828927041036L164.96520238741815, 170.8588072101587L162.91954582162592, 172.81050775133767L160.85080043633076, 174.73771773429942L158.75925941236963, 176.64016403648384L156.6452191611581, 178.51757704481864L154.50897928268287, 180.36969069392862L152.3508425230431, 182.19624250384234L150.17111473154534, 183.99697361719035L147.97010481735873, 185.77162883589054L145.7481247057368, 187.5199566573142L143.50548929381168, 189.24170930992912L141.2425164059669, 190.9366427884134L138.95952674879595, 192.6045168882357L136.6568438656519, 194.24509523969672L134.33479409079484, 195.85814534142753L131.99370650314452, 197.44343859333932L129.6339128796432, 199.00075032902032L127.25574764823666, 200.52985984757558L124.8595478404793, 202.0305504449044L122.44565304377043, 203.50260944441126L120.0144053532281, 204.94582822714654L117.56614932320764, 206.36000226137148L115.10123191847198, 207.7449311315444L112.6200024650197, 209.10041856672348L110.12281260057917, 210.42627246838197L107.61001622477467, 211.72230493763226L105.08196944897188, 212.98833230185485L102.53903054581022, 214.22417514072822L99.98155989842888, 215.42965831165606L97.40991994939336, 216.60461097458838L94.82447514933048, 217.74886661623293L92.225591905279, 218.8622630736531L89.6136385287624, 219.94464255724964L86.98898518359216, 220.99585167312253L84.35200383340874, 222.0157414448097L81.70306818896678, 223.00416733439994L79.04255365517345, 223.96098926301656L76.37083727788615, 224.88607163066956L73.68829769047824, 225.77928333547226L70.99531506017897, 226.64049779222142L68.29227103419686, 227.46959295033656L65.57954868563291, 228.26645131115677L62.857532459191745, 229.03095994459278L60.12660811669832, 229.76301050513112L57.38716268242849, 230.46249924718876L54.63958438825976, 231.12932703981605L51.88426261865167, 231.76339938074514L49.12158785546265, 232.36462640978309L46.35195162261098, 232.93292292154652L43.575746430588495, 233.46820837753705L40.79336572083451, 233.97040691755495L38.00520380997721, 234.4394473704502L35.21165583395196, 234.87526326420863L32.41311769200248, 235.27779283537237L29.609985990574604, 235.64697903779282L26.80265798710965, 235.98276955071535L23.991531533745142, 236.28511678619392L21.177005020931734, 236.55397789583552L18.35947732097358, 236.78931477687217L15.53934773150066, 236.99109407756129L12.717015918880387, 237.15928720191192L9.892881861577349, 237.2938703137375L7.067345793468887, 237.3948243400339L4.240808147123958, 237.46213497368225L1.4136694970543364, 237.49579267547688L-1.4136694970543073, 237.49579267547688L-4.240808147123875, 237.46213497368225L-7.067345793468856, 237.3948243400339L-9.892881861577319, 237.2938703137375L-12.717015918880303, 237.15928720191192L-15.539347731500634, 236.99109407756129L-18.35947732097355, 236.78931477687217L-21.177005020931656, 236.55397789583552L-23.991531533745114, 236.28511678619392L-26.802657987109626, 235.98276955071537L-29.60998599057458, 235.64697903779282L-32.41311769200245, 235.27779283537237L-35.21165583395193, 234.87526326420863L-38.00520380997718, 234.4394473704502L-40.79336572083448, 233.97040691755495L-43.575746430588474, 233.46820837753705L-46.351951622610905, 232.93292292154655L-49.12158785546257, 232.36462640978309L-51.88426261865165, 231.76339938074514L-54.639584388259685, 231.12932703981605L-57.38716268242841, 230.4624992471888L-60.12660811669829, 229.76301050513112L-62.85753245919166, 229.0309599445928L-65.57954868563284, 228.26645131115677L-68.29227103419683, 227.46959295033656L-70.9953150601789, 226.64049779222145L-73.68829769047815, 225.7792833354723L-76.37083727788612, 224.88607163066956L-79.04255365517338, 223.9609892630166L-81.70306818896672, 223.00416733439997L-84.35200383340872, 222.01574144480972L-86.98898518359213, 220.99585167312256L-89.61363852876232, 219.94464255724967L-92.22559190527899, 218.8622630736531L-94.82447514933045, 217.74886661623293L-97.4099199493933, 216.6046109745884L-99.98155989842887, 215.42965831165606L-102.5390305458102, 214.22417514072825L-105.0819694489718, 212.98833230185485L-107.61001622477458, 211.7223049376323L-110.1228126005791, 210.426272468382L-112.62000246501958, 209.10041856672353L-115.10123191847184, 207.7449311315445L-117.5661493232076, 206.3600022613715L-120.014405353228, 204.9458282271466L-122.44565304377035, 203.50260944441135L-124.8595478404792, 202.03055044490446L-127.25574764823654, 200.5298598475757L-129.63391287964305, 199.00075032902038L-131.99370650314447, 197.44343859333935L-134.3347940907948, 195.8581453414276L-136.65684386565178, 194.24509523969678L-138.95952674879587, 192.60451688823574L-141.24251640596677, 190.93664278841348L-143.50548929381154, 189.24170930992918L-145.74812470573679, 187.5199566573142L-147.97010481735867, 185.77162883589054L-150.1711147315453, 183.99697361719043L-152.350842523043, 182.1962425038424L-154.50897928268276, 180.36969069392873L-156.64521916115797, 178.51757704481875L-158.7592594123696, 176.64016403648387L-160.8508004363307, 174.7377177342995L-162.91954582162583, 172.81050775133772L-164.96520238741806, 170.85880721015874L-166.98748022499834, 168.88289270410365L-168.98609273887106, 166.88304425809613L-170.96075668737015, 164.85954528895746L-172.91119222280003, 162.81268256524092L-174.83712293109485, 160.74274616659136L-176.7382758709924, 158.65002944263512L-178.61438161271457, 156.5348289714068L-180.46517427615095, 154.3974445173186L-182.29039156853887, 152.23817898867807L-184.08977482163573, 150.0573383947598L-185.86306902837694, 147.8552318024384L-187.61002287901533, 145.63217129238768L-189.33038879673663, 143.38847191485286L-191.02392297274588, 141.12445164500178L-192.69038540081957, 138.84043133786216L-194.32953991131942, 136.53673468284978L-195.94115420466198, 134.2136881578957L-197.52499988424, 131.87162098317816L-199.08085248879044, 129.5108650744657L-200.6084915242052, 127.13175499607834L-202.10770049477918, 124.73462791347333L-203.5782669338917, 122.31982354546271L-205.01998243411757, 119.88768411606813L-206.43264267676187, 117.43855430602143L-207.81604746081632, 114.97278120391684L-209.1700007313312, 112.4907142570217L-210.49431060720033, 109.99270522175313L-211.78878940835403, 107.47910811382772L-213.0532536823574, 104.95027915809023L-214.28752423040868, 102.40657673802995L-215.49142613273528, 99.84836134499096L-216.66478877338335, 97.27599552708351L-217.80744586439718, 94.68984383780392L-218.91923546938534, 92.09027278437077L-220.00000002647042, 89.47765077578323",
          "type": "path"
         },
         {
          "layer": "below",
          "line": {
           "color": "#fa4d00",
           "width": 1
          },
          "type": "line",
          "x0": -220,
          "x1": -220,
          "y0": -52.5,
          "y1": 89.47765084
         },
         {
          "layer": "below",
          "line": {
           "color": "#fa4d00",
           "width": 1
          },
          "type": "line",
          "x0": -220,
          "x1": -220,
          "y0": -52.5,
          "y1": 89.47765084
         },
         {
          "layer": "below",
          "line": {
           "color": "#fa4d00",
           "width": 1
          },
          "type": "line",
          "x0": 220,
          "x1": 220,
          "y0": -52.5,
          "y1": 89.47765084
         },
         {
          "layer": "below",
          "line": {
           "color": "#fa4d00",
           "width": 1
          },
          "type": "line",
          "x0": -250,
          "x1": -220,
          "y0": 227.5,
          "y1": 227.5
         },
         {
          "layer": "below",
          "line": {
           "color": "#fa4d00",
           "width": 1
          },
          "type": "line",
          "x0": 250,
          "x1": 220,
          "y0": 227.5,
          "y1": 227.5
         },
         {
          "layer": "below",
          "line": {
           "color": "#fa4d00",
           "width": 1
          },
          "type": "line",
          "x0": -90,
          "x1": -80,
          "y0": 17.5,
          "y1": 17.5
         },
         {
          "layer": "below",
          "line": {
           "color": "#fa4d00",
           "width": 1
          },
          "type": "line",
          "x0": -90,
          "x1": -80,
          "y0": 27.5,
          "y1": 27.5
         },
         {
          "layer": "below",
          "line": {
           "color": "#fa4d00",
           "width": 1
          },
          "type": "line",
          "x0": -90,
          "x1": -80,
          "y0": 57.5,
          "y1": 57.5
         },
         {
          "layer": "below",
          "line": {
           "color": "#fa4d00",
           "width": 1
          },
          "type": "line",
          "x0": -90,
          "x1": -80,
          "y0": 87.5,
          "y1": 87.5
         },
         {
          "layer": "below",
          "line": {
           "color": "#fa4d00",
           "width": 1
          },
          "type": "line",
          "x0": 90,
          "x1": 80,
          "y0": 17.5,
          "y1": 17.5
         },
         {
          "layer": "below",
          "line": {
           "color": "#fa4d00",
           "width": 1
          },
          "type": "line",
          "x0": 90,
          "x1": 80,
          "y0": 27.5,
          "y1": 27.5
         },
         {
          "layer": "below",
          "line": {
           "color": "#fa4d00",
           "width": 1
          },
          "type": "line",
          "x0": 90,
          "x1": 80,
          "y0": 57.5,
          "y1": 57.5
         },
         {
          "layer": "below",
          "line": {
           "color": "#fa4d00",
           "width": 1
          },
          "type": "line",
          "x0": 90,
          "x1": 80,
          "y0": 87.5,
          "y1": 87.5
         },
         {
          "layer": "below",
          "line": {
           "color": "#fa4d00",
           "width": 1
          },
          "path": "M 60.0, 417.5L59.99252337105944, 416.55282547918176L59.97009534757043, 415.6058870141114L59.93272151906661, 414.65942060170653L59.88041119988961, 413.71366212123957L59.81317742686759, 412.7688472755514L59.731036956066355, 411.8252115323093L59.634010258613266, 410.8829900653235L59.522121515595465, 409.94241769593697L59.395398612033425, 409.0037288345029L59.25387312993143, 408.06715742196496L59.09758034040663, 407.132936871554L58.92655919489882, 406.20130001061693L58.740852315462874, 405.27247902259086L58.540505984146414, 404.3467053891385L58.325570131455414, 403.4242098324579L58.09609832391043, 402.5052222577815L57.8521477506967, 401.58997169607926L57.59377920941142, 400.6786862469791L57.32105709091169, 399.7715930219198L57.03404936326697, 398.8689180875499L56.73282755482003, 397.9708864093873L56.41746673636054, 397.07772179575323L56.0880455024159, 396.1896468419943L55.744645951663834, 395.3068828750072L55.38735366647165, 394.42964989807933L55.016257691567326, 393.55816653605956L54.63145051184773, 392.692649980872L54.23302802932941, 391.8333159373874L53.82108953924781, 390.9803785696653L53.39573770531082, 390.13405044757906L52.95707853411282, 389.2945424938398L52.50522134871562, 388.46206393142967L52.04027876140288, 387.636822231459L51.562366645614716, 386.81902306146037L51.07160410706968, 386.0088702341319L50.568113454081036, 385.2065656565427L50.05202016707506, 384.41230927981354L49.523452867318575, 383.6262990492849L48.982543284863944, 382.84873085518467L48.42942622571912, 382.0797984838083L47.864239538251155, 381.31969356922315L47.28712407883154, 380.56860554550923L46.69822367673179, 379.8267215995485L46.09768509827825, 379.09422662437356L45.485658010274726, 378.3713031730888L44.86229494270254, 377.6581314133741L44.22775125070673, 376.95488908258346L43.582185075878364, 376.26175144344893L42.92575730684228, 375.5788912404016L42.258631539160326, 374.90647865652005L41.58097403455991, 374.24468127111703L40.89295367949803, 373.5936640179754L40.19474194307131, 372.953589144243L39.48651283428226, 372.3246161699974L38.768442858672586, 371.7069018484899L38.04071097433432, 371.10060012707964L37.303498547309715, 370.5058621088666L36.556989306391, 369.9228360150333L35.80136929733136, 369.35166714790535L35.03682683647838, 368.79249785473877L34.26355246384169, 368.24546749224425L33.48173889560642, 367.7107123918565L32.69158097610423, 367.1883658257574L31.89327562925409, 366.67855797366207L31.087021809484654, 366.1814158903753L30.273020452150657, 365.6970634741266L29.451474423455622, 365.2256214356924L28.622588469893373, 364.7672072683124L27.78656916722087, 364.3219352184075L26.94362486897521, 363.88991625710753L26.093965654547585, 363.4712580525949L25.23780327682705, 363.0660649432711L24.37535110942734, 362.6744379117538L23.50682409350959, 362.2964745597095L22.63243868421456, 361.93226908352955L21.752412796717472, 361.5819122508539L20.866965751918947, 361.2454913779505L19.976318221785665, 360.92309030795377L19.080692174354294, 360.6147893899694L18.180310818412366, 360.3206654590497L17.27539854786999, 360.04079181704424L16.366180885836194, 359.7752382143322L15.452884428413796, 359.52407083243867L14.53573678822699, 359.2873522675408L13.614966537695409, 359.0651415148677L12.690803152069144, 358.85749395399756L11.763476952238687, 358.66446133505576L10.833219047334138, 358.48609176581783L9.900261277127953, 358.3224296997198L8.964836154255657, 358.17351592477985L8.027176806268749, 358.03938755343245L7.087516917534483, 357.9200780132798L6.146090670996804, 357.8156170387606L5.203132689813043, 357.7260306637396L4.258877978880953, 357.65134121501967L3.31356186627049, 357.5915673067773L2.3674199445751696, 357.54672383592344L1.4206880121974461, 357.5168219783913L0.4736020145827927, 357.50186918635063L-0.4736020145827987, 357.50186918635063L-1.4206880121974388, 357.5168219783913L-2.367419944575162, 357.54672383592344L-3.3135618662704824, 357.5915673067773L-4.25887797888096, 357.65134121501967L-5.203132689813049, 357.7260306637396L-6.146090670996798, 357.8156170387606L-7.087516917534476, 357.9200780132798L-8.027176806268743, 358.03938755343245L-8.96483615425565, 358.17351592477985L-9.90026127712796, 358.3224296997198L-10.833219047334133, 358.48609176581783L-11.76347695223868, 358.66446133505576L-12.690803152069137, 358.85749395399756L-13.614966537695402, 359.0651415148677L-14.535736788226995, 359.2873522675408L-15.452884428413803, 359.52407083243867L-16.366180885836187, 359.7752382143322L-17.275398547869987, 360.04079181704424L-18.18031081841236, 360.3206654590496L-19.080692174354287, 360.6147893899694L-19.97631822178567, 360.92309030795377L-20.866965751918944, 361.2454913779505L-21.75241279671747, 361.5819122508539L-22.632438684214556, 361.93226908352955L-23.506824093509582, 362.2964745597095L-24.375351109427342, 362.6744379117538L-25.237803276827044, 363.0660649432711L-26.093965654547578, 363.4712580525949L-26.943624868975217, 363.8899162571076L-27.78656916722086, 364.3219352184075L-28.62258846989338, 364.7672072683124L-29.451474423455608, 365.2256214356924L-30.273020452150643, 365.6970634741266L-31.087021809484654, 366.1814158903753L-31.893275629254077, 366.67855797366207L-32.69158097610423, 367.1883658257574L-33.4817388956064, 367.7107123918564L-34.263552463841684, 368.24546749224425L-35.03682683647838, 368.79249785473877L-35.80136929733135, 369.35166714790535L-36.556989306391, 369.9228360150333L-37.3034985473097, 370.50586210886655L-38.04071097433432, 371.10060012707964L-38.76844285867259, 371.7069018484899L-39.48651283428225, 372.3246161699974L-40.19474194307131, 372.953589144243L-40.89295367949802, 373.59366401797536L-41.58097403455991, 374.24468127111703L-42.25863153916032, 374.90647865652L-42.92575730684227, 375.5788912404016L-43.582185075878364, 376.26175144344893L-44.22775125070673, 376.95488908258346L-44.86229494270254, 377.6581314133741L-45.48565801027472, 378.3713031730888L-46.09768509827824, 379.09422662437356L-46.6982236767318, 379.8267215995485L-47.28712407883154, 380.56860554550923L-47.864239538251155, 381.31969356922315L-48.42942622571911, 382.0797984838083L-48.982543284863944, 382.84873085518467L-49.523452867318575, 383.6262990492849L-50.05202016707505, 384.41230927981354L-50.568113454081036, 385.2065656565427L-51.07160410706967, 386.0088702341319L-51.562366645614716, 386.81902306146037L-52.04027876140288, 387.636822231459L-52.505221348715615, 388.46206393142967L-52.95707853411282, 389.2945424938398L-53.395737705310815, 390.13405044757906L-53.82108953924781, 390.9803785696653L-54.23302802932941, 391.83331593738745L-54.63145051184773, 392.6926499808719L-55.016257691567326, 393.55816653605956L-55.38735366647164, 394.42964989807933L-55.744645951663834, 395.3068828750072L-56.088045502415895, 396.18964684199426L-56.41746673636054, 397.07772179575323L-56.73282755482003, 397.9708864093873L-57.034049363266966, 398.86891808754984L-57.32105709091169, 399.7715930219198L-57.593779209411416, 400.6786862469791L-57.8521477506967, 401.58997169607926L-58.09609832391044, 402.5052222577815L-58.325570131455414, 403.42420983245785L-58.540505984146414, 404.34670538913855L-58.74085231546287, 405.27247902259086L-58.92655919489882, 406.20130001061693L-59.09758034040663, 407.132936871554L-59.25387312993143, 408.06715742196496L-59.395398612033425, 409.0037288345029L-59.522121515595465, 409.9424176959369L-59.634010258613266, 410.8829900653235L-59.731036956066355, 411.8252115323093L-59.81317742686759, 412.7688472755514L-59.88041119988961, 413.71366212123957L-59.93272151906661, 414.65942060170653L-59.97009534757043, 415.6058870141114L-59.99252337105944, 416.55282547918176L-60.0, 417.5",
          "type": "path"
         },
         {
          "line": {
           "color": "#fa4d00",
           "width": 1
          },
          "type": "line",
          "x0": 140,
          "x1": 200,
          "xref": "x",
          "y0": 170,
          "y1": 250,
          "yref": "y"
         },
         {
          "line": {
           "color": "#fa4d00",
           "width": 1
          },
          "type": "line",
          "x0": 140,
          "x1": 200,
          "xref": "x",
          "y0": 170,
          "y1": 250,
          "yref": "y"
         }
        ],
        "template": {
         "data": {
          "bar": [
           {
            "error_x": {
             "color": "#2a3f5f"
            },
            "error_y": {
             "color": "#2a3f5f"
            },
            "marker": {
             "line": {
              "color": "#E5ECF6",
              "width": 0.5
             }
            },
            "type": "bar"
           }
          ],
          "barpolar": [
           {
            "marker": {
             "line": {
              "color": "#E5ECF6",
              "width": 0.5
             }
            },
            "type": "barpolar"
           }
          ],
          "carpet": [
           {
            "aaxis": {
             "endlinecolor": "#2a3f5f",
             "gridcolor": "white",
             "linecolor": "white",
             "minorgridcolor": "white",
             "startlinecolor": "#2a3f5f"
            },
            "baxis": {
             "endlinecolor": "#2a3f5f",
             "gridcolor": "white",
             "linecolor": "white",
             "minorgridcolor": "white",
             "startlinecolor": "#2a3f5f"
            },
            "type": "carpet"
           }
          ],
          "choropleth": [
           {
            "colorbar": {
             "outlinewidth": 0,
             "ticks": ""
            },
            "type": "choropleth"
           }
          ],
          "contour": [
           {
            "colorbar": {
             "outlinewidth": 0,
             "ticks": ""
            },
            "colorscale": [
             [
              0,
              "#0d0887"
             ],
             [
              0.1111111111111111,
              "#46039f"
             ],
             [
              0.2222222222222222,
              "#7201a8"
             ],
             [
              0.3333333333333333,
              "#9c179e"
             ],
             [
              0.4444444444444444,
              "#bd3786"
             ],
             [
              0.5555555555555556,
              "#d8576b"
             ],
             [
              0.6666666666666666,
              "#ed7953"
             ],
             [
              0.7777777777777778,
              "#fb9f3a"
             ],
             [
              0.8888888888888888,
              "#fdca26"
             ],
             [
              1,
              "#f0f921"
             ]
            ],
            "type": "contour"
           }
          ],
          "contourcarpet": [
           {
            "colorbar": {
             "outlinewidth": 0,
             "ticks": ""
            },
            "type": "contourcarpet"
           }
          ],
          "heatmap": [
           {
            "colorbar": {
             "outlinewidth": 0,
             "ticks": ""
            },
            "colorscale": [
             [
              0,
              "#0d0887"
             ],
             [
              0.1111111111111111,
              "#46039f"
             ],
             [
              0.2222222222222222,
              "#7201a8"
             ],
             [
              0.3333333333333333,
              "#9c179e"
             ],
             [
              0.4444444444444444,
              "#bd3786"
             ],
             [
              0.5555555555555556,
              "#d8576b"
             ],
             [
              0.6666666666666666,
              "#ed7953"
             ],
             [
              0.7777777777777778,
              "#fb9f3a"
             ],
             [
              0.8888888888888888,
              "#fdca26"
             ],
             [
              1,
              "#f0f921"
             ]
            ],
            "type": "heatmap"
           }
          ],
          "heatmapgl": [
           {
            "colorbar": {
             "outlinewidth": 0,
             "ticks": ""
            },
            "colorscale": [
             [
              0,
              "#0d0887"
             ],
             [
              0.1111111111111111,
              "#46039f"
             ],
             [
              0.2222222222222222,
              "#7201a8"
             ],
             [
              0.3333333333333333,
              "#9c179e"
             ],
             [
              0.4444444444444444,
              "#bd3786"
             ],
             [
              0.5555555555555556,
              "#d8576b"
             ],
             [
              0.6666666666666666,
              "#ed7953"
             ],
             [
              0.7777777777777778,
              "#fb9f3a"
             ],
             [
              0.8888888888888888,
              "#fdca26"
             ],
             [
              1,
              "#f0f921"
             ]
            ],
            "type": "heatmapgl"
           }
          ],
          "histogram": [
           {
            "marker": {
             "colorbar": {
              "outlinewidth": 0,
              "ticks": ""
             }
            },
            "type": "histogram"
           }
          ],
          "histogram2d": [
           {
            "colorbar": {
             "outlinewidth": 0,
             "ticks": ""
            },
            "colorscale": [
             [
              0,
              "#0d0887"
             ],
             [
              0.1111111111111111,
              "#46039f"
             ],
             [
              0.2222222222222222,
              "#7201a8"
             ],
             [
              0.3333333333333333,
              "#9c179e"
             ],
             [
              0.4444444444444444,
              "#bd3786"
             ],
             [
              0.5555555555555556,
              "#d8576b"
             ],
             [
              0.6666666666666666,
              "#ed7953"
             ],
             [
              0.7777777777777778,
              "#fb9f3a"
             ],
             [
              0.8888888888888888,
              "#fdca26"
             ],
             [
              1,
              "#f0f921"
             ]
            ],
            "type": "histogram2d"
           }
          ],
          "histogram2dcontour": [
           {
            "colorbar": {
             "outlinewidth": 0,
             "ticks": ""
            },
            "colorscale": [
             [
              0,
              "#0d0887"
             ],
             [
              0.1111111111111111,
              "#46039f"
             ],
             [
              0.2222222222222222,
              "#7201a8"
             ],
             [
              0.3333333333333333,
              "#9c179e"
             ],
             [
              0.4444444444444444,
              "#bd3786"
             ],
             [
              0.5555555555555556,
              "#d8576b"
             ],
             [
              0.6666666666666666,
              "#ed7953"
             ],
             [
              0.7777777777777778,
              "#fb9f3a"
             ],
             [
              0.8888888888888888,
              "#fdca26"
             ],
             [
              1,
              "#f0f921"
             ]
            ],
            "type": "histogram2dcontour"
           }
          ],
          "mesh3d": [
           {
            "colorbar": {
             "outlinewidth": 0,
             "ticks": ""
            },
            "type": "mesh3d"
           }
          ],
          "parcoords": [
           {
            "line": {
             "colorbar": {
              "outlinewidth": 0,
              "ticks": ""
             }
            },
            "type": "parcoords"
           }
          ],
          "pie": [
           {
            "automargin": true,
            "type": "pie"
           }
          ],
          "scatter": [
           {
            "marker": {
             "colorbar": {
              "outlinewidth": 0,
              "ticks": ""
             }
            },
            "type": "scatter"
           }
          ],
          "scatter3d": [
           {
            "line": {
             "colorbar": {
              "outlinewidth": 0,
              "ticks": ""
             }
            },
            "marker": {
             "colorbar": {
              "outlinewidth": 0,
              "ticks": ""
             }
            },
            "type": "scatter3d"
           }
          ],
          "scattercarpet": [
           {
            "marker": {
             "colorbar": {
              "outlinewidth": 0,
              "ticks": ""
             }
            },
            "type": "scattercarpet"
           }
          ],
          "scattergeo": [
           {
            "marker": {
             "colorbar": {
              "outlinewidth": 0,
              "ticks": ""
             }
            },
            "type": "scattergeo"
           }
          ],
          "scattergl": [
           {
            "marker": {
             "colorbar": {
              "outlinewidth": 0,
              "ticks": ""
             }
            },
            "type": "scattergl"
           }
          ],
          "scattermapbox": [
           {
            "marker": {
             "colorbar": {
              "outlinewidth": 0,
              "ticks": ""
             }
            },
            "type": "scattermapbox"
           }
          ],
          "scatterpolar": [
           {
            "marker": {
             "colorbar": {
              "outlinewidth": 0,
              "ticks": ""
             }
            },
            "type": "scatterpolar"
           }
          ],
          "scatterpolargl": [
           {
            "marker": {
             "colorbar": {
              "outlinewidth": 0,
              "ticks": ""
             }
            },
            "type": "scatterpolargl"
           }
          ],
          "scatterternary": [
           {
            "marker": {
             "colorbar": {
              "outlinewidth": 0,
              "ticks": ""
             }
            },
            "type": "scatterternary"
           }
          ],
          "surface": [
           {
            "colorbar": {
             "outlinewidth": 0,
             "ticks": ""
            },
            "colorscale": [
             [
              0,
              "#0d0887"
             ],
             [
              0.1111111111111111,
              "#46039f"
             ],
             [
              0.2222222222222222,
              "#7201a8"
             ],
             [
              0.3333333333333333,
              "#9c179e"
             ],
             [
              0.4444444444444444,
              "#bd3786"
             ],
             [
              0.5555555555555556,
              "#d8576b"
             ],
             [
              0.6666666666666666,
              "#ed7953"
             ],
             [
              0.7777777777777778,
              "#fb9f3a"
             ],
             [
              0.8888888888888888,
              "#fdca26"
             ],
             [
              1,
              "#f0f921"
             ]
            ],
            "type": "surface"
           }
          ],
          "table": [
           {
            "cells": {
             "fill": {
              "color": "#EBF0F8"
             },
             "line": {
              "color": "white"
             }
            },
            "header": {
             "fill": {
              "color": "#C8D4E3"
             },
             "line": {
              "color": "white"
             }
            },
            "type": "table"
           }
          ]
         },
         "layout": {
          "annotationdefaults": {
           "arrowcolor": "#2a3f5f",
           "arrowhead": 0,
           "arrowwidth": 1
          },
          "coloraxis": {
           "colorbar": {
            "outlinewidth": 0,
            "ticks": ""
           }
          },
          "colorscale": {
           "diverging": [
            [
             0,
             "#8e0152"
            ],
            [
             0.1,
             "#c51b7d"
            ],
            [
             0.2,
             "#de77ae"
            ],
            [
             0.3,
             "#f1b6da"
            ],
            [
             0.4,
             "#fde0ef"
            ],
            [
             0.5,
             "#f7f7f7"
            ],
            [
             0.6,
             "#e6f5d0"
            ],
            [
             0.7,
             "#b8e186"
            ],
            [
             0.8,
             "#7fbc41"
            ],
            [
             0.9,
             "#4d9221"
            ],
            [
             1,
             "#276419"
            ]
           ],
           "sequential": [
            [
             0,
             "#0d0887"
            ],
            [
             0.1111111111111111,
             "#46039f"
            ],
            [
             0.2222222222222222,
             "#7201a8"
            ],
            [
             0.3333333333333333,
             "#9c179e"
            ],
            [
             0.4444444444444444,
             "#bd3786"
            ],
            [
             0.5555555555555556,
             "#d8576b"
            ],
            [
             0.6666666666666666,
             "#ed7953"
            ],
            [
             0.7777777777777778,
             "#fb9f3a"
            ],
            [
             0.8888888888888888,
             "#fdca26"
            ],
            [
             1,
             "#f0f921"
            ]
           ],
           "sequentialminus": [
            [
             0,
             "#0d0887"
            ],
            [
             0.1111111111111111,
             "#46039f"
            ],
            [
             0.2222222222222222,
             "#7201a8"
            ],
            [
             0.3333333333333333,
             "#9c179e"
            ],
            [
             0.4444444444444444,
             "#bd3786"
            ],
            [
             0.5555555555555556,
             "#d8576b"
            ],
            [
             0.6666666666666666,
             "#ed7953"
            ],
            [
             0.7777777777777778,
             "#fb9f3a"
            ],
            [
             0.8888888888888888,
             "#fdca26"
            ],
            [
             1,
             "#f0f921"
            ]
           ]
          },
          "colorway": [
           "#636efa",
           "#EF553B",
           "#00cc96",
           "#ab63fa",
           "#FFA15A",
           "#19d3f3",
           "#FF6692",
           "#B6E880",
           "#FF97FF",
           "#FECB52"
          ],
          "font": {
           "color": "#2a3f5f"
          },
          "geo": {
           "bgcolor": "white",
           "lakecolor": "white",
           "landcolor": "#E5ECF6",
           "showlakes": true,
           "showland": true,
           "subunitcolor": "white"
          },
          "hoverlabel": {
           "align": "left"
          },
          "hovermode": "closest",
          "mapbox": {
           "style": "light"
          },
          "paper_bgcolor": "white",
          "plot_bgcolor": "#E5ECF6",
          "polar": {
           "angularaxis": {
            "gridcolor": "white",
            "linecolor": "white",
            "ticks": ""
           },
           "bgcolor": "#E5ECF6",
           "radialaxis": {
            "gridcolor": "white",
            "linecolor": "white",
            "ticks": ""
           }
          },
          "scene": {
           "xaxis": {
            "backgroundcolor": "#E5ECF6",
            "gridcolor": "white",
            "gridwidth": 2,
            "linecolor": "white",
            "showbackground": true,
            "ticks": "",
            "zerolinecolor": "white"
           },
           "yaxis": {
            "backgroundcolor": "#E5ECF6",
            "gridcolor": "white",
            "gridwidth": 2,
            "linecolor": "white",
            "showbackground": true,
            "ticks": "",
            "zerolinecolor": "white"
           },
           "zaxis": {
            "backgroundcolor": "#E5ECF6",
            "gridcolor": "white",
            "gridwidth": 2,
            "linecolor": "white",
            "showbackground": true,
            "ticks": "",
            "zerolinecolor": "white"
           }
          },
          "shapedefaults": {
           "line": {
            "color": "#2a3f5f"
           }
          },
          "ternary": {
           "aaxis": {
            "gridcolor": "white",
            "linecolor": "white",
            "ticks": ""
           },
           "baxis": {
            "gridcolor": "white",
            "linecolor": "white",
            "ticks": ""
           },
           "bgcolor": "#E5ECF6",
           "caxis": {
            "gridcolor": "white",
            "linecolor": "white",
            "ticks": ""
           }
          },
          "title": {
           "x": 0.05
          },
          "xaxis": {
           "automargin": true,
           "gridcolor": "white",
           "linecolor": "white",
           "ticks": "",
           "title": {
            "standoff": 15
           },
           "zerolinecolor": "white",
           "zerolinewidth": 2
          },
          "yaxis": {
           "automargin": true,
           "gridcolor": "white",
           "linecolor": "white",
           "ticks": "",
           "title": {
            "standoff": 15
           },
           "zerolinecolor": "white",
           "zerolinewidth": 2
          }
         }
        },
        "title": {
         "text": "2020 WNBA Season",
         "x": 0.7,
         "xanchor": "left",
         "y": 0.9,
         "yanchor": "middle"
        },
        "width": 600,
        "xaxis": {
         "fixedrange": true,
         "range": [
          -260,
          260
         ],
         "showgrid": false,
         "showline": false,
         "showticklabels": false,
         "ticks": "",
         "zeroline": false
        },
        "yaxis": {
         "fixedrange": true,
         "range": [
          -62.5,
          427.5
         ],
         "scaleanchor": "x",
         "scaleratio": 1,
         "showgrid": false,
         "showline": false,
         "showticklabels": false,
         "ticks": "",
         "zeroline": false
        }
       }
      },
      "image/png": "[encoded data removed]"
     },
     "metadata": {},
     "output_type": "display_data"
    }
   ],
   "source": [
    "# import plotly.express as px\n",
    "x_location=Shots_made_onCourt.LOC_X\n",
    "y_location=Shots_made_onCourt.LOC_Y\n",
    "##Change to left \n",
    "left_corner_three = 'https://ak-static.cms.nba.com/wp-content/uploads/headshots/wnba/204319.png'\n",
    "Mid_range_left = 'https://ak-static.cms.nba.com/wp-content/uploads/headshots/wnba/200676.png'\n",
    "left_three = 'https://ak-static.cms.nba.com/wp-content/uploads/headshots/wnba/1629481.png'\n",
    "mid_range_center_left = 'https://ak-static.cms.nba.com/wp-content/uploads/headshots/wnba/1627675.png'\n",
    "top_of_three = 'https://ak-static.cms.nba.com/wp-content/uploads/headshots/wnba/1628909.png'\n",
    "Mid_range_center = 'https://ak-static.cms.nba.com/wp-content/uploads/headshots/wnba/203825.png'\n",
    "in_the_paint = 'https://ak-static.cms.nba.com/wp-content/uploads/headshots/wnba/203826.png'\n",
    "ra_1 = 'https://ak-static.cms.nba.com/wp-content/uploads/headshots/wnba/204324.png'\n",
    "ra_2 = 'https://ak-static.cms.nba.com/wp-content/uploads/headshots/wnba/1628280.png'\n",
    "right_corner_3_1 = 'https://ak-static.cms.nba.com/wp-content/uploads/headshots/wnba/1627700.png'\n",
    "right_corner_3_2 = 'https://ak-static.cms.nba.com/wp-content/uploads/headshots/wnba/1628909.png'\n",
    "mid_range_center_right = 'https://ak-static.cms.nba.com/wp-content/uploads/headshots/wnba/1627675.png'\n",
    "mid_range_right = 'https://ak-static.cms.nba.com/wp-content/uploads/headshots/wnba/1627675.png'\n",
    "right_corner_three = 'https://ak-static.cms.nba.com/wp-content/uploads/headshots/wnba/1630149.png'\n",
    "import plotly.graph_objects as go\n",
    "import plotly.io as pio\n",
    "from PIL import Image\n",
    "# to render in jupyterlab\n",
    "pio.renderers.default = \"plotly_mimetype\"\n",
    "\n",
    "\n",
    "fig = go.Figure()\n",
    "\n",
    "wnba_logo = Image.open('2321__wnba-primary-2020.png')\n",
    "draw_plotly_court(fig)\n",
    "fig.add_layout_image(\n",
    "    go.layout.Image(\n",
    "        source=left_corner_three,\n",
    "        xref=\"x\", yref=\"y\", x=-270, y=30, sizex=80, sizey=80,\n",
    "        xanchor=\"left\", yanchor=\"top\",\n",
    "        sizing=\"stretch\", opacity=1, layer=\"above\"))\n",
    "fig.add_layout_image(   \n",
    "    go.layout.Image(\n",
    "        source=Mid_range_left,\n",
    "        xref=\"x\", yref=\"y\", x=-175, y=80, sizex=80, sizey=80,\n",
    "        xanchor=\"left\", yanchor=\"top\",\n",
    "        sizing=\"stretch\", opacity=1, layer=\"above\"))\n",
    "fig.add_layout_image(   \n",
    "    go.layout.Image(\n",
    "        source=left_three,\n",
    "        xref=\"x\", yref=\"y\", x=-250, y=250, sizex=80, sizey=80,\n",
    "        xanchor=\"left\", yanchor=\"top\",\n",
    "        sizing=\"stretch\", opacity=1, layer=\"above\"))\n",
    "fig.add_layout_image(   \n",
    "    go.layout.Image(\n",
    "        source=mid_range_center_left,\n",
    "        xref=\"x\", yref=\"y\", x=-150, y=200, sizex=80, sizey=80,\n",
    "        xanchor=\"left\", yanchor=\"top\",\n",
    "        sizing=\"stretch\", opacity=1, layer=\"above\"))\n",
    "fig.add_layout_image(   \n",
    "    go.layout.Image(\n",
    "       source=top_of_three,\n",
    "        xref=\"x\", yref=\"y\", x=-40, y=325, sizex=80, sizey=80,\n",
    "        xanchor=\"left\", yanchor=\"top\",\n",
    "        sizing=\"stretch\", opacity=1, layer=\"above\"))\n",
    "\n",
    "fig.add_layout_image(   \n",
    "    go.layout.Image(\n",
    "        source=Mid_range_center,\n",
    "        xref=\"x\", yref=\"y\", x=-40, y=225, sizex=80, sizey=80,\n",
    "        xanchor=\"left\", yanchor=\"top\",\n",
    "        sizing=\"stretch\", opacity=1, layer=\"above\"))\n",
    "fig.add_layout_image(   \n",
    "    go.layout.Image(\n",
    "        source=in_the_paint,\n",
    "        xref=\"x\", yref=\"y\", x=-40, y=135, sizex=80, sizey=80,\n",
    "        xanchor=\"left\", yanchor=\"top\",\n",
    "        sizing=\"stretch\", opacity=1, layer=\"above\"))\n",
    "fig.add_layout_image(   \n",
    "    go.layout.Image(\n",
    "        source=ra_1,\n",
    "        xref=\"x\", yref=\"y\", x=-75, y=50, sizex=80, sizey=80,\n",
    "        xanchor=\"left\", yanchor=\"top\",\n",
    "        sizing=\"stretch\", opacity=1, layer=\"above\"))\n",
    "fig.add_layout_image(   \n",
    "    go.layout.Image(\n",
    "        source=ra_2,\n",
    "        xref=\"x\", yref=\"y\", x=0, y=50, sizex=80, sizey=80,\n",
    "        xanchor=\"left\", yanchor=\"top\",\n",
    "        sizing=\"stretch\", opacity=1, layer=\"above\"))\n",
    "fig.add_layout_image(   \n",
    "    go.layout.Image(\n",
    "        source=right_corner_3_1,\n",
    "        xref=\"x\", yref=\"y\", x=160, y=231, sizex=80, sizey=80,\n",
    "        xanchor=\"left\", yanchor=\"top\",\n",
    "        sizing=\"stretch\", opacity=1, layer=\"above\"))\n",
    "fig.add_layout_image(   \n",
    "    go.layout.Image(\n",
    "        source=right_corner_3_2,\n",
    "        xref=\"x\", yref=\"y\", x=90, y=300, sizex=80, sizey=80,\n",
    "        xanchor=\"left\", yanchor=\"top\",\n",
    "        sizing=\"stretch\", opacity=1, layer=\"above\"))\n",
    "fig.add_layout_image(   \n",
    "    go.layout.Image(\n",
    "        source=mid_range_center_right,\n",
    "        xref=\"x\", yref=\"y\", x=60, y=200, sizex=80, sizey=80,\n",
    "        xanchor=\"left\", yanchor=\"top\",\n",
    "        sizing=\"stretch\", opacity=1, layer=\"above\"))\n",
    "fig.add_layout_image(   \n",
    "    go.layout.Image(\n",
    "        source=mid_range_right,\n",
    "        xref=\"x\", yref=\"y\", x=100, y=80, sizex=80, sizey=80,\n",
    "        xanchor=\"left\", yanchor=\"top\",\n",
    "        sizing=\"stretch\", opacity=1, layer=\"above\"))\n",
    "fig.add_layout_image(   \n",
    "    go.layout.Image(\n",
    "        source=right_corner_three,\n",
    "        xref=\"x\", yref=\"y\", x=195, y=30, sizex=80, sizey=80,\n",
    "        xanchor=\"left\", yanchor=\"top\",\n",
    "        sizing=\"stretch\", opacity=1, layer=\"above\"))\n",
    "fig.add_layout_image(   \n",
    "    go.layout.Image(\n",
    "        source=wnba_logo,\n",
    "        xref=\"x\", yref=\"y\", x=-250, y=415, sizex=150, sizey=100,\n",
    "        xanchor=\"left\", yanchor=\"top\",\n",
    "        sizing=\"stretch\", opacity=1, layer=\"above\"))\n",
    "\n",
    "fig.update_layout(\n",
    "    title=dict(\n",
    "        text=\"2020 WNBA Season\",\n",
    "        y=0.9,\n",
    "        x=0.70,\n",
    "        xanchor='left',\n",
    "        yanchor='middle'\n",
    "        ),\n",
    "    font=dict(\n",
    "        family=\"Arial, Tahoma, Helvetica\",\n",
    "        size=10,\n",
    "        color='White'\n",
    "    ),\n",
    "    annotations=[\n",
    "        go.layout.Annotation(\n",
    "            x=0.015, \n",
    "            y=-0.01,\n",
    "            showarrow=False,\n",
    "            text=\"Jewell Lloyd\",\n",
    "            xref=\"paper\",\n",
    "            yref=\"paper\",\n",
    "        ),\n",
    "        go.layout.Annotation(\n",
    "            x=0.17, \n",
    "            y=0.10,\n",
    "            showarrow=False,\n",
    "            text=\"Candice Dupree\",\n",
    "            xref=\"paper\",\n",
    "            yref=\"paper\"\n",
    "        ),\n",
    "        go.layout.Annotation(\n",
    "            x=0.029, \n",
    "            y=0.46,\n",
    "            showarrow=False,\n",
    "            text=\"Arike Ogunbowale\",\n",
    "            xref=\"paper\",\n",
    "            yref=\"paper\"\n",
    "        ),\n",
    "          go.layout.Annotation(\n",
    "            x=0.21, \n",
    "            y=0.36,\n",
    "            showarrow=False,\n",
    "            text=\"Courtney Williams\",\n",
    "            xref=\"paper\",\n",
    "            yref=\"paper\"\n",
    "        ),\n",
    "         go.layout.Annotation(\n",
    "            x=0.50, \n",
    "            y=0.61,\n",
    "            showarrow=False,\n",
    "            text=\"Kelsey Mitchell\",\n",
    "            xref=\"paper\",\n",
    "            yref=\"paper\"\n",
    "        ),\n",
    "         go.layout.Annotation(\n",
    "            x=0.50, \n",
    "            y=0.41,\n",
    "            showarrow=False,\n",
    "            text=\"Kayla McBride\",\n",
    "            xref=\"paper\",\n",
    "            yref=\"paper\"\n",
    "        ),\n",
    "        go.layout.Annotation(\n",
    "            x=0.50, \n",
    "            y=0.215,\n",
    "            showarrow=False,\n",
    "            text=\"Alyssa Thomas\",\n",
    "            xref=\"paper\",\n",
    "            yref=\"paper\"\n",
    "        ),\n",
    "        go.layout.Annotation(\n",
    "            x=0.42, \n",
    "            y=0.04,\n",
    "            showarrow=False,\n",
    "            text=\"Dearica Hamby\",\n",
    "            xref=\"paper\",\n",
    "            yref=\"paper\"\n",
    "        ),\n",
    "        go.layout.Annotation(\n",
    "            x=0.58, \n",
    "            y=0.04,\n",
    "            showarrow=False,\n",
    "            text=\"Brionna Jones\",\n",
    "            xref=\"paper\",\n",
    "            yref=\"paper\"\n",
    "        ),\n",
    "        go.layout.Annotation(\n",
    "            x=0.77, \n",
    "            y=0.36,\n",
    "            showarrow=False,\n",
    "            text=\"Courtney Williams\",\n",
    "            xref=\"paper\",\n",
    "            yref=\"paper\"\n",
    "        ),\n",
    "        go.layout.Annotation(\n",
    "            x=0.85, \n",
    "            y=0.1,\n",
    "            showarrow=False,\n",
    "            text=\"Courtney Williams\",\n",
    "            xref=\"paper\",\n",
    "            yref=\"paper\"\n",
    "        ),\n",
    "         go.layout.Annotation(\n",
    "            x=0.82, \n",
    "            y=0.56,\n",
    "            showarrow=False,\n",
    "            text=\"Kelsey Mitchell\",\n",
    "            xref=\"paper\",\n",
    "            yref=\"paper\"\n",
    "        ),\n",
    "        go.layout.Annotation(\n",
    "            x=0.95, \n",
    "            y=0.42,\n",
    "            showarrow=False,\n",
    "            text=\"Julie Allemand\",\n",
    "            xref=\"paper\",\n",
    "            yref=\"paper\"\n",
    "        ),\n",
    "         go.layout.Annotation(\n",
    "            x=1.0, \n",
    "            y=-0.01,\n",
    "            showarrow=False,\n",
    "            text=\"Satou Sabally\",\n",
    "            xref=\"paper\",\n",
    "            yref=\"paper\"\n",
    "        ),\n",
    "          go.layout.Annotation(\n",
    "            x=0.98, \n",
    "            y=0.92,\n",
    "            showarrow=False,\n",
    "            text=\"Created by @stewart_lil_productions\",\n",
    "            xref=\"paper\",\n",
    "            yref=\"paper\",\n",
    "        )\n",
    "])\n",
    "    \n",
    "fig.show()"
   ]
  },
  {
   "cell_type": "code",
   "execution_count": null,
   "metadata": {},
   "outputs": [],
   "source": []
  }
 ],
 "metadata": {
  "kernelspec": {
   "display_name": "Python 3",
   "language": "python",
   "name": "python3"
  },
  "language_info": {
   "codemirror_mode": {
    "name": "ipython",
    "version": 3
   },
   "file_extension": ".py",
   "mimetype": "text/x-python",
   "name": "python",
   "nbconvert_exporter": "python",
   "pygments_lexer": "ipython3",
   "version": "3.7.4"
  }
 },
 "nbformat": 4,
 "nbformat_minor": 4
}
