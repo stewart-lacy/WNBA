{
 "cells": [
  {
   "cell_type": "code",
   "execution_count": 46,
   "metadata": {},
   "outputs": [],
   "source": [
    "import pandas as pd \n",
    "import numpy as np \n",
    "import matplotlib.pyplot as plt\n",
    "import seaborn as sns \n",
    "%matplotlib inline "
   ]
  },
  {
   "cell_type": "code",
   "execution_count": 47,
   "metadata": {},
   "outputs": [
    {
     "output_type": "execute_result",
     "data": {
      "text/plain": [
       "            PLAYER_NAME        SHOT_ZONE_BASIC         SHOT_ZONE_AREA  \\\n",
       "0        Natasha Howard              Mid-Range          Right Side(R)   \n",
       "1           Kiah Stokes  In The Paint (Non-RA)              Center(C)   \n",
       "2       Breanna Stewart        Restricted Area              Center(C)   \n",
       "3        Amanda Zahui B              Mid-Range              Center(C)   \n",
       "4     Layshia Clarendon        Restricted Area              Center(C)   \n",
       "...                 ...                    ...                    ...   \n",
       "8030     Brittney Sykes              Mid-Range           Left Side(L)   \n",
       "8031       Chelsea Gray        Restricted Area              Center(C)   \n",
       "8032     Nneka Ogwumike              Mid-Range  Right Side Center(RC)   \n",
       "8033      Kayla McBride      Above the Break 3          Right Side(R)   \n",
       "8034  Danielle Robinson        Restricted Area              Center(C)   \n",
       "\n",
       "      SHOT_ZONE_RANGE  SHOT_DISTANCE  LOC_X  LOC_Y  Count  \n",
       "0            8-16 ft.             10    107     -9      1  \n",
       "1     Less Than 8 ft.              5    -30     41      1  \n",
       "2     Less Than 8 ft.              1    -15      0      1  \n",
       "3           16-24 ft.             17     -1    176      1  \n",
       "4     Less Than 8 ft.              2     21     14      1  \n",
       "...               ...            ...    ...    ...    ...  \n",
       "8030         8-16 ft.             11   -111     39      1  \n",
       "8031  Less Than 8 ft.              0      0     -6      1  \n",
       "8032        16-24 ft.             18     72    168      1  \n",
       "8033          24+ ft.             22    225     43      1  \n",
       "8034  Less Than 8 ft.              2     23     11      1  \n",
       "\n",
       "[8035 rows x 8 columns]"
      ],
      "text/html": "<div>\n<style scoped>\n    .dataframe tbody tr th:only-of-type {\n        vertical-align: middle;\n    }\n\n    .dataframe tbody tr th {\n        vertical-align: top;\n    }\n\n    .dataframe thead th {\n        text-align: right;\n    }\n</style>\n<table border=\"1\" class=\"dataframe\">\n  <thead>\n    <tr style=\"text-align: right;\">\n      <th></th>\n      <th>PLAYER_NAME</th>\n      <th>SHOT_ZONE_BASIC</th>\n      <th>SHOT_ZONE_AREA</th>\n      <th>SHOT_ZONE_RANGE</th>\n      <th>SHOT_DISTANCE</th>\n      <th>LOC_X</th>\n      <th>LOC_Y</th>\n      <th>Count</th>\n    </tr>\n  </thead>\n  <tbody>\n    <tr>\n      <th>0</th>\n      <td>Natasha Howard</td>\n      <td>Mid-Range</td>\n      <td>Right Side(R)</td>\n      <td>8-16 ft.</td>\n      <td>10</td>\n      <td>107</td>\n      <td>-9</td>\n      <td>1</td>\n    </tr>\n    <tr>\n      <th>1</th>\n      <td>Kiah Stokes</td>\n      <td>In The Paint (Non-RA)</td>\n      <td>Center(C)</td>\n      <td>Less Than 8 ft.</td>\n      <td>5</td>\n      <td>-30</td>\n      <td>41</td>\n      <td>1</td>\n    </tr>\n    <tr>\n      <th>2</th>\n      <td>Breanna Stewart</td>\n      <td>Restricted Area</td>\n      <td>Center(C)</td>\n      <td>Less Than 8 ft.</td>\n      <td>1</td>\n      <td>-15</td>\n      <td>0</td>\n      <td>1</td>\n    </tr>\n    <tr>\n      <th>3</th>\n      <td>Amanda Zahui B</td>\n      <td>Mid-Range</td>\n      <td>Center(C)</td>\n      <td>16-24 ft.</td>\n      <td>17</td>\n      <td>-1</td>\n      <td>176</td>\n      <td>1</td>\n    </tr>\n    <tr>\n      <th>4</th>\n      <td>Layshia Clarendon</td>\n      <td>Restricted Area</td>\n      <td>Center(C)</td>\n      <td>Less Than 8 ft.</td>\n      <td>2</td>\n      <td>21</td>\n      <td>14</td>\n      <td>1</td>\n    </tr>\n    <tr>\n      <th>...</th>\n      <td>...</td>\n      <td>...</td>\n      <td>...</td>\n      <td>...</td>\n      <td>...</td>\n      <td>...</td>\n      <td>...</td>\n      <td>...</td>\n    </tr>\n    <tr>\n      <th>8030</th>\n      <td>Brittney Sykes</td>\n      <td>Mid-Range</td>\n      <td>Left Side(L)</td>\n      <td>8-16 ft.</td>\n      <td>11</td>\n      <td>-111</td>\n      <td>39</td>\n      <td>1</td>\n    </tr>\n    <tr>\n      <th>8031</th>\n      <td>Chelsea Gray</td>\n      <td>Restricted Area</td>\n      <td>Center(C)</td>\n      <td>Less Than 8 ft.</td>\n      <td>0</td>\n      <td>0</td>\n      <td>-6</td>\n      <td>1</td>\n    </tr>\n    <tr>\n      <th>8032</th>\n      <td>Nneka Ogwumike</td>\n      <td>Mid-Range</td>\n      <td>Right Side Center(RC)</td>\n      <td>16-24 ft.</td>\n      <td>18</td>\n      <td>72</td>\n      <td>168</td>\n      <td>1</td>\n    </tr>\n    <tr>\n      <th>8033</th>\n      <td>Kayla McBride</td>\n      <td>Above the Break 3</td>\n      <td>Right Side(R)</td>\n      <td>24+ ft.</td>\n      <td>22</td>\n      <td>225</td>\n      <td>43</td>\n      <td>1</td>\n    </tr>\n    <tr>\n      <th>8034</th>\n      <td>Danielle Robinson</td>\n      <td>Restricted Area</td>\n      <td>Center(C)</td>\n      <td>Less Than 8 ft.</td>\n      <td>2</td>\n      <td>23</td>\n      <td>11</td>\n      <td>1</td>\n    </tr>\n  </tbody>\n</table>\n<p>8035 rows × 8 columns</p>\n</div>"
     },
     "metadata": {},
     "execution_count": 47
    }
   ],
   "source": [
    "file_to_load = pd.read_csv(\"WNBA_Shooting_.csv\")\n",
    "pd.set_option('display.max_columns', None)\n",
    "file_to_load['Count'] =1\n",
    "file_to_load"
   ]
  },
  {
   "cell_type": "markdown",
   "metadata": {},
   "source": [
    "# Left Corner 3"
   ]
  },
  {
   "cell_type": "code",
   "execution_count": 48,
   "metadata": {},
   "outputs": [
    {
     "output_type": "execute_result",
     "data": {
      "text/plain": [
       "                  Count\n",
       "PLAYER_NAME            \n",
       "Jewell Loyd           8\n",
       "Riquna Williams       6\n",
       "Alysha Clark          5\n",
       "Azurá Stevens         3\n",
       "Brittney Sykes        3\n",
       "Allie Quigley         3\n",
       "Sue Bird              3\n",
       "Bridget Carleton      3\n",
       "Ariel Atkins          3\n",
       "Marina Mabrey         2"
      ],
      "text/html": "<div>\n<style scoped>\n    .dataframe tbody tr th:only-of-type {\n        vertical-align: middle;\n    }\n\n    .dataframe tbody tr th {\n        vertical-align: top;\n    }\n\n    .dataframe thead th {\n        text-align: right;\n    }\n</style>\n<table border=\"1\" class=\"dataframe\">\n  <thead>\n    <tr style=\"text-align: right;\">\n      <th></th>\n      <th>Count</th>\n    </tr>\n    <tr>\n      <th>PLAYER_NAME</th>\n      <th></th>\n    </tr>\n  </thead>\n  <tbody>\n    <tr>\n      <th>Jewell Loyd</th>\n      <td>8</td>\n    </tr>\n    <tr>\n      <th>Riquna Williams</th>\n      <td>6</td>\n    </tr>\n    <tr>\n      <th>Alysha Clark</th>\n      <td>5</td>\n    </tr>\n    <tr>\n      <th>Azurá Stevens</th>\n      <td>3</td>\n    </tr>\n    <tr>\n      <th>Brittney Sykes</th>\n      <td>3</td>\n    </tr>\n    <tr>\n      <th>Allie Quigley</th>\n      <td>3</td>\n    </tr>\n    <tr>\n      <th>Sue Bird</th>\n      <td>3</td>\n    </tr>\n    <tr>\n      <th>Bridget Carleton</th>\n      <td>3</td>\n    </tr>\n    <tr>\n      <th>Ariel Atkins</th>\n      <td>3</td>\n    </tr>\n    <tr>\n      <th>Marina Mabrey</th>\n      <td>2</td>\n    </tr>\n  </tbody>\n</table>\n</div>"
     },
     "metadata": {},
     "execution_count": 48
    }
   ],
   "source": [
    "L_Corner_3=file_to_load.loc[file_to_load['SHOT_ZONE_BASIC'] == 'Left Corner 3']\n",
    "L_Corner_3=L_Corner_3.groupby(by='PLAYER_NAME').sum()['Count'].sort_values(ascending=False).to_frame().head(10)\n",
    "L_Corner_3"
   ]
  },
  {
   "cell_type": "code",
   "execution_count": 49,
   "metadata": {},
   "outputs": [
    {
     "output_type": "execute_result",
     "data": {
      "text/plain": [
       "      PLAYER_NAME SHOT_ZONE_BASIC SHOT_ZONE_AREA SHOT_ZONE_RANGE  \\\n",
       "540   Jewell Loyd   Left Corner 3   Left Side(L)         24+ ft.   \n",
       "1242  Jewell Loyd   Left Corner 3   Left Side(L)         24+ ft.   \n",
       "2270  Jewell Loyd   Left Corner 3   Left Side(L)         24+ ft.   \n",
       "3055  Jewell Loyd   Left Corner 3   Left Side(L)         24+ ft.   \n",
       "3057  Jewell Loyd   Left Corner 3   Left Side(L)         24+ ft.   \n",
       "3319  Jewell Loyd   Left Corner 3   Left Side(L)         24+ ft.   \n",
       "6702  Jewell Loyd   Left Corner 3   Left Side(L)         24+ ft.   \n",
       "7466  Jewell Loyd   Left Corner 3   Left Side(L)         24+ ft.   \n",
       "\n",
       "      SHOT_DISTANCE  LOC_X  LOC_Y  Count  \n",
       "540              23   -237     -7      1  \n",
       "1242             23   -237    -12      1  \n",
       "2270             22   -226     -7      1  \n",
       "3055             22   -226     12      1  \n",
       "3057             23   -232      1      1  \n",
       "3319             22   -228    -15      1  \n",
       "6702             23   -230     -9      1  \n",
       "7466             23   -231    -11      1  "
      ],
      "text/html": "<div>\n<style scoped>\n    .dataframe tbody tr th:only-of-type {\n        vertical-align: middle;\n    }\n\n    .dataframe tbody tr th {\n        vertical-align: top;\n    }\n\n    .dataframe thead th {\n        text-align: right;\n    }\n</style>\n<table border=\"1\" class=\"dataframe\">\n  <thead>\n    <tr style=\"text-align: right;\">\n      <th></th>\n      <th>PLAYER_NAME</th>\n      <th>SHOT_ZONE_BASIC</th>\n      <th>SHOT_ZONE_AREA</th>\n      <th>SHOT_ZONE_RANGE</th>\n      <th>SHOT_DISTANCE</th>\n      <th>LOC_X</th>\n      <th>LOC_Y</th>\n      <th>Count</th>\n    </tr>\n  </thead>\n  <tbody>\n    <tr>\n      <th>540</th>\n      <td>Jewell Loyd</td>\n      <td>Left Corner 3</td>\n      <td>Left Side(L)</td>\n      <td>24+ ft.</td>\n      <td>23</td>\n      <td>-237</td>\n      <td>-7</td>\n      <td>1</td>\n    </tr>\n    <tr>\n      <th>1242</th>\n      <td>Jewell Loyd</td>\n      <td>Left Corner 3</td>\n      <td>Left Side(L)</td>\n      <td>24+ ft.</td>\n      <td>23</td>\n      <td>-237</td>\n      <td>-12</td>\n      <td>1</td>\n    </tr>\n    <tr>\n      <th>2270</th>\n      <td>Jewell Loyd</td>\n      <td>Left Corner 3</td>\n      <td>Left Side(L)</td>\n      <td>24+ ft.</td>\n      <td>22</td>\n      <td>-226</td>\n      <td>-7</td>\n      <td>1</td>\n    </tr>\n    <tr>\n      <th>3055</th>\n      <td>Jewell Loyd</td>\n      <td>Left Corner 3</td>\n      <td>Left Side(L)</td>\n      <td>24+ ft.</td>\n      <td>22</td>\n      <td>-226</td>\n      <td>12</td>\n      <td>1</td>\n    </tr>\n    <tr>\n      <th>3057</th>\n      <td>Jewell Loyd</td>\n      <td>Left Corner 3</td>\n      <td>Left Side(L)</td>\n      <td>24+ ft.</td>\n      <td>23</td>\n      <td>-232</td>\n      <td>1</td>\n      <td>1</td>\n    </tr>\n    <tr>\n      <th>3319</th>\n      <td>Jewell Loyd</td>\n      <td>Left Corner 3</td>\n      <td>Left Side(L)</td>\n      <td>24+ ft.</td>\n      <td>22</td>\n      <td>-228</td>\n      <td>-15</td>\n      <td>1</td>\n    </tr>\n    <tr>\n      <th>6702</th>\n      <td>Jewell Loyd</td>\n      <td>Left Corner 3</td>\n      <td>Left Side(L)</td>\n      <td>24+ ft.</td>\n      <td>23</td>\n      <td>-230</td>\n      <td>-9</td>\n      <td>1</td>\n    </tr>\n    <tr>\n      <th>7466</th>\n      <td>Jewell Loyd</td>\n      <td>Left Corner 3</td>\n      <td>Left Side(L)</td>\n      <td>24+ ft.</td>\n      <td>23</td>\n      <td>-231</td>\n      <td>-11</td>\n      <td>1</td>\n    </tr>\n  </tbody>\n</table>\n</div>"
     },
     "metadata": {},
     "execution_count": 49
    }
   ],
   "source": [
    "Jewel_Llyod=file_to_load.loc[file_to_load['SHOT_ZONE_BASIC'] == 'Left Corner 3']\n",
    "Jewel_Lloyd_made=Jewel_Llyod.loc[Jewel_Llyod['PLAYER_NAME'] == 'Jewell Loyd']\n",
    "Jewel_Lloyd_made"
   ]
  },
  {
   "cell_type": "markdown",
   "metadata": {},
   "source": [
    "# Right Corner 3"
   ]
  },
  {
   "cell_type": "code",
   "execution_count": 50,
   "metadata": {},
   "outputs": [
    {
     "output_type": "execute_result",
     "data": {
      "text/plain": [
       "                  Count\n",
       "PLAYER_NAME            \n",
       "Satou Sabally         3\n",
       "Sami Whitcomb         2\n",
       "Leilani Mitchell      2\n",
       "Kayla Thornton        2\n",
       "Tiffany Mitchell      1\n",
       "Kahleah Copper        1\n",
       "Allisha Gray          1\n",
       "Azurá Stevens         1\n",
       "Betnijah Laney        1\n",
       "Brittney Sykes        1"
      ],
      "text/html": "<div>\n<style scoped>\n    .dataframe tbody tr th:only-of-type {\n        vertical-align: middle;\n    }\n\n    .dataframe tbody tr th {\n        vertical-align: top;\n    }\n\n    .dataframe thead th {\n        text-align: right;\n    }\n</style>\n<table border=\"1\" class=\"dataframe\">\n  <thead>\n    <tr style=\"text-align: right;\">\n      <th></th>\n      <th>Count</th>\n    </tr>\n    <tr>\n      <th>PLAYER_NAME</th>\n      <th></th>\n    </tr>\n  </thead>\n  <tbody>\n    <tr>\n      <th>Satou Sabally</th>\n      <td>3</td>\n    </tr>\n    <tr>\n      <th>Sami Whitcomb</th>\n      <td>2</td>\n    </tr>\n    <tr>\n      <th>Leilani Mitchell</th>\n      <td>2</td>\n    </tr>\n    <tr>\n      <th>Kayla Thornton</th>\n      <td>2</td>\n    </tr>\n    <tr>\n      <th>Tiffany Mitchell</th>\n      <td>1</td>\n    </tr>\n    <tr>\n      <th>Kahleah Copper</th>\n      <td>1</td>\n    </tr>\n    <tr>\n      <th>Allisha Gray</th>\n      <td>1</td>\n    </tr>\n    <tr>\n      <th>Azurá Stevens</th>\n      <td>1</td>\n    </tr>\n    <tr>\n      <th>Betnijah Laney</th>\n      <td>1</td>\n    </tr>\n    <tr>\n      <th>Brittney Sykes</th>\n      <td>1</td>\n    </tr>\n  </tbody>\n</table>\n</div>"
     },
     "metadata": {},
     "execution_count": 50
    }
   ],
   "source": [
    "R_Corner_3=file_to_load.loc[file_to_load['SHOT_ZONE_BASIC'] == 'Right Corner 3']\n",
    "R_Corner_3.groupby(by='PLAYER_NAME').sum()['Count'].sort_values(ascending=False).to_frame().head(10)"
   ]
  },
  {
   "cell_type": "code",
   "execution_count": 51,
   "metadata": {},
   "outputs": [
    {
     "output_type": "execute_result",
     "data": {
      "text/plain": [
       "        PLAYER_NAME SHOT_ZONE_BASIC SHOT_ZONE_AREA SHOT_ZONE_RANGE  \\\n",
       "363   Satou Sabally  Right Corner 3  Right Side(R)         24+ ft.   \n",
       "7427  Satou Sabally  Right Corner 3  Right Side(R)         24+ ft.   \n",
       "7429  Satou Sabally  Right Corner 3  Right Side(R)         24+ ft.   \n",
       "\n",
       "      SHOT_DISTANCE  LOC_X  LOC_Y  Count  \n",
       "363              22    227     14      1  \n",
       "7427             23    232     11      1  \n",
       "7429             23    232     17      1  "
      ],
      "text/html": "<div>\n<style scoped>\n    .dataframe tbody tr th:only-of-type {\n        vertical-align: middle;\n    }\n\n    .dataframe tbody tr th {\n        vertical-align: top;\n    }\n\n    .dataframe thead th {\n        text-align: right;\n    }\n</style>\n<table border=\"1\" class=\"dataframe\">\n  <thead>\n    <tr style=\"text-align: right;\">\n      <th></th>\n      <th>PLAYER_NAME</th>\n      <th>SHOT_ZONE_BASIC</th>\n      <th>SHOT_ZONE_AREA</th>\n      <th>SHOT_ZONE_RANGE</th>\n      <th>SHOT_DISTANCE</th>\n      <th>LOC_X</th>\n      <th>LOC_Y</th>\n      <th>Count</th>\n    </tr>\n  </thead>\n  <tbody>\n    <tr>\n      <th>363</th>\n      <td>Satou Sabally</td>\n      <td>Right Corner 3</td>\n      <td>Right Side(R)</td>\n      <td>24+ ft.</td>\n      <td>22</td>\n      <td>227</td>\n      <td>14</td>\n      <td>1</td>\n    </tr>\n    <tr>\n      <th>7427</th>\n      <td>Satou Sabally</td>\n      <td>Right Corner 3</td>\n      <td>Right Side(R)</td>\n      <td>24+ ft.</td>\n      <td>23</td>\n      <td>232</td>\n      <td>11</td>\n      <td>1</td>\n    </tr>\n    <tr>\n      <th>7429</th>\n      <td>Satou Sabally</td>\n      <td>Right Corner 3</td>\n      <td>Right Side(R)</td>\n      <td>24+ ft.</td>\n      <td>23</td>\n      <td>232</td>\n      <td>17</td>\n      <td>1</td>\n    </tr>\n  </tbody>\n</table>\n</div>"
     },
     "metadata": {},
     "execution_count": 51
    }
   ],
   "source": [
    "Satou_Sabally_made=file_to_load.loc[file_to_load['SHOT_ZONE_BASIC'] == 'Right Corner 3']\n",
    "Satou_Sabally_made_shots=Satou_Sabally_made.loc[Satou_Sabally_made['PLAYER_NAME'] =='Satou Sabally']\n",
    "Satou_Sabally_made_shots"
   ]
  },
  {
   "cell_type": "markdown",
   "metadata": {},
   "source": [
    "# Mid Range "
   ]
  },
  {
   "cell_type": "code",
   "execution_count": 52,
   "metadata": {},
   "outputs": [
    {
     "output_type": "execute_result",
     "data": {
      "text/plain": [
       "array(['Right Side(R)', 'Center(C)', 'Left Side(L)',\n",
       "       'Left Side Center(LC)', 'Right Side Center(RC)'], dtype=object)"
      ]
     },
     "metadata": {},
     "execution_count": 52
    }
   ],
   "source": [
    "Mid_Range=file_to_load.loc[file_to_load['SHOT_ZONE_BASIC'] == 'Mid-Range']\n",
    "Mid_Range.SHOT_ZONE_AREA.unique()"
   ]
  },
  {
   "cell_type": "markdown",
   "metadata": {},
   "source": [
    "### Right Side 8 -16ft"
   ]
  },
  {
   "cell_type": "code",
   "execution_count": 53,
   "metadata": {},
   "outputs": [
    {
     "output_type": "execute_result",
     "data": {
      "text/plain": [
       "                   Count\n",
       "PLAYER_NAME             \n",
       "Allie Quigley         11\n",
       "Courtney Williams      9\n",
       "Candice Dupree         8\n",
       "Chelsea Gray           7\n",
       "Emma Meesseman         7\n",
       "Brittney Griner        6\n",
       "Jackie Young           6\n",
       "A'ja Wilson            6\n",
       "Breanna Stewart        5\n",
       "Ruthy Hebard           5"
      ],
      "text/html": "<div>\n<style scoped>\n    .dataframe tbody tr th:only-of-type {\n        vertical-align: middle;\n    }\n\n    .dataframe tbody tr th {\n        vertical-align: top;\n    }\n\n    .dataframe thead th {\n        text-align: right;\n    }\n</style>\n<table border=\"1\" class=\"dataframe\">\n  <thead>\n    <tr style=\"text-align: right;\">\n      <th></th>\n      <th>Count</th>\n    </tr>\n    <tr>\n      <th>PLAYER_NAME</th>\n      <th></th>\n    </tr>\n  </thead>\n  <tbody>\n    <tr>\n      <th>Allie Quigley</th>\n      <td>11</td>\n    </tr>\n    <tr>\n      <th>Courtney Williams</th>\n      <td>9</td>\n    </tr>\n    <tr>\n      <th>Candice Dupree</th>\n      <td>8</td>\n    </tr>\n    <tr>\n      <th>Chelsea Gray</th>\n      <td>7</td>\n    </tr>\n    <tr>\n      <th>Emma Meesseman</th>\n      <td>7</td>\n    </tr>\n    <tr>\n      <th>Brittney Griner</th>\n      <td>6</td>\n    </tr>\n    <tr>\n      <th>Jackie Young</th>\n      <td>6</td>\n    </tr>\n    <tr>\n      <th>A'ja Wilson</th>\n      <td>6</td>\n    </tr>\n    <tr>\n      <th>Breanna Stewart</th>\n      <td>5</td>\n    </tr>\n    <tr>\n      <th>Ruthy Hebard</th>\n      <td>5</td>\n    </tr>\n  </tbody>\n</table>\n</div>"
     },
     "metadata": {},
     "execution_count": 53
    }
   ],
   "source": [
    "Mid_Range=file_to_load.loc[file_to_load['SHOT_ZONE_BASIC'] == 'Mid-Range']\n",
    "Mid_Range_Right = Mid_Range.loc[Mid_Range['SHOT_ZONE_AREA'] =='Right Side(R)']\n",
    "Mid_Range_Right_8to16 = Mid_Range_Right.loc[Mid_Range_Right['SHOT_ZONE_RANGE'] == '8-16 ft.']\n",
    "Mid_Range_Right_8to16.groupby(by='PLAYER_NAME').sum()['Count'].sort_values(ascending=False).to_frame().head(10)\n",
    "#Mid_Range.SHOT_ZONE_AREA.unique()"
   ]
  },
  {
   "cell_type": "code",
   "execution_count": 54,
   "metadata": {},
   "outputs": [],
   "source": [
    "Allie_Quigley_made=Mid_Range_Right_8to16.loc[Mid_Range_Right_8to16['PLAYER_NAME'] == 'Allie Quigley']"
   ]
  },
  {
   "cell_type": "markdown",
   "metadata": {},
   "source": [
    "### Right Side 16-24 ft"
   ]
  },
  {
   "cell_type": "code",
   "execution_count": 55,
   "metadata": {},
   "outputs": [
    {
     "output_type": "execute_result",
     "data": {
      "text/plain": [
       "                          Count\n",
       "PLAYER_NAME                    \n",
       "Courtney Williams             8\n",
       "Candice Dupree                8\n",
       "Nneka Ogwumike                5\n",
       "Seimone Augustus              4\n",
       "Shatori Walker-Kimbrough      3\n",
       "Allie Quigley                 3\n",
       "Myisha Hines-Allen            3\n",
       "Monique Billings              3\n",
       "Gabby Williams                3\n",
       "Kia Vaughn                    2"
      ],
      "text/html": "<div>\n<style scoped>\n    .dataframe tbody tr th:only-of-type {\n        vertical-align: middle;\n    }\n\n    .dataframe tbody tr th {\n        vertical-align: top;\n    }\n\n    .dataframe thead th {\n        text-align: right;\n    }\n</style>\n<table border=\"1\" class=\"dataframe\">\n  <thead>\n    <tr style=\"text-align: right;\">\n      <th></th>\n      <th>Count</th>\n    </tr>\n    <tr>\n      <th>PLAYER_NAME</th>\n      <th></th>\n    </tr>\n  </thead>\n  <tbody>\n    <tr>\n      <th>Courtney Williams</th>\n      <td>8</td>\n    </tr>\n    <tr>\n      <th>Candice Dupree</th>\n      <td>8</td>\n    </tr>\n    <tr>\n      <th>Nneka Ogwumike</th>\n      <td>5</td>\n    </tr>\n    <tr>\n      <th>Seimone Augustus</th>\n      <td>4</td>\n    </tr>\n    <tr>\n      <th>Shatori Walker-Kimbrough</th>\n      <td>3</td>\n    </tr>\n    <tr>\n      <th>Allie Quigley</th>\n      <td>3</td>\n    </tr>\n    <tr>\n      <th>Myisha Hines-Allen</th>\n      <td>3</td>\n    </tr>\n    <tr>\n      <th>Monique Billings</th>\n      <td>3</td>\n    </tr>\n    <tr>\n      <th>Gabby Williams</th>\n      <td>3</td>\n    </tr>\n    <tr>\n      <th>Kia Vaughn</th>\n      <td>2</td>\n    </tr>\n  </tbody>\n</table>\n</div>"
     },
     "metadata": {},
     "execution_count": 55
    }
   ],
   "source": [
    "Mid_Range_Right_16to24 = Mid_Range_Right.loc[Mid_Range_Right['SHOT_ZONE_RANGE'] == '16-24 ft.']\n",
    "Mid_Range_Right_16to24.groupby(by='PLAYER_NAME').sum()['Count'].sort_values(ascending=False).to_frame().head(10)"
   ]
  },
  {
   "cell_type": "code",
   "execution_count": 57,
   "metadata": {},
   "outputs": [
    {
     "output_type": "execute_result",
     "data": {
      "text/plain": [
       "            PLAYER_NAME SHOT_ZONE_BASIC SHOT_ZONE_AREA SHOT_ZONE_RANGE  \\\n",
       "3613  Courtney Williams       Mid-Range  Right Side(R)       16-24 ft.   \n",
       "4418  Courtney Williams       Mid-Range  Right Side(R)       16-24 ft.   \n",
       "4779  Courtney Williams       Mid-Range  Right Side(R)       16-24 ft.   \n",
       "5505  Courtney Williams       Mid-Range  Right Side(R)       16-24 ft.   \n",
       "5532  Courtney Williams       Mid-Range  Right Side(R)       16-24 ft.   \n",
       "6074  Courtney Williams       Mid-Range  Right Side(R)       16-24 ft.   \n",
       "7396  Courtney Williams       Mid-Range  Right Side(R)       16-24 ft.   \n",
       "7688  Courtney Williams       Mid-Range  Right Side(R)       16-24 ft.   \n",
       "\n",
       "      SHOT_DISTANCE  LOC_X  LOC_Y  Count  \n",
       "3613             20    193     71      1  \n",
       "4418             17    178     14      1  \n",
       "4779             17    172      7      1  \n",
       "5505             17    169     33      1  \n",
       "5532             20    194     61      1  \n",
       "6074             18    180      9      1  \n",
       "7396             17    175     36      1  \n",
       "7688             16    164     20      1  "
      ],
      "text/html": "<div>\n<style scoped>\n    .dataframe tbody tr th:only-of-type {\n        vertical-align: middle;\n    }\n\n    .dataframe tbody tr th {\n        vertical-align: top;\n    }\n\n    .dataframe thead th {\n        text-align: right;\n    }\n</style>\n<table border=\"1\" class=\"dataframe\">\n  <thead>\n    <tr style=\"text-align: right;\">\n      <th></th>\n      <th>PLAYER_NAME</th>\n      <th>SHOT_ZONE_BASIC</th>\n      <th>SHOT_ZONE_AREA</th>\n      <th>SHOT_ZONE_RANGE</th>\n      <th>SHOT_DISTANCE</th>\n      <th>LOC_X</th>\n      <th>LOC_Y</th>\n      <th>Count</th>\n    </tr>\n  </thead>\n  <tbody>\n    <tr>\n      <th>3613</th>\n      <td>Courtney Williams</td>\n      <td>Mid-Range</td>\n      <td>Right Side(R)</td>\n      <td>16-24 ft.</td>\n      <td>20</td>\n      <td>193</td>\n      <td>71</td>\n      <td>1</td>\n    </tr>\n    <tr>\n      <th>4418</th>\n      <td>Courtney Williams</td>\n      <td>Mid-Range</td>\n      <td>Right Side(R)</td>\n      <td>16-24 ft.</td>\n      <td>17</td>\n      <td>178</td>\n      <td>14</td>\n      <td>1</td>\n    </tr>\n    <tr>\n      <th>4779</th>\n      <td>Courtney Williams</td>\n      <td>Mid-Range</td>\n      <td>Right Side(R)</td>\n      <td>16-24 ft.</td>\n      <td>17</td>\n      <td>172</td>\n      <td>7</td>\n      <td>1</td>\n    </tr>\n    <tr>\n      <th>5505</th>\n      <td>Courtney Williams</td>\n      <td>Mid-Range</td>\n      <td>Right Side(R)</td>\n      <td>16-24 ft.</td>\n      <td>17</td>\n      <td>169</td>\n      <td>33</td>\n      <td>1</td>\n    </tr>\n    <tr>\n      <th>5532</th>\n      <td>Courtney Williams</td>\n      <td>Mid-Range</td>\n      <td>Right Side(R)</td>\n      <td>16-24 ft.</td>\n      <td>20</td>\n      <td>194</td>\n      <td>61</td>\n      <td>1</td>\n    </tr>\n    <tr>\n      <th>6074</th>\n      <td>Courtney Williams</td>\n      <td>Mid-Range</td>\n      <td>Right Side(R)</td>\n      <td>16-24 ft.</td>\n      <td>18</td>\n      <td>180</td>\n      <td>9</td>\n      <td>1</td>\n    </tr>\n    <tr>\n      <th>7396</th>\n      <td>Courtney Williams</td>\n      <td>Mid-Range</td>\n      <td>Right Side(R)</td>\n      <td>16-24 ft.</td>\n      <td>17</td>\n      <td>175</td>\n      <td>36</td>\n      <td>1</td>\n    </tr>\n    <tr>\n      <th>7688</th>\n      <td>Courtney Williams</td>\n      <td>Mid-Range</td>\n      <td>Right Side(R)</td>\n      <td>16-24 ft.</td>\n      <td>16</td>\n      <td>164</td>\n      <td>20</td>\n      <td>1</td>\n    </tr>\n  </tbody>\n</table>\n</div>"
     },
     "metadata": {},
     "execution_count": 57
    }
   ],
   "source": [
    "Courtney_Williams_made =Mid_Range_Right_16to24.loc[Mid_Range_Right_16to24['PLAYER_NAME'] =='Courtney Williams']\n",
    "Courtney_Williams_made"
   ]
  },
  {
   "cell_type": "markdown",
   "metadata": {},
   "source": [
    "### Center 16-24ft"
   ]
  },
  {
   "cell_type": "code",
   "execution_count": 58,
   "metadata": {},
   "outputs": [
    {
     "output_type": "execute_result",
     "data": {
      "text/plain": [
       "                   Count\n",
       "PLAYER_NAME             \n",
       "Kayla McBride         16\n",
       "Ariel Atkins          13\n",
       "Chelsea Gray           9\n",
       "Allie Quigley          8\n",
       "Courtney Williams      8\n",
       "Jackie Young           8\n",
       "Jewell Loyd            7\n",
       "Angel McCoughtry       7\n",
       "Kelsey Mitchell        7\n",
       "Danielle Robinson      6"
      ],
      "text/html": "<div>\n<style scoped>\n    .dataframe tbody tr th:only-of-type {\n        vertical-align: middle;\n    }\n\n    .dataframe tbody tr th {\n        vertical-align: top;\n    }\n\n    .dataframe thead th {\n        text-align: right;\n    }\n</style>\n<table border=\"1\" class=\"dataframe\">\n  <thead>\n    <tr style=\"text-align: right;\">\n      <th></th>\n      <th>Count</th>\n    </tr>\n    <tr>\n      <th>PLAYER_NAME</th>\n      <th></th>\n    </tr>\n  </thead>\n  <tbody>\n    <tr>\n      <th>Kayla McBride</th>\n      <td>16</td>\n    </tr>\n    <tr>\n      <th>Ariel Atkins</th>\n      <td>13</td>\n    </tr>\n    <tr>\n      <th>Chelsea Gray</th>\n      <td>9</td>\n    </tr>\n    <tr>\n      <th>Allie Quigley</th>\n      <td>8</td>\n    </tr>\n    <tr>\n      <th>Courtney Williams</th>\n      <td>8</td>\n    </tr>\n    <tr>\n      <th>Jackie Young</th>\n      <td>8</td>\n    </tr>\n    <tr>\n      <th>Jewell Loyd</th>\n      <td>7</td>\n    </tr>\n    <tr>\n      <th>Angel McCoughtry</th>\n      <td>7</td>\n    </tr>\n    <tr>\n      <th>Kelsey Mitchell</th>\n      <td>7</td>\n    </tr>\n    <tr>\n      <th>Danielle Robinson</th>\n      <td>6</td>\n    </tr>\n  </tbody>\n</table>\n</div>"
     },
     "metadata": {},
     "execution_count": 58
    }
   ],
   "source": [
    "Mid_Range=file_to_load.loc[file_to_load['SHOT_ZONE_BASIC'] == 'Mid-Range']\n",
    "Mid_Range_Center = Mid_Range.loc[Mid_Range['SHOT_ZONE_AREA'] =='Center(C)']\n",
    "Mid_Range_Center_16to24=Mid_Range_Center.loc[Mid_Range_Center['SHOT_ZONE_RANGE'] == '16-24 ft.']\n",
    "Mid_Range_Center_16to24.groupby(by='PLAYER_NAME').sum()['Count'].sort_values(ascending=False).to_frame().head(10)"
   ]
  },
  {
   "cell_type": "code",
   "execution_count": 59,
   "metadata": {},
   "outputs": [
    {
     "output_type": "execute_result",
     "data": {
      "text/plain": [
       "        PLAYER_NAME SHOT_ZONE_BASIC SHOT_ZONE_AREA SHOT_ZONE_RANGE  \\\n",
       "1422  Kayla McBride       Mid-Range      Center(C)       16-24 ft.   \n",
       "2413  Kayla McBride       Mid-Range      Center(C)       16-24 ft.   \n",
       "2777  Kayla McBride       Mid-Range      Center(C)       16-24 ft.   \n",
       "2831  Kayla McBride       Mid-Range      Center(C)       16-24 ft.   \n",
       "3197  Kayla McBride       Mid-Range      Center(C)       16-24 ft.   \n",
       "3568  Kayla McBride       Mid-Range      Center(C)       16-24 ft.   \n",
       "4326  Kayla McBride       Mid-Range      Center(C)       16-24 ft.   \n",
       "4357  Kayla McBride       Mid-Range      Center(C)       16-24 ft.   \n",
       "5026  Kayla McBride       Mid-Range      Center(C)       16-24 ft.   \n",
       "5454  Kayla McBride       Mid-Range      Center(C)       16-24 ft.   \n",
       "6144  Kayla McBride       Mid-Range      Center(C)       16-24 ft.   \n",
       "6414  Kayla McBride       Mid-Range      Center(C)       16-24 ft.   \n",
       "6776  Kayla McBride       Mid-Range      Center(C)       16-24 ft.   \n",
       "6792  Kayla McBride       Mid-Range      Center(C)       16-24 ft.   \n",
       "7595  Kayla McBride       Mid-Range      Center(C)       16-24 ft.   \n",
       "7999  Kayla McBride       Mid-Range      Center(C)       16-24 ft.   \n",
       "\n",
       "      SHOT_DISTANCE  LOC_X  LOC_Y  Count  \n",
       "1422             21     58    205      1  \n",
       "2413             17     45    166      1  \n",
       "2777             19    -14    191      1  \n",
       "2831             19     22    195      1  \n",
       "3197             21     64    206      1  \n",
       "3568             21     23    210      1  \n",
       "4326             18      3    188      1  \n",
       "4357             18    -49    182      1  \n",
       "5026             18     47    181      1  \n",
       "5454             19     11    192      1  \n",
       "6144             22     -4    224      1  \n",
       "6414             16    -24    164      1  \n",
       "6776             19     57    190      1  \n",
       "6792             20     11    207      1  \n",
       "7595             21     29    216      1  \n",
       "7999             20     17    203      1  "
      ],
      "text/html": "<div>\n<style scoped>\n    .dataframe tbody tr th:only-of-type {\n        vertical-align: middle;\n    }\n\n    .dataframe tbody tr th {\n        vertical-align: top;\n    }\n\n    .dataframe thead th {\n        text-align: right;\n    }\n</style>\n<table border=\"1\" class=\"dataframe\">\n  <thead>\n    <tr style=\"text-align: right;\">\n      <th></th>\n      <th>PLAYER_NAME</th>\n      <th>SHOT_ZONE_BASIC</th>\n      <th>SHOT_ZONE_AREA</th>\n      <th>SHOT_ZONE_RANGE</th>\n      <th>SHOT_DISTANCE</th>\n      <th>LOC_X</th>\n      <th>LOC_Y</th>\n      <th>Count</th>\n    </tr>\n  </thead>\n  <tbody>\n    <tr>\n      <th>1422</th>\n      <td>Kayla McBride</td>\n      <td>Mid-Range</td>\n      <td>Center(C)</td>\n      <td>16-24 ft.</td>\n      <td>21</td>\n      <td>58</td>\n      <td>205</td>\n      <td>1</td>\n    </tr>\n    <tr>\n      <th>2413</th>\n      <td>Kayla McBride</td>\n      <td>Mid-Range</td>\n      <td>Center(C)</td>\n      <td>16-24 ft.</td>\n      <td>17</td>\n      <td>45</td>\n      <td>166</td>\n      <td>1</td>\n    </tr>\n    <tr>\n      <th>2777</th>\n      <td>Kayla McBride</td>\n      <td>Mid-Range</td>\n      <td>Center(C)</td>\n      <td>16-24 ft.</td>\n      <td>19</td>\n      <td>-14</td>\n      <td>191</td>\n      <td>1</td>\n    </tr>\n    <tr>\n      <th>2831</th>\n      <td>Kayla McBride</td>\n      <td>Mid-Range</td>\n      <td>Center(C)</td>\n      <td>16-24 ft.</td>\n      <td>19</td>\n      <td>22</td>\n      <td>195</td>\n      <td>1</td>\n    </tr>\n    <tr>\n      <th>3197</th>\n      <td>Kayla McBride</td>\n      <td>Mid-Range</td>\n      <td>Center(C)</td>\n      <td>16-24 ft.</td>\n      <td>21</td>\n      <td>64</td>\n      <td>206</td>\n      <td>1</td>\n    </tr>\n    <tr>\n      <th>3568</th>\n      <td>Kayla McBride</td>\n      <td>Mid-Range</td>\n      <td>Center(C)</td>\n      <td>16-24 ft.</td>\n      <td>21</td>\n      <td>23</td>\n      <td>210</td>\n      <td>1</td>\n    </tr>\n    <tr>\n      <th>4326</th>\n      <td>Kayla McBride</td>\n      <td>Mid-Range</td>\n      <td>Center(C)</td>\n      <td>16-24 ft.</td>\n      <td>18</td>\n      <td>3</td>\n      <td>188</td>\n      <td>1</td>\n    </tr>\n    <tr>\n      <th>4357</th>\n      <td>Kayla McBride</td>\n      <td>Mid-Range</td>\n      <td>Center(C)</td>\n      <td>16-24 ft.</td>\n      <td>18</td>\n      <td>-49</td>\n      <td>182</td>\n      <td>1</td>\n    </tr>\n    <tr>\n      <th>5026</th>\n      <td>Kayla McBride</td>\n      <td>Mid-Range</td>\n      <td>Center(C)</td>\n      <td>16-24 ft.</td>\n      <td>18</td>\n      <td>47</td>\n      <td>181</td>\n      <td>1</td>\n    </tr>\n    <tr>\n      <th>5454</th>\n      <td>Kayla McBride</td>\n      <td>Mid-Range</td>\n      <td>Center(C)</td>\n      <td>16-24 ft.</td>\n      <td>19</td>\n      <td>11</td>\n      <td>192</td>\n      <td>1</td>\n    </tr>\n    <tr>\n      <th>6144</th>\n      <td>Kayla McBride</td>\n      <td>Mid-Range</td>\n      <td>Center(C)</td>\n      <td>16-24 ft.</td>\n      <td>22</td>\n      <td>-4</td>\n      <td>224</td>\n      <td>1</td>\n    </tr>\n    <tr>\n      <th>6414</th>\n      <td>Kayla McBride</td>\n      <td>Mid-Range</td>\n      <td>Center(C)</td>\n      <td>16-24 ft.</td>\n      <td>16</td>\n      <td>-24</td>\n      <td>164</td>\n      <td>1</td>\n    </tr>\n    <tr>\n      <th>6776</th>\n      <td>Kayla McBride</td>\n      <td>Mid-Range</td>\n      <td>Center(C)</td>\n      <td>16-24 ft.</td>\n      <td>19</td>\n      <td>57</td>\n      <td>190</td>\n      <td>1</td>\n    </tr>\n    <tr>\n      <th>6792</th>\n      <td>Kayla McBride</td>\n      <td>Mid-Range</td>\n      <td>Center(C)</td>\n      <td>16-24 ft.</td>\n      <td>20</td>\n      <td>11</td>\n      <td>207</td>\n      <td>1</td>\n    </tr>\n    <tr>\n      <th>7595</th>\n      <td>Kayla McBride</td>\n      <td>Mid-Range</td>\n      <td>Center(C)</td>\n      <td>16-24 ft.</td>\n      <td>21</td>\n      <td>29</td>\n      <td>216</td>\n      <td>1</td>\n    </tr>\n    <tr>\n      <th>7999</th>\n      <td>Kayla McBride</td>\n      <td>Mid-Range</td>\n      <td>Center(C)</td>\n      <td>16-24 ft.</td>\n      <td>20</td>\n      <td>17</td>\n      <td>203</td>\n      <td>1</td>\n    </tr>\n  </tbody>\n</table>\n</div>"
     },
     "metadata": {},
     "execution_count": 59
    }
   ],
   "source": [
    "Kayla_McBride_made=Mid_Range_Center_16to24.loc[Mid_Range_Center_16to24['PLAYER_NAME'] == 'Kayla McBride']\n",
    "Kayla_McBride_made"
   ]
  },
  {
   "cell_type": "markdown",
   "metadata": {},
   "source": [
    "### Center 8-16 ft"
   ]
  },
  {
   "cell_type": "code",
   "execution_count": 60,
   "metadata": {},
   "outputs": [
    {
     "output_type": "execute_result",
     "data": {
      "text/plain": [
       "                     Count\n",
       "PLAYER_NAME               \n",
       "A'ja Wilson              7\n",
       "Allie Quigley            7\n",
       "Crystal Dangerfield      4\n",
       "Courtney Williams        4\n",
       "Chelsea Gray             4\n",
       "Jewell Loyd              3\n",
       "Tiffany Mitchell         3\n",
       "Diana Taurasi            3\n",
       "Candice Dupree           3\n",
       "Jazmine Jones            3"
      ],
      "text/html": "<div>\n<style scoped>\n    .dataframe tbody tr th:only-of-type {\n        vertical-align: middle;\n    }\n\n    .dataframe tbody tr th {\n        vertical-align: top;\n    }\n\n    .dataframe thead th {\n        text-align: right;\n    }\n</style>\n<table border=\"1\" class=\"dataframe\">\n  <thead>\n    <tr style=\"text-align: right;\">\n      <th></th>\n      <th>Count</th>\n    </tr>\n    <tr>\n      <th>PLAYER_NAME</th>\n      <th></th>\n    </tr>\n  </thead>\n  <tbody>\n    <tr>\n      <th>A'ja Wilson</th>\n      <td>7</td>\n    </tr>\n    <tr>\n      <th>Allie Quigley</th>\n      <td>7</td>\n    </tr>\n    <tr>\n      <th>Crystal Dangerfield</th>\n      <td>4</td>\n    </tr>\n    <tr>\n      <th>Courtney Williams</th>\n      <td>4</td>\n    </tr>\n    <tr>\n      <th>Chelsea Gray</th>\n      <td>4</td>\n    </tr>\n    <tr>\n      <th>Jewell Loyd</th>\n      <td>3</td>\n    </tr>\n    <tr>\n      <th>Tiffany Mitchell</th>\n      <td>3</td>\n    </tr>\n    <tr>\n      <th>Diana Taurasi</th>\n      <td>3</td>\n    </tr>\n    <tr>\n      <th>Candice Dupree</th>\n      <td>3</td>\n    </tr>\n    <tr>\n      <th>Jazmine Jones</th>\n      <td>3</td>\n    </tr>\n  </tbody>\n</table>\n</div>"
     },
     "metadata": {},
     "execution_count": 60
    }
   ],
   "source": [
    "Mid_Range_Center_8to16=Mid_Range_Center.loc[Mid_Range_Center['SHOT_ZONE_RANGE'] == '8-16 ft.']\n",
    "Mid_Range_Center_8to16.groupby(by='PLAYER_NAME').sum()['Count'].sort_values(ascending=False).to_frame().head(10)"
   ]
  },
  {
   "cell_type": "code",
   "execution_count": 61,
   "metadata": {},
   "outputs": [
    {
     "output_type": "execute_result",
     "data": {
      "text/plain": [
       "        PLAYER_NAME SHOT_ZONE_BASIC SHOT_ZONE_AREA SHOT_ZONE_RANGE  \\\n",
       "251   Allie Quigley       Mid-Range      Center(C)        8-16 ft.   \n",
       "454   Allie Quigley       Mid-Range      Center(C)        8-16 ft.   \n",
       "2358  Allie Quigley       Mid-Range      Center(C)        8-16 ft.   \n",
       "2958  Allie Quigley       Mid-Range      Center(C)        8-16 ft.   \n",
       "4973  Allie Quigley       Mid-Range      Center(C)        8-16 ft.   \n",
       "6197  Allie Quigley       Mid-Range      Center(C)        8-16 ft.   \n",
       "7375  Allie Quigley       Mid-Range      Center(C)        8-16 ft.   \n",
       "\n",
       "      SHOT_DISTANCE  LOC_X  LOC_Y  Count  \n",
       "251              15    -12    157      1  \n",
       "454              15    -72    140      1  \n",
       "2358             15     68    142      1  \n",
       "2958             15    -10    154      1  \n",
       "4973             15    -39    149      1  \n",
       "6197             14     -2    142      1  \n",
       "7375             14    -42    142      1  "
      ],
      "text/html": "<div>\n<style scoped>\n    .dataframe tbody tr th:only-of-type {\n        vertical-align: middle;\n    }\n\n    .dataframe tbody tr th {\n        vertical-align: top;\n    }\n\n    .dataframe thead th {\n        text-align: right;\n    }\n</style>\n<table border=\"1\" class=\"dataframe\">\n  <thead>\n    <tr style=\"text-align: right;\">\n      <th></th>\n      <th>PLAYER_NAME</th>\n      <th>SHOT_ZONE_BASIC</th>\n      <th>SHOT_ZONE_AREA</th>\n      <th>SHOT_ZONE_RANGE</th>\n      <th>SHOT_DISTANCE</th>\n      <th>LOC_X</th>\n      <th>LOC_Y</th>\n      <th>Count</th>\n    </tr>\n  </thead>\n  <tbody>\n    <tr>\n      <th>251</th>\n      <td>Allie Quigley</td>\n      <td>Mid-Range</td>\n      <td>Center(C)</td>\n      <td>8-16 ft.</td>\n      <td>15</td>\n      <td>-12</td>\n      <td>157</td>\n      <td>1</td>\n    </tr>\n    <tr>\n      <th>454</th>\n      <td>Allie Quigley</td>\n      <td>Mid-Range</td>\n      <td>Center(C)</td>\n      <td>8-16 ft.</td>\n      <td>15</td>\n      <td>-72</td>\n      <td>140</td>\n      <td>1</td>\n    </tr>\n    <tr>\n      <th>2358</th>\n      <td>Allie Quigley</td>\n      <td>Mid-Range</td>\n      <td>Center(C)</td>\n      <td>8-16 ft.</td>\n      <td>15</td>\n      <td>68</td>\n      <td>142</td>\n      <td>1</td>\n    </tr>\n    <tr>\n      <th>2958</th>\n      <td>Allie Quigley</td>\n      <td>Mid-Range</td>\n      <td>Center(C)</td>\n      <td>8-16 ft.</td>\n      <td>15</td>\n      <td>-10</td>\n      <td>154</td>\n      <td>1</td>\n    </tr>\n    <tr>\n      <th>4973</th>\n      <td>Allie Quigley</td>\n      <td>Mid-Range</td>\n      <td>Center(C)</td>\n      <td>8-16 ft.</td>\n      <td>15</td>\n      <td>-39</td>\n      <td>149</td>\n      <td>1</td>\n    </tr>\n    <tr>\n      <th>6197</th>\n      <td>Allie Quigley</td>\n      <td>Mid-Range</td>\n      <td>Center(C)</td>\n      <td>8-16 ft.</td>\n      <td>14</td>\n      <td>-2</td>\n      <td>142</td>\n      <td>1</td>\n    </tr>\n    <tr>\n      <th>7375</th>\n      <td>Allie Quigley</td>\n      <td>Mid-Range</td>\n      <td>Center(C)</td>\n      <td>8-16 ft.</td>\n      <td>14</td>\n      <td>-42</td>\n      <td>142</td>\n      <td>1</td>\n    </tr>\n  </tbody>\n</table>\n</div>"
     },
     "metadata": {},
     "execution_count": 61
    }
   ],
   "source": [
    "test_center=Mid_Range_Center_8to16.loc[Mid_Range_Center_8to16['PLAYER_NAME'] == 'Allie Quigley']\n",
    "test_center"
   ]
  },
  {
   "cell_type": "markdown",
   "metadata": {},
   "source": [
    "### Left Side Center 16-24 ft"
   ]
  },
  {
   "cell_type": "code",
   "execution_count": 62,
   "metadata": {},
   "outputs": [
    {
     "output_type": "execute_result",
     "data": {
      "text/plain": [
       "                   Count\n",
       "PLAYER_NAME             \n",
       "Courtney Williams     13\n",
       "Jasmine Thomas        11\n",
       "Arike Ogunbowale      11\n",
       "Kahleah Copper         9\n",
       "Riquna Williams        8\n",
       "DeWanna Bonner         8\n",
       "Jackie Young           7\n",
       "Emma Meesseman         7\n",
       "Chelsea Gray           7\n",
       "Allie Quigley          6"
      ],
      "text/html": "<div>\n<style scoped>\n    .dataframe tbody tr th:only-of-type {\n        vertical-align: middle;\n    }\n\n    .dataframe tbody tr th {\n        vertical-align: top;\n    }\n\n    .dataframe thead th {\n        text-align: right;\n    }\n</style>\n<table border=\"1\" class=\"dataframe\">\n  <thead>\n    <tr style=\"text-align: right;\">\n      <th></th>\n      <th>Count</th>\n    </tr>\n    <tr>\n      <th>PLAYER_NAME</th>\n      <th></th>\n    </tr>\n  </thead>\n  <tbody>\n    <tr>\n      <th>Courtney Williams</th>\n      <td>13</td>\n    </tr>\n    <tr>\n      <th>Jasmine Thomas</th>\n      <td>11</td>\n    </tr>\n    <tr>\n      <th>Arike Ogunbowale</th>\n      <td>11</td>\n    </tr>\n    <tr>\n      <th>Kahleah Copper</th>\n      <td>9</td>\n    </tr>\n    <tr>\n      <th>Riquna Williams</th>\n      <td>8</td>\n    </tr>\n    <tr>\n      <th>DeWanna Bonner</th>\n      <td>8</td>\n    </tr>\n    <tr>\n      <th>Jackie Young</th>\n      <td>7</td>\n    </tr>\n    <tr>\n      <th>Emma Meesseman</th>\n      <td>7</td>\n    </tr>\n    <tr>\n      <th>Chelsea Gray</th>\n      <td>7</td>\n    </tr>\n    <tr>\n      <th>Allie Quigley</th>\n      <td>6</td>\n    </tr>\n  </tbody>\n</table>\n</div>"
     },
     "metadata": {},
     "execution_count": 62
    }
   ],
   "source": [
    "Mid_Range_LC = Mid_Range.loc[Mid_Range['SHOT_ZONE_AREA'] =='Left Side Center(LC)']\n",
    "Mid_Range_LC.groupby(by='PLAYER_NAME').sum()['Count'].sort_values(ascending=False).to_frame().head(10)"
   ]
  },
  {
   "cell_type": "code",
   "execution_count": 63,
   "metadata": {},
   "outputs": [
    {
     "output_type": "execute_result",
     "data": {
      "text/plain": [
       "            PLAYER_NAME SHOT_ZONE_BASIC        SHOT_ZONE_AREA SHOT_ZONE_RANGE  \\\n",
       "1854  Courtney Williams       Mid-Range  Left Side Center(LC)       16-24 ft.   \n",
       "2214  Courtney Williams       Mid-Range  Left Side Center(LC)       16-24 ft.   \n",
       "2556  Courtney Williams       Mid-Range  Left Side Center(LC)       16-24 ft.   \n",
       "3377  Courtney Williams       Mid-Range  Left Side Center(LC)       16-24 ft.   \n",
       "4013  Courtney Williams       Mid-Range  Left Side Center(LC)       16-24 ft.   \n",
       "4031  Courtney Williams       Mid-Range  Left Side Center(LC)       16-24 ft.   \n",
       "5928  Courtney Williams       Mid-Range  Left Side Center(LC)       16-24 ft.   \n",
       "5935  Courtney Williams       Mid-Range  Left Side Center(LC)       16-24 ft.   \n",
       "5983  Courtney Williams       Mid-Range  Left Side Center(LC)       16-24 ft.   \n",
       "6816  Courtney Williams       Mid-Range  Left Side Center(LC)       16-24 ft.   \n",
       "7382  Courtney Williams       Mid-Range  Left Side Center(LC)       16-24 ft.   \n",
       "7408  Courtney Williams       Mid-Range  Left Side Center(LC)       16-24 ft.   \n",
       "7740  Courtney Williams       Mid-Range  Left Side Center(LC)       16-24 ft.   \n",
       "\n",
       "      SHOT_DISTANCE  LOC_X  LOC_Y  Count  \n",
       "1854             17    -75    157      1  \n",
       "2214             18   -116    139      1  \n",
       "2556             20   -140    152      1  \n",
       "3377             16   -132     97      1  \n",
       "4013             17    -62    160      1  \n",
       "4031             19   -147    122      1  \n",
       "5928             19    -60    181      1  \n",
       "5935             17   -124    119      1  \n",
       "5983             20    -96    181      1  \n",
       "6816             20    -91    184      1  \n",
       "7382             17   -128    120      1  \n",
       "7408             18    -70    170      1  \n",
       "7740             19    -92    170      1  "
      ],
      "text/html": "<div>\n<style scoped>\n    .dataframe tbody tr th:only-of-type {\n        vertical-align: middle;\n    }\n\n    .dataframe tbody tr th {\n        vertical-align: top;\n    }\n\n    .dataframe thead th {\n        text-align: right;\n    }\n</style>\n<table border=\"1\" class=\"dataframe\">\n  <thead>\n    <tr style=\"text-align: right;\">\n      <th></th>\n      <th>PLAYER_NAME</th>\n      <th>SHOT_ZONE_BASIC</th>\n      <th>SHOT_ZONE_AREA</th>\n      <th>SHOT_ZONE_RANGE</th>\n      <th>SHOT_DISTANCE</th>\n      <th>LOC_X</th>\n      <th>LOC_Y</th>\n      <th>Count</th>\n    </tr>\n  </thead>\n  <tbody>\n    <tr>\n      <th>1854</th>\n      <td>Courtney Williams</td>\n      <td>Mid-Range</td>\n      <td>Left Side Center(LC)</td>\n      <td>16-24 ft.</td>\n      <td>17</td>\n      <td>-75</td>\n      <td>157</td>\n      <td>1</td>\n    </tr>\n    <tr>\n      <th>2214</th>\n      <td>Courtney Williams</td>\n      <td>Mid-Range</td>\n      <td>Left Side Center(LC)</td>\n      <td>16-24 ft.</td>\n      <td>18</td>\n      <td>-116</td>\n      <td>139</td>\n      <td>1</td>\n    </tr>\n    <tr>\n      <th>2556</th>\n      <td>Courtney Williams</td>\n      <td>Mid-Range</td>\n      <td>Left Side Center(LC)</td>\n      <td>16-24 ft.</td>\n      <td>20</td>\n      <td>-140</td>\n      <td>152</td>\n      <td>1</td>\n    </tr>\n    <tr>\n      <th>3377</th>\n      <td>Courtney Williams</td>\n      <td>Mid-Range</td>\n      <td>Left Side Center(LC)</td>\n      <td>16-24 ft.</td>\n      <td>16</td>\n      <td>-132</td>\n      <td>97</td>\n      <td>1</td>\n    </tr>\n    <tr>\n      <th>4013</th>\n      <td>Courtney Williams</td>\n      <td>Mid-Range</td>\n      <td>Left Side Center(LC)</td>\n      <td>16-24 ft.</td>\n      <td>17</td>\n      <td>-62</td>\n      <td>160</td>\n      <td>1</td>\n    </tr>\n    <tr>\n      <th>4031</th>\n      <td>Courtney Williams</td>\n      <td>Mid-Range</td>\n      <td>Left Side Center(LC)</td>\n      <td>16-24 ft.</td>\n      <td>19</td>\n      <td>-147</td>\n      <td>122</td>\n      <td>1</td>\n    </tr>\n    <tr>\n      <th>5928</th>\n      <td>Courtney Williams</td>\n      <td>Mid-Range</td>\n      <td>Left Side Center(LC)</td>\n      <td>16-24 ft.</td>\n      <td>19</td>\n      <td>-60</td>\n      <td>181</td>\n      <td>1</td>\n    </tr>\n    <tr>\n      <th>5935</th>\n      <td>Courtney Williams</td>\n      <td>Mid-Range</td>\n      <td>Left Side Center(LC)</td>\n      <td>16-24 ft.</td>\n      <td>17</td>\n      <td>-124</td>\n      <td>119</td>\n      <td>1</td>\n    </tr>\n    <tr>\n      <th>5983</th>\n      <td>Courtney Williams</td>\n      <td>Mid-Range</td>\n      <td>Left Side Center(LC)</td>\n      <td>16-24 ft.</td>\n      <td>20</td>\n      <td>-96</td>\n      <td>181</td>\n      <td>1</td>\n    </tr>\n    <tr>\n      <th>6816</th>\n      <td>Courtney Williams</td>\n      <td>Mid-Range</td>\n      <td>Left Side Center(LC)</td>\n      <td>16-24 ft.</td>\n      <td>20</td>\n      <td>-91</td>\n      <td>184</td>\n      <td>1</td>\n    </tr>\n    <tr>\n      <th>7382</th>\n      <td>Courtney Williams</td>\n      <td>Mid-Range</td>\n      <td>Left Side Center(LC)</td>\n      <td>16-24 ft.</td>\n      <td>17</td>\n      <td>-128</td>\n      <td>120</td>\n      <td>1</td>\n    </tr>\n    <tr>\n      <th>7408</th>\n      <td>Courtney Williams</td>\n      <td>Mid-Range</td>\n      <td>Left Side Center(LC)</td>\n      <td>16-24 ft.</td>\n      <td>18</td>\n      <td>-70</td>\n      <td>170</td>\n      <td>1</td>\n    </tr>\n    <tr>\n      <th>7740</th>\n      <td>Courtney Williams</td>\n      <td>Mid-Range</td>\n      <td>Left Side Center(LC)</td>\n      <td>16-24 ft.</td>\n      <td>19</td>\n      <td>-92</td>\n      <td>170</td>\n      <td>1</td>\n    </tr>\n  </tbody>\n</table>\n</div>"
     },
     "metadata": {},
     "execution_count": 63
    }
   ],
   "source": [
    "Courtney_Williams_made_2=Mid_Range_LC.loc[Mid_Range_LC['PLAYER_NAME'] =='Courtney Williams']\n",
    "Courtney_Williams_made_2"
   ]
  },
  {
   "cell_type": "markdown",
   "metadata": {},
   "source": [
    "### Right Side Center 16-24 ft"
   ]
  },
  {
   "cell_type": "code",
   "execution_count": 64,
   "metadata": {},
   "outputs": [
    {
     "output_type": "execute_result",
     "data": {
      "text/plain": [
       "                      Count\n",
       "PLAYER_NAME                \n",
       "Courtney Williams        24\n",
       "Chelsea Gray             11\n",
       "Candice Dupree            9\n",
       "A'ja Wilson               8\n",
       "Courtney Vandersloot      8\n",
       "Allie Quigley             7\n",
       "Jasmine Thomas            7\n",
       "Betnijah Laney            7\n",
       "Kayla McBride             6\n",
       "Jackie Young              6"
      ],
      "text/html": "<div>\n<style scoped>\n    .dataframe tbody tr th:only-of-type {\n        vertical-align: middle;\n    }\n\n    .dataframe tbody tr th {\n        vertical-align: top;\n    }\n\n    .dataframe thead th {\n        text-align: right;\n    }\n</style>\n<table border=\"1\" class=\"dataframe\">\n  <thead>\n    <tr style=\"text-align: right;\">\n      <th></th>\n      <th>Count</th>\n    </tr>\n    <tr>\n      <th>PLAYER_NAME</th>\n      <th></th>\n    </tr>\n  </thead>\n  <tbody>\n    <tr>\n      <th>Courtney Williams</th>\n      <td>24</td>\n    </tr>\n    <tr>\n      <th>Chelsea Gray</th>\n      <td>11</td>\n    </tr>\n    <tr>\n      <th>Candice Dupree</th>\n      <td>9</td>\n    </tr>\n    <tr>\n      <th>A'ja Wilson</th>\n      <td>8</td>\n    </tr>\n    <tr>\n      <th>Courtney Vandersloot</th>\n      <td>8</td>\n    </tr>\n    <tr>\n      <th>Allie Quigley</th>\n      <td>7</td>\n    </tr>\n    <tr>\n      <th>Jasmine Thomas</th>\n      <td>7</td>\n    </tr>\n    <tr>\n      <th>Betnijah Laney</th>\n      <td>7</td>\n    </tr>\n    <tr>\n      <th>Kayla McBride</th>\n      <td>6</td>\n    </tr>\n    <tr>\n      <th>Jackie Young</th>\n      <td>6</td>\n    </tr>\n  </tbody>\n</table>\n</div>"
     },
     "metadata": {},
     "execution_count": 64
    }
   ],
   "source": [
    "Mid_Range_RC = Mid_Range.loc[Mid_Range['SHOT_ZONE_AREA'] =='Right Side Center(RC)']\n",
    "Mid_Range_RC.groupby(by='PLAYER_NAME').sum()['Count'].sort_values(ascending=False).to_frame().head(10)"
   ]
  },
  {
   "cell_type": "code",
   "execution_count": 65,
   "metadata": {},
   "outputs": [
    {
     "output_type": "execute_result",
     "data": {
      "text/plain": [
       "            PLAYER_NAME SHOT_ZONE_BASIC         SHOT_ZONE_AREA  \\\n",
       "1360  Courtney Williams       Mid-Range  Right Side Center(RC)   \n",
       "1362  Courtney Williams       Mid-Range  Right Side Center(RC)   \n",
       "1399  Courtney Williams       Mid-Range  Right Side Center(RC)   \n",
       "1409  Courtney Williams       Mid-Range  Right Side Center(RC)   \n",
       "3375  Courtney Williams       Mid-Range  Right Side Center(RC)   \n",
       "3669  Courtney Williams       Mid-Range  Right Side Center(RC)   \n",
       "4037  Courtney Williams       Mid-Range  Right Side Center(RC)   \n",
       "4042  Courtney Williams       Mid-Range  Right Side Center(RC)   \n",
       "4394  Courtney Williams       Mid-Range  Right Side Center(RC)   \n",
       "4433  Courtney Williams       Mid-Range  Right Side Center(RC)   \n",
       "4440  Courtney Williams       Mid-Range  Right Side Center(RC)   \n",
       "5527  Courtney Williams       Mid-Range  Right Side Center(RC)   \n",
       "5962  Courtney Williams       Mid-Range  Right Side Center(RC)   \n",
       "6051  Courtney Williams       Mid-Range  Right Side Center(RC)   \n",
       "6365  Courtney Williams       Mid-Range  Right Side Center(RC)   \n",
       "6372  Courtney Williams       Mid-Range  Right Side Center(RC)   \n",
       "6783  Courtney Williams       Mid-Range  Right Side Center(RC)   \n",
       "6807  Courtney Williams       Mid-Range  Right Side Center(RC)   \n",
       "6814  Courtney Williams       Mid-Range  Right Side Center(RC)   \n",
       "7376  Courtney Williams       Mid-Range  Right Side Center(RC)   \n",
       "7394  Courtney Williams       Mid-Range  Right Side Center(RC)   \n",
       "7416  Courtney Williams       Mid-Range  Right Side Center(RC)   \n",
       "7720  Courtney Williams       Mid-Range  Right Side Center(RC)   \n",
       "7727  Courtney Williams       Mid-Range  Right Side Center(RC)   \n",
       "\n",
       "     SHOT_ZONE_RANGE  SHOT_DISTANCE  LOC_X  LOC_Y  Count  \n",
       "1360       16-24 ft.             16    134    101      1  \n",
       "1362       16-24 ft.             16    124    115      1  \n",
       "1399       16-24 ft.             19     97    170      1  \n",
       "1409       16-24 ft.             21     91    190      1  \n",
       "3375       16-24 ft.             16     74    147      1  \n",
       "3669       16-24 ft.             18    117    148      1  \n",
       "4037       16-24 ft.             18     98    152      1  \n",
       "4042       16-24 ft.             18     93    156      1  \n",
       "4394       16-24 ft.             19     79    177      1  \n",
       "4433       16-24 ft.             17     75    154      1  \n",
       "4440       16-24 ft.             17     75    158      1  \n",
       "5527       16-24 ft.             18     74    173      1  \n",
       "5962       16-24 ft.             18    122    136      1  \n",
       "6051       16-24 ft.             19    109    160      1  \n",
       "6365       16-24 ft.             18     75    168      1  \n",
       "6372       16-24 ft.             20     70    190      1  \n",
       "6783       16-24 ft.             19    117    155      1  \n",
       "6807       16-24 ft.             19     74    183      1  \n",
       "6814       16-24 ft.             18    130    127      1  \n",
       "7376       16-24 ft.             17    124    120      1  \n",
       "7394       16-24 ft.             17     74    163      1  \n",
       "7416       16-24 ft.             17    100    149      1  \n",
       "7720       16-24 ft.             17    122    127      1  \n",
       "7727       16-24 ft.             20    150    133      1  "
      ],
      "text/html": "<div>\n<style scoped>\n    .dataframe tbody tr th:only-of-type {\n        vertical-align: middle;\n    }\n\n    .dataframe tbody tr th {\n        vertical-align: top;\n    }\n\n    .dataframe thead th {\n        text-align: right;\n    }\n</style>\n<table border=\"1\" class=\"dataframe\">\n  <thead>\n    <tr style=\"text-align: right;\">\n      <th></th>\n      <th>PLAYER_NAME</th>\n      <th>SHOT_ZONE_BASIC</th>\n      <th>SHOT_ZONE_AREA</th>\n      <th>SHOT_ZONE_RANGE</th>\n      <th>SHOT_DISTANCE</th>\n      <th>LOC_X</th>\n      <th>LOC_Y</th>\n      <th>Count</th>\n    </tr>\n  </thead>\n  <tbody>\n    <tr>\n      <th>1360</th>\n      <td>Courtney Williams</td>\n      <td>Mid-Range</td>\n      <td>Right Side Center(RC)</td>\n      <td>16-24 ft.</td>\n      <td>16</td>\n      <td>134</td>\n      <td>101</td>\n      <td>1</td>\n    </tr>\n    <tr>\n      <th>1362</th>\n      <td>Courtney Williams</td>\n      <td>Mid-Range</td>\n      <td>Right Side Center(RC)</td>\n      <td>16-24 ft.</td>\n      <td>16</td>\n      <td>124</td>\n      <td>115</td>\n      <td>1</td>\n    </tr>\n    <tr>\n      <th>1399</th>\n      <td>Courtney Williams</td>\n      <td>Mid-Range</td>\n      <td>Right Side Center(RC)</td>\n      <td>16-24 ft.</td>\n      <td>19</td>\n      <td>97</td>\n      <td>170</td>\n      <td>1</td>\n    </tr>\n    <tr>\n      <th>1409</th>\n      <td>Courtney Williams</td>\n      <td>Mid-Range</td>\n      <td>Right Side Center(RC)</td>\n      <td>16-24 ft.</td>\n      <td>21</td>\n      <td>91</td>\n      <td>190</td>\n      <td>1</td>\n    </tr>\n    <tr>\n      <th>3375</th>\n      <td>Courtney Williams</td>\n      <td>Mid-Range</td>\n      <td>Right Side Center(RC)</td>\n      <td>16-24 ft.</td>\n      <td>16</td>\n      <td>74</td>\n      <td>147</td>\n      <td>1</td>\n    </tr>\n    <tr>\n      <th>3669</th>\n      <td>Courtney Williams</td>\n      <td>Mid-Range</td>\n      <td>Right Side Center(RC)</td>\n      <td>16-24 ft.</td>\n      <td>18</td>\n      <td>117</td>\n      <td>148</td>\n      <td>1</td>\n    </tr>\n    <tr>\n      <th>4037</th>\n      <td>Courtney Williams</td>\n      <td>Mid-Range</td>\n      <td>Right Side Center(RC)</td>\n      <td>16-24 ft.</td>\n      <td>18</td>\n      <td>98</td>\n      <td>152</td>\n      <td>1</td>\n    </tr>\n    <tr>\n      <th>4042</th>\n      <td>Courtney Williams</td>\n      <td>Mid-Range</td>\n      <td>Right Side Center(RC)</td>\n      <td>16-24 ft.</td>\n      <td>18</td>\n      <td>93</td>\n      <td>156</td>\n      <td>1</td>\n    </tr>\n    <tr>\n      <th>4394</th>\n      <td>Courtney Williams</td>\n      <td>Mid-Range</td>\n      <td>Right Side Center(RC)</td>\n      <td>16-24 ft.</td>\n      <td>19</td>\n      <td>79</td>\n      <td>177</td>\n      <td>1</td>\n    </tr>\n    <tr>\n      <th>4433</th>\n      <td>Courtney Williams</td>\n      <td>Mid-Range</td>\n      <td>Right Side Center(RC)</td>\n      <td>16-24 ft.</td>\n      <td>17</td>\n      <td>75</td>\n      <td>154</td>\n      <td>1</td>\n    </tr>\n    <tr>\n      <th>4440</th>\n      <td>Courtney Williams</td>\n      <td>Mid-Range</td>\n      <td>Right Side Center(RC)</td>\n      <td>16-24 ft.</td>\n      <td>17</td>\n      <td>75</td>\n      <td>158</td>\n      <td>1</td>\n    </tr>\n    <tr>\n      <th>5527</th>\n      <td>Courtney Williams</td>\n      <td>Mid-Range</td>\n      <td>Right Side Center(RC)</td>\n      <td>16-24 ft.</td>\n      <td>18</td>\n      <td>74</td>\n      <td>173</td>\n      <td>1</td>\n    </tr>\n    <tr>\n      <th>5962</th>\n      <td>Courtney Williams</td>\n      <td>Mid-Range</td>\n      <td>Right Side Center(RC)</td>\n      <td>16-24 ft.</td>\n      <td>18</td>\n      <td>122</td>\n      <td>136</td>\n      <td>1</td>\n    </tr>\n    <tr>\n      <th>6051</th>\n      <td>Courtney Williams</td>\n      <td>Mid-Range</td>\n      <td>Right Side Center(RC)</td>\n      <td>16-24 ft.</td>\n      <td>19</td>\n      <td>109</td>\n      <td>160</td>\n      <td>1</td>\n    </tr>\n    <tr>\n      <th>6365</th>\n      <td>Courtney Williams</td>\n      <td>Mid-Range</td>\n      <td>Right Side Center(RC)</td>\n      <td>16-24 ft.</td>\n      <td>18</td>\n      <td>75</td>\n      <td>168</td>\n      <td>1</td>\n    </tr>\n    <tr>\n      <th>6372</th>\n      <td>Courtney Williams</td>\n      <td>Mid-Range</td>\n      <td>Right Side Center(RC)</td>\n      <td>16-24 ft.</td>\n      <td>20</td>\n      <td>70</td>\n      <td>190</td>\n      <td>1</td>\n    </tr>\n    <tr>\n      <th>6783</th>\n      <td>Courtney Williams</td>\n      <td>Mid-Range</td>\n      <td>Right Side Center(RC)</td>\n      <td>16-24 ft.</td>\n      <td>19</td>\n      <td>117</td>\n      <td>155</td>\n      <td>1</td>\n    </tr>\n    <tr>\n      <th>6807</th>\n      <td>Courtney Williams</td>\n      <td>Mid-Range</td>\n      <td>Right Side Center(RC)</td>\n      <td>16-24 ft.</td>\n      <td>19</td>\n      <td>74</td>\n      <td>183</td>\n      <td>1</td>\n    </tr>\n    <tr>\n      <th>6814</th>\n      <td>Courtney Williams</td>\n      <td>Mid-Range</td>\n      <td>Right Side Center(RC)</td>\n      <td>16-24 ft.</td>\n      <td>18</td>\n      <td>130</td>\n      <td>127</td>\n      <td>1</td>\n    </tr>\n    <tr>\n      <th>7376</th>\n      <td>Courtney Williams</td>\n      <td>Mid-Range</td>\n      <td>Right Side Center(RC)</td>\n      <td>16-24 ft.</td>\n      <td>17</td>\n      <td>124</td>\n      <td>120</td>\n      <td>1</td>\n    </tr>\n    <tr>\n      <th>7394</th>\n      <td>Courtney Williams</td>\n      <td>Mid-Range</td>\n      <td>Right Side Center(RC)</td>\n      <td>16-24 ft.</td>\n      <td>17</td>\n      <td>74</td>\n      <td>163</td>\n      <td>1</td>\n    </tr>\n    <tr>\n      <th>7416</th>\n      <td>Courtney Williams</td>\n      <td>Mid-Range</td>\n      <td>Right Side Center(RC)</td>\n      <td>16-24 ft.</td>\n      <td>17</td>\n      <td>100</td>\n      <td>149</td>\n      <td>1</td>\n    </tr>\n    <tr>\n      <th>7720</th>\n      <td>Courtney Williams</td>\n      <td>Mid-Range</td>\n      <td>Right Side Center(RC)</td>\n      <td>16-24 ft.</td>\n      <td>17</td>\n      <td>122</td>\n      <td>127</td>\n      <td>1</td>\n    </tr>\n    <tr>\n      <th>7727</th>\n      <td>Courtney Williams</td>\n      <td>Mid-Range</td>\n      <td>Right Side Center(RC)</td>\n      <td>16-24 ft.</td>\n      <td>20</td>\n      <td>150</td>\n      <td>133</td>\n      <td>1</td>\n    </tr>\n  </tbody>\n</table>\n</div>"
     },
     "metadata": {},
     "execution_count": 65
    }
   ],
   "source": [
    "Courtney_Williams_made_3=Mid_Range_RC.loc[Mid_Range_RC['PLAYER_NAME'] == 'Courtney Williams']\n",
    "Courtney_Williams_made_3"
   ]
  },
  {
   "cell_type": "markdown",
   "metadata": {},
   "source": [
    "### Left Side 8 -16ft"
   ]
  },
  {
   "cell_type": "code",
   "execution_count": 66,
   "metadata": {},
   "outputs": [
    {
     "output_type": "execute_result",
     "data": {
      "text/plain": [
       "                   Count\n",
       "PLAYER_NAME             \n",
       "Chennedy Carter       10\n",
       "Napheesa Collier      10\n",
       "Allie Quigley          9\n",
       "A'ja Wilson            8\n",
       "Ariel Atkins           8\n",
       "DeWanna Bonner         8\n",
       "Betnijah Laney         8\n",
       "Seimone Augustus       8\n",
       "Courtney Williams      8\n",
       "Candice Dupree         6"
      ],
      "text/html": "<div>\n<style scoped>\n    .dataframe tbody tr th:only-of-type {\n        vertical-align: middle;\n    }\n\n    .dataframe tbody tr th {\n        vertical-align: top;\n    }\n\n    .dataframe thead th {\n        text-align: right;\n    }\n</style>\n<table border=\"1\" class=\"dataframe\">\n  <thead>\n    <tr style=\"text-align: right;\">\n      <th></th>\n      <th>Count</th>\n    </tr>\n    <tr>\n      <th>PLAYER_NAME</th>\n      <th></th>\n    </tr>\n  </thead>\n  <tbody>\n    <tr>\n      <th>Chennedy Carter</th>\n      <td>10</td>\n    </tr>\n    <tr>\n      <th>Napheesa Collier</th>\n      <td>10</td>\n    </tr>\n    <tr>\n      <th>Allie Quigley</th>\n      <td>9</td>\n    </tr>\n    <tr>\n      <th>A'ja Wilson</th>\n      <td>8</td>\n    </tr>\n    <tr>\n      <th>Ariel Atkins</th>\n      <td>8</td>\n    </tr>\n    <tr>\n      <th>DeWanna Bonner</th>\n      <td>8</td>\n    </tr>\n    <tr>\n      <th>Betnijah Laney</th>\n      <td>8</td>\n    </tr>\n    <tr>\n      <th>Seimone Augustus</th>\n      <td>8</td>\n    </tr>\n    <tr>\n      <th>Courtney Williams</th>\n      <td>8</td>\n    </tr>\n    <tr>\n      <th>Candice Dupree</th>\n      <td>6</td>\n    </tr>\n  </tbody>\n</table>\n</div>"
     },
     "metadata": {},
     "execution_count": 66
    }
   ],
   "source": [
    "Mid_Range_LS_8to16=Mid_Range.loc[Mid_Range['SHOT_ZONE_AREA'] == 'Left Side(L)']\n",
    "Mid_Range_LS_8to16.loc[Mid_Range_LS_8to16['SHOT_ZONE_RANGE']=='8-16 ft.'].groupby(by='PLAYER_NAME').sum()['Count'].sort_values(ascending=False).to_frame().head(10)"
   ]
  },
  {
   "cell_type": "code",
   "execution_count": 67,
   "metadata": {},
   "outputs": [
    {
     "output_type": "execute_result",
     "data": {
      "text/plain": [
       "          PLAYER_NAME SHOT_ZONE_BASIC SHOT_ZONE_AREA SHOT_ZONE_RANGE  \\\n",
       "997   Chennedy Carter       Mid-Range   Left Side(L)        8-16 ft.   \n",
       "1378  Chennedy Carter       Mid-Range   Left Side(L)        8-16 ft.   \n",
       "1382  Chennedy Carter       Mid-Range   Left Side(L)        8-16 ft.   \n",
       "1585  Chennedy Carter       Mid-Range   Left Side(L)        8-16 ft.   \n",
       "5124  Chennedy Carter       Mid-Range   Left Side(L)        8-16 ft.   \n",
       "5153  Chennedy Carter       Mid-Range   Left Side(L)        8-16 ft.   \n",
       "5160  Chennedy Carter       Mid-Range   Left Side(L)        8-16 ft.   \n",
       "5934  Chennedy Carter       Mid-Range   Left Side(L)        8-16 ft.   \n",
       "6045  Chennedy Carter       Mid-Range   Left Side(L)       16-24 ft.   \n",
       "6359  Chennedy Carter       Mid-Range   Left Side(L)        8-16 ft.   \n",
       "7713  Chennedy Carter       Mid-Range   Left Side(L)        8-16 ft.   \n",
       "\n",
       "      SHOT_DISTANCE  LOC_X  LOC_Y  Count  \n",
       "997              13   -100     88      1  \n",
       "1378             13   -131     26      1  \n",
       "1382             13    -87     99      1  \n",
       "1585             15   -146     52      1  \n",
       "5124             13    -86     99      1  \n",
       "5153             10   -101     31      1  \n",
       "5160             14   -134     63      1  \n",
       "5934             12   -120     10      1  \n",
       "6045             17   -154     73      1  \n",
       "6359             14   -109    103      1  \n",
       "7713             10    -93     51      1  "
      ],
      "text/html": "<div>\n<style scoped>\n    .dataframe tbody tr th:only-of-type {\n        vertical-align: middle;\n    }\n\n    .dataframe tbody tr th {\n        vertical-align: top;\n    }\n\n    .dataframe thead th {\n        text-align: right;\n    }\n</style>\n<table border=\"1\" class=\"dataframe\">\n  <thead>\n    <tr style=\"text-align: right;\">\n      <th></th>\n      <th>PLAYER_NAME</th>\n      <th>SHOT_ZONE_BASIC</th>\n      <th>SHOT_ZONE_AREA</th>\n      <th>SHOT_ZONE_RANGE</th>\n      <th>SHOT_DISTANCE</th>\n      <th>LOC_X</th>\n      <th>LOC_Y</th>\n      <th>Count</th>\n    </tr>\n  </thead>\n  <tbody>\n    <tr>\n      <th>997</th>\n      <td>Chennedy Carter</td>\n      <td>Mid-Range</td>\n      <td>Left Side(L)</td>\n      <td>8-16 ft.</td>\n      <td>13</td>\n      <td>-100</td>\n      <td>88</td>\n      <td>1</td>\n    </tr>\n    <tr>\n      <th>1378</th>\n      <td>Chennedy Carter</td>\n      <td>Mid-Range</td>\n      <td>Left Side(L)</td>\n      <td>8-16 ft.</td>\n      <td>13</td>\n      <td>-131</td>\n      <td>26</td>\n      <td>1</td>\n    </tr>\n    <tr>\n      <th>1382</th>\n      <td>Chennedy Carter</td>\n      <td>Mid-Range</td>\n      <td>Left Side(L)</td>\n      <td>8-16 ft.</td>\n      <td>13</td>\n      <td>-87</td>\n      <td>99</td>\n      <td>1</td>\n    </tr>\n    <tr>\n      <th>1585</th>\n      <td>Chennedy Carter</td>\n      <td>Mid-Range</td>\n      <td>Left Side(L)</td>\n      <td>8-16 ft.</td>\n      <td>15</td>\n      <td>-146</td>\n      <td>52</td>\n      <td>1</td>\n    </tr>\n    <tr>\n      <th>5124</th>\n      <td>Chennedy Carter</td>\n      <td>Mid-Range</td>\n      <td>Left Side(L)</td>\n      <td>8-16 ft.</td>\n      <td>13</td>\n      <td>-86</td>\n      <td>99</td>\n      <td>1</td>\n    </tr>\n    <tr>\n      <th>5153</th>\n      <td>Chennedy Carter</td>\n      <td>Mid-Range</td>\n      <td>Left Side(L)</td>\n      <td>8-16 ft.</td>\n      <td>10</td>\n      <td>-101</td>\n      <td>31</td>\n      <td>1</td>\n    </tr>\n    <tr>\n      <th>5160</th>\n      <td>Chennedy Carter</td>\n      <td>Mid-Range</td>\n      <td>Left Side(L)</td>\n      <td>8-16 ft.</td>\n      <td>14</td>\n      <td>-134</td>\n      <td>63</td>\n      <td>1</td>\n    </tr>\n    <tr>\n      <th>5934</th>\n      <td>Chennedy Carter</td>\n      <td>Mid-Range</td>\n      <td>Left Side(L)</td>\n      <td>8-16 ft.</td>\n      <td>12</td>\n      <td>-120</td>\n      <td>10</td>\n      <td>1</td>\n    </tr>\n    <tr>\n      <th>6045</th>\n      <td>Chennedy Carter</td>\n      <td>Mid-Range</td>\n      <td>Left Side(L)</td>\n      <td>16-24 ft.</td>\n      <td>17</td>\n      <td>-154</td>\n      <td>73</td>\n      <td>1</td>\n    </tr>\n    <tr>\n      <th>6359</th>\n      <td>Chennedy Carter</td>\n      <td>Mid-Range</td>\n      <td>Left Side(L)</td>\n      <td>8-16 ft.</td>\n      <td>14</td>\n      <td>-109</td>\n      <td>103</td>\n      <td>1</td>\n    </tr>\n    <tr>\n      <th>7713</th>\n      <td>Chennedy Carter</td>\n      <td>Mid-Range</td>\n      <td>Left Side(L)</td>\n      <td>8-16 ft.</td>\n      <td>10</td>\n      <td>-93</td>\n      <td>51</td>\n      <td>1</td>\n    </tr>\n  </tbody>\n</table>\n</div>"
     },
     "metadata": {},
     "execution_count": 67
    }
   ],
   "source": [
    "Chennedy_Carter_made=Mid_Range_LS_8to16.loc[Mid_Range_LS_8to16['PLAYER_NAME'] =='Chennedy Carter']\n",
    "Chennedy_Carter_made"
   ]
  },
  {
   "cell_type": "markdown",
   "metadata": {},
   "source": [
    "### Left Side 16-24 ft"
   ]
  },
  {
   "cell_type": "code",
   "execution_count": 68,
   "metadata": {},
   "outputs": [
    {
     "output_type": "execute_result",
     "data": {
      "text/plain": [
       "                   Count\n",
       "PLAYER_NAME             \n",
       "Candice Dupree        10\n",
       "Emma Meesseman         6\n",
       "Courtney Williams      5\n",
       "Kahleah Copper         4\n",
       "Jewell Loyd            4\n",
       "Tiffany Mitchell       3\n",
       "Ariel Atkins           3\n",
       "Arike Ogunbowale       3\n",
       "Sue Bird               3\n",
       "A'ja Wilson            3"
      ],
      "text/html": "<div>\n<style scoped>\n    .dataframe tbody tr th:only-of-type {\n        vertical-align: middle;\n    }\n\n    .dataframe tbody tr th {\n        vertical-align: top;\n    }\n\n    .dataframe thead th {\n        text-align: right;\n    }\n</style>\n<table border=\"1\" class=\"dataframe\">\n  <thead>\n    <tr style=\"text-align: right;\">\n      <th></th>\n      <th>Count</th>\n    </tr>\n    <tr>\n      <th>PLAYER_NAME</th>\n      <th></th>\n    </tr>\n  </thead>\n  <tbody>\n    <tr>\n      <th>Candice Dupree</th>\n      <td>10</td>\n    </tr>\n    <tr>\n      <th>Emma Meesseman</th>\n      <td>6</td>\n    </tr>\n    <tr>\n      <th>Courtney Williams</th>\n      <td>5</td>\n    </tr>\n    <tr>\n      <th>Kahleah Copper</th>\n      <td>4</td>\n    </tr>\n    <tr>\n      <th>Jewell Loyd</th>\n      <td>4</td>\n    </tr>\n    <tr>\n      <th>Tiffany Mitchell</th>\n      <td>3</td>\n    </tr>\n    <tr>\n      <th>Ariel Atkins</th>\n      <td>3</td>\n    </tr>\n    <tr>\n      <th>Arike Ogunbowale</th>\n      <td>3</td>\n    </tr>\n    <tr>\n      <th>Sue Bird</th>\n      <td>3</td>\n    </tr>\n    <tr>\n      <th>A'ja Wilson</th>\n      <td>3</td>\n    </tr>\n  </tbody>\n</table>\n</div>"
     },
     "metadata": {},
     "execution_count": 68
    }
   ],
   "source": [
    "Mid_Range_LS_16TO24=Mid_Range.loc[Mid_Range['SHOT_ZONE_AREA'] == 'Left Side(L)']\n",
    "Mid_Range_LS_16TO24.loc[Mid_Range_LS_16TO24['SHOT_ZONE_RANGE']=='16-24 ft.'].groupby(by='PLAYER_NAME').sum()['Count'].sort_values(ascending=False).to_frame().head(10)"
   ]
  },
  {
   "cell_type": "code",
   "execution_count": 69,
   "metadata": {},
   "outputs": [
    {
     "output_type": "execute_result",
     "data": {
      "text/plain": [
       "         PLAYER_NAME SHOT_ZONE_BASIC SHOT_ZONE_AREA SHOT_ZONE_RANGE  \\\n",
       "576   Candice Dupree       Mid-Range   Left Side(L)       16-24 ft.   \n",
       "623   Candice Dupree       Mid-Range   Left Side(L)       16-24 ft.   \n",
       "1035  Candice Dupree       Mid-Range   Left Side(L)       16-24 ft.   \n",
       "1783  Candice Dupree       Mid-Range   Left Side(L)        8-16 ft.   \n",
       "2050  Candice Dupree       Mid-Range   Left Side(L)        8-16 ft.   \n",
       "2789  Candice Dupree       Mid-Range   Left Side(L)       16-24 ft.   \n",
       "2792  Candice Dupree       Mid-Range   Left Side(L)       16-24 ft.   \n",
       "2799  Candice Dupree       Mid-Range   Left Side(L)       16-24 ft.   \n",
       "2813  Candice Dupree       Mid-Range   Left Side(L)       16-24 ft.   \n",
       "3847  Candice Dupree       Mid-Range   Left Side(L)       16-24 ft.   \n",
       "4602  Candice Dupree       Mid-Range   Left Side(L)        8-16 ft.   \n",
       "5698  Candice Dupree       Mid-Range   Left Side(L)       16-24 ft.   \n",
       "6473  Candice Dupree       Mid-Range   Left Side(L)        8-16 ft.   \n",
       "6751  Candice Dupree       Mid-Range   Left Side(L)        8-16 ft.   \n",
       "7258  Candice Dupree       Mid-Range   Left Side(L)       16-24 ft.   \n",
       "7949  Candice Dupree       Mid-Range   Left Side(L)        8-16 ft.   \n",
       "\n",
       "      SHOT_DISTANCE  LOC_X  LOC_Y  Count  \n",
       "576              17   -170    -11      1  \n",
       "623              16   -160     27      1  \n",
       "1035             17   -171    -20      1  \n",
       "1783             12   -111     67      1  \n",
       "2050             15   -136     72      1  \n",
       "2789             19   -165     96      1  \n",
       "2792             19   -195     22      1  \n",
       "2799             19   -163    113      1  \n",
       "2813             18   -186     31      1  \n",
       "3847             17   -169     48      1  \n",
       "4602             12   -121     -9      1  \n",
       "5698             16   -165     26      1  \n",
       "6473             12    -93     78      1  \n",
       "6751             13   -130     36      1  \n",
       "7258             16   -163     31      1  \n",
       "7949             12   -125     18      1  "
      ],
      "text/html": "<div>\n<style scoped>\n    .dataframe tbody tr th:only-of-type {\n        vertical-align: middle;\n    }\n\n    .dataframe tbody tr th {\n        vertical-align: top;\n    }\n\n    .dataframe thead th {\n        text-align: right;\n    }\n</style>\n<table border=\"1\" class=\"dataframe\">\n  <thead>\n    <tr style=\"text-align: right;\">\n      <th></th>\n      <th>PLAYER_NAME</th>\n      <th>SHOT_ZONE_BASIC</th>\n      <th>SHOT_ZONE_AREA</th>\n      <th>SHOT_ZONE_RANGE</th>\n      <th>SHOT_DISTANCE</th>\n      <th>LOC_X</th>\n      <th>LOC_Y</th>\n      <th>Count</th>\n    </tr>\n  </thead>\n  <tbody>\n    <tr>\n      <th>576</th>\n      <td>Candice Dupree</td>\n      <td>Mid-Range</td>\n      <td>Left Side(L)</td>\n      <td>16-24 ft.</td>\n      <td>17</td>\n      <td>-170</td>\n      <td>-11</td>\n      <td>1</td>\n    </tr>\n    <tr>\n      <th>623</th>\n      <td>Candice Dupree</td>\n      <td>Mid-Range</td>\n      <td>Left Side(L)</td>\n      <td>16-24 ft.</td>\n      <td>16</td>\n      <td>-160</td>\n      <td>27</td>\n      <td>1</td>\n    </tr>\n    <tr>\n      <th>1035</th>\n      <td>Candice Dupree</td>\n      <td>Mid-Range</td>\n      <td>Left Side(L)</td>\n      <td>16-24 ft.</td>\n      <td>17</td>\n      <td>-171</td>\n      <td>-20</td>\n      <td>1</td>\n    </tr>\n    <tr>\n      <th>1783</th>\n      <td>Candice Dupree</td>\n      <td>Mid-Range</td>\n      <td>Left Side(L)</td>\n      <td>8-16 ft.</td>\n      <td>12</td>\n      <td>-111</td>\n      <td>67</td>\n      <td>1</td>\n    </tr>\n    <tr>\n      <th>2050</th>\n      <td>Candice Dupree</td>\n      <td>Mid-Range</td>\n      <td>Left Side(L)</td>\n      <td>8-16 ft.</td>\n      <td>15</td>\n      <td>-136</td>\n      <td>72</td>\n      <td>1</td>\n    </tr>\n    <tr>\n      <th>2789</th>\n      <td>Candice Dupree</td>\n      <td>Mid-Range</td>\n      <td>Left Side(L)</td>\n      <td>16-24 ft.</td>\n      <td>19</td>\n      <td>-165</td>\n      <td>96</td>\n      <td>1</td>\n    </tr>\n    <tr>\n      <th>2792</th>\n      <td>Candice Dupree</td>\n      <td>Mid-Range</td>\n      <td>Left Side(L)</td>\n      <td>16-24 ft.</td>\n      <td>19</td>\n      <td>-195</td>\n      <td>22</td>\n      <td>1</td>\n    </tr>\n    <tr>\n      <th>2799</th>\n      <td>Candice Dupree</td>\n      <td>Mid-Range</td>\n      <td>Left Side(L)</td>\n      <td>16-24 ft.</td>\n      <td>19</td>\n      <td>-163</td>\n      <td>113</td>\n      <td>1</td>\n    </tr>\n    <tr>\n      <th>2813</th>\n      <td>Candice Dupree</td>\n      <td>Mid-Range</td>\n      <td>Left Side(L)</td>\n      <td>16-24 ft.</td>\n      <td>18</td>\n      <td>-186</td>\n      <td>31</td>\n      <td>1</td>\n    </tr>\n    <tr>\n      <th>3847</th>\n      <td>Candice Dupree</td>\n      <td>Mid-Range</td>\n      <td>Left Side(L)</td>\n      <td>16-24 ft.</td>\n      <td>17</td>\n      <td>-169</td>\n      <td>48</td>\n      <td>1</td>\n    </tr>\n    <tr>\n      <th>4602</th>\n      <td>Candice Dupree</td>\n      <td>Mid-Range</td>\n      <td>Left Side(L)</td>\n      <td>8-16 ft.</td>\n      <td>12</td>\n      <td>-121</td>\n      <td>-9</td>\n      <td>1</td>\n    </tr>\n    <tr>\n      <th>5698</th>\n      <td>Candice Dupree</td>\n      <td>Mid-Range</td>\n      <td>Left Side(L)</td>\n      <td>16-24 ft.</td>\n      <td>16</td>\n      <td>-165</td>\n      <td>26</td>\n      <td>1</td>\n    </tr>\n    <tr>\n      <th>6473</th>\n      <td>Candice Dupree</td>\n      <td>Mid-Range</td>\n      <td>Left Side(L)</td>\n      <td>8-16 ft.</td>\n      <td>12</td>\n      <td>-93</td>\n      <td>78</td>\n      <td>1</td>\n    </tr>\n    <tr>\n      <th>6751</th>\n      <td>Candice Dupree</td>\n      <td>Mid-Range</td>\n      <td>Left Side(L)</td>\n      <td>8-16 ft.</td>\n      <td>13</td>\n      <td>-130</td>\n      <td>36</td>\n      <td>1</td>\n    </tr>\n    <tr>\n      <th>7258</th>\n      <td>Candice Dupree</td>\n      <td>Mid-Range</td>\n      <td>Left Side(L)</td>\n      <td>16-24 ft.</td>\n      <td>16</td>\n      <td>-163</td>\n      <td>31</td>\n      <td>1</td>\n    </tr>\n    <tr>\n      <th>7949</th>\n      <td>Candice Dupree</td>\n      <td>Mid-Range</td>\n      <td>Left Side(L)</td>\n      <td>8-16 ft.</td>\n      <td>12</td>\n      <td>-125</td>\n      <td>18</td>\n      <td>1</td>\n    </tr>\n  </tbody>\n</table>\n</div>"
     },
     "metadata": {},
     "execution_count": 69
    }
   ],
   "source": [
    "Candice_Dupree_made=Mid_Range_LS_16TO24.loc[Mid_Range_LS_16TO24['PLAYER_NAME'] =='Candice Dupree']\n",
    "Candice_Dupree_made"
   ]
  },
  {
   "cell_type": "markdown",
   "metadata": {},
   "source": [
    "# In the paint (NON_RA)"
   ]
  },
  {
   "cell_type": "code",
   "execution_count": 72,
   "metadata": {},
   "outputs": [
    {
     "output_type": "execute_result",
     "data": {
      "text/plain": [
       "array(['Center(C)', 'Left Side(L)', 'Right Side(R)'], dtype=object)"
      ]
     },
     "metadata": {},
     "execution_count": 72
    }
   ],
   "source": [
    "In_the_paint_nra=file_to_load.loc[file_to_load['SHOT_ZONE_BASIC'] =='In The Paint (Non-RA)']\n",
    "In_the_paint_nra.SHOT_ZONE_AREA.unique()"
   ]
  },
  {
   "cell_type": "markdown",
   "metadata": {},
   "source": [
    "### Center less than 8ft"
   ]
  },
  {
   "cell_type": "code",
   "execution_count": 73,
   "metadata": {},
   "outputs": [
    {
     "output_type": "execute_result",
     "data": {
      "text/plain": [
       "                      Count\n",
       "PLAYER_NAME                \n",
       "Myisha Hines-Allen       44\n",
       "Alyssa Thomas            44\n",
       "Brittney Griner          37\n",
       "A'ja Wilson              35\n",
       "Napheesa Collier         34\n",
       "Arike Ogunbowale         31\n",
       "DeWanna Bonner           30\n",
       "Skylar Diggins-Smith     30\n",
       "Angel McCoughtry         29\n",
       "Cheyenne Parker          27"
      ],
      "text/html": "<div>\n<style scoped>\n    .dataframe tbody tr th:only-of-type {\n        vertical-align: middle;\n    }\n\n    .dataframe tbody tr th {\n        vertical-align: top;\n    }\n\n    .dataframe thead th {\n        text-align: right;\n    }\n</style>\n<table border=\"1\" class=\"dataframe\">\n  <thead>\n    <tr style=\"text-align: right;\">\n      <th></th>\n      <th>Count</th>\n    </tr>\n    <tr>\n      <th>PLAYER_NAME</th>\n      <th></th>\n    </tr>\n  </thead>\n  <tbody>\n    <tr>\n      <th>Myisha Hines-Allen</th>\n      <td>44</td>\n    </tr>\n    <tr>\n      <th>Alyssa Thomas</th>\n      <td>44</td>\n    </tr>\n    <tr>\n      <th>Brittney Griner</th>\n      <td>37</td>\n    </tr>\n    <tr>\n      <th>A'ja Wilson</th>\n      <td>35</td>\n    </tr>\n    <tr>\n      <th>Napheesa Collier</th>\n      <td>34</td>\n    </tr>\n    <tr>\n      <th>Arike Ogunbowale</th>\n      <td>31</td>\n    </tr>\n    <tr>\n      <th>DeWanna Bonner</th>\n      <td>30</td>\n    </tr>\n    <tr>\n      <th>Skylar Diggins-Smith</th>\n      <td>30</td>\n    </tr>\n    <tr>\n      <th>Angel McCoughtry</th>\n      <td>29</td>\n    </tr>\n    <tr>\n      <th>Cheyenne Parker</th>\n      <td>27</td>\n    </tr>\n  </tbody>\n</table>\n</div>"
     },
     "metadata": {},
     "execution_count": 73
    }
   ],
   "source": [
    "NRA_Center=In_the_paint_nra.loc[In_the_paint_nra['SHOT_ZONE_AREA'] == 'Center(C)']\n",
    "NRA_Center_lessthan8ft=NRA_Center.loc[NRA_Center['SHOT_ZONE_RANGE']=='Less Than 8 ft.'].groupby(by='PLAYER_NAME').sum()['Count'].sort_values(ascending=False).to_frame().head(10)\n",
    "NRA_Center_lessthan8ft"
   ]
  },
  {
   "cell_type": "code",
   "execution_count": 79,
   "metadata": {},
   "outputs": [],
   "source": [
    "A_THomas=NRA_Center.loc[NRA_Center['PLAYER_NAME'] == 'Alyssa Thomas']"
   ]
  },
  {
   "cell_type": "markdown",
   "metadata": {},
   "source": [
    "### Center 8-16ft"
   ]
  },
  {
   "cell_type": "code",
   "execution_count": 27,
   "metadata": {},
   "outputs": [
    {
     "output_type": "execute_result",
     "data": {
      "text/plain": [
       "                     Count\n",
       "PLAYER_NAME               \n",
       "A'ja Wilson             15\n",
       "Jackie Young            14\n",
       "Courtney Williams       12\n",
       "Alyssa Thomas           12\n",
       "Chelsea Gray            12\n",
       "Crystal Dangerfield     10\n",
       "Emma Meesseman           8\n",
       "Allie Quigley            8\n",
       "Breanna Stewart          8\n",
       "Arike Ogunbowale         8"
      ],
      "text/html": "<div>\n<style scoped>\n    .dataframe tbody tr th:only-of-type {\n        vertical-align: middle;\n    }\n\n    .dataframe tbody tr th {\n        vertical-align: top;\n    }\n\n    .dataframe thead th {\n        text-align: right;\n    }\n</style>\n<table border=\"1\" class=\"dataframe\">\n  <thead>\n    <tr style=\"text-align: right;\">\n      <th></th>\n      <th>Count</th>\n    </tr>\n    <tr>\n      <th>PLAYER_NAME</th>\n      <th></th>\n    </tr>\n  </thead>\n  <tbody>\n    <tr>\n      <th>A'ja Wilson</th>\n      <td>15</td>\n    </tr>\n    <tr>\n      <th>Jackie Young</th>\n      <td>14</td>\n    </tr>\n    <tr>\n      <th>Courtney Williams</th>\n      <td>12</td>\n    </tr>\n    <tr>\n      <th>Alyssa Thomas</th>\n      <td>12</td>\n    </tr>\n    <tr>\n      <th>Chelsea Gray</th>\n      <td>12</td>\n    </tr>\n    <tr>\n      <th>Crystal Dangerfield</th>\n      <td>10</td>\n    </tr>\n    <tr>\n      <th>Emma Meesseman</th>\n      <td>8</td>\n    </tr>\n    <tr>\n      <th>Allie Quigley</th>\n      <td>8</td>\n    </tr>\n    <tr>\n      <th>Breanna Stewart</th>\n      <td>8</td>\n    </tr>\n    <tr>\n      <th>Arike Ogunbowale</th>\n      <td>8</td>\n    </tr>\n  </tbody>\n</table>\n</div>"
     },
     "metadata": {},
     "execution_count": 27
    }
   ],
   "source": [
    "NRA_Center=In_the_paint_nra.loc[In_the_paint_nra['SHOT_ZONE_AREA'] == 'Center(C)']\n",
    "NRA_Center_8to16ft=NRA_Center.loc[NRA_Center['SHOT_ZONE_RANGE']=='8-16 ft.'].groupby(by='PLAYER_NAME').sum()['Count'].sort_values(ascending=False).to_frame().head(10)\n",
    "NRA_Center_8to16ft"
   ]
  },
  {
   "cell_type": "markdown",
   "metadata": {},
   "source": [
    "### Left Side "
   ]
  },
  {
   "cell_type": "code",
   "execution_count": 82,
   "metadata": {},
   "outputs": [
    {
     "output_type": "execute_result",
     "data": {
      "text/plain": [
       "                   Count\n",
       "PLAYER_NAME             \n",
       "Napheesa Collier       4\n",
       "Betnijah Laney         4\n",
       "Breanna Stewart        4\n",
       "Emma Meesseman         3\n",
       "Arike Ogunbowale       3\n",
       "Candice Dupree         3\n",
       "Courtney Williams      3\n",
       "A'ja Wilson            3\n",
       "Tiffany Mitchell       2\n",
       "Nneka Ogwumike         2"
      ],
      "text/html": "<div>\n<style scoped>\n    .dataframe tbody tr th:only-of-type {\n        vertical-align: middle;\n    }\n\n    .dataframe tbody tr th {\n        vertical-align: top;\n    }\n\n    .dataframe thead th {\n        text-align: right;\n    }\n</style>\n<table border=\"1\" class=\"dataframe\">\n  <thead>\n    <tr style=\"text-align: right;\">\n      <th></th>\n      <th>Count</th>\n    </tr>\n    <tr>\n      <th>PLAYER_NAME</th>\n      <th></th>\n    </tr>\n  </thead>\n  <tbody>\n    <tr>\n      <th>Napheesa Collier</th>\n      <td>4</td>\n    </tr>\n    <tr>\n      <th>Betnijah Laney</th>\n      <td>4</td>\n    </tr>\n    <tr>\n      <th>Breanna Stewart</th>\n      <td>4</td>\n    </tr>\n    <tr>\n      <th>Emma Meesseman</th>\n      <td>3</td>\n    </tr>\n    <tr>\n      <th>Arike Ogunbowale</th>\n      <td>3</td>\n    </tr>\n    <tr>\n      <th>Candice Dupree</th>\n      <td>3</td>\n    </tr>\n    <tr>\n      <th>Courtney Williams</th>\n      <td>3</td>\n    </tr>\n    <tr>\n      <th>A'ja Wilson</th>\n      <td>3</td>\n    </tr>\n    <tr>\n      <th>Tiffany Mitchell</th>\n      <td>2</td>\n    </tr>\n    <tr>\n      <th>Nneka Ogwumike</th>\n      <td>2</td>\n    </tr>\n  </tbody>\n</table>\n</div>"
     },
     "metadata": {},
     "execution_count": 82
    }
   ],
   "source": [
    "NRA_Left=In_the_paint_nra.loc[In_the_paint_nra['SHOT_ZONE_AREA'] == 'Left Side(L)']\n",
    "NRA_Left.groupby(by='PLAYER_NAME').sum()['Count'].sort_values(ascending=False).to_frame().head(10)"
   ]
  },
  {
   "cell_type": "code",
   "execution_count": 86,
   "metadata": {},
   "outputs": [],
   "source": [
    "Napheesa_Collier_made=NRA_Left.loc[NRA_Left['PLAYER_NAME'] == 'Napheesa Collier']"
   ]
  },
  {
   "cell_type": "markdown",
   "metadata": {},
   "source": [
    "### Right Side"
   ]
  },
  {
   "cell_type": "code",
   "execution_count": 29,
   "metadata": {},
   "outputs": [
    {
     "output_type": "execute_result",
     "data": {
      "text/plain": [
       "                    Count\n",
       "PLAYER_NAME              \n",
       "A'ja Wilson             6\n",
       "Emma Meesseman          6\n",
       "Courtney Williams       6\n",
       "Chelsea Gray            4\n",
       "Myisha Hines-Allen      3\n",
       "Arike Ogunbowale        3\n",
       "Kia Vaughn              3\n",
       "Breanna Stewart         3\n",
       "Candice Dupree          3\n",
       "Isabelle Harrison       2"
      ],
      "text/html": "<div>\n<style scoped>\n    .dataframe tbody tr th:only-of-type {\n        vertical-align: middle;\n    }\n\n    .dataframe tbody tr th {\n        vertical-align: top;\n    }\n\n    .dataframe thead th {\n        text-align: right;\n    }\n</style>\n<table border=\"1\" class=\"dataframe\">\n  <thead>\n    <tr style=\"text-align: right;\">\n      <th></th>\n      <th>Count</th>\n    </tr>\n    <tr>\n      <th>PLAYER_NAME</th>\n      <th></th>\n    </tr>\n  </thead>\n  <tbody>\n    <tr>\n      <th>A'ja Wilson</th>\n      <td>6</td>\n    </tr>\n    <tr>\n      <th>Emma Meesseman</th>\n      <td>6</td>\n    </tr>\n    <tr>\n      <th>Courtney Williams</th>\n      <td>6</td>\n    </tr>\n    <tr>\n      <th>Chelsea Gray</th>\n      <td>4</td>\n    </tr>\n    <tr>\n      <th>Myisha Hines-Allen</th>\n      <td>3</td>\n    </tr>\n    <tr>\n      <th>Arike Ogunbowale</th>\n      <td>3</td>\n    </tr>\n    <tr>\n      <th>Kia Vaughn</th>\n      <td>3</td>\n    </tr>\n    <tr>\n      <th>Breanna Stewart</th>\n      <td>3</td>\n    </tr>\n    <tr>\n      <th>Candice Dupree</th>\n      <td>3</td>\n    </tr>\n    <tr>\n      <th>Isabelle Harrison</th>\n      <td>2</td>\n    </tr>\n  </tbody>\n</table>\n</div>"
     },
     "metadata": {},
     "execution_count": 29
    }
   ],
   "source": [
    "NRA_Right=In_the_paint_nra.loc[In_the_paint_nra['SHOT_ZONE_AREA'] == 'Right Side(R)']\n",
    "NRA_Right.groupby(by='PLAYER_NAME').sum()['Count'].sort_values(ascending=False).to_frame().head(10)"
   ]
  },
  {
   "cell_type": "code",
   "execution_count": 102,
   "metadata": {},
   "outputs": [],
   "source": [
    "Emma_Messeman_made=NRA_Right.loc[(NRA_Right['PLAYER_NAME'] =='Emma Meesseman')]"
   ]
  },
  {
   "cell_type": "markdown",
   "metadata": {},
   "source": [
    "## Restricted Area"
   ]
  },
  {
   "cell_type": "code",
   "execution_count": 104,
   "metadata": {},
   "outputs": [
    {
     "output_type": "execute_result",
     "data": {
      "text/plain": [
       "                    Count\n",
       "PLAYER_NAME              \n",
       "Dearica Hamby          67\n",
       "Brionna Jones          67\n",
       "Candace Parker         64\n",
       "A'ja Wilson            64\n",
       "Elizabeth Williams     61\n",
       "Napheesa Collier       60\n",
       "Kahleah Copper         57\n",
       "Alyssa Thomas          56\n",
       "DeWanna Bonner         55\n",
       "Nneka Ogwumike         54"
      ],
      "text/html": "<div>\n<style scoped>\n    .dataframe tbody tr th:only-of-type {\n        vertical-align: middle;\n    }\n\n    .dataframe tbody tr th {\n        vertical-align: top;\n    }\n\n    .dataframe thead th {\n        text-align: right;\n    }\n</style>\n<table border=\"1\" class=\"dataframe\">\n  <thead>\n    <tr style=\"text-align: right;\">\n      <th></th>\n      <th>Count</th>\n    </tr>\n    <tr>\n      <th>PLAYER_NAME</th>\n      <th></th>\n    </tr>\n  </thead>\n  <tbody>\n    <tr>\n      <th>Dearica Hamby</th>\n      <td>67</td>\n    </tr>\n    <tr>\n      <th>Brionna Jones</th>\n      <td>67</td>\n    </tr>\n    <tr>\n      <th>Candace Parker</th>\n      <td>64</td>\n    </tr>\n    <tr>\n      <th>A'ja Wilson</th>\n      <td>64</td>\n    </tr>\n    <tr>\n      <th>Elizabeth Williams</th>\n      <td>61</td>\n    </tr>\n    <tr>\n      <th>Napheesa Collier</th>\n      <td>60</td>\n    </tr>\n    <tr>\n      <th>Kahleah Copper</th>\n      <td>57</td>\n    </tr>\n    <tr>\n      <th>Alyssa Thomas</th>\n      <td>56</td>\n    </tr>\n    <tr>\n      <th>DeWanna Bonner</th>\n      <td>55</td>\n    </tr>\n    <tr>\n      <th>Nneka Ogwumike</th>\n      <td>54</td>\n    </tr>\n  </tbody>\n</table>\n</div>"
     },
     "metadata": {},
     "execution_count": 104
    }
   ],
   "source": [
    "RA=file_to_load.loc[file_to_load['SHOT_ZONE_BASIC'] == 'Restricted Area']\n",
    "RA.groupby(by='PLAYER_NAME').sum()['Count'].sort_values(ascending=False).to_frame().head(10)"
   ]
  },
  {
   "cell_type": "code",
   "execution_count": 107,
   "metadata": {},
   "outputs": [],
   "source": [
    "Dearica_Hamby_made=RA.loc[RA['PLAYER_NAME']=='Dearica Hamby']"
   ]
  },
  {
   "cell_type": "markdown",
   "metadata": {},
   "source": [
    "## Above the Break 3"
   ]
  },
  {
   "cell_type": "code",
   "execution_count": 31,
   "metadata": {},
   "outputs": [
    {
     "output_type": "execute_result",
     "data": {
      "text/plain": [
       "array(['Left Side Center(LC)', 'Right Side Center(RC)', 'Left Side(L)',\n",
       "       'Center(C)', 'Right Side(R)'], dtype=object)"
      ]
     },
     "metadata": {},
     "execution_count": 31
    }
   ],
   "source": [
    "Above_The_Break_3=file_to_load.loc[file_to_load['SHOT_ZONE_BASIC'] == 'Above the Break 3']\n",
    "Above_The_Break_3.SHOT_ZONE_AREA.unique()"
   ]
  },
  {
   "cell_type": "markdown",
   "metadata": {},
   "source": [
    "### Left Side Center 16 to 24 ft. "
   ]
  },
  {
   "cell_type": "code",
   "execution_count": 109,
   "metadata": {},
   "outputs": [
    {
     "output_type": "execute_result",
     "data": {
      "text/plain": [
       "                  Count\n",
       "PLAYER_NAME            \n",
       "Alexis Jones          2\n",
       "Candace Parker        2\n",
       "Leilani Mitchell      2\n",
       "Rachel Banham         2\n",
       "Arike Ogunbowale      2\n",
       "Diana Taurasi         1\n",
       "Dearica Hamby         1\n",
       "Damiris Dantas        1\n",
       "Chennedy Carter       1\n",
       "Breanna Stewart       1"
      ],
      "text/html": "<div>\n<style scoped>\n    .dataframe tbody tr th:only-of-type {\n        vertical-align: middle;\n    }\n\n    .dataframe tbody tr th {\n        vertical-align: top;\n    }\n\n    .dataframe thead th {\n        text-align: right;\n    }\n</style>\n<table border=\"1\" class=\"dataframe\">\n  <thead>\n    <tr style=\"text-align: right;\">\n      <th></th>\n      <th>Count</th>\n    </tr>\n    <tr>\n      <th>PLAYER_NAME</th>\n      <th></th>\n    </tr>\n  </thead>\n  <tbody>\n    <tr>\n      <th>Alexis Jones</th>\n      <td>2</td>\n    </tr>\n    <tr>\n      <th>Candace Parker</th>\n      <td>2</td>\n    </tr>\n    <tr>\n      <th>Leilani Mitchell</th>\n      <td>2</td>\n    </tr>\n    <tr>\n      <th>Rachel Banham</th>\n      <td>2</td>\n    </tr>\n    <tr>\n      <th>Arike Ogunbowale</th>\n      <td>2</td>\n    </tr>\n    <tr>\n      <th>Diana Taurasi</th>\n      <td>1</td>\n    </tr>\n    <tr>\n      <th>Dearica Hamby</th>\n      <td>1</td>\n    </tr>\n    <tr>\n      <th>Damiris Dantas</th>\n      <td>1</td>\n    </tr>\n    <tr>\n      <th>Chennedy Carter</th>\n      <td>1</td>\n    </tr>\n    <tr>\n      <th>Breanna Stewart</th>\n      <td>1</td>\n    </tr>\n  </tbody>\n</table>\n</div>"
     },
     "metadata": {},
     "execution_count": 109
    }
   ],
   "source": [
    "Above_The_Break_3_LC=Above_The_Break_3.loc[Above_The_Break_3['SHOT_ZONE_AREA']=='Left Side Center(LC)']\n",
    "Above_The_Break_3_LC_16to24=Above_The_Break_3_LC.loc[Above_The_Break_3_LC['SHOT_ZONE_RANGE'] == '16-24 ft.']\n",
    "Above_The_Break_3_LC_16to24.groupby(by='PLAYER_NAME').sum()['Count'].sort_values(ascending=False).to_frame().head(10)"
   ]
  },
  {
   "cell_type": "code",
   "execution_count": 113,
   "metadata": {},
   "outputs": [],
   "source": [
    "Arike_Ogunbowale_made=Above_The_Break_3_LC.loc[Above_The_Break_3_LC['PLAYER_NAME'] == 'Arike Ogunbowale']"
   ]
  },
  {
   "cell_type": "markdown",
   "metadata": {},
   "source": [
    "### Left Side Center 24+ ft "
   ]
  },
  {
   "cell_type": "code",
   "execution_count": 33,
   "metadata": {},
   "outputs": [
    {
     "output_type": "execute_result",
     "data": {
      "text/plain": [
       "                     Count\n",
       "PLAYER_NAME               \n",
       "Arike Ogunbowale        26\n",
       "Diana Taurasi           25\n",
       "Allie Quigley           18\n",
       "Shekinna Stricklen      18\n",
       "Crystal Dangerfield     14\n",
       "Kia Nurse               14\n",
       "Ariel Atkins            14\n",
       "Damiris Dantas          13\n",
       "Julie Allemand          13\n",
       "Kelsey Mitchell         13"
      ],
      "text/html": "<div>\n<style scoped>\n    .dataframe tbody tr th:only-of-type {\n        vertical-align: middle;\n    }\n\n    .dataframe tbody tr th {\n        vertical-align: top;\n    }\n\n    .dataframe thead th {\n        text-align: right;\n    }\n</style>\n<table border=\"1\" class=\"dataframe\">\n  <thead>\n    <tr style=\"text-align: right;\">\n      <th></th>\n      <th>Count</th>\n    </tr>\n    <tr>\n      <th>PLAYER_NAME</th>\n      <th></th>\n    </tr>\n  </thead>\n  <tbody>\n    <tr>\n      <th>Arike Ogunbowale</th>\n      <td>26</td>\n    </tr>\n    <tr>\n      <th>Diana Taurasi</th>\n      <td>25</td>\n    </tr>\n    <tr>\n      <th>Allie Quigley</th>\n      <td>18</td>\n    </tr>\n    <tr>\n      <th>Shekinna Stricklen</th>\n      <td>18</td>\n    </tr>\n    <tr>\n      <th>Crystal Dangerfield</th>\n      <td>14</td>\n    </tr>\n    <tr>\n      <th>Kia Nurse</th>\n      <td>14</td>\n    </tr>\n    <tr>\n      <th>Ariel Atkins</th>\n      <td>14</td>\n    </tr>\n    <tr>\n      <th>Damiris Dantas</th>\n      <td>13</td>\n    </tr>\n    <tr>\n      <th>Julie Allemand</th>\n      <td>13</td>\n    </tr>\n    <tr>\n      <th>Kelsey Mitchell</th>\n      <td>13</td>\n    </tr>\n  </tbody>\n</table>\n</div>"
     },
     "metadata": {},
     "execution_count": 33
    }
   ],
   "source": [
    "Above_The_Break_3_LC_24=Above_The_Break_3_LC.loc[Above_The_Break_3_LC['SHOT_ZONE_RANGE'] == '24+ ft.']\n",
    "Above_The_Break_3_LC_24.groupby(by='PLAYER_NAME').sum()['Count'].sort_values(ascending=False).to_frame().head(10)"
   ]
  },
  {
   "cell_type": "markdown",
   "metadata": {},
   "source": [
    "### Right Side Center 16 -24 ft"
   ]
  },
  {
   "cell_type": "code",
   "execution_count": 115,
   "metadata": {},
   "outputs": [
    {
     "output_type": "execute_result",
     "data": {
      "text/plain": [
       "                      Count\n",
       "PLAYER_NAME                \n",
       "Courtney Vandersloot      3\n",
       "Bria Holmes               2\n",
       "Damiris Dantas            2\n",
       "Julie Allemand            2\n",
       "Tyasha Harris             1\n",
       "Jazmine Jones             1\n",
       "Allie Quigley             1\n",
       "Alysha Clark              1\n",
       "Angel McCoughtry          1\n",
       "Blake Dietrick            1"
      ],
      "text/html": "<div>\n<style scoped>\n    .dataframe tbody tr th:only-of-type {\n        vertical-align: middle;\n    }\n\n    .dataframe tbody tr th {\n        vertical-align: top;\n    }\n\n    .dataframe thead th {\n        text-align: right;\n    }\n</style>\n<table border=\"1\" class=\"dataframe\">\n  <thead>\n    <tr style=\"text-align: right;\">\n      <th></th>\n      <th>Count</th>\n    </tr>\n    <tr>\n      <th>PLAYER_NAME</th>\n      <th></th>\n    </tr>\n  </thead>\n  <tbody>\n    <tr>\n      <th>Courtney Vandersloot</th>\n      <td>3</td>\n    </tr>\n    <tr>\n      <th>Bria Holmes</th>\n      <td>2</td>\n    </tr>\n    <tr>\n      <th>Damiris Dantas</th>\n      <td>2</td>\n    </tr>\n    <tr>\n      <th>Julie Allemand</th>\n      <td>2</td>\n    </tr>\n    <tr>\n      <th>Tyasha Harris</th>\n      <td>1</td>\n    </tr>\n    <tr>\n      <th>Jazmine Jones</th>\n      <td>1</td>\n    </tr>\n    <tr>\n      <th>Allie Quigley</th>\n      <td>1</td>\n    </tr>\n    <tr>\n      <th>Alysha Clark</th>\n      <td>1</td>\n    </tr>\n    <tr>\n      <th>Angel McCoughtry</th>\n      <td>1</td>\n    </tr>\n    <tr>\n      <th>Blake Dietrick</th>\n      <td>1</td>\n    </tr>\n  </tbody>\n</table>\n</div>"
     },
     "metadata": {},
     "execution_count": 115
    }
   ],
   "source": [
    "Above_The_Break_3_RC=Above_The_Break_3.loc[Above_The_Break_3['SHOT_ZONE_AREA']=='Right Side Center(RC)']\n",
    "Above_The_Break_3_RC_16to24=Above_The_Break_3_RC.loc[Above_The_Break_3_RC['SHOT_ZONE_RANGE'] == '16-24 ft.']\n",
    "Above_The_Break_3_RC_16to24.groupby(by='PLAYER_NAME').sum()['Count'].sort_values(ascending=False).to_frame().head(10)"
   ]
  },
  {
   "cell_type": "code",
   "execution_count": 119,
   "metadata": {},
   "outputs": [
    {
     "output_type": "execute_result",
     "data": {
      "text/plain": [
       "          PLAYER_NAME    SHOT_ZONE_BASIC         SHOT_ZONE_AREA  \\\n",
       "588   Kelsey Mitchell  Above the Break 3  Right Side Center(RC)   \n",
       "592   Kelsey Mitchell  Above the Break 3  Right Side Center(RC)   \n",
       "1398  Kelsey Mitchell  Above the Break 3  Right Side Center(RC)   \n",
       "1411  Kelsey Mitchell  Above the Break 3  Right Side Center(RC)   \n",
       "1800  Kelsey Mitchell  Above the Break 3  Right Side Center(RC)   \n",
       "1821  Kelsey Mitchell  Above the Break 3  Right Side Center(RC)   \n",
       "2042  Kelsey Mitchell  Above the Break 3  Right Side Center(RC)   \n",
       "2448  Kelsey Mitchell  Above the Break 3  Right Side Center(RC)   \n",
       "2454  Kelsey Mitchell  Above the Break 3  Right Side Center(RC)   \n",
       "3110  Kelsey Mitchell  Above the Break 3  Right Side Center(RC)   \n",
       "3442  Kelsey Mitchell  Above the Break 3  Right Side Center(RC)   \n",
       "3478  Kelsey Mitchell  Above the Break 3  Right Side Center(RC)   \n",
       "4289  Kelsey Mitchell  Above the Break 3  Right Side Center(RC)   \n",
       "4292  Kelsey Mitchell  Above the Break 3  Right Side Center(RC)   \n",
       "4607  Kelsey Mitchell  Above the Break 3  Right Side Center(RC)   \n",
       "6714  Kelsey Mitchell  Above the Break 3  Right Side Center(RC)   \n",
       "6724  Kelsey Mitchell  Above the Break 3  Right Side Center(RC)   \n",
       "6760  Kelsey Mitchell  Above the Break 3  Right Side Center(RC)   \n",
       "7264  Kelsey Mitchell  Above the Break 3  Right Side Center(RC)   \n",
       "7912  Kelsey Mitchell  Above the Break 3  Right Side Center(RC)   \n",
       "7936  Kelsey Mitchell  Above the Break 3  Right Side Center(RC)   \n",
       "\n",
       "     SHOT_ZONE_RANGE  SHOT_DISTANCE  LOC_X  LOC_Y  Count  \n",
       "588          24+ ft.             25    100    232      1  \n",
       "592          24+ ft.             24     78    237      1  \n",
       "1398         24+ ft.             24    107    221      1  \n",
       "1411         24+ ft.             24    150    198      1  \n",
       "1800         24+ ft.             24    130    208      1  \n",
       "1821         24+ ft.             25    139    215      1  \n",
       "2042         24+ ft.             24    155    191      1  \n",
       "2448         24+ ft.             24    184    167      1  \n",
       "2454         24+ ft.             25    215    129      1  \n",
       "3110         24+ ft.             27    203    189      1  \n",
       "3442         24+ ft.             24    118    217      1  \n",
       "3478         24+ ft.             24    191    154      1  \n",
       "4289         24+ ft.             24    191    158      1  \n",
       "4292         24+ ft.             24     98    222      1  \n",
       "4607         24+ ft.             27    171    219      1  \n",
       "6714         24+ ft.             24    170    179      1  \n",
       "6724         24+ ft.             25    171    186      1  \n",
       "6760         24+ ft.             27    178    215      1  \n",
       "7264         24+ ft.             25    185    179      1  \n",
       "7912       16-24 ft.             23    148    181      1  \n",
       "7936         24+ ft.             24     82    226      1  "
      ],
      "text/html": "<div>\n<style scoped>\n    .dataframe tbody tr th:only-of-type {\n        vertical-align: middle;\n    }\n\n    .dataframe tbody tr th {\n        vertical-align: top;\n    }\n\n    .dataframe thead th {\n        text-align: right;\n    }\n</style>\n<table border=\"1\" class=\"dataframe\">\n  <thead>\n    <tr style=\"text-align: right;\">\n      <th></th>\n      <th>PLAYER_NAME</th>\n      <th>SHOT_ZONE_BASIC</th>\n      <th>SHOT_ZONE_AREA</th>\n      <th>SHOT_ZONE_RANGE</th>\n      <th>SHOT_DISTANCE</th>\n      <th>LOC_X</th>\n      <th>LOC_Y</th>\n      <th>Count</th>\n    </tr>\n  </thead>\n  <tbody>\n    <tr>\n      <th>588</th>\n      <td>Kelsey Mitchell</td>\n      <td>Above the Break 3</td>\n      <td>Right Side Center(RC)</td>\n      <td>24+ ft.</td>\n      <td>25</td>\n      <td>100</td>\n      <td>232</td>\n      <td>1</td>\n    </tr>\n    <tr>\n      <th>592</th>\n      <td>Kelsey Mitchell</td>\n      <td>Above the Break 3</td>\n      <td>Right Side Center(RC)</td>\n      <td>24+ ft.</td>\n      <td>24</td>\n      <td>78</td>\n      <td>237</td>\n      <td>1</td>\n    </tr>\n    <tr>\n      <th>1398</th>\n      <td>Kelsey Mitchell</td>\n      <td>Above the Break 3</td>\n      <td>Right Side Center(RC)</td>\n      <td>24+ ft.</td>\n      <td>24</td>\n      <td>107</td>\n      <td>221</td>\n      <td>1</td>\n    </tr>\n    <tr>\n      <th>1411</th>\n      <td>Kelsey Mitchell</td>\n      <td>Above the Break 3</td>\n      <td>Right Side Center(RC)</td>\n      <td>24+ ft.</td>\n      <td>24</td>\n      <td>150</td>\n      <td>198</td>\n      <td>1</td>\n    </tr>\n    <tr>\n      <th>1800</th>\n      <td>Kelsey Mitchell</td>\n      <td>Above the Break 3</td>\n      <td>Right Side Center(RC)</td>\n      <td>24+ ft.</td>\n      <td>24</td>\n      <td>130</td>\n      <td>208</td>\n      <td>1</td>\n    </tr>\n    <tr>\n      <th>1821</th>\n      <td>Kelsey Mitchell</td>\n      <td>Above the Break 3</td>\n      <td>Right Side Center(RC)</td>\n      <td>24+ ft.</td>\n      <td>25</td>\n      <td>139</td>\n      <td>215</td>\n      <td>1</td>\n    </tr>\n    <tr>\n      <th>2042</th>\n      <td>Kelsey Mitchell</td>\n      <td>Above the Break 3</td>\n      <td>Right Side Center(RC)</td>\n      <td>24+ ft.</td>\n      <td>24</td>\n      <td>155</td>\n      <td>191</td>\n      <td>1</td>\n    </tr>\n    <tr>\n      <th>2448</th>\n      <td>Kelsey Mitchell</td>\n      <td>Above the Break 3</td>\n      <td>Right Side Center(RC)</td>\n      <td>24+ ft.</td>\n      <td>24</td>\n      <td>184</td>\n      <td>167</td>\n      <td>1</td>\n    </tr>\n    <tr>\n      <th>2454</th>\n      <td>Kelsey Mitchell</td>\n      <td>Above the Break 3</td>\n      <td>Right Side Center(RC)</td>\n      <td>24+ ft.</td>\n      <td>25</td>\n      <td>215</td>\n      <td>129</td>\n      <td>1</td>\n    </tr>\n    <tr>\n      <th>3110</th>\n      <td>Kelsey Mitchell</td>\n      <td>Above the Break 3</td>\n      <td>Right Side Center(RC)</td>\n      <td>24+ ft.</td>\n      <td>27</td>\n      <td>203</td>\n      <td>189</td>\n      <td>1</td>\n    </tr>\n    <tr>\n      <th>3442</th>\n      <td>Kelsey Mitchell</td>\n      <td>Above the Break 3</td>\n      <td>Right Side Center(RC)</td>\n      <td>24+ ft.</td>\n      <td>24</td>\n      <td>118</td>\n      <td>217</td>\n      <td>1</td>\n    </tr>\n    <tr>\n      <th>3478</th>\n      <td>Kelsey Mitchell</td>\n      <td>Above the Break 3</td>\n      <td>Right Side Center(RC)</td>\n      <td>24+ ft.</td>\n      <td>24</td>\n      <td>191</td>\n      <td>154</td>\n      <td>1</td>\n    </tr>\n    <tr>\n      <th>4289</th>\n      <td>Kelsey Mitchell</td>\n      <td>Above the Break 3</td>\n      <td>Right Side Center(RC)</td>\n      <td>24+ ft.</td>\n      <td>24</td>\n      <td>191</td>\n      <td>158</td>\n      <td>1</td>\n    </tr>\n    <tr>\n      <th>4292</th>\n      <td>Kelsey Mitchell</td>\n      <td>Above the Break 3</td>\n      <td>Right Side Center(RC)</td>\n      <td>24+ ft.</td>\n      <td>24</td>\n      <td>98</td>\n      <td>222</td>\n      <td>1</td>\n    </tr>\n    <tr>\n      <th>4607</th>\n      <td>Kelsey Mitchell</td>\n      <td>Above the Break 3</td>\n      <td>Right Side Center(RC)</td>\n      <td>24+ ft.</td>\n      <td>27</td>\n      <td>171</td>\n      <td>219</td>\n      <td>1</td>\n    </tr>\n    <tr>\n      <th>6714</th>\n      <td>Kelsey Mitchell</td>\n      <td>Above the Break 3</td>\n      <td>Right Side Center(RC)</td>\n      <td>24+ ft.</td>\n      <td>24</td>\n      <td>170</td>\n      <td>179</td>\n      <td>1</td>\n    </tr>\n    <tr>\n      <th>6724</th>\n      <td>Kelsey Mitchell</td>\n      <td>Above the Break 3</td>\n      <td>Right Side Center(RC)</td>\n      <td>24+ ft.</td>\n      <td>25</td>\n      <td>171</td>\n      <td>186</td>\n      <td>1</td>\n    </tr>\n    <tr>\n      <th>6760</th>\n      <td>Kelsey Mitchell</td>\n      <td>Above the Break 3</td>\n      <td>Right Side Center(RC)</td>\n      <td>24+ ft.</td>\n      <td>27</td>\n      <td>178</td>\n      <td>215</td>\n      <td>1</td>\n    </tr>\n    <tr>\n      <th>7264</th>\n      <td>Kelsey Mitchell</td>\n      <td>Above the Break 3</td>\n      <td>Right Side Center(RC)</td>\n      <td>24+ ft.</td>\n      <td>25</td>\n      <td>185</td>\n      <td>179</td>\n      <td>1</td>\n    </tr>\n    <tr>\n      <th>7912</th>\n      <td>Kelsey Mitchell</td>\n      <td>Above the Break 3</td>\n      <td>Right Side Center(RC)</td>\n      <td>16-24 ft.</td>\n      <td>23</td>\n      <td>148</td>\n      <td>181</td>\n      <td>1</td>\n    </tr>\n    <tr>\n      <th>7936</th>\n      <td>Kelsey Mitchell</td>\n      <td>Above the Break 3</td>\n      <td>Right Side Center(RC)</td>\n      <td>24+ ft.</td>\n      <td>24</td>\n      <td>82</td>\n      <td>226</td>\n      <td>1</td>\n    </tr>\n  </tbody>\n</table>\n</div>"
     },
     "metadata": {},
     "execution_count": 119
    }
   ],
   "source": [
    "Julie_allemand_Kelsey_Mitchell_made=Above_The_Break_3_RC.loc[Above_The_Break_3_RC['PLAYER_NAME'] =='Kelsey Mitchell']\n",
    "Julie_allemand_Kelsey_Mitchell_made"
   ]
  },
  {
   "cell_type": "markdown",
   "metadata": {},
   "source": [
    "### Right Side Center 24 ft"
   ]
  },
  {
   "cell_type": "code",
   "execution_count": 35,
   "metadata": {},
   "outputs": [
    {
     "output_type": "execute_result",
     "data": {
      "text/plain": [
       "                      Count\n",
       "PLAYER_NAME                \n",
       "Kelsey Mitchell          20\n",
       "Skylar Diggins-Smith     20\n",
       "Julie Allemand           19\n",
       "Damiris Dantas           13\n",
       "Diana Taurasi            13\n",
       "Marina Mabrey            13\n",
       "Riquna Williams          12\n",
       "Allie Quigley            11\n",
       "Crystal Dangerfield      11\n",
       "Arike Ogunbowale         11"
      ],
      "text/html": "<div>\n<style scoped>\n    .dataframe tbody tr th:only-of-type {\n        vertical-align: middle;\n    }\n\n    .dataframe tbody tr th {\n        vertical-align: top;\n    }\n\n    .dataframe thead th {\n        text-align: right;\n    }\n</style>\n<table border=\"1\" class=\"dataframe\">\n  <thead>\n    <tr style=\"text-align: right;\">\n      <th></th>\n      <th>Count</th>\n    </tr>\n    <tr>\n      <th>PLAYER_NAME</th>\n      <th></th>\n    </tr>\n  </thead>\n  <tbody>\n    <tr>\n      <th>Kelsey Mitchell</th>\n      <td>20</td>\n    </tr>\n    <tr>\n      <th>Skylar Diggins-Smith</th>\n      <td>20</td>\n    </tr>\n    <tr>\n      <th>Julie Allemand</th>\n      <td>19</td>\n    </tr>\n    <tr>\n      <th>Damiris Dantas</th>\n      <td>13</td>\n    </tr>\n    <tr>\n      <th>Diana Taurasi</th>\n      <td>13</td>\n    </tr>\n    <tr>\n      <th>Marina Mabrey</th>\n      <td>13</td>\n    </tr>\n    <tr>\n      <th>Riquna Williams</th>\n      <td>12</td>\n    </tr>\n    <tr>\n      <th>Allie Quigley</th>\n      <td>11</td>\n    </tr>\n    <tr>\n      <th>Crystal Dangerfield</th>\n      <td>11</td>\n    </tr>\n    <tr>\n      <th>Arike Ogunbowale</th>\n      <td>11</td>\n    </tr>\n  </tbody>\n</table>\n</div>"
     },
     "metadata": {},
     "execution_count": 35
    }
   ],
   "source": [
    "Above_The_Break_3_RC_24=Above_The_Break_3_RC.loc[Above_The_Break_3_RC['SHOT_ZONE_RANGE'] == '24+ ft.']\n",
    "Above_The_Break_3_RC_24.groupby(by='PLAYER_NAME').sum()['Count'].sort_values(ascending=False).to_frame().head(10)"
   ]
  },
  {
   "cell_type": "markdown",
   "metadata": {},
   "source": [
    "### Left Side 16-24 ft"
   ]
  },
  {
   "cell_type": "code",
   "execution_count": 122,
   "metadata": {},
   "outputs": [
    {
     "output_type": "execute_result",
     "data": {
      "text/plain": [
       "                          Count\n",
       "PLAYER_NAME                    \n",
       "Alysha Clark                  3\n",
       "Shekinna Stricklen            3\n",
       "Shatori Walker-Kimbrough      2\n",
       "Arike Ogunbowale              2\n",
       "Kayla Thornton                2\n",
       "Kelsey Mitchell               2\n",
       "Sydney Wiese                  2\n",
       "Skylar Diggins-Smith          2\n",
       "Sophie Cunningham             2\n",
       "Sami Whitcomb                 1"
      ],
      "text/html": "<div>\n<style scoped>\n    .dataframe tbody tr th:only-of-type {\n        vertical-align: middle;\n    }\n\n    .dataframe tbody tr th {\n        vertical-align: top;\n    }\n\n    .dataframe thead th {\n        text-align: right;\n    }\n</style>\n<table border=\"1\" class=\"dataframe\">\n  <thead>\n    <tr style=\"text-align: right;\">\n      <th></th>\n      <th>Count</th>\n    </tr>\n    <tr>\n      <th>PLAYER_NAME</th>\n      <th></th>\n    </tr>\n  </thead>\n  <tbody>\n    <tr>\n      <th>Alysha Clark</th>\n      <td>3</td>\n    </tr>\n    <tr>\n      <th>Shekinna Stricklen</th>\n      <td>3</td>\n    </tr>\n    <tr>\n      <th>Shatori Walker-Kimbrough</th>\n      <td>2</td>\n    </tr>\n    <tr>\n      <th>Arike Ogunbowale</th>\n      <td>2</td>\n    </tr>\n    <tr>\n      <th>Kayla Thornton</th>\n      <td>2</td>\n    </tr>\n    <tr>\n      <th>Kelsey Mitchell</th>\n      <td>2</td>\n    </tr>\n    <tr>\n      <th>Sydney Wiese</th>\n      <td>2</td>\n    </tr>\n    <tr>\n      <th>Skylar Diggins-Smith</th>\n      <td>2</td>\n    </tr>\n    <tr>\n      <th>Sophie Cunningham</th>\n      <td>2</td>\n    </tr>\n    <tr>\n      <th>Sami Whitcomb</th>\n      <td>1</td>\n    </tr>\n  </tbody>\n</table>\n</div>"
     },
     "metadata": {},
     "execution_count": 122
    }
   ],
   "source": [
    "Above_The_Break_3_left=Above_The_Break_3.loc[Above_The_Break_3['SHOT_ZONE_AREA']=='Left Side(L)']\n",
    "Above_The_Break_3_left_16to24=Above_The_Break_3_left.loc[Above_The_Break_3_left['SHOT_ZONE_RANGE'] == '16-24 ft.']\n",
    "Above_The_Break_3_left_16to24.groupby(by='PLAYER_NAME').sum()['Count'].sort_values(ascending=False).to_frame().head(10)"
   ]
  },
  {
   "cell_type": "code",
   "execution_count": 126,
   "metadata": {},
   "outputs": [],
   "source": [
    "Shekinna_Stricklen_made=Above_The_Break_3_left.loc[Above_The_Break_3_left['PLAYER_NAME'] =='Shekinna Stricklen']"
   ]
  },
  {
   "cell_type": "markdown",
   "metadata": {},
   "source": [
    "### Left Side 24 ft"
   ]
  },
  {
   "cell_type": "code",
   "execution_count": 37,
   "metadata": {},
   "outputs": [
    {
     "output_type": "execute_result",
     "data": {
      "text/plain": [
       "                  Count\n",
       "PLAYER_NAME            \n",
       "Jewell Loyd           4\n",
       "Kahleah Copper        4\n",
       "Riquna Williams       2\n",
       "Tiffany Mitchell      2\n",
       "Kayla McBride         2\n",
       "Diana Taurasi         2\n",
       "Bridget Carleton      2\n",
       "Natasha Howard        2\n",
       "Tyasha Harris         2\n",
       "Blake Dietrick        2"
      ],
      "text/html": "<div>\n<style scoped>\n    .dataframe tbody tr th:only-of-type {\n        vertical-align: middle;\n    }\n\n    .dataframe tbody tr th {\n        vertical-align: top;\n    }\n\n    .dataframe thead th {\n        text-align: right;\n    }\n</style>\n<table border=\"1\" class=\"dataframe\">\n  <thead>\n    <tr style=\"text-align: right;\">\n      <th></th>\n      <th>Count</th>\n    </tr>\n    <tr>\n      <th>PLAYER_NAME</th>\n      <th></th>\n    </tr>\n  </thead>\n  <tbody>\n    <tr>\n      <th>Jewell Loyd</th>\n      <td>4</td>\n    </tr>\n    <tr>\n      <th>Kahleah Copper</th>\n      <td>4</td>\n    </tr>\n    <tr>\n      <th>Riquna Williams</th>\n      <td>2</td>\n    </tr>\n    <tr>\n      <th>Tiffany Mitchell</th>\n      <td>2</td>\n    </tr>\n    <tr>\n      <th>Kayla McBride</th>\n      <td>2</td>\n    </tr>\n    <tr>\n      <th>Diana Taurasi</th>\n      <td>2</td>\n    </tr>\n    <tr>\n      <th>Bridget Carleton</th>\n      <td>2</td>\n    </tr>\n    <tr>\n      <th>Natasha Howard</th>\n      <td>2</td>\n    </tr>\n    <tr>\n      <th>Tyasha Harris</th>\n      <td>2</td>\n    </tr>\n    <tr>\n      <th>Blake Dietrick</th>\n      <td>2</td>\n    </tr>\n  </tbody>\n</table>\n</div>"
     },
     "metadata": {},
     "execution_count": 37
    }
   ],
   "source": [
    "Above_The_Break_3_left_24=Above_The_Break_3_left.loc[Above_The_Break_3_left['SHOT_ZONE_RANGE'] == '24+ ft.']\n",
    "Above_The_Break_3_left_24.groupby(by='PLAYER_NAME').sum()['Count'].sort_values(ascending=False).to_frame().head(10)"
   ]
  },
  {
   "cell_type": "markdown",
   "metadata": {},
   "source": [
    "### Center 16 to 24 ft"
   ]
  },
  {
   "cell_type": "code",
   "execution_count": 129,
   "metadata": {},
   "outputs": [
    {
     "output_type": "execute_result",
     "data": {
      "text/plain": [
       "                  Count\n",
       "PLAYER_NAME            \n",
       "Kelsey Mitchell       5\n",
       "Allie Quigley         2\n",
       "Damiris Dantas        2\n",
       "Diana Taurasi         1\n",
       "Ariel Atkins          1\n",
       "Arike Ogunbowale      1\n",
       "Breanna Stewart       1\n",
       "Candace Parker        1\n",
       "Chelsea Gray          1\n",
       "Cheyenne Parker       1"
      ],
      "text/html": "<div>\n<style scoped>\n    .dataframe tbody tr th:only-of-type {\n        vertical-align: middle;\n    }\n\n    .dataframe tbody tr th {\n        vertical-align: top;\n    }\n\n    .dataframe thead th {\n        text-align: right;\n    }\n</style>\n<table border=\"1\" class=\"dataframe\">\n  <thead>\n    <tr style=\"text-align: right;\">\n      <th></th>\n      <th>Count</th>\n    </tr>\n    <tr>\n      <th>PLAYER_NAME</th>\n      <th></th>\n    </tr>\n  </thead>\n  <tbody>\n    <tr>\n      <th>Kelsey Mitchell</th>\n      <td>5</td>\n    </tr>\n    <tr>\n      <th>Allie Quigley</th>\n      <td>2</td>\n    </tr>\n    <tr>\n      <th>Damiris Dantas</th>\n      <td>2</td>\n    </tr>\n    <tr>\n      <th>Diana Taurasi</th>\n      <td>1</td>\n    </tr>\n    <tr>\n      <th>Ariel Atkins</th>\n      <td>1</td>\n    </tr>\n    <tr>\n      <th>Arike Ogunbowale</th>\n      <td>1</td>\n    </tr>\n    <tr>\n      <th>Breanna Stewart</th>\n      <td>1</td>\n    </tr>\n    <tr>\n      <th>Candace Parker</th>\n      <td>1</td>\n    </tr>\n    <tr>\n      <th>Chelsea Gray</th>\n      <td>1</td>\n    </tr>\n    <tr>\n      <th>Cheyenne Parker</th>\n      <td>1</td>\n    </tr>\n  </tbody>\n</table>\n</div>"
     },
     "metadata": {},
     "execution_count": 129
    }
   ],
   "source": [
    "Above_The_Break_3_center=Above_The_Break_3.loc[Above_The_Break_3['SHOT_ZONE_AREA']=='Center(C)']\n",
    "Above_The_Break_3_center_16to24=Above_The_Break_3_center.loc[Above_The_Break_3_center['SHOT_ZONE_RANGE'] == '16-24 ft.']\n",
    "Above_The_Break_3_center_16to24.groupby(by='PLAYER_NAME').sum()['Count'].sort_values(ascending=False).to_frame().head(10)"
   ]
  },
  {
   "cell_type": "code",
   "execution_count": 140,
   "metadata": {},
   "outputs": [
    {
     "output_type": "execute_result",
     "data": {
      "text/plain": [
       "          PLAYER_NAME    SHOT_ZONE_BASIC SHOT_ZONE_AREA SHOT_ZONE_RANGE  \\\n",
       "132   Kelsey Mitchell  Above the Break 3      Center(C)         24+ ft.   \n",
       "180   Kelsey Mitchell  Above the Break 3      Center(C)         24+ ft.   \n",
       "573   Kelsey Mitchell  Above the Break 3      Center(C)         24+ ft.   \n",
       "1413  Kelsey Mitchell  Above the Break 3      Center(C)         24+ ft.   \n",
       "1810  Kelsey Mitchell  Above the Break 3      Center(C)       16-24 ft.   \n",
       "2429  Kelsey Mitchell  Above the Break 3      Center(C)       16-24 ft.   \n",
       "3486  Kelsey Mitchell  Above the Break 3      Center(C)         24+ ft.   \n",
       "3866  Kelsey Mitchell  Above the Break 3      Center(C)         24+ ft.   \n",
       "4287  Kelsey Mitchell  Above the Break 3      Center(C)         24+ ft.   \n",
       "4597  Kelsey Mitchell  Above the Break 3      Center(C)         24+ ft.   \n",
       "5053  Kelsey Mitchell  Above the Break 3      Center(C)         24+ ft.   \n",
       "5061  Kelsey Mitchell  Above the Break 3      Center(C)         24+ ft.   \n",
       "5685  Kelsey Mitchell  Above the Break 3      Center(C)       16-24 ft.   \n",
       "5707  Kelsey Mitchell  Above the Break 3      Center(C)       16-24 ft.   \n",
       "6488  Kelsey Mitchell  Above the Break 3      Center(C)         24+ ft.   \n",
       "6733  Kelsey Mitchell  Above the Break 3      Center(C)       16-24 ft.   \n",
       "7235  Kelsey Mitchell  Above the Break 3      Center(C)         24+ ft.   \n",
       "7551  Kelsey Mitchell  Above the Break 3      Center(C)         24+ ft.   \n",
       "\n",
       "      SHOT_DISTANCE  LOC_X  LOC_Y  Count  \n",
       "132              24    -68    231      1  \n",
       "180              25     32    258      1  \n",
       "573              24     36    240      1  \n",
       "1413             27    -53    268      1  \n",
       "1810             23    -46    227      1  \n",
       "2429             23     39    233      1  \n",
       "3486             26    -74    253      1  \n",
       "3866             25      2    256      1  \n",
       "4287             37    -12    379      1  \n",
       "4597             25      3    259      1  \n",
       "5053             25    -79    244      1  \n",
       "5061             25     71    245      1  \n",
       "5685             23      3    231      1  \n",
       "5707             23    -46    228      1  \n",
       "6488             25    -52    253      1  \n",
       "6733             23    -22    233      1  \n",
       "7235             24    -28    244      1  \n",
       "7551             25     36    253      1  "
      ],
      "text/html": "<div>\n<style scoped>\n    .dataframe tbody tr th:only-of-type {\n        vertical-align: middle;\n    }\n\n    .dataframe tbody tr th {\n        vertical-align: top;\n    }\n\n    .dataframe thead th {\n        text-align: right;\n    }\n</style>\n<table border=\"1\" class=\"dataframe\">\n  <thead>\n    <tr style=\"text-align: right;\">\n      <th></th>\n      <th>PLAYER_NAME</th>\n      <th>SHOT_ZONE_BASIC</th>\n      <th>SHOT_ZONE_AREA</th>\n      <th>SHOT_ZONE_RANGE</th>\n      <th>SHOT_DISTANCE</th>\n      <th>LOC_X</th>\n      <th>LOC_Y</th>\n      <th>Count</th>\n    </tr>\n  </thead>\n  <tbody>\n    <tr>\n      <th>132</th>\n      <td>Kelsey Mitchell</td>\n      <td>Above the Break 3</td>\n      <td>Center(C)</td>\n      <td>24+ ft.</td>\n      <td>24</td>\n      <td>-68</td>\n      <td>231</td>\n      <td>1</td>\n    </tr>\n    <tr>\n      <th>180</th>\n      <td>Kelsey Mitchell</td>\n      <td>Above the Break 3</td>\n      <td>Center(C)</td>\n      <td>24+ ft.</td>\n      <td>25</td>\n      <td>32</td>\n      <td>258</td>\n      <td>1</td>\n    </tr>\n    <tr>\n      <th>573</th>\n      <td>Kelsey Mitchell</td>\n      <td>Above the Break 3</td>\n      <td>Center(C)</td>\n      <td>24+ ft.</td>\n      <td>24</td>\n      <td>36</td>\n      <td>240</td>\n      <td>1</td>\n    </tr>\n    <tr>\n      <th>1413</th>\n      <td>Kelsey Mitchell</td>\n      <td>Above the Break 3</td>\n      <td>Center(C)</td>\n      <td>24+ ft.</td>\n      <td>27</td>\n      <td>-53</td>\n      <td>268</td>\n      <td>1</td>\n    </tr>\n    <tr>\n      <th>1810</th>\n      <td>Kelsey Mitchell</td>\n      <td>Above the Break 3</td>\n      <td>Center(C)</td>\n      <td>16-24 ft.</td>\n      <td>23</td>\n      <td>-46</td>\n      <td>227</td>\n      <td>1</td>\n    </tr>\n    <tr>\n      <th>2429</th>\n      <td>Kelsey Mitchell</td>\n      <td>Above the Break 3</td>\n      <td>Center(C)</td>\n      <td>16-24 ft.</td>\n      <td>23</td>\n      <td>39</td>\n      <td>233</td>\n      <td>1</td>\n    </tr>\n    <tr>\n      <th>3486</th>\n      <td>Kelsey Mitchell</td>\n      <td>Above the Break 3</td>\n      <td>Center(C)</td>\n      <td>24+ ft.</td>\n      <td>26</td>\n      <td>-74</td>\n      <td>253</td>\n      <td>1</td>\n    </tr>\n    <tr>\n      <th>3866</th>\n      <td>Kelsey Mitchell</td>\n      <td>Above the Break 3</td>\n      <td>Center(C)</td>\n      <td>24+ ft.</td>\n      <td>25</td>\n      <td>2</td>\n      <td>256</td>\n      <td>1</td>\n    </tr>\n    <tr>\n      <th>4287</th>\n      <td>Kelsey Mitchell</td>\n      <td>Above the Break 3</td>\n      <td>Center(C)</td>\n      <td>24+ ft.</td>\n      <td>37</td>\n      <td>-12</td>\n      <td>379</td>\n      <td>1</td>\n    </tr>\n    <tr>\n      <th>4597</th>\n      <td>Kelsey Mitchell</td>\n      <td>Above the Break 3</td>\n      <td>Center(C)</td>\n      <td>24+ ft.</td>\n      <td>25</td>\n      <td>3</td>\n      <td>259</td>\n      <td>1</td>\n    </tr>\n    <tr>\n      <th>5053</th>\n      <td>Kelsey Mitchell</td>\n      <td>Above the Break 3</td>\n      <td>Center(C)</td>\n      <td>24+ ft.</td>\n      <td>25</td>\n      <td>-79</td>\n      <td>244</td>\n      <td>1</td>\n    </tr>\n    <tr>\n      <th>5061</th>\n      <td>Kelsey Mitchell</td>\n      <td>Above the Break 3</td>\n      <td>Center(C)</td>\n      <td>24+ ft.</td>\n      <td>25</td>\n      <td>71</td>\n      <td>245</td>\n      <td>1</td>\n    </tr>\n    <tr>\n      <th>5685</th>\n      <td>Kelsey Mitchell</td>\n      <td>Above the Break 3</td>\n      <td>Center(C)</td>\n      <td>16-24 ft.</td>\n      <td>23</td>\n      <td>3</td>\n      <td>231</td>\n      <td>1</td>\n    </tr>\n    <tr>\n      <th>5707</th>\n      <td>Kelsey Mitchell</td>\n      <td>Above the Break 3</td>\n      <td>Center(C)</td>\n      <td>16-24 ft.</td>\n      <td>23</td>\n      <td>-46</td>\n      <td>228</td>\n      <td>1</td>\n    </tr>\n    <tr>\n      <th>6488</th>\n      <td>Kelsey Mitchell</td>\n      <td>Above the Break 3</td>\n      <td>Center(C)</td>\n      <td>24+ ft.</td>\n      <td>25</td>\n      <td>-52</td>\n      <td>253</td>\n      <td>1</td>\n    </tr>\n    <tr>\n      <th>6733</th>\n      <td>Kelsey Mitchell</td>\n      <td>Above the Break 3</td>\n      <td>Center(C)</td>\n      <td>16-24 ft.</td>\n      <td>23</td>\n      <td>-22</td>\n      <td>233</td>\n      <td>1</td>\n    </tr>\n    <tr>\n      <th>7235</th>\n      <td>Kelsey Mitchell</td>\n      <td>Above the Break 3</td>\n      <td>Center(C)</td>\n      <td>24+ ft.</td>\n      <td>24</td>\n      <td>-28</td>\n      <td>244</td>\n      <td>1</td>\n    </tr>\n    <tr>\n      <th>7551</th>\n      <td>Kelsey Mitchell</td>\n      <td>Above the Break 3</td>\n      <td>Center(C)</td>\n      <td>24+ ft.</td>\n      <td>25</td>\n      <td>36</td>\n      <td>253</td>\n      <td>1</td>\n    </tr>\n  </tbody>\n</table>\n</div>"
     },
     "metadata": {},
     "execution_count": 140
    }
   ],
   "source": [
    "Kelsey_Mitchell_made=Above_The_Break_3_center.loc[Above_The_Break_3_center[\"PLAYER_NAME\"] =='Kelsey Mitchell']\n",
    "Kelsey_Mitchell_made"
   ]
  },
  {
   "cell_type": "markdown",
   "metadata": {},
   "source": [
    "### Center 24+ ft"
   ]
  },
  {
   "cell_type": "code",
   "execution_count": 39,
   "metadata": {},
   "outputs": [
    {
     "output_type": "execute_result",
     "data": {
      "text/plain": [
       "                      Count\n",
       "PLAYER_NAME                \n",
       "Diana Taurasi            16\n",
       "Myisha Hines-Allen       14\n",
       "Kelsey Mitchell          13\n",
       "Amanda Zahui B           13\n",
       "Breanna Stewart          12\n",
       "Courtney Vandersloot     10\n",
       "Ariel Atkins              8\n",
       "DeWanna Bonner            8\n",
       "Leilani Mitchell          7\n",
       "Marina Mabrey             7"
      ],
      "text/html": "<div>\n<style scoped>\n    .dataframe tbody tr th:only-of-type {\n        vertical-align: middle;\n    }\n\n    .dataframe tbody tr th {\n        vertical-align: top;\n    }\n\n    .dataframe thead th {\n        text-align: right;\n    }\n</style>\n<table border=\"1\" class=\"dataframe\">\n  <thead>\n    <tr style=\"text-align: right;\">\n      <th></th>\n      <th>Count</th>\n    </tr>\n    <tr>\n      <th>PLAYER_NAME</th>\n      <th></th>\n    </tr>\n  </thead>\n  <tbody>\n    <tr>\n      <th>Diana Taurasi</th>\n      <td>16</td>\n    </tr>\n    <tr>\n      <th>Myisha Hines-Allen</th>\n      <td>14</td>\n    </tr>\n    <tr>\n      <th>Kelsey Mitchell</th>\n      <td>13</td>\n    </tr>\n    <tr>\n      <th>Amanda Zahui B</th>\n      <td>13</td>\n    </tr>\n    <tr>\n      <th>Breanna Stewart</th>\n      <td>12</td>\n    </tr>\n    <tr>\n      <th>Courtney Vandersloot</th>\n      <td>10</td>\n    </tr>\n    <tr>\n      <th>Ariel Atkins</th>\n      <td>8</td>\n    </tr>\n    <tr>\n      <th>DeWanna Bonner</th>\n      <td>8</td>\n    </tr>\n    <tr>\n      <th>Leilani Mitchell</th>\n      <td>7</td>\n    </tr>\n    <tr>\n      <th>Marina Mabrey</th>\n      <td>7</td>\n    </tr>\n  </tbody>\n</table>\n</div>"
     },
     "metadata": {},
     "execution_count": 39
    }
   ],
   "source": [
    "Above_The_Break_3_center_24=Above_The_Break_3_center.loc[Above_The_Break_3_center['SHOT_ZONE_RANGE'] == '24+ ft.']\n",
    "Above_The_Break_3_center_24.groupby(by='PLAYER_NAME').sum()['Count'].sort_values(ascending=False).to_frame().head(10)"
   ]
  },
  {
   "cell_type": "markdown",
   "metadata": {},
   "source": [
    "### Right Side 16 to 24"
   ]
  },
  {
   "cell_type": "code",
   "execution_count": 40,
   "metadata": {},
   "outputs": [
    {
     "output_type": "execute_result",
     "data": {
      "text/plain": [
       "                   Count\n",
       "PLAYER_NAME             \n",
       "Riquna Williams        4\n",
       "Betnijah Laney         3\n",
       "Allie Quigley          2\n",
       "Alysha Clark           2\n",
       "Ariel Atkins           2\n",
       "Courtney Williams      1\n",
       "Allisha Gray           1\n",
       "Amanda Zahui B         1\n",
       "Angel McCoughtry       1\n",
       "Blake Dietrick         1"
      ],
      "text/html": "<div>\n<style scoped>\n    .dataframe tbody tr th:only-of-type {\n        vertical-align: middle;\n    }\n\n    .dataframe tbody tr th {\n        vertical-align: top;\n    }\n\n    .dataframe thead th {\n        text-align: right;\n    }\n</style>\n<table border=\"1\" class=\"dataframe\">\n  <thead>\n    <tr style=\"text-align: right;\">\n      <th></th>\n      <th>Count</th>\n    </tr>\n    <tr>\n      <th>PLAYER_NAME</th>\n      <th></th>\n    </tr>\n  </thead>\n  <tbody>\n    <tr>\n      <th>Riquna Williams</th>\n      <td>4</td>\n    </tr>\n    <tr>\n      <th>Betnijah Laney</th>\n      <td>3</td>\n    </tr>\n    <tr>\n      <th>Allie Quigley</th>\n      <td>2</td>\n    </tr>\n    <tr>\n      <th>Alysha Clark</th>\n      <td>2</td>\n    </tr>\n    <tr>\n      <th>Ariel Atkins</th>\n      <td>2</td>\n    </tr>\n    <tr>\n      <th>Courtney Williams</th>\n      <td>1</td>\n    </tr>\n    <tr>\n      <th>Allisha Gray</th>\n      <td>1</td>\n    </tr>\n    <tr>\n      <th>Amanda Zahui B</th>\n      <td>1</td>\n    </tr>\n    <tr>\n      <th>Angel McCoughtry</th>\n      <td>1</td>\n    </tr>\n    <tr>\n      <th>Blake Dietrick</th>\n      <td>1</td>\n    </tr>\n  </tbody>\n</table>\n</div>"
     },
     "metadata": {},
     "execution_count": 40
    }
   ],
   "source": [
    "Above_The_Break_3_right_side=Above_The_Break_3.loc[Above_The_Break_3['SHOT_ZONE_AREA']=='Right Side(R)']\n",
    "Above_The_Break_3_right_side_16to24=Above_The_Break_3_right_side.loc[Above_The_Break_3_right_side['SHOT_ZONE_RANGE'] == '16-24 ft.']\n",
    "Above_The_Break_3_right_side_16to24.groupby(by='PLAYER_NAME').sum()['Count'].sort_values(ascending=False).to_frame().head(10)"
   ]
  },
  {
   "cell_type": "markdown",
   "metadata": {},
   "source": [
    "### Right Side 24+ ft"
   ]
  },
  {
   "cell_type": "code",
   "execution_count": 41,
   "metadata": {},
   "outputs": [
    {
     "output_type": "execute_result",
     "data": {
      "text/plain": [
       "                 Count\n",
       "PLAYER_NAME           \n",
       "Kaila Charles        4\n",
       "Ariel Atkins         4\n",
       "Sami Whitcomb        3\n",
       "Riquna Williams      3\n",
       "Kayla Thornton       3\n",
       "Blake Dietrick       3\n",
       "Brittney Sykes       3\n",
       "Diana Taurasi        3\n",
       "Sydney Wiese         2\n",
       "DeWanna Bonner       2"
      ],
      "text/html": "<div>\n<style scoped>\n    .dataframe tbody tr th:only-of-type {\n        vertical-align: middle;\n    }\n\n    .dataframe tbody tr th {\n        vertical-align: top;\n    }\n\n    .dataframe thead th {\n        text-align: right;\n    }\n</style>\n<table border=\"1\" class=\"dataframe\">\n  <thead>\n    <tr style=\"text-align: right;\">\n      <th></th>\n      <th>Count</th>\n    </tr>\n    <tr>\n      <th>PLAYER_NAME</th>\n      <th></th>\n    </tr>\n  </thead>\n  <tbody>\n    <tr>\n      <th>Kaila Charles</th>\n      <td>4</td>\n    </tr>\n    <tr>\n      <th>Ariel Atkins</th>\n      <td>4</td>\n    </tr>\n    <tr>\n      <th>Sami Whitcomb</th>\n      <td>3</td>\n    </tr>\n    <tr>\n      <th>Riquna Williams</th>\n      <td>3</td>\n    </tr>\n    <tr>\n      <th>Kayla Thornton</th>\n      <td>3</td>\n    </tr>\n    <tr>\n      <th>Blake Dietrick</th>\n      <td>3</td>\n    </tr>\n    <tr>\n      <th>Brittney Sykes</th>\n      <td>3</td>\n    </tr>\n    <tr>\n      <th>Diana Taurasi</th>\n      <td>3</td>\n    </tr>\n    <tr>\n      <th>Sydney Wiese</th>\n      <td>2</td>\n    </tr>\n    <tr>\n      <th>DeWanna Bonner</th>\n      <td>2</td>\n    </tr>\n  </tbody>\n</table>\n</div>"
     },
     "metadata": {},
     "execution_count": 41
    }
   ],
   "source": [
    "Above_The_Break_3_right_side_24=Above_The_Break_3_right_side.loc[Above_The_Break_3_right_side['SHOT_ZONE_RANGE'] == '24+ ft.']\n",
    "Above_The_Break_3_right_side_24.groupby(by='PLAYER_NAME').sum()['Count'].sort_values(ascending=False).to_frame().head(10)"
   ]
  },
  {
   "cell_type": "code",
   "execution_count": 42,
   "metadata": {},
   "outputs": [
    {
     "output_type": "execute_result",
     "data": {
      "text/plain": [
       "        PLAYER_NAME SHOT_ZONE_BASIC  SHOT_ZONE_AREA  SHOT_ZONE_RANGE  \\\n",
       "6025  Jazmine Jones       Backcourt  Back Court(BC)  Back Court Shot   \n",
       "\n",
       "      SHOT_DISTANCE  LOC_X  LOC_Y  Count  \n",
       "6025             48    207    439      1  "
      ],
      "text/html": "<div>\n<style scoped>\n    .dataframe tbody tr th:only-of-type {\n        vertical-align: middle;\n    }\n\n    .dataframe tbody tr th {\n        vertical-align: top;\n    }\n\n    .dataframe thead th {\n        text-align: right;\n    }\n</style>\n<table border=\"1\" class=\"dataframe\">\n  <thead>\n    <tr style=\"text-align: right;\">\n      <th></th>\n      <th>PLAYER_NAME</th>\n      <th>SHOT_ZONE_BASIC</th>\n      <th>SHOT_ZONE_AREA</th>\n      <th>SHOT_ZONE_RANGE</th>\n      <th>SHOT_DISTANCE</th>\n      <th>LOC_X</th>\n      <th>LOC_Y</th>\n      <th>Count</th>\n    </tr>\n  </thead>\n  <tbody>\n    <tr>\n      <th>6025</th>\n      <td>Jazmine Jones</td>\n      <td>Backcourt</td>\n      <td>Back Court(BC)</td>\n      <td>Back Court Shot</td>\n      <td>48</td>\n      <td>207</td>\n      <td>439</td>\n      <td>1</td>\n    </tr>\n  </tbody>\n</table>\n</div>"
     },
     "metadata": {},
     "execution_count": 42
    }
   ],
   "source": [
    "backcourt=file_to_load.loc[file_to_load['SHOT_ZONE_BASIC']=='Backcourt']\n",
    "backcourt"
   ]
  },
  {
   "cell_type": "code",
   "execution_count": 43,
   "metadata": {},
   "outputs": [],
   "source": [
    "L_Corner_3_df = ['Jewell Loyd', 'Left Corner 3','Left Side(L)','24+ ft']\n",
    "R_Corner_3df = ['Satou Sabally', 'Right Corner 3','Right Side(R)', '24+ ft.']\n",
    "Mid_Range_Right_8_16= ['Allie Quigley', 'Mid-Range', 'Right Side(R)', '8-16 ft.']\n",
    "Mid_Range_Right_16_24 = ['Courtney Williams and Candice Dupree', 'Mid-Range', 'Right Side(R)', '16-24 ft.']\n",
    "Mid_Range_Center_8_16 = ['Aja Wilson and Allie Quigley', 'Mid-Range','Center', '8-16 ft.']\n",
    "Mid_Range_Center_16_24 = ['Kayla McBride','Mid-Range','Center','16-24 ft.']\n",
    "Mid_Range_Left_Side_Center_16_24 = ['Courtney Williams','Mid-Range','Left Side Center', '16-24 ft.']\n",
    "Mid_Range_Right_Side_Center_16_24 = ['Courtney Williams','Mid-Range', 'Right Side Center', '16-24 ft.']\n",
    "Mid_Range_Left_8_16 = ['Chennedy Carter and Napheesa Collier', 'Mid-Range', 'Left Side(L)', '8-16 ft.']\n",
    "Mid_Range_Left_16_24 = ['Candice Dupree','Mid-Range','Left Side(L)','16-24 ft']\n",
    "Paint_NR_Center_lessthan8 = ['Myisha Hines-Allen and Alyssa Thomas', 'In The Paint (Non-RA)', ' Center', 'Less Than 8 ft.']\n",
    "Paint_NR_Center_8_16 = ['Aja Wilson','In The Paint (Non-RA)','Center','8-16 ft']\n",
    "Paint_NR_left_8_16 = ['Napheesa Collier, Betnijah Laney, Breanna Stewart' , 'In The Paint (Non-RA)','Left Side(L)', '8-16 ft.']\n",
    "Paint_NR_right_8_16 =['Aja Wilson, Emma Meesseman, Courtney Williams', 'In The Paint (Non-RA)', 'Right Side(R)', '8-16 ft.']\n",
    "Restricted_Area = ['Dearica Hamby and Brionna Jones', 'Restricted Area', 'Center', 'Less Than 8 ft']\n",
    "Above_The_Break_3_Left_Center_16_24 = ['Alexis Jones, Candace Parker, Leilani Mitchell, Rachel Banham, Arike Ogunbowale', 'Above the Break 3', 'Left Side Center(LC)', '16-24 ft.']\n",
    "Above_The_Break_3_Left_Center_24plus = ['Arike Ogunbowale', 'Above the Break 3', 'Left Side Center(LC)', '24+ ft.']\n",
    "Above_The_Break_3_Right_Center_16_24 = ['Courtney Vandersloot', 'Above the Break 3', 'Right Side Center(RC)', '16-24ft']\n",
    "Above_The_Break_3_Right_Center_24plus = ['Kelsey Mitchell and Skylar Diggins-Smith', 'Above the Break 3', 'Right Side Center(RC)', '24+ ft']\n",
    "Above_The_Break_3_Left_Side_16_24 = ['Alysha Clark and Shekinna Stricklen', 'Above the Break 3', 'Left Side(L)', '16-24 ft.']\n",
    "Above_The_Break_3_Left_Side_24plus = ['Jewell Loyd and Kahleah Copper', 'Above the Break 3', 'Left Side(L)', '24+ ft.']\n",
    "Above_The_Break_3_center_16to24 = ['Kelsey Mitchell', 'Above The Break 3', 'Center(C)', '16-24 ft.']\n",
    "Above_The_Break_3_center_24plus = ['Diana Taurasi', 'Above The Break 3', 'Center(C)', '24+ ft.']\n",
    "Above_The_Break_3_right_side_16to24 = ['Riquna Williams','Above The Break 3', 'Right Side(R)', '16-24 ft.']\n",
    "Above_The_Break_3_right_side_24plus = ['Kaila Charles and Ariel Atkins', 'Above The Break 3', 'Right Side', '24+ ft']\n",
    "Top_WNBA_Shooting_for2020=pd.DataFrame(columns = ['Player Name', 'Shot Zone Basic','Shot Zone Area',  'Distance'])"
   ]
  },
  {
   "cell_type": "code",
   "execution_count": 44,
   "metadata": {},
   "outputs": [
    {
     "output_type": "execute_result",
     "data": {
      "text/plain": [
       "                                                                        Player Name  \\\n",
       "0                                                                       Jewell Loyd   \n",
       "1                                                                     Satou Sabally   \n",
       "2                                                                     Allie Quigley   \n",
       "3                                              Courtney Williams and Candice Dupree   \n",
       "4                                                      Aja Wilson and Allie Quigley   \n",
       "5                                                                     Kayla McBride   \n",
       "6                                                                 Courtney Williams   \n",
       "7                                                                 Courtney Williams   \n",
       "8                                              Chennedy Carter and Napheesa Collier   \n",
       "9                                                                    Candice Dupree   \n",
       "10                                             Myisha Hines-Allen and Alyssa Thomas   \n",
       "11                                                                       Aja Wilson   \n",
       "12                                Napheesa Collier, Betnijah Laney, Breanna Stewart   \n",
       "13                                    Aja Wilson, Emma Meesseman, Courtney Williams   \n",
       "14                                                  Dearica Hamby and Brionna Jones   \n",
       "15  Alexis Jones, Candace Parker, Leilani Mitchell, Rachel Banham, Arike Ogunbowale   \n",
       "16                                                                 Arike Ogunbowale   \n",
       "17                                                             Courtney Vandersloot   \n",
       "18                                         Kelsey Mitchell and Skylar Diggins-Smith   \n",
       "19                                              Alysha Clark and Shekinna Stricklen   \n",
       "20                                                   Jewell Loyd and Kahleah Copper   \n",
       "21                                                                  Kelsey Mitchell   \n",
       "22                                                                    Diana Taurasi   \n",
       "23                                                                  Riquna Williams   \n",
       "24                                                   Kaila Charles and Ariel Atkins   \n",
       "\n",
       "          Shot Zone Basic         Shot Zone Area         Distance  \n",
       "0           Left Corner 3           Left Side(L)           24+ ft  \n",
       "1          Right Corner 3          Right Side(R)          24+ ft.  \n",
       "2               Mid-Range          Right Side(R)         8-16 ft.  \n",
       "3               Mid-Range          Right Side(R)        16-24 ft.  \n",
       "4               Mid-Range                 Center         8-16 ft.  \n",
       "5               Mid-Range                 Center        16-24 ft.  \n",
       "6               Mid-Range       Left Side Center        16-24 ft.  \n",
       "7               Mid-Range      Right Side Center        16-24 ft.  \n",
       "8               Mid-Range           Left Side(L)         8-16 ft.  \n",
       "9               Mid-Range           Left Side(L)         16-24 ft  \n",
       "10  In The Paint (Non-RA)                 Center  Less Than 8 ft.  \n",
       "11  In The Paint (Non-RA)                 Center          8-16 ft  \n",
       "12  In The Paint (Non-RA)           Left Side(L)         8-16 ft.  \n",
       "13  In The Paint (Non-RA)          Right Side(R)         8-16 ft.  \n",
       "14        Restricted Area                 Center   Less Than 8 ft  \n",
       "15      Above the Break 3   Left Side Center(LC)        16-24 ft.  \n",
       "16      Above the Break 3   Left Side Center(LC)          24+ ft.  \n",
       "17      Above the Break 3  Right Side Center(RC)          16-24ft  \n",
       "18      Above the Break 3  Right Side Center(RC)           24+ ft  \n",
       "19      Above the Break 3           Left Side(L)        16-24 ft.  \n",
       "20      Above the Break 3           Left Side(L)          24+ ft.  \n",
       "21      Above The Break 3              Center(C)        16-24 ft.  \n",
       "22      Above The Break 3              Center(C)          24+ ft.  \n",
       "23      Above The Break 3          Right Side(R)        16-24 ft.  \n",
       "24      Above The Break 3             Right Side           24+ ft  "
      ],
      "text/html": "<div>\n<style scoped>\n    .dataframe tbody tr th:only-of-type {\n        vertical-align: middle;\n    }\n\n    .dataframe tbody tr th {\n        vertical-align: top;\n    }\n\n    .dataframe thead th {\n        text-align: right;\n    }\n</style>\n<table border=\"1\" class=\"dataframe\">\n  <thead>\n    <tr style=\"text-align: right;\">\n      <th></th>\n      <th>Player Name</th>\n      <th>Shot Zone Basic</th>\n      <th>Shot Zone Area</th>\n      <th>Distance</th>\n    </tr>\n  </thead>\n  <tbody>\n    <tr>\n      <th>0</th>\n      <td>Jewell Loyd</td>\n      <td>Left Corner 3</td>\n      <td>Left Side(L)</td>\n      <td>24+ ft</td>\n    </tr>\n    <tr>\n      <th>1</th>\n      <td>Satou Sabally</td>\n      <td>Right Corner 3</td>\n      <td>Right Side(R)</td>\n      <td>24+ ft.</td>\n    </tr>\n    <tr>\n      <th>2</th>\n      <td>Allie Quigley</td>\n      <td>Mid-Range</td>\n      <td>Right Side(R)</td>\n      <td>8-16 ft.</td>\n    </tr>\n    <tr>\n      <th>3</th>\n      <td>Courtney Williams and Candice Dupree</td>\n      <td>Mid-Range</td>\n      <td>Right Side(R)</td>\n      <td>16-24 ft.</td>\n    </tr>\n    <tr>\n      <th>4</th>\n      <td>Aja Wilson and Allie Quigley</td>\n      <td>Mid-Range</td>\n      <td>Center</td>\n      <td>8-16 ft.</td>\n    </tr>\n    <tr>\n      <th>5</th>\n      <td>Kayla McBride</td>\n      <td>Mid-Range</td>\n      <td>Center</td>\n      <td>16-24 ft.</td>\n    </tr>\n    <tr>\n      <th>6</th>\n      <td>Courtney Williams</td>\n      <td>Mid-Range</td>\n      <td>Left Side Center</td>\n      <td>16-24 ft.</td>\n    </tr>\n    <tr>\n      <th>7</th>\n      <td>Courtney Williams</td>\n      <td>Mid-Range</td>\n      <td>Right Side Center</td>\n      <td>16-24 ft.</td>\n    </tr>\n    <tr>\n      <th>8</th>\n      <td>Chennedy Carter and Napheesa Collier</td>\n      <td>Mid-Range</td>\n      <td>Left Side(L)</td>\n      <td>8-16 ft.</td>\n    </tr>\n    <tr>\n      <th>9</th>\n      <td>Candice Dupree</td>\n      <td>Mid-Range</td>\n      <td>Left Side(L)</td>\n      <td>16-24 ft</td>\n    </tr>\n    <tr>\n      <th>10</th>\n      <td>Myisha Hines-Allen and Alyssa Thomas</td>\n      <td>In The Paint (Non-RA)</td>\n      <td>Center</td>\n      <td>Less Than 8 ft.</td>\n    </tr>\n    <tr>\n      <th>11</th>\n      <td>Aja Wilson</td>\n      <td>In The Paint (Non-RA)</td>\n      <td>Center</td>\n      <td>8-16 ft</td>\n    </tr>\n    <tr>\n      <th>12</th>\n      <td>Napheesa Collier, Betnijah Laney, Breanna Stewart</td>\n      <td>In The Paint (Non-RA)</td>\n      <td>Left Side(L)</td>\n      <td>8-16 ft.</td>\n    </tr>\n    <tr>\n      <th>13</th>\n      <td>Aja Wilson, Emma Meesseman, Courtney Williams</td>\n      <td>In The Paint (Non-RA)</td>\n      <td>Right Side(R)</td>\n      <td>8-16 ft.</td>\n    </tr>\n    <tr>\n      <th>14</th>\n      <td>Dearica Hamby and Brionna Jones</td>\n      <td>Restricted Area</td>\n      <td>Center</td>\n      <td>Less Than 8 ft</td>\n    </tr>\n    <tr>\n      <th>15</th>\n      <td>Alexis Jones, Candace Parker, Leilani Mitchell, Rachel Banham, Arike Ogunbowale</td>\n      <td>Above the Break 3</td>\n      <td>Left Side Center(LC)</td>\n      <td>16-24 ft.</td>\n    </tr>\n    <tr>\n      <th>16</th>\n      <td>Arike Ogunbowale</td>\n      <td>Above the Break 3</td>\n      <td>Left Side Center(LC)</td>\n      <td>24+ ft.</td>\n    </tr>\n    <tr>\n      <th>17</th>\n      <td>Courtney Vandersloot</td>\n      <td>Above the Break 3</td>\n      <td>Right Side Center(RC)</td>\n      <td>16-24ft</td>\n    </tr>\n    <tr>\n      <th>18</th>\n      <td>Kelsey Mitchell and Skylar Diggins-Smith</td>\n      <td>Above the Break 3</td>\n      <td>Right Side Center(RC)</td>\n      <td>24+ ft</td>\n    </tr>\n    <tr>\n      <th>19</th>\n      <td>Alysha Clark and Shekinna Stricklen</td>\n      <td>Above the Break 3</td>\n      <td>Left Side(L)</td>\n      <td>16-24 ft.</td>\n    </tr>\n    <tr>\n      <th>20</th>\n      <td>Jewell Loyd and Kahleah Copper</td>\n      <td>Above the Break 3</td>\n      <td>Left Side(L)</td>\n      <td>24+ ft.</td>\n    </tr>\n    <tr>\n      <th>21</th>\n      <td>Kelsey Mitchell</td>\n      <td>Above The Break 3</td>\n      <td>Center(C)</td>\n      <td>16-24 ft.</td>\n    </tr>\n    <tr>\n      <th>22</th>\n      <td>Diana Taurasi</td>\n      <td>Above The Break 3</td>\n      <td>Center(C)</td>\n      <td>24+ ft.</td>\n    </tr>\n    <tr>\n      <th>23</th>\n      <td>Riquna Williams</td>\n      <td>Above The Break 3</td>\n      <td>Right Side(R)</td>\n      <td>16-24 ft.</td>\n    </tr>\n    <tr>\n      <th>24</th>\n      <td>Kaila Charles and Ariel Atkins</td>\n      <td>Above The Break 3</td>\n      <td>Right Side</td>\n      <td>24+ ft</td>\n    </tr>\n  </tbody>\n</table>\n</div>"
     },
     "metadata": {},
     "execution_count": 44
    }
   ],
   "source": [
    "frames = [L_Corner_3_df, R_Corner_3df, Mid_Range_Right_8_16, Mid_Range_Right_16_24, Mid_Range_Center_8_16, Mid_Range_Center_16_24 , Mid_Range_Left_Side_Center_16_24 ,Mid_Range_Right_Side_Center_16_24, Mid_Range_Left_8_16, \n",
    "          Mid_Range_Left_16_24, Paint_NR_Center_lessthan8 , Paint_NR_Center_8_16, Paint_NR_left_8_16, Paint_NR_right_8_16, Restricted_Area, Above_The_Break_3_Left_Center_16_24 , Above_The_Break_3_Left_Center_24plus,\n",
    "          Above_The_Break_3_Right_Center_16_24, Above_The_Break_3_Right_Center_24plus,Above_The_Break_3_Left_Side_16_24,Above_The_Break_3_Left_Side_24plus,Above_The_Break_3_center_16to24,Above_The_Break_3_center_24plus,\n",
    "          Above_The_Break_3_right_side_16to24,Above_The_Break_3_right_side_24plus]\n",
    "\n",
    "Top_WNBA_Shooting_for2020=pd.DataFrame(frames, columns = ['Player Name', 'Shot Zone Basic','Shot Zone Area',  'Distance'])\n",
    "pd.set_option('max_colwidth',None)\n",
    "Top_WNBA_Shooting_for2020"
   ]
  },
  {
   "cell_type": "code",
   "execution_count": 70,
   "metadata": {},
   "outputs": [],
   "source": [
    "import pandas as pd\n",
    "from scipy.stats import binned_statistic_2d\n",
    "import seaborn as sns\n",
    "from bokeh.plotting import figure\n",
    "from math import pi\n",
    "%matplotlib inline\n",
    "\n",
    "import urllib\n",
    "import matplotlib.pyplot as plt\n",
    "from matplotlib.patches import Circle, Rectangle, Arc\n",
    "def draw_court(ax=None, color='black', lw=2, outer_lines=False):\n",
    "    # If an axes object isn't provided to plot onto, just get current one\n",
    "    if ax is None:\n",
    "        ax = plt.gca()\n",
    "\n",
    "    # Create the various parts of an NBA basketball court\n",
    "\n",
    "    # Create the basketball hoop\n",
    "    # Diameter of a hoop is 18\" so it has a radius of 9\", which is a value\n",
    "    # 7.5 in our coordinate system\n",
    "    hoop = Circle((0, 0), radius=7.5, linewidth=lw, color=color, fill=False)\n",
    "\n",
    "    # Create backboard\n",
    "    backboard = Rectangle((-30, -7.5), 60, -1, linewidth=lw, color=color)\n",
    "\n",
    "    # The paint\n",
    "    # Create the outer box 0f the paint, width=16ft, height=19ft\n",
    "    outer_box = Rectangle((-80, -47.5), 160, 190, linewidth=lw, color=color,\n",
    "                          fill=False)\n",
    "    # Create the inner box of the paint, widt=12ft, height=19ft\n",
    "    inner_box = Rectangle((-60, -47.5), 120, 190, linewidth=lw, color=color,\n",
    "                          fill=False)\n",
    "\n",
    "    # Create free throw top arc\n",
    "    top_free_throw = Arc((0, 142.5), 120, 120, theta1=0, theta2=180,\n",
    "                         linewidth=lw, color=color, fill=False)\n",
    "    # Create free throw bottom arc\n",
    "    bottom_free_throw = Arc((0, 142.5), 120, 120, theta1=180, theta2=0,\n",
    "                            linewidth=lw, color=color, linestyle='dashed')\n",
    "    # Restricted Zone, it is an arc with 4ft radius from center of the hoop\n",
    "    restricted = Arc((0, 0), 80, 80, theta1=0, theta2=180, linewidth=lw,\n",
    "                     color=color)\n",
    "\n",
    "    # Three point line\n",
    "    # Create the side 3pt lines, they are 14ft long before they begin to arc\n",
    "    corner_three_a = Rectangle((-220, -47.5), 0, 140, linewidth=lw,\n",
    "                               color=color)\n",
    "    corner_three_b = Rectangle((220, -47.5), 0, 140, linewidth=lw, color=color)\n",
    "    # 3pt arc - center of arc will be the hoop, arc is 23'9\" away from hoop\n",
    "    # I just played around with the theta values until they lined up with the \n",
    "    # threes\n",
    "    three_arc = Arc((0, 0), 475, 475, theta1=22, theta2=158, linewidth=lw,\n",
    "                    color=color)\n",
    "\n",
    "    # Center Court\n",
    "    center_outer_arc = Arc((0, 422.5), 120, 120, theta1=180, theta2=0,\n",
    "                           linewidth=lw, color=color)\n",
    "    center_inner_arc = Arc((0, 422.5), 40, 40, theta1=180, theta2=0,\n",
    "                           linewidth=lw, color=color)\n",
    "\n",
    "    # List of the court elements to be plotted onto the axes\n",
    "    court_elements = [hoop, backboard, outer_box, inner_box, top_free_throw,\n",
    "                      bottom_free_throw, restricted, corner_three_a,\n",
    "                      corner_three_b, three_arc, center_outer_arc,\n",
    "                      center_inner_arc]\n",
    "\n",
    "    if outer_lines:\n",
    "        # Draw the half court line, baseline and side out bound lines\n",
    "        outer_lines = Rectangle((-250, -47.5), 500, 470, linewidth=lw,\n",
    "                                color=color, fill=False)\n",
    "        court_elements.append(outer_lines)\n",
    "\n",
    "    # Add the court elements onto the axes\n",
    "    for element in court_elements:\n",
    "        ax.add_patch(element)\n",
    "\n",
    "    return ax"
   ]
  },
  {
   "cell_type": "code",
   "execution_count": 142,
   "metadata": {},
   "outputs": [
    {
     "output_type": "display_data",
     "data": {
      "text/plain": "<Figure size 864x792 with 1 Axes>",
      "image/svg+xml": "<?xml version=\"1.0\" encoding=\"utf-8\" standalone=\"no\"?>\r\n<!DOCTYPE svg PUBLIC \"-//W3C//DTD SVG 1.1//EN\"\r\n  \"http://www.w3.org/Graphics/SVG/1.1/DTD/svg11.dtd\">\r\n<!-- Created with matplotlib (https://matplotlib.org/) -->\r\n<svg height=\"632.837344pt\" version=\"1.1\" viewBox=\"0 0 728.010938 632.837344\" width=\"728.010938pt\" xmlns=\"http://www.w3.org/2000/svg\" xmlns:xlink=\"http://www.w3.org/1999/xlink\">\r\n <defs>\r\n  <style type=\"text/css\">\r\n*{stroke-linecap:butt;stroke-linejoin:round;}\r\n  </style>\r\n </defs>\r\n <g id=\"figure_1\">\r\n  <g id=\"patch_1\">\r\n   <path d=\"M 0 632.837344 \r\nL 728.010938 632.837344 \r\nL 728.010938 0 \r\nL 0 0 \r\nz\r\n\" style=\"fill:none;\"/>\r\n  </g>\r\n  <g id=\"axes_1\">\r\n   <g id=\"patch_2\">\r\n    <path d=\"M 41.667187 608.959219 \r\nL 711.267187 608.959219 \r\nL 711.267187 10.999219 \r\nL 41.667187 10.999219 \r\nz\r\n\" style=\"fill:#ffffff;\"/>\r\n   </g>\r\n   <g id=\"PathCollection_1\">\r\n    <defs>\r\n     <path d=\"M 0 3 \r\nC 0.795609 3 1.55874 2.683901 2.12132 2.12132 \r\nC 2.683901 1.55874 3 0.795609 3 0 \r\nC 3 -0.795609 2.683901 -1.55874 2.12132 -2.12132 \r\nC 1.55874 -2.683901 0.795609 -3 0 -3 \r\nC -0.795609 -3 -1.55874 -2.683901 -2.12132 -2.12132 \r\nC -2.683901 -1.55874 -3 -0.795609 -3 0 \r\nC -3 0.795609 -2.683901 1.55874 -2.12132 2.12132 \r\nC -1.55874 2.683901 -0.795609 3 0 3 \r\nz\r\n\" id=\"mbc1fb1a37a\" style=\"stroke:#008000;\"/>\r\n    </defs>\r\n    <g clip-path=\"url(#p1206d561c2)\">\r\n     <use style=\"fill:#008000;stroke:#008000;\" x=\"111.975188\" xlink:href=\"#mbc1fb1a37a\" y=\"516.275419\"/>\r\n     <use style=\"fill:#008000;stroke:#008000;\" x=\"111.975188\" xlink:href=\"#mbc1fb1a37a\" y=\"521.258419\"/>\r\n     <use style=\"fill:#008000;stroke:#008000;\" x=\"124.251187\" xlink:href=\"#mbc1fb1a37a\" y=\"516.275419\"/>\r\n     <use style=\"fill:#008000;stroke:#008000;\" x=\"124.251187\" xlink:href=\"#mbc1fb1a37a\" y=\"497.340019\"/>\r\n     <use style=\"fill:#008000;stroke:#008000;\" x=\"117.555187\" xlink:href=\"#mbc1fb1a37a\" y=\"508.302619\"/>\r\n     <use style=\"fill:#008000;stroke:#008000;\" x=\"122.019187\" xlink:href=\"#mbc1fb1a37a\" y=\"524.248219\"/>\r\n     <use style=\"fill:#008000;stroke:#008000;\" x=\"119.787188\" xlink:href=\"#mbc1fb1a37a\" y=\"518.268619\"/>\r\n     <use style=\"fill:#008000;stroke:#008000;\" x=\"118.671187\" xlink:href=\"#mbc1fb1a37a\" y=\"520.261819\"/>\r\n    </g>\r\n   </g>\r\n   <g id=\"PathCollection_2\">\r\n    <defs>\r\n     <path d=\"M 0 3 \r\nC 0.795609 3 1.55874 2.683901 2.12132 2.12132 \r\nC 2.683901 1.55874 3 0.795609 3 0 \r\nC 3 -0.795609 2.683901 -1.55874 2.12132 -2.12132 \r\nC 1.55874 -2.683901 0.795609 -3 0 -3 \r\nC -0.795609 -3 -1.55874 -2.683901 -2.12132 -2.12132 \r\nC -2.683901 -1.55874 -3 -0.795609 -3 0 \r\nC -3 0.795609 -2.683901 1.55874 -2.12132 2.12132 \r\nC -1.55874 2.683901 -0.795609 3 0 3 \r\nz\r\n\" id=\"mc34c72cf56\" style=\"stroke:#ff0000;\"/>\r\n    </defs>\r\n    <g clip-path=\"url(#p1206d561c2)\">\r\n     <use style=\"fill:#ff0000;stroke:#ff0000;\" x=\"629.799188\" xlink:href=\"#mc34c72cf56\" y=\"495.346819\"/>\r\n     <use style=\"fill:#ff0000;stroke:#ff0000;\" x=\"635.379188\" xlink:href=\"#mc34c72cf56\" y=\"498.336619\"/>\r\n     <use style=\"fill:#ff0000;stroke:#ff0000;\" x=\"635.379188\" xlink:href=\"#mc34c72cf56\" y=\"492.357019\"/>\r\n    </g>\r\n   </g>\r\n   <g id=\"PathCollection_3\">\r\n    <defs>\r\n     <path d=\"M 0 3 \r\nC 0.795609 3 1.55874 2.683901 2.12132 2.12132 \r\nC 2.683901 1.55874 3 0.795609 3 0 \r\nC 3 -0.795609 2.683901 -1.55874 2.12132 -2.12132 \r\nC 1.55874 -2.683901 0.795609 -3 0 -3 \r\nC -0.795609 -3 -1.55874 -2.683901 -2.12132 -2.12132 \r\nC -2.683901 -1.55874 -3 -0.795609 -3 0 \r\nC -3 0.795609 -2.683901 1.55874 -2.12132 2.12132 \r\nC -1.55874 2.683901 -0.795609 3 0 3 \r\nz\r\n\" id=\"mdb828ff3dc\" style=\"stroke:#0000ff;\"/>\r\n    </defs>\r\n    <g clip-path=\"url(#p1206d561c2)\">\r\n     <use style=\"fill:#0000ff;stroke:#0000ff;\" x=\"510.387188\" xlink:href=\"#mdb828ff3dc\" y=\"481.394419\"/>\r\n     <use style=\"fill:#0000ff;stroke:#0000ff;\" x=\"503.691188\" xlink:href=\"#mdb828ff3dc\" y=\"496.343419\"/>\r\n     <use style=\"fill:#0000ff;stroke:#0000ff;\" x=\"473.559188\" xlink:href=\"#mdb828ff3dc\" y=\"451.496419\"/>\r\n     <use style=\"fill:#0000ff;stroke:#0000ff;\" x=\"466.863188\" xlink:href=\"#mdb828ff3dc\" y=\"448.506619\"/>\r\n     <use style=\"fill:#0000ff;stroke:#0000ff;\" x=\"519.315188\" xlink:href=\"#mdb828ff3dc\" y=\"418.608619\"/>\r\n     <use style=\"fill:#0000ff;stroke:#0000ff;\" x=\"528.243187\" xlink:href=\"#mdb828ff3dc\" y=\"492.357019\"/>\r\n     <use style=\"fill:#0000ff;stroke:#0000ff;\" x=\"512.619188\" xlink:href=\"#mdb828ff3dc\" y=\"494.350219\"/>\r\n     <use style=\"fill:#0000ff;stroke:#0000ff;\" x=\"492.531188\" xlink:href=\"#mdb828ff3dc\" y=\"444.520219\"/>\r\n     <use style=\"fill:#0000ff;stroke:#0000ff;\" x=\"469.095188\" xlink:href=\"#mdb828ff3dc\" y=\"501.326419\"/>\r\n     <use style=\"fill:#0000ff;stroke:#0000ff;\" x=\"475.791188\" xlink:href=\"#mdb828ff3dc\" y=\"502.323019\"/>\r\n     <use style=\"fill:#0000ff;stroke:#0000ff;\" x=\"481.371188\" xlink:href=\"#mdb828ff3dc\" y=\"490.363819\"/>\r\n    </g>\r\n   </g>\r\n   <g id=\"PathCollection_4\">\r\n    <defs>\r\n     <path d=\"M 0 3 \r\nC 0.795609 3 1.55874 2.683901 2.12132 2.12132 \r\nC 2.683901 1.55874 3 0.795609 3 0 \r\nC 3 -0.795609 2.683901 -1.55874 2.12132 -2.12132 \r\nC 1.55874 -2.683901 0.795609 -3 0 -3 \r\nC -0.795609 -3 -1.55874 -2.683901 -2.12132 -2.12132 \r\nC -2.683901 -1.55874 -3 -0.795609 -3 0 \r\nC -3 0.795609 -2.683901 1.55874 -2.12132 2.12132 \r\nC -1.55874 2.683901 -0.795609 3 0 3 \r\nz\r\n\" id=\"m3459b06068\" style=\"stroke:#808080;\"/>\r\n    </defs>\r\n    <g clip-path=\"url(#p1206d561c2)\">\r\n     <use style=\"fill:#808080;stroke:#808080;\" x=\"591.855188\" xlink:href=\"#m3459b06068\" y=\"438.540619\"/>\r\n     <use style=\"fill:#808080;stroke:#808080;\" x=\"575.115188\" xlink:href=\"#m3459b06068\" y=\"495.346819\"/>\r\n     <use style=\"fill:#808080;stroke:#808080;\" x=\"568.419188\" xlink:href=\"#m3459b06068\" y=\"502.323019\"/>\r\n     <use style=\"fill:#808080;stroke:#808080;\" x=\"565.071188\" xlink:href=\"#m3459b06068\" y=\"476.411419\"/>\r\n     <use style=\"fill:#808080;stroke:#808080;\" x=\"592.971188\" xlink:href=\"#m3459b06068\" y=\"448.506619\"/>\r\n     <use style=\"fill:#808080;stroke:#808080;\" x=\"577.347188\" xlink:href=\"#m3459b06068\" y=\"500.329819\"/>\r\n     <use style=\"fill:#808080;stroke:#808080;\" x=\"571.767188\" xlink:href=\"#m3459b06068\" y=\"473.421619\"/>\r\n     <use style=\"fill:#808080;stroke:#808080;\" x=\"559.491188\" xlink:href=\"#m3459b06068\" y=\"489.367219\"/>\r\n    </g>\r\n   </g>\r\n   <g id=\"PathCollection_5\">\r\n    <defs>\r\n     <path d=\"M 0 3 \r\nC 0.795609 3 1.55874 2.683901 2.12132 2.12132 \r\nC 2.683901 1.55874 3 0.795609 3 0 \r\nC 3 -0.795609 2.683901 -1.55874 2.12132 -2.12132 \r\nC 1.55874 -2.683901 0.795609 -3 0 -3 \r\nC -0.795609 -3 -1.55874 -2.683901 -2.12132 -2.12132 \r\nC -2.683901 -1.55874 -3 -0.795609 -3 0 \r\nC -3 0.795609 -2.683901 1.55874 -2.12132 2.12132 \r\nC -1.55874 2.683901 -0.795609 3 0 3 \r\nz\r\n\" id=\"m3d8459c7c9\" style=\"stroke:#000000;\"/>\r\n    </defs>\r\n    <g clip-path=\"url(#p1206d561c2)\">\r\n     <use style=\"stroke:#000000;\" x=\"441.195188\" xlink:href=\"#m3d8459c7c9\" y=\"304.996219\"/>\r\n     <use style=\"stroke:#000000;\" x=\"426.687188\" xlink:href=\"#m3d8459c7c9\" y=\"343.863619\"/>\r\n     <use style=\"stroke:#000000;\" x=\"360.843187\" xlink:href=\"#m3d8459c7c9\" y=\"318.948619\"/>\r\n     <use style=\"stroke:#000000;\" x=\"401.019188\" xlink:href=\"#m3d8459c7c9\" y=\"314.962219\"/>\r\n     <use style=\"stroke:#000000;\" x=\"447.891188\" xlink:href=\"#m3d8459c7c9\" y=\"303.999619\"/>\r\n     <use style=\"stroke:#000000;\" x=\"402.135188\" xlink:href=\"#m3d8459c7c9\" y=\"300.013219\"/>\r\n     <use style=\"stroke:#000000;\" x=\"379.815188\" xlink:href=\"#m3d8459c7c9\" y=\"321.938419\"/>\r\n     <use style=\"stroke:#000000;\" x=\"321.783187\" xlink:href=\"#m3d8459c7c9\" y=\"327.918019\"/>\r\n     <use style=\"stroke:#000000;\" x=\"428.919188\" xlink:href=\"#m3d8459c7c9\" y=\"328.914619\"/>\r\n     <use style=\"stroke:#000000;\" x=\"388.743188\" xlink:href=\"#m3d8459c7c9\" y=\"317.952019\"/>\r\n     <use style=\"stroke:#000000;\" x=\"372.003188\" xlink:href=\"#m3d8459c7c9\" y=\"286.060819\"/>\r\n     <use style=\"stroke:#000000;\" x=\"349.683188\" xlink:href=\"#m3d8459c7c9\" y=\"345.856819\"/>\r\n     <use style=\"stroke:#000000;\" x=\"440.079188\" xlink:href=\"#m3d8459c7c9\" y=\"319.945219\"/>\r\n     <use style=\"stroke:#000000;\" x=\"388.743188\" xlink:href=\"#m3d8459c7c9\" y=\"303.003019\"/>\r\n     <use style=\"stroke:#000000;\" x=\"408.831188\" xlink:href=\"#m3d8459c7c9\" y=\"294.033619\"/>\r\n     <use style=\"stroke:#000000;\" x=\"395.439188\" xlink:href=\"#m3d8459c7c9\" y=\"306.989419\"/>\r\n    </g>\r\n   </g>\r\n   <g id=\"PathCollection_6\">\r\n    <defs>\r\n     <path d=\"M 0 3 \r\nC 0.795609 3 1.55874 2.683901 2.12132 2.12132 \r\nC 2.683901 1.55874 3 0.795609 3 0 \r\nC 3 -0.795609 2.683901 -1.55874 2.12132 -2.12132 \r\nC 1.55874 -2.683901 0.795609 -3 0 -3 \r\nC -0.795609 -3 -1.55874 -2.683901 -2.12132 -2.12132 \r\nC -2.683901 -1.55874 -3 -0.795609 -3 0 \r\nC -3 0.795609 -2.683901 1.55874 -2.12132 2.12132 \r\nC -1.55874 2.683901 -0.795609 3 0 3 \r\nz\r\n\" id=\"m2d2ca0a9f9\" style=\"stroke:#ffc0cb;\"/>\r\n    </defs>\r\n    <g clip-path=\"url(#p1206d561c2)\">\r\n     <use style=\"fill:#ffc0cb;stroke:#ffc0cb;\" x=\"363.075188\" xlink:href=\"#m2d2ca0a9f9\" y=\"352.833019\"/>\r\n     <use style=\"fill:#ffc0cb;stroke:#ffc0cb;\" x=\"296.115188\" xlink:href=\"#m2d2ca0a9f9\" y=\"369.775219\"/>\r\n     <use style=\"fill:#ffc0cb;stroke:#ffc0cb;\" x=\"452.355188\" xlink:href=\"#m2d2ca0a9f9\" y=\"367.782019\"/>\r\n     <use style=\"fill:#ffc0cb;stroke:#ffc0cb;\" x=\"365.307187\" xlink:href=\"#m2d2ca0a9f9\" y=\"355.822819\"/>\r\n     <use style=\"fill:#ffc0cb;stroke:#ffc0cb;\" x=\"332.943188\" xlink:href=\"#m2d2ca0a9f9\" y=\"360.805819\"/>\r\n     <use style=\"fill:#ffc0cb;stroke:#ffc0cb;\" x=\"374.235187\" xlink:href=\"#m2d2ca0a9f9\" y=\"367.782019\"/>\r\n     <use style=\"fill:#ffc0cb;stroke:#ffc0cb;\" x=\"329.595188\" xlink:href=\"#m2d2ca0a9f9\" y=\"367.782019\"/>\r\n    </g>\r\n   </g>\r\n   <g id=\"PathCollection_7\">\r\n    <g clip-path=\"url(#p1206d561c2)\">\r\n     <use style=\"fill:#808080;stroke:#808080;\" x=\"292.767188\" xlink:href=\"#m3459b06068\" y=\"352.833019\"/>\r\n     <use style=\"fill:#808080;stroke:#808080;\" x=\"247.011188\" xlink:href=\"#m3459b06068\" y=\"370.771819\"/>\r\n     <use style=\"fill:#808080;stroke:#808080;\" x=\"220.227188\" xlink:href=\"#m3459b06068\" y=\"357.816019\"/>\r\n     <use style=\"fill:#808080;stroke:#808080;\" x=\"229.155188\" xlink:href=\"#m3459b06068\" y=\"412.629019\"/>\r\n     <use style=\"fill:#808080;stroke:#808080;\" x=\"307.275188\" xlink:href=\"#m3459b06068\" y=\"349.843219\"/>\r\n     <use style=\"fill:#808080;stroke:#808080;\" x=\"212.415188\" xlink:href=\"#m3459b06068\" y=\"387.714019\"/>\r\n     <use style=\"fill:#808080;stroke:#808080;\" x=\"309.507187\" xlink:href=\"#m3459b06068\" y=\"328.914619\"/>\r\n     <use style=\"fill:#808080;stroke:#808080;\" x=\"238.083188\" xlink:href=\"#m3459b06068\" y=\"390.703819\"/>\r\n     <use style=\"fill:#808080;stroke:#808080;\" x=\"269.331187\" xlink:href=\"#m3459b06068\" y=\"328.914619\"/>\r\n     <use style=\"fill:#808080;stroke:#808080;\" x=\"274.911187\" xlink:href=\"#m3459b06068\" y=\"325.924819\"/>\r\n     <use style=\"fill:#808080;stroke:#808080;\" x=\"233.619188\" xlink:href=\"#m3459b06068\" y=\"389.707219\"/>\r\n     <use style=\"fill:#808080;stroke:#808080;\" x=\"298.347188\" xlink:href=\"#m3459b06068\" y=\"339.877219\"/>\r\n     <use style=\"fill:#808080;stroke:#808080;\" x=\"273.795187\" xlink:href=\"#m3459b06068\" y=\"339.877219\"/>\r\n    </g>\r\n   </g>\r\n   <g id=\"PathCollection_8\">\r\n    <g clip-path=\"url(#p1206d561c2)\">\r\n     <use style=\"fill:#808080;stroke:#808080;\" x=\"526.011188\" xlink:href=\"#m3459b06068\" y=\"408.642619\"/>\r\n     <use style=\"fill:#808080;stroke:#808080;\" x=\"514.851188\" xlink:href=\"#m3459b06068\" y=\"394.690219\"/>\r\n     <use style=\"fill:#808080;stroke:#808080;\" x=\"484.719188\" xlink:href=\"#m3459b06068\" y=\"339.877219\"/>\r\n     <use style=\"fill:#808080;stroke:#808080;\" x=\"478.023188\" xlink:href=\"#m3459b06068\" y=\"319.945219\"/>\r\n     <use style=\"fill:#808080;stroke:#808080;\" x=\"459.051188\" xlink:href=\"#m3459b06068\" y=\"362.799019\"/>\r\n     <use style=\"fill:#808080;stroke:#808080;\" x=\"507.039188\" xlink:href=\"#m3459b06068\" y=\"361.802419\"/>\r\n     <use style=\"fill:#808080;stroke:#808080;\" x=\"485.835188\" xlink:href=\"#m3459b06068\" y=\"357.816019\"/>\r\n     <use style=\"fill:#808080;stroke:#808080;\" x=\"480.255188\" xlink:href=\"#m3459b06068\" y=\"353.829619\"/>\r\n     <use style=\"fill:#808080;stroke:#808080;\" x=\"464.631188\" xlink:href=\"#m3459b06068\" y=\"332.901019\"/>\r\n     <use style=\"fill:#808080;stroke:#808080;\" x=\"460.167188\" xlink:href=\"#m3459b06068\" y=\"355.822819\"/>\r\n     <use style=\"fill:#808080;stroke:#808080;\" x=\"460.167188\" xlink:href=\"#m3459b06068\" y=\"351.836419\"/>\r\n     <use style=\"fill:#808080;stroke:#808080;\" x=\"459.051188\" xlink:href=\"#m3459b06068\" y=\"336.887419\"/>\r\n     <use style=\"fill:#808080;stroke:#808080;\" x=\"512.619188\" xlink:href=\"#m3459b06068\" y=\"373.761619\"/>\r\n     <use style=\"fill:#808080;stroke:#808080;\" x=\"498.111188\" xlink:href=\"#m3459b06068\" y=\"349.843219\"/>\r\n     <use style=\"fill:#808080;stroke:#808080;\" x=\"460.167188\" xlink:href=\"#m3459b06068\" y=\"341.870419\"/>\r\n     <use style=\"fill:#808080;stroke:#808080;\" x=\"454.587188\" xlink:href=\"#m3459b06068\" y=\"319.945219\"/>\r\n     <use style=\"fill:#808080;stroke:#808080;\" x=\"507.039188\" xlink:href=\"#m3459b06068\" y=\"354.826219\"/>\r\n     <use style=\"fill:#808080;stroke:#808080;\" x=\"459.051188\" xlink:href=\"#m3459b06068\" y=\"326.921419\"/>\r\n     <use style=\"fill:#808080;stroke:#808080;\" x=\"521.547188\" xlink:href=\"#m3459b06068\" y=\"382.731019\"/>\r\n     <use style=\"fill:#808080;stroke:#808080;\" x=\"514.851188\" xlink:href=\"#m3459b06068\" y=\"389.707219\"/>\r\n     <use style=\"fill:#808080;stroke:#808080;\" x=\"459.051188\" xlink:href=\"#m3459b06068\" y=\"346.853419\"/>\r\n     <use style=\"fill:#808080;stroke:#808080;\" x=\"488.067188\" xlink:href=\"#m3459b06068\" y=\"360.805819\"/>\r\n     <use style=\"fill:#808080;stroke:#808080;\" x=\"512.619188\" xlink:href=\"#m3459b06068\" y=\"382.731019\"/>\r\n     <use style=\"fill:#808080;stroke:#808080;\" x=\"543.867188\" xlink:href=\"#m3459b06068\" y=\"376.751419\"/>\r\n    </g>\r\n   </g>\r\n   <g id=\"PathCollection_9\">\r\n    <g clip-path=\"url(#p1206d561c2)\">\r\n     <use style=\"fill:#ffc0cb;stroke:#ffc0cb;\" x=\"264.867188\" xlink:href=\"#m2d2ca0a9f9\" y=\"421.598419\"/>\r\n     <use style=\"fill:#ffc0cb;stroke:#ffc0cb;\" x=\"230.271187\" xlink:href=\"#m2d2ca0a9f9\" y=\"483.387619\"/>\r\n     <use style=\"fill:#ffc0cb;stroke:#ffc0cb;\" x=\"279.375188\" xlink:href=\"#m2d2ca0a9f9\" y=\"410.635819\"/>\r\n     <use style=\"fill:#ffc0cb;stroke:#ffc0cb;\" x=\"213.531188\" xlink:href=\"#m2d2ca0a9f9\" y=\"457.476019\"/>\r\n     <use style=\"fill:#ffc0cb;stroke:#ffc0cb;\" x=\"280.491188\" xlink:href=\"#m2d2ca0a9f9\" y=\"410.635819\"/>\r\n     <use style=\"fill:#ffc0cb;stroke:#ffc0cb;\" x=\"263.751188\" xlink:href=\"#m2d2ca0a9f9\" y=\"478.404619\"/>\r\n     <use style=\"fill:#ffc0cb;stroke:#ffc0cb;\" x=\"226.923188\" xlink:href=\"#m2d2ca0a9f9\" y=\"446.513419\"/>\r\n     <use style=\"fill:#ffc0cb;stroke:#ffc0cb;\" x=\"242.547188\" xlink:href=\"#m2d2ca0a9f9\" y=\"499.333219\"/>\r\n     <use style=\"fill:#ffc0cb;stroke:#ffc0cb;\" x=\"204.603188\" xlink:href=\"#m2d2ca0a9f9\" y=\"436.547419\"/>\r\n     <use style=\"fill:#ffc0cb;stroke:#ffc0cb;\" x=\"254.823188\" xlink:href=\"#m2d2ca0a9f9\" y=\"406.649419\"/>\r\n     <use style=\"fill:#ffc0cb;stroke:#ffc0cb;\" x=\"272.679188\" xlink:href=\"#m2d2ca0a9f9\" y=\"458.472619\"/>\r\n    </g>\r\n   </g>\r\n   <g id=\"PathCollection_10\">\r\n    <defs>\r\n     <path d=\"M 0 3 \r\nC 0.795609 3 1.55874 2.683901 2.12132 2.12132 \r\nC 2.683901 1.55874 3 0.795609 3 0 \r\nC 3 -0.795609 2.683901 -1.55874 2.12132 -2.12132 \r\nC 1.55874 -2.683901 0.795609 -3 0 -3 \r\nC -0.795609 -3 -1.55874 -2.683901 -2.12132 -2.12132 \r\nC -2.683901 -1.55874 -3 -0.795609 -3 0 \r\nC -3 0.795609 -2.683901 1.55874 -2.12132 2.12132 \r\nC -1.55874 2.683901 -0.795609 3 0 3 \r\nz\r\n\" id=\"m8a4df93cd7\" style=\"stroke:#ffa500;\"/>\r\n    </defs>\r\n    <g clip-path=\"url(#p1206d561c2)\">\r\n     <use style=\"fill:#ffa500;stroke:#ffa500;\" x=\"186.747187\" xlink:href=\"#m8a4df93cd7\" y=\"520.261819\"/>\r\n     <use style=\"fill:#ffa500;stroke:#ffa500;\" x=\"197.907188\" xlink:href=\"#m8a4df93cd7\" y=\"482.391019\"/>\r\n     <use style=\"fill:#ffa500;stroke:#ffa500;\" x=\"185.631188\" xlink:href=\"#m8a4df93cd7\" y=\"529.231219\"/>\r\n     <use style=\"fill:#ffa500;stroke:#ffa500;\" x=\"252.591188\" xlink:href=\"#m8a4df93cd7\" y=\"442.527019\"/>\r\n     <use style=\"fill:#ffa500;stroke:#ffa500;\" x=\"224.691188\" xlink:href=\"#m8a4df93cd7\" y=\"437.544019\"/>\r\n     <use style=\"fill:#ffa500;stroke:#ffa500;\" x=\"192.327188\" xlink:href=\"#m8a4df93cd7\" y=\"413.625619\"/>\r\n     <use style=\"fill:#ffa500;stroke:#ffa500;\" x=\"158.847187\" xlink:href=\"#m8a4df93cd7\" y=\"487.374019\"/>\r\n     <use style=\"fill:#ffa500;stroke:#ffa500;\" x=\"194.559188\" xlink:href=\"#m8a4df93cd7\" y=\"396.683419\"/>\r\n     <use style=\"fill:#ffa500;stroke:#ffa500;\" x=\"168.891188\" xlink:href=\"#m8a4df93cd7\" y=\"478.404619\"/>\r\n     <use style=\"fill:#ffa500;stroke:#ffa500;\" x=\"187.863188\" xlink:href=\"#m8a4df93cd7\" y=\"461.462419\"/>\r\n     <use style=\"fill:#ffa500;stroke:#ffa500;\" x=\"241.431188\" xlink:href=\"#m8a4df93cd7\" y=\"518.268619\"/>\r\n     <use style=\"fill:#ffa500;stroke:#ffa500;\" x=\"192.327188\" xlink:href=\"#m8a4df93cd7\" y=\"483.387619\"/>\r\n     <use style=\"fill:#ffa500;stroke:#ffa500;\" x=\"272.679188\" xlink:href=\"#m8a4df93cd7\" y=\"431.564419\"/>\r\n     <use style=\"fill:#ffa500;stroke:#ffa500;\" x=\"231.387188\" xlink:href=\"#m8a4df93cd7\" y=\"473.421619\"/>\r\n     <use style=\"fill:#ffa500;stroke:#ffa500;\" x=\"194.559188\" xlink:href=\"#m8a4df93cd7\" y=\"478.404619\"/>\r\n     <use style=\"fill:#ffa500;stroke:#ffa500;\" x=\"236.967188\" xlink:href=\"#m8a4df93cd7\" y=\"491.360419\"/>\r\n    </g>\r\n   </g>\r\n   <g id=\"PathCollection_11\">\r\n    <defs>\r\n     <path d=\"M 0 3 \r\nC 0.795609 3 1.55874 2.683901 2.12132 2.12132 \r\nC 2.683901 1.55874 3 0.795609 3 0 \r\nC 3 -0.795609 2.683901 -1.55874 2.12132 -2.12132 \r\nC 1.55874 -2.683901 0.795609 -3 0 -3 \r\nC -0.795609 -3 -1.55874 -2.683901 -2.12132 -2.12132 \r\nC -2.683901 -1.55874 -3 -0.795609 -3 0 \r\nC -3 0.795609 -2.683901 1.55874 -2.12132 2.12132 \r\nC -1.55874 2.683901 -0.795609 3 0 3 \r\nz\r\n\" id=\"m5791f1a4cc\" style=\"stroke:#800080;\"/>\r\n    </defs>\r\n    <g clip-path=\"url(#p1206d561c2)\">\r\n     <use style=\"fill:#800080;stroke:#800080;\" x=\"409.947188\" xlink:href=\"#m5791f1a4cc\" y=\"445.516819\"/>\r\n     <use style=\"fill:#800080;stroke:#800080;\" x=\"385.395188\" xlink:href=\"#m5791f1a4cc\" y=\"455.482819\"/>\r\n     <use style=\"fill:#800080;stroke:#800080;\" x=\"376.467188\" xlink:href=\"#m5791f1a4cc\" y=\"409.639219\"/>\r\n     <use style=\"fill:#800080;stroke:#800080;\" x=\"413.295187\" xlink:href=\"#m5791f1a4cc\" y=\"385.720819\"/>\r\n     <use style=\"fill:#800080;stroke:#800080;\" x=\"366.423188\" xlink:href=\"#m5791f1a4cc\" y=\"460.465819\"/>\r\n     <use style=\"fill:#800080;stroke:#800080;\" x=\"444.543188\" xlink:href=\"#m5791f1a4cc\" y=\"496.343419\"/>\r\n     <use style=\"fill:#800080;stroke:#800080;\" x=\"397.671188\" xlink:href=\"#m5791f1a4cc\" y=\"471.428419\"/>\r\n     <use style=\"fill:#800080;stroke:#800080;\" x=\"293.883188\" xlink:href=\"#m5791f1a4cc\" y=\"378.744619\"/>\r\n     <use style=\"fill:#800080;stroke:#800080;\" x=\"428.919188\" xlink:href=\"#m5791f1a4cc\" y=\"518.268619\"/>\r\n     <use style=\"fill:#800080;stroke:#800080;\" x=\"399.903188\" xlink:href=\"#m5791f1a4cc\" y=\"442.527019\"/>\r\n     <use style=\"fill:#800080;stroke:#800080;\" x=\"419.991188\" xlink:href=\"#m5791f1a4cc\" y=\"487.374019\"/>\r\n     <use style=\"fill:#800080;stroke:#800080;\" x=\"331.827188\" xlink:href=\"#m5791f1a4cc\" y=\"479.401219\"/>\r\n     <use style=\"fill:#800080;stroke:#800080;\" x=\"415.527188\" xlink:href=\"#m5791f1a4cc\" y=\"475.414819\"/>\r\n     <use style=\"fill:#800080;stroke:#800080;\" x=\"324.015188\" xlink:href=\"#m5791f1a4cc\" y=\"412.629019\"/>\r\n     <use style=\"fill:#800080;stroke:#800080;\" x=\"335.175187\" xlink:href=\"#m5791f1a4cc\" y=\"478.404619\"/>\r\n     <use style=\"fill:#800080;stroke:#800080;\" x=\"405.483188\" xlink:href=\"#m5791f1a4cc\" y=\"478.404619\"/>\r\n     <use style=\"fill:#800080;stroke:#800080;\" x=\"349.683188\" xlink:href=\"#m5791f1a4cc\" y=\"441.530419\"/>\r\n     <use style=\"fill:#800080;stroke:#800080;\" x=\"363.075188\" xlink:href=\"#m5791f1a4cc\" y=\"379.741219\"/>\r\n     <use style=\"fill:#800080;stroke:#800080;\" x=\"322.899188\" xlink:href=\"#m5791f1a4cc\" y=\"466.445419\"/>\r\n     <use style=\"fill:#800080;stroke:#800080;\" x=\"422.223188\" xlink:href=\"#m5791f1a4cc\" y=\"507.306019\"/>\r\n     <use style=\"fill:#800080;stroke:#800080;\" x=\"342.987188\" xlink:href=\"#m5791f1a4cc\" y=\"451.496419\"/>\r\n     <use style=\"fill:#800080;stroke:#800080;\" x=\"305.043188\" xlink:href=\"#m5791f1a4cc\" y=\"394.690219\"/>\r\n     <use style=\"fill:#800080;stroke:#800080;\" x=\"342.987188\" xlink:href=\"#m5791f1a4cc\" y=\"477.408019\"/>\r\n     <use style=\"fill:#800080;stroke:#800080;\" x=\"377.583188\" xlink:href=\"#m5791f1a4cc\" y=\"432.561019\"/>\r\n     <use style=\"fill:#800080;stroke:#800080;\" x=\"415.527188\" xlink:href=\"#m5791f1a4cc\" y=\"398.676619\"/>\r\n     <use style=\"fill:#800080;stroke:#800080;\" x=\"376.467188\" xlink:href=\"#m5791f1a4cc\" y=\"376.751419\"/>\r\n     <use style=\"fill:#800080;stroke:#800080;\" x=\"389.859188\" xlink:href=\"#m5791f1a4cc\" y=\"429.571219\"/>\r\n     <use style=\"fill:#800080;stroke:#800080;\" x=\"423.339188\" xlink:href=\"#m5791f1a4cc\" y=\"476.411419\"/>\r\n     <use style=\"fill:#800080;stroke:#800080;\" x=\"390.975188\" xlink:href=\"#m5791f1a4cc\" y=\"453.489619\"/>\r\n     <use style=\"fill:#800080;stroke:#800080;\" x=\"364.191188\" xlink:href=\"#m5791f1a4cc\" y=\"446.513419\"/>\r\n     <use style=\"fill:#800080;stroke:#800080;\" x=\"450.123188\" xlink:href=\"#m5791f1a4cc\" y=\"469.435219\"/>\r\n     <use style=\"fill:#800080;stroke:#800080;\" x=\"380.931188\" xlink:href=\"#m5791f1a4cc\" y=\"448.506619\"/>\r\n     <use style=\"fill:#800080;stroke:#800080;\" x=\"337.407188\" xlink:href=\"#m5791f1a4cc\" y=\"466.445419\"/>\r\n     <use style=\"fill:#800080;stroke:#800080;\" x=\"415.527188\" xlink:href=\"#m5791f1a4cc\" y=\"444.520219\"/>\r\n     <use style=\"fill:#800080;stroke:#800080;\" x=\"328.479188\" xlink:href=\"#m5791f1a4cc\" y=\"493.353619\"/>\r\n     <use style=\"fill:#800080;stroke:#800080;\" x=\"425.571188\" xlink:href=\"#m5791f1a4cc\" y=\"500.329819\"/>\r\n     <use style=\"fill:#800080;stroke:#800080;\" x=\"441.195188\" xlink:href=\"#m5791f1a4cc\" y=\"454.486219\"/>\r\n     <use style=\"fill:#800080;stroke:#800080;\" x=\"432.267188\" xlink:href=\"#m5791f1a4cc\" y=\"387.714019\"/>\r\n     <use style=\"fill:#800080;stroke:#800080;\" x=\"326.247187\" xlink:href=\"#m5791f1a4cc\" y=\"490.363819\"/>\r\n     <use style=\"fill:#800080;stroke:#800080;\" x=\"446.775188\" xlink:href=\"#m5791f1a4cc\" y=\"492.357019\"/>\r\n     <use style=\"fill:#800080;stroke:#800080;\" x=\"339.639188\" xlink:href=\"#m5791f1a4cc\" y=\"483.387619\"/>\r\n     <use style=\"fill:#800080;stroke:#800080;\" x=\"372.003188\" xlink:href=\"#m5791f1a4cc\" y=\"448.506619\"/>\r\n     <use style=\"fill:#800080;stroke:#800080;\" x=\"428.919188\" xlink:href=\"#m5791f1a4cc\" y=\"389.707219\"/>\r\n     <use style=\"fill:#800080;stroke:#800080;\" x=\"384.279188\" xlink:href=\"#m5791f1a4cc\" y=\"449.503219\"/>\r\n     <use style=\"fill:#800080;stroke:#800080;\" x=\"407.715188\" xlink:href=\"#m5791f1a4cc\" y=\"450.499819\"/>\r\n     <use style=\"fill:#800080;stroke:#800080;\" x=\"430.035188\" xlink:href=\"#m5791f1a4cc\" y=\"504.316219\"/>\r\n     <use style=\"fill:#800080;stroke:#800080;\" x=\"327.363188\" xlink:href=\"#m5791f1a4cc\" y=\"496.343419\"/>\r\n     <use style=\"fill:#800080;stroke:#800080;\" x=\"324.015188\" xlink:href=\"#m5791f1a4cc\" y=\"505.312819\"/>\r\n     <use style=\"fill:#800080;stroke:#800080;\" x=\"415.527188\" xlink:href=\"#m5791f1a4cc\" y=\"454.486219\"/>\r\n     <use style=\"fill:#800080;stroke:#800080;\" x=\"336.291188\" xlink:href=\"#m5791f1a4cc\" y=\"468.438619\"/>\r\n     <use style=\"fill:#800080;stroke:#800080;\" x=\"416.643188\" xlink:href=\"#m5791f1a4cc\" y=\"466.445419\"/>\r\n     <use style=\"fill:#800080;stroke:#800080;\" x=\"378.699188\" xlink:href=\"#m5791f1a4cc\" y=\"464.452219\"/>\r\n     <use style=\"fill:#800080;stroke:#800080;\" x=\"416.643188\" xlink:href=\"#m5791f1a4cc\" y=\"489.367219\"/>\r\n     <use style=\"fill:#800080;stroke:#800080;\" x=\"376.467188\" xlink:href=\"#m5791f1a4cc\" y=\"426.581419\"/>\r\n     <use style=\"fill:#800080;stroke:#800080;\" x=\"415.527188\" xlink:href=\"#m5791f1a4cc\" y=\"475.414819\"/>\r\n     <use style=\"fill:#800080;stroke:#800080;\" x=\"335.175187\" xlink:href=\"#m5791f1a4cc\" y=\"485.380819\"/>\r\n    </g>\r\n   </g>\r\n   <g id=\"PathCollection_12\">\r\n    <defs>\r\n     <path d=\"M 0 3 \r\nC 0.795609 3 1.55874 2.683901 2.12132 2.12132 \r\nC 2.683901 1.55874 3 0.795609 3 0 \r\nC 3 -0.795609 2.683901 -1.55874 2.12132 -2.12132 \r\nC 1.55874 -2.683901 0.795609 -3 0 -3 \r\nC -0.795609 -3 -1.55874 -2.683901 -2.12132 -2.12132 \r\nC -2.683901 -1.55874 -3 -0.795609 -3 0 \r\nC -3 0.795609 -2.683901 1.55874 -2.12132 2.12132 \r\nC -1.55874 2.683901 -0.795609 3 0 3 \r\nz\r\n\" id=\"m81def63863\" style=\"stroke:#a52a2a;\"/>\r\n    </defs>\r\n    <g clip-path=\"url(#p1206d561c2)\">\r\n     <use style=\"fill:#a52a2a;stroke:#a52a2a;\" x=\"291.651187\" xlink:href=\"#m81def63863\" y=\"433.557619\"/>\r\n     <use style=\"fill:#a52a2a;stroke:#a52a2a;\" x=\"291.651187\" xlink:href=\"#m81def63863\" y=\"478.404619\"/>\r\n     <use style=\"fill:#a52a2a;stroke:#a52a2a;\" x=\"301.695188\" xlink:href=\"#m81def63863\" y=\"446.513419\"/>\r\n     <use style=\"fill:#a52a2a;stroke:#a52a2a;\" x=\"294.999188\" xlink:href=\"#m81def63863\" y=\"422.595019\"/>\r\n    </g>\r\n   </g>\r\n   <g id=\"PathCollection_13\">\r\n    <defs>\r\n     <path d=\"M 0 3 \r\nC 0.795609 3 1.55874 2.683901 2.12132 2.12132 \r\nC 2.683901 1.55874 3 0.795609 3 0 \r\nC 3 -0.795609 2.683901 -1.55874 2.12132 -2.12132 \r\nC 1.55874 -2.683901 0.795609 -3 0 -3 \r\nC -0.795609 -3 -1.55874 -2.683901 -2.12132 -2.12132 \r\nC -2.683901 -1.55874 -3 -0.795609 -3 0 \r\nC -3 0.795609 -2.683901 1.55874 -2.12132 2.12132 \r\nC -1.55874 2.683901 -0.795609 3 0 3 \r\nz\r\n\" id=\"m04ea1b804b\" style=\"stroke:#ffff00;\"/>\r\n    </defs>\r\n    <g clip-path=\"url(#p1206d561c2)\">\r\n     <use style=\"fill:#ffff00;stroke:#ffff00;\" x=\"445.659188\" xlink:href=\"#m04ea1b804b\" y=\"445.516819\"/>\r\n     <use style=\"fill:#ffff00;stroke:#ffff00;\" x=\"451.239188\" xlink:href=\"#m04ea1b804b\" y=\"432.561019\"/>\r\n     <use style=\"fill:#ffff00;stroke:#ffff00;\" x=\"460.167188\" xlink:href=\"#m04ea1b804b\" y=\"478.404619\"/>\r\n     <use style=\"fill:#ffff00;stroke:#ffff00;\" x=\"432.267188\" xlink:href=\"#m04ea1b804b\" y=\"424.588219\"/>\r\n     <use style=\"fill:#ffff00;stroke:#ffff00;\" x=\"435.615188\" xlink:href=\"#m04ea1b804b\" y=\"424.588219\"/>\r\n     <use style=\"fill:#ffff00;stroke:#ffff00;\" x=\"459.051188\" xlink:href=\"#m04ea1b804b\" y=\"458.472619\"/>\r\n    </g>\r\n   </g>\r\n   <g id=\"PathCollection_14\">\r\n    <defs>\r\n     <path d=\"M 0 3 \r\nC 0.795609 3 1.55874 2.683901 2.12132 2.12132 \r\nC 2.683901 1.55874 3 0.795609 3 0 \r\nC 3 -0.795609 2.683901 -1.55874 2.12132 -2.12132 \r\nC 1.55874 -2.683901 0.795609 -3 0 -3 \r\nC -0.795609 -3 -1.55874 -2.683901 -2.12132 -2.12132 \r\nC -2.683901 -1.55874 -3 -0.795609 -3 0 \r\nC -3 0.795609 -2.683901 1.55874 -2.12132 2.12132 \r\nC -1.55874 2.683901 -0.795609 3 0 3 \r\nz\r\n\" id=\"m801773668e\" style=\"stroke:#ffd700;\"/>\r\n    </defs>\r\n    <g clip-path=\"url(#p1206d561c2)\">\r\n     <use style=\"fill:#ffd700;stroke:#ffd700;\" x=\"376.467188\" xlink:href=\"#m801773668e\" y=\"496.343419\"/>\r\n     <use style=\"fill:#ffd700;stroke:#ffd700;\" x=\"353.031188\" xlink:href=\"#m801773668e\" y=\"524.248219\"/>\r\n     <use style=\"fill:#ffd700;stroke:#ffd700;\" x=\"367.539188\" xlink:href=\"#m801773668e\" y=\"498.336619\"/>\r\n     <use style=\"fill:#ffd700;stroke:#ffd700;\" x=\"355.263188\" xlink:href=\"#m801773668e\" y=\"505.312819\"/>\r\n     <use style=\"fill:#ffd700;stroke:#ffd700;\" x=\"387.627188\" xlink:href=\"#m801773668e\" y=\"501.326419\"/>\r\n     <use style=\"fill:#ffd700;stroke:#ffd700;\" x=\"398.787188\" xlink:href=\"#m801773668e\" y=\"489.367219\"/>\r\n     <use style=\"fill:#ffd700;stroke:#ffd700;\" x=\"379.815188\" xlink:href=\"#m801773668e\" y=\"489.367219\"/>\r\n     <use style=\"fill:#ffd700;stroke:#ffd700;\" x=\"416.643188\" xlink:href=\"#m801773668e\" y=\"499.333219\"/>\r\n     <use style=\"fill:#ffd700;stroke:#ffd700;\" x=\"417.759188\" xlink:href=\"#m801773668e\" y=\"497.340019\"/>\r\n     <use style=\"fill:#ffd700;stroke:#ffd700;\" x=\"409.947188\" xlink:href=\"#m801773668e\" y=\"505.312819\"/>\r\n     <use style=\"fill:#ffd700;stroke:#ffd700;\" x=\"390.975188\" xlink:href=\"#m801773668e\" y=\"487.374019\"/>\r\n     <use style=\"fill:#ffd700;stroke:#ffd700;\" x=\"360.843187\" xlink:href=\"#m801773668e\" y=\"491.360419\"/>\r\n     <use style=\"fill:#ffd700;stroke:#ffd700;\" x=\"401.019188\" xlink:href=\"#m801773668e\" y=\"496.343419\"/>\r\n     <use style=\"fill:#ffd700;stroke:#ffd700;\" x=\"405.483188\" xlink:href=\"#m801773668e\" y=\"494.350219\"/>\r\n     <use style=\"fill:#ffd700;stroke:#ffd700;\" x=\"384.279188\" xlink:href=\"#m801773668e\" y=\"505.312819\"/>\r\n     <use style=\"fill:#ffd700;stroke:#ffd700;\" x=\"405.483188\" xlink:href=\"#m801773668e\" y=\"498.336619\"/>\r\n     <use style=\"fill:#ffd700;stroke:#ffd700;\" x=\"404.367188\" xlink:href=\"#m801773668e\" y=\"490.363819\"/>\r\n     <use style=\"fill:#ffd700;stroke:#ffd700;\" x=\"364.191188\" xlink:href=\"#m801773668e\" y=\"475.414819\"/>\r\n     <use style=\"fill:#ffd700;stroke:#ffd700;\" x=\"412.179188\" xlink:href=\"#m801773668e\" y=\"496.343419\"/>\r\n     <use style=\"fill:#ffd700;stroke:#ffd700;\" x=\"376.467188\" xlink:href=\"#m801773668e\" y=\"515.278819\"/>\r\n     <use style=\"fill:#ffd700;stroke:#ffd700;\" x=\"406.599188\" xlink:href=\"#m801773668e\" y=\"480.397819\"/>\r\n     <use style=\"fill:#ffd700;stroke:#ffd700;\" x=\"347.451188\" xlink:href=\"#m801773668e\" y=\"482.391019\"/>\r\n     <use style=\"fill:#ffd700;stroke:#ffd700;\" x=\"363.075188\" xlink:href=\"#m801773668e\" y=\"495.346819\"/>\r\n     <use style=\"fill:#ffd700;stroke:#ffd700;\" x=\"349.683188\" xlink:href=\"#m801773668e\" y=\"497.340019\"/>\r\n     <use style=\"fill:#ffd700;stroke:#ffd700;\" x=\"405.483188\" xlink:href=\"#m801773668e\" y=\"498.336619\"/>\r\n     <use style=\"fill:#ffd700;stroke:#ffd700;\" x=\"402.135188\" xlink:href=\"#m801773668e\" y=\"503.319619\"/>\r\n     <use style=\"fill:#ffd700;stroke:#ffd700;\" x=\"415.527188\" xlink:href=\"#m801773668e\" y=\"507.306019\"/>\r\n     <use style=\"fill:#ffd700;stroke:#ffd700;\" x=\"404.367188\" xlink:href=\"#m801773668e\" y=\"482.391019\"/>\r\n     <use style=\"fill:#ffd700;stroke:#ffd700;\" x=\"404.367188\" xlink:href=\"#m801773668e\" y=\"495.346819\"/>\r\n     <use style=\"fill:#ffd700;stroke:#ffd700;\" x=\"415.527188\" xlink:href=\"#m801773668e\" y=\"491.360419\"/>\r\n     <use style=\"fill:#ffd700;stroke:#ffd700;\" x=\"406.599188\" xlink:href=\"#m801773668e\" y=\"490.363819\"/>\r\n     <use style=\"fill:#ffd700;stroke:#ffd700;\" x=\"403.251188\" xlink:href=\"#m801773668e\" y=\"491.360419\"/>\r\n     <use style=\"fill:#ffd700;stroke:#ffd700;\" x=\"340.755188\" xlink:href=\"#m801773668e\" y=\"510.295819\"/>\r\n     <use style=\"fill:#ffd700;stroke:#ffd700;\" x=\"355.263188\" xlink:href=\"#m801773668e\" y=\"481.394419\"/>\r\n     <use style=\"fill:#ffd700;stroke:#ffd700;\" x=\"405.483188\" xlink:href=\"#m801773668e\" y=\"494.350219\"/>\r\n     <use style=\"fill:#ffd700;stroke:#ffd700;\" x=\"411.063188\" xlink:href=\"#m801773668e\" y=\"512.289019\"/>\r\n     <use style=\"fill:#ffd700;stroke:#ffd700;\" x=\"376.467188\" xlink:href=\"#m801773668e\" y=\"515.278819\"/>\r\n     <use style=\"fill:#ffd700;stroke:#ffd700;\" x=\"411.063188\" xlink:href=\"#m801773668e\" y=\"505.312819\"/>\r\n     <use style=\"fill:#ffd700;stroke:#ffd700;\" x=\"395.439188\" xlink:href=\"#m801773668e\" y=\"500.329819\"/>\r\n     <use style=\"fill:#ffd700;stroke:#ffd700;\" x=\"397.671188\" xlink:href=\"#m801773668e\" y=\"487.374019\"/>\r\n     <use style=\"fill:#ffd700;stroke:#ffd700;\" x=\"404.367188\" xlink:href=\"#m801773668e\" y=\"487.374019\"/>\r\n     <use style=\"fill:#ffd700;stroke:#ffd700;\" x=\"353.031188\" xlink:href=\"#m801773668e\" y=\"488.370619\"/>\r\n     <use style=\"fill:#ffd700;stroke:#ffd700;\" x=\"403.251188\" xlink:href=\"#m801773668e\" y=\"505.312819\"/>\r\n     <use style=\"fill:#ffd700;stroke:#ffd700;\" x=\"354.147188\" xlink:href=\"#m801773668e\" y=\"510.295819\"/>\r\n     <use style=\"fill:#ffd700;stroke:#ffd700;\" x=\"368.655188\" xlink:href=\"#m801773668e\" y=\"478.404619\"/>\r\n     <use style=\"fill:#ffd700;stroke:#ffd700;\" x=\"376.467188\" xlink:href=\"#m801773668e\" y=\"515.278819\"/>\r\n     <use style=\"fill:#ffd700;stroke:#ffd700;\" x=\"404.367188\" xlink:href=\"#m801773668e\" y=\"485.380819\"/>\r\n     <use style=\"fill:#ffd700;stroke:#ffd700;\" x=\"367.539188\" xlink:href=\"#m801773668e\" y=\"479.401219\"/>\r\n     <use style=\"fill:#ffd700;stroke:#ffd700;\" x=\"403.251188\" xlink:href=\"#m801773668e\" y=\"494.350219\"/>\r\n     <use style=\"fill:#ffd700;stroke:#ffd700;\" x=\"386.511188\" xlink:href=\"#m801773668e\" y=\"487.374019\"/>\r\n     <use style=\"fill:#ffd700;stroke:#ffd700;\" x=\"348.567188\" xlink:href=\"#m801773668e\" y=\"492.357019\"/>\r\n     <use style=\"fill:#ffd700;stroke:#ffd700;\" x=\"392.091188\" xlink:href=\"#m801773668e\" y=\"508.302619\"/>\r\n     <use style=\"fill:#ffd700;stroke:#ffd700;\" x=\"347.451188\" xlink:href=\"#m801773668e\" y=\"495.346819\"/>\r\n     <use style=\"fill:#ffd700;stroke:#ffd700;\" x=\"404.367188\" xlink:href=\"#m801773668e\" y=\"491.360419\"/>\r\n     <use style=\"fill:#ffd700;stroke:#ffd700;\" x=\"393.207188\" xlink:href=\"#m801773668e\" y=\"498.336619\"/>\r\n     <use style=\"fill:#ffd700;stroke:#ffd700;\" x=\"388.743188\" xlink:href=\"#m801773668e\" y=\"494.350219\"/>\r\n     <use style=\"fill:#ffd700;stroke:#ffd700;\" x=\"384.279188\" xlink:href=\"#m801773668e\" y=\"507.306019\"/>\r\n     <use style=\"fill:#ffd700;stroke:#ffd700;\" x=\"389.859188\" xlink:href=\"#m801773668e\" y=\"489.367219\"/>\r\n     <use style=\"fill:#ffd700;stroke:#ffd700;\" x=\"404.367188\" xlink:href=\"#m801773668e\" y=\"479.401219\"/>\r\n     <use style=\"fill:#ffd700;stroke:#ffd700;\" x=\"339.639188\" xlink:href=\"#m801773668e\" y=\"499.333219\"/>\r\n     <use style=\"fill:#ffd700;stroke:#ffd700;\" x=\"405.483188\" xlink:href=\"#m801773668e\" y=\"497.340019\"/>\r\n     <use style=\"fill:#ffd700;stroke:#ffd700;\" x=\"396.555188\" xlink:href=\"#m801773668e\" y=\"502.323019\"/>\r\n     <use style=\"fill:#ffd700;stroke:#ffd700;\" x=\"376.467188\" xlink:href=\"#m801773668e\" y=\"477.408019\"/>\r\n     <use style=\"fill:#ffd700;stroke:#ffd700;\" x=\"404.367188\" xlink:href=\"#m801773668e\" y=\"492.357019\"/>\r\n     <use style=\"fill:#ffd700;stroke:#ffd700;\" x=\"390.975188\" xlink:href=\"#m801773668e\" y=\"487.374019\"/>\r\n     <use style=\"fill:#ffd700;stroke:#ffd700;\" x=\"394.323188\" xlink:href=\"#m801773668e\" y=\"495.346819\"/>\r\n     <use style=\"fill:#ffd700;stroke:#ffd700;\" x=\"403.251188\" xlink:href=\"#m801773668e\" y=\"499.333219\"/>\r\n    </g>\r\n   </g>\r\n   <g id=\"PathCollection_15\">\r\n    <defs>\r\n     <path d=\"M 0 3 \r\nC 0.795609 3 1.55874 2.683901 2.12132 2.12132 \r\nC 2.683901 1.55874 3 0.795609 3 0 \r\nC 3 -0.795609 2.683901 -1.55874 2.12132 -2.12132 \r\nC 1.55874 -2.683901 0.795609 -3 0 -3 \r\nC -0.795609 -3 -1.55874 -2.683901 -2.12132 -2.12132 \r\nC -2.683901 -1.55874 -3 -0.795609 -3 0 \r\nC -3 0.795609 -2.683901 1.55874 -2.12132 2.12132 \r\nC -1.55874 2.683901 -0.795609 3 0 3 \r\nz\r\n\" id=\"m238fb534c6\" style=\"stroke:#dc143c;\"/>\r\n    </defs>\r\n    <g clip-path=\"url(#p1206d561c2)\">\r\n     <use style=\"fill:#dc143c;stroke:#dc143c;\" x=\"180.051187\" xlink:href=\"#m238fb534c6\" y=\"305.992819\"/>\r\n     <use style=\"fill:#dc143c;stroke:#dc143c;\" x=\"186.747187\" xlink:href=\"#m238fb534c6\" y=\"307.986019\"/>\r\n     <use style=\"fill:#dc143c;stroke:#dc143c;\" x=\"192.327188\" xlink:href=\"#m238fb534c6\" y=\"319.945219\"/>\r\n     <use style=\"fill:#dc143c;stroke:#dc143c;\" x=\"134.295187\" xlink:href=\"#m238fb534c6\" y=\"373.761619\"/>\r\n     <use style=\"fill:#dc143c;stroke:#dc143c;\" x=\"186.747187\" xlink:href=\"#m238fb534c6\" y=\"347.850019\"/>\r\n     <use style=\"fill:#dc143c;stroke:#dc143c;\" x=\"158.847187\" xlink:href=\"#m238fb534c6\" y=\"326.921419\"/>\r\n     <use style=\"fill:#dc143c;stroke:#dc143c;\" x=\"127.599187\" xlink:href=\"#m238fb534c6\" y=\"398.676619\"/>\r\n     <use style=\"fill:#dc143c;stroke:#dc143c;\" x=\"212.415188\" xlink:href=\"#m238fb534c6\" y=\"315.958819\"/>\r\n     <use style=\"fill:#dc143c;stroke:#dc143c;\" x=\"185.631188\" xlink:href=\"#m238fb534c6\" y=\"302.006419\"/>\r\n     <use style=\"fill:#dc143c;stroke:#dc143c;\" x=\"165.543188\" xlink:href=\"#m238fb534c6\" y=\"356.819419\"/>\r\n     <use style=\"fill:#dc143c;stroke:#dc143c;\" x=\"176.703188\" xlink:href=\"#m238fb534c6\" y=\"324.928219\"/>\r\n     <use style=\"fill:#dc143c;stroke:#dc143c;\" x=\"134.295187\" xlink:href=\"#m238fb534c6\" y=\"410.635819\"/>\r\n     <use style=\"fill:#dc143c;stroke:#dc143c;\" x=\"241.431188\" xlink:href=\"#m238fb534c6\" y=\"302.006419\"/>\r\n     <use style=\"fill:#dc143c;stroke:#dc143c;\" x=\"132.063187\" xlink:href=\"#m238fb534c6\" y=\"401.666419\"/>\r\n     <use style=\"fill:#dc143c;stroke:#dc143c;\" x=\"243.663188\" xlink:href=\"#m238fb534c6\" y=\"278.088019\"/>\r\n     <use style=\"fill:#dc143c;stroke:#dc143c;\" x=\"163.311188\" xlink:href=\"#m238fb534c6\" y=\"315.958819\"/>\r\n     <use style=\"fill:#dc143c;stroke:#dc143c;\" x=\"142.107188\" xlink:href=\"#m238fb534c6\" y=\"395.686819\"/>\r\n     <use style=\"fill:#dc143c;stroke:#dc143c;\" x=\"132.063187\" xlink:href=\"#m238fb534c6\" y=\"412.629019\"/>\r\n     <use style=\"fill:#dc143c;stroke:#dc143c;\" x=\"138.759187\" xlink:href=\"#m238fb534c6\" y=\"351.836419\"/>\r\n     <use style=\"fill:#dc143c;stroke:#dc143c;\" x=\"290.535188\" xlink:href=\"#m238fb534c6\" y=\"283.071019\"/>\r\n     <use style=\"fill:#dc143c;stroke:#dc143c;\" x=\"211.299188\" xlink:href=\"#m238fb534c6\" y=\"309.979219\"/>\r\n     <use style=\"fill:#dc143c;stroke:#dc143c;\" x=\"260.403188\" xlink:href=\"#m238fb534c6\" y=\"284.067619\"/>\r\n     <use style=\"fill:#dc143c;stroke:#dc143c;\" x=\"283.839187\" xlink:href=\"#m238fb534c6\" y=\"291.043819\"/>\r\n     <use style=\"fill:#dc143c;stroke:#dc143c;\" x=\"221.343187\" xlink:href=\"#m238fb534c6\" y=\"308.982619\"/>\r\n     <use style=\"fill:#dc143c;stroke:#dc143c;\" x=\"277.143188\" xlink:href=\"#m238fb534c6\" y=\"260.149219\"/>\r\n     <use style=\"fill:#dc143c;stroke:#dc143c;\" x=\"255.939188\" xlink:href=\"#m238fb534c6\" y=\"272.108419\"/>\r\n     <use style=\"fill:#dc143c;stroke:#dc143c;\" x=\"268.215188\" xlink:href=\"#m238fb534c6\" y=\"276.094819\"/>\r\n     <use style=\"fill:#dc143c;stroke:#dc143c;\" x=\"130.947188\" xlink:href=\"#m238fb534c6\" y=\"408.642619\"/>\r\n    </g>\r\n   </g>\r\n   <g id=\"PathCollection_16\">\r\n    <defs>\r\n     <path d=\"M 0 3 \r\nC 0.795609 3 1.55874 2.683901 2.12132 2.12132 \r\nC 2.683901 1.55874 3 0.795609 3 0 \r\nC 3 -0.795609 2.683901 -1.55874 2.12132 -2.12132 \r\nC 1.55874 -2.683901 0.795609 -3 0 -3 \r\nC -0.795609 -3 -1.55874 -2.683901 -2.12132 -2.12132 \r\nC -2.683901 -1.55874 -3 -0.795609 -3 0 \r\nC -3 0.795609 -2.683901 1.55874 -2.12132 2.12132 \r\nC -1.55874 2.683901 -0.795609 3 0 3 \r\nz\r\n\" id=\"m105916cd15\" style=\"stroke:#808000;\"/>\r\n    </defs>\r\n    <g clip-path=\"url(#p1206d561c2)\">\r\n     <use style=\"fill:#808000;stroke:#808000;\" x=\"488.067188\" xlink:href=\"#m105916cd15\" y=\"278.088019\"/>\r\n     <use style=\"fill:#808000;stroke:#808000;\" x=\"463.515188\" xlink:href=\"#m105916cd15\" y=\"273.105019\"/>\r\n     <use style=\"fill:#808000;stroke:#808000;\" x=\"495.879188\" xlink:href=\"#m105916cd15\" y=\"289.050619\"/>\r\n     <use style=\"fill:#808000;stroke:#808000;\" x=\"543.867188\" xlink:href=\"#m105916cd15\" y=\"311.972419\"/>\r\n     <use style=\"fill:#808000;stroke:#808000;\" x=\"521.547188\" xlink:href=\"#m105916cd15\" y=\"302.006419\"/>\r\n     <use style=\"fill:#808000;stroke:#808000;\" x=\"531.591188\" xlink:href=\"#m105916cd15\" y=\"295.030219\"/>\r\n     <use style=\"fill:#808000;stroke:#808000;\" x=\"549.447188\" xlink:href=\"#m105916cd15\" y=\"318.948619\"/>\r\n     <use style=\"fill:#808000;stroke:#808000;\" x=\"581.811188\" xlink:href=\"#m105916cd15\" y=\"342.867019\"/>\r\n     <use style=\"fill:#808000;stroke:#808000;\" x=\"616.407188\" xlink:href=\"#m105916cd15\" y=\"380.737819\"/>\r\n     <use style=\"fill:#808000;stroke:#808000;\" x=\"603.015188\" xlink:href=\"#m105916cd15\" y=\"320.941819\"/>\r\n     <use style=\"fill:#808000;stroke:#808000;\" x=\"508.155188\" xlink:href=\"#m105916cd15\" y=\"293.037019\"/>\r\n     <use style=\"fill:#808000;stroke:#808000;\" x=\"589.623188\" xlink:href=\"#m105916cd15\" y=\"355.822819\"/>\r\n     <use style=\"fill:#808000;stroke:#808000;\" x=\"589.623188\" xlink:href=\"#m105916cd15\" y=\"351.836419\"/>\r\n     <use style=\"fill:#808000;stroke:#808000;\" x=\"485.835188\" xlink:href=\"#m105916cd15\" y=\"288.054019\"/>\r\n     <use style=\"fill:#808000;stroke:#808000;\" x=\"567.303188\" xlink:href=\"#m105916cd15\" y=\"291.043819\"/>\r\n     <use style=\"fill:#808000;stroke:#808000;\" x=\"566.187188\" xlink:href=\"#m105916cd15\" y=\"330.907819\"/>\r\n     <use style=\"fill:#808000;stroke:#808000;\" x=\"567.303188\" xlink:href=\"#m105916cd15\" y=\"323.931619\"/>\r\n     <use style=\"fill:#808000;stroke:#808000;\" x=\"575.115188\" xlink:href=\"#m105916cd15\" y=\"295.030219\"/>\r\n     <use style=\"fill:#808000;stroke:#808000;\" x=\"582.927188\" xlink:href=\"#m105916cd15\" y=\"330.907819\"/>\r\n     <use style=\"fill:#808000;stroke:#808000;\" x=\"541.635188\" xlink:href=\"#m105916cd15\" y=\"328.914619\"/>\r\n     <use style=\"fill:#808000;stroke:#808000;\" x=\"467.979188\" xlink:href=\"#m105916cd15\" y=\"284.067619\"/>\r\n    </g>\r\n   </g>\r\n   <g id=\"PathCollection_17\">\r\n    <defs>\r\n     <path d=\"M 0 3 \r\nC 0.795609 3 1.55874 2.683901 2.12132 2.12132 \r\nC 2.683901 1.55874 3 0.795609 3 0 \r\nC 3 -0.795609 2.683901 -1.55874 2.12132 -2.12132 \r\nC 1.55874 -2.683901 0.795609 -3 0 -3 \r\nC -0.795609 -3 -1.55874 -2.683901 -2.12132 -2.12132 \r\nC -2.683901 -1.55874 -3 -0.795609 -3 0 \r\nC -3 0.795609 -2.683901 1.55874 -2.12132 2.12132 \r\nC -1.55874 2.683901 -0.795609 3 0 3 \r\nz\r\n\" id=\"m0bead6ccdd\" style=\"stroke:#00ff00;\"/>\r\n    </defs>\r\n    <g clip-path=\"url(#p1206d561c2)\">\r\n     <use style=\"fill:#00ff00;stroke:#00ff00;\" x=\"300.579187\" xlink:href=\"#m0bead6ccdd\" y=\"279.084619\"/>\r\n     <use style=\"fill:#00ff00;stroke:#00ff00;\" x=\"412.179188\" xlink:href=\"#m0bead6ccdd\" y=\"252.176419\"/>\r\n     <use style=\"fill:#00ff00;stroke:#00ff00;\" x=\"416.643188\" xlink:href=\"#m0bead6ccdd\" y=\"270.115219\"/>\r\n     <use style=\"fill:#00ff00;stroke:#00ff00;\" x=\"317.319187\" xlink:href=\"#m0bead6ccdd\" y=\"242.210419\"/>\r\n     <use style=\"fill:#00ff00;stroke:#00ff00;\" x=\"325.131188\" xlink:href=\"#m0bead6ccdd\" y=\"283.071019\"/>\r\n     <use style=\"fill:#00ff00;stroke:#00ff00;\" x=\"419.991188\" xlink:href=\"#m0bead6ccdd\" y=\"277.091419\"/>\r\n     <use style=\"fill:#00ff00;stroke:#00ff00;\" x=\"293.883188\" xlink:href=\"#m0bead6ccdd\" y=\"257.159419\"/>\r\n     <use style=\"fill:#00ff00;stroke:#00ff00;\" x=\"378.699188\" xlink:href=\"#m0bead6ccdd\" y=\"254.169619\"/>\r\n     <use style=\"fill:#00ff00;stroke:#00ff00;\" x=\"363.075188\" xlink:href=\"#m0bead6ccdd\" y=\"131.587819\"/>\r\n     <use style=\"fill:#00ff00;stroke:#00ff00;\" x=\"379.815188\" xlink:href=\"#m0bead6ccdd\" y=\"251.179819\"/>\r\n     <use style=\"fill:#00ff00;stroke:#00ff00;\" x=\"288.303188\" xlink:href=\"#m0bead6ccdd\" y=\"266.128819\"/>\r\n     <use style=\"fill:#00ff00;stroke:#00ff00;\" x=\"455.703188\" xlink:href=\"#m0bead6ccdd\" y=\"265.132219\"/>\r\n     <use style=\"fill:#00ff00;stroke:#00ff00;\" x=\"379.815188\" xlink:href=\"#m0bead6ccdd\" y=\"279.084619\"/>\r\n     <use style=\"fill:#00ff00;stroke:#00ff00;\" x=\"325.131188\" xlink:href=\"#m0bead6ccdd\" y=\"282.074419\"/>\r\n     <use style=\"fill:#00ff00;stroke:#00ff00;\" x=\"318.435188\" xlink:href=\"#m0bead6ccdd\" y=\"257.159419\"/>\r\n     <use style=\"fill:#00ff00;stroke:#00ff00;\" x=\"351.915188\" xlink:href=\"#m0bead6ccdd\" y=\"277.091419\"/>\r\n     <use style=\"fill:#00ff00;stroke:#00ff00;\" x=\"345.219188\" xlink:href=\"#m0bead6ccdd\" y=\"266.128819\"/>\r\n     <use style=\"fill:#00ff00;stroke:#00ff00;\" x=\"416.643188\" xlink:href=\"#m0bead6ccdd\" y=\"257.159419\"/>\r\n    </g>\r\n   </g>\r\n   <g id=\"patch_3\">\r\n    <path clip-path=\"url(#p1206d561c2)\" d=\"M 376.467188 516.773719 \r\nC 378.686937 516.773719 380.816071 515.986158 382.385671 514.584488 \r\nC 383.955271 513.182818 384.837188 511.281479 384.837188 509.299219 \r\nC 384.837188 507.316958 383.955271 505.415619 382.385671 504.013949 \r\nC 380.816071 502.612279 378.686937 501.824719 376.467188 501.824719 \r\nC 374.247438 501.824719 372.118304 502.612279 370.548704 504.013949 \r\nC 368.979104 505.415619 368.097188 507.316958 368.097188 509.299219 \r\nC 368.097188 511.281479 368.979104 513.182818 370.548704 514.584488 \r\nC 372.118304 515.986158 374.247438 516.773719 376.467188 516.773719 \r\nz\r\n\" style=\"fill:none;stroke:#000000;stroke-linejoin:miter;stroke-width:2;\"/>\r\n   </g>\r\n   <g id=\"patch_4\">\r\n    <path clip-path=\"url(#p1206d561c2)\" d=\"M 342.987188 516.773719 \r\nL 409.947188 516.773719 \r\nL 409.947188 517.770319 \r\nL 342.987188 517.770319 \r\nz\r\n\" style=\"stroke:#000000;stroke-linejoin:miter;stroke-width:2;\"/>\r\n   </g>\r\n   <g id=\"patch_5\">\r\n    <path clip-path=\"url(#p1206d561c2)\" d=\"M 287.187188 556.637719 \r\nL 465.747188 556.637719 \r\nL 465.747188 367.283719 \r\nL 287.187188 367.283719 \r\nz\r\n\" style=\"fill:none;stroke:#000000;stroke-linejoin:miter;stroke-width:2;\"/>\r\n   </g>\r\n   <g id=\"patch_6\">\r\n    <path clip-path=\"url(#p1206d561c2)\" d=\"M 309.507187 556.637719 \r\nL 443.427188 556.637719 \r\nL 443.427188 367.283719 \r\nL 309.507187 367.283719 \r\nz\r\n\" style=\"fill:none;stroke:#000000;stroke-linejoin:miter;stroke-width:2;\"/>\r\n   </g>\r\n   <g id=\"patch_7\">\r\n    <path clip-path=\"url(#p1206d561c2)\" d=\"M 443.427188 367.283719 \r\nC 443.427188 351.430916 436.367677 336.211186 423.815058 325.001562 \r\nC 411.262438 313.791937 394.219273 307.487719 376.467188 307.487719 \r\nC 358.715102 307.487719 341.671937 313.791937 329.119317 325.001562 \r\nC 316.566698 336.211186 309.507187 351.430916 309.507187 367.283719 \r\n\" style=\"fill:none;stroke:#000000;stroke-linejoin:miter;stroke-width:2;\"/>\r\n   </g>\r\n   <g id=\"patch_8\">\r\n    <path clip-path=\"url(#p1206d561c2)\" d=\"M 309.507187 367.283719 \r\nC 309.507187 383.136522 316.566698 398.356251 329.119317 409.565876 \r\nC 341.671937 420.7755 358.715102 427.079719 376.467188 427.079719 \r\nC 394.219273 427.079719 411.262438 420.7755 423.815058 409.565876 \r\nC 436.367677 398.356251 443.427188 383.136522 443.427188 367.283719 \r\n\" style=\"fill:none;stroke:#000000;stroke-dasharray:7.4,3.2;stroke-dashoffset:0;stroke-linejoin:miter;stroke-width:2;\"/>\r\n   </g>\r\n   <g id=\"patch_9\">\r\n    <path clip-path=\"url(#p1206d561c2)\" d=\"M 421.107188 509.299219 \r\nC 421.107188 498.730683 416.400847 488.584197 408.032434 481.111114 \r\nC 399.664021 473.638031 388.301911 469.435219 376.467188 469.435219 \r\nC 364.632464 469.435219 353.270354 473.638031 344.901941 481.111114 \r\nC 336.533528 488.584197 331.827188 498.730683 331.827188 509.299219 \r\n\" style=\"fill:none;stroke:#000000;stroke-linejoin:miter;stroke-width:2;\"/>\r\n   </g>\r\n   <g id=\"patch_10\">\r\n    <path clip-path=\"url(#p1206d561c2)\" d=\"M 130.947188 556.637719 \r\nL 130.947188 556.637719 \r\nL 130.947188 417.113719 \r\nL 130.947188 417.113719 \r\nz\r\n\" style=\"stroke:#000000;stroke-linejoin:miter;stroke-width:2;\"/>\r\n   </g>\r\n   <g id=\"patch_11\">\r\n    <path clip-path=\"url(#p1206d561c2)\" d=\"M 621.987188 556.637719 \r\nL 621.987188 556.637719 \r\nL 621.987188 417.113719 \r\nL 621.987188 417.113719 \r\nz\r\n\" style=\"stroke:#000000;stroke-linejoin:miter;stroke-width:2;\"/>\r\n   </g>\r\n   <g id=\"patch_12\">\r\n    <path clip-path=\"url(#p1206d561c2)\" d=\"M 622.217268 420.632648 \r\nC 602.434492 376.90719 568.462302 339.443459 524.681267 313.072243 \r\nC 480.900231 286.701027 429.276658 272.606719 376.467188 272.606719 \r\nC 323.657717 272.606719 272.034144 286.701027 228.253108 313.072243 \r\nC 184.472073 339.443459 150.499883 376.90719 130.717107 420.632648 \r\n\" style=\"fill:none;stroke:#000000;stroke-linejoin:miter;stroke-width:2;\"/>\r\n   </g>\r\n   <g id=\"patch_13\">\r\n    <path clip-path=\"url(#p1206d561c2)\" d=\"M 309.507187 88.235719 \r\nC 309.507187 104.088522 316.566698 119.308251 329.119317 130.517876 \r\nC 341.671937 141.7275 358.715102 148.031719 376.467188 148.031719 \r\nC 394.219273 148.031719 411.262438 141.7275 423.815058 130.517876 \r\nC 436.367677 119.308251 443.427188 104.088522 443.427188 88.235719 \r\n\" style=\"fill:none;stroke:#000000;stroke-linejoin:miter;stroke-width:2;\"/>\r\n   </g>\r\n   <g id=\"patch_14\">\r\n    <path clip-path=\"url(#p1206d561c2)\" d=\"M 354.147188 88.235719 \r\nC 354.147188 93.519986 356.500358 98.59323 360.684564 102.329771 \r\nC 364.868771 106.066313 370.549826 108.167719 376.467188 108.167719 \r\nC 382.384549 108.167719 388.065604 106.066313 392.249811 102.329771 \r\nC 396.434017 98.59323 398.787188 93.519986 398.787188 88.235719 \r\n\" style=\"fill:none;stroke:#000000;stroke-linejoin:miter;stroke-width:2;\"/>\r\n   </g>\r\n   <g id=\"patch_15\">\r\n    <path clip-path=\"url(#p1206d561c2)\" d=\"M 97.467188 556.637719 \r\nL 655.467188 556.637719 \r\nL 655.467188 88.235719 \r\nL 97.467188 88.235719 \r\nz\r\n\" style=\"fill:none;stroke:#000000;stroke-linejoin:miter;stroke-width:2;\"/>\r\n   </g>\r\n   <g id=\"matplotlib.axis_1\">\r\n    <g id=\"xtick_1\">\r\n     <g id=\"line2d_1\">\r\n      <defs>\r\n       <path d=\"M 0 0 \r\nL 0 3.5 \r\n\" id=\"m607ffd01e2\" style=\"stroke:#000000;stroke-width:0.8;\"/>\r\n      </defs>\r\n      <g>\r\n       <use style=\"stroke:#000000;stroke-width:0.8;\" x=\"41.667188\" xlink:href=\"#m607ffd01e2\" y=\"608.959219\"/>\r\n      </g>\r\n     </g>\r\n     <g id=\"text_1\">\r\n      <!-- −300 -->\r\n      <defs>\r\n       <path d=\"M 10.59375 35.5 \r\nL 73.1875 35.5 \r\nL 73.1875 27.203125 \r\nL 10.59375 27.203125 \r\nz\r\n\" id=\"DejaVuSans-8722\"/>\r\n       <path d=\"M 40.578125 39.3125 \r\nQ 47.65625 37.796875 51.625 33 \r\nQ 55.609375 28.21875 55.609375 21.1875 \r\nQ 55.609375 10.40625 48.1875 4.484375 \r\nQ 40.765625 -1.421875 27.09375 -1.421875 \r\nQ 22.515625 -1.421875 17.65625 -0.515625 \r\nQ 12.796875 0.390625 7.625 2.203125 \r\nL 7.625 11.71875 \r\nQ 11.71875 9.328125 16.59375 8.109375 \r\nQ 21.484375 6.890625 26.8125 6.890625 \r\nQ 36.078125 6.890625 40.9375 10.546875 \r\nQ 45.796875 14.203125 45.796875 21.1875 \r\nQ 45.796875 27.640625 41.28125 31.265625 \r\nQ 36.765625 34.90625 28.71875 34.90625 \r\nL 20.21875 34.90625 \r\nL 20.21875 43.015625 \r\nL 29.109375 43.015625 \r\nQ 36.375 43.015625 40.234375 45.921875 \r\nQ 44.09375 48.828125 44.09375 54.296875 \r\nQ 44.09375 59.90625 40.109375 62.90625 \r\nQ 36.140625 65.921875 28.71875 65.921875 \r\nQ 24.65625 65.921875 20.015625 65.03125 \r\nQ 15.375 64.15625 9.8125 62.3125 \r\nL 9.8125 71.09375 \r\nQ 15.4375 72.65625 20.34375 73.4375 \r\nQ 25.25 74.21875 29.59375 74.21875 \r\nQ 40.828125 74.21875 47.359375 69.109375 \r\nQ 53.90625 64.015625 53.90625 55.328125 \r\nQ 53.90625 49.265625 50.4375 45.09375 \r\nQ 46.96875 40.921875 40.578125 39.3125 \r\nz\r\n\" id=\"DejaVuSans-51\"/>\r\n       <path d=\"M 31.78125 66.40625 \r\nQ 24.171875 66.40625 20.328125 58.90625 \r\nQ 16.5 51.421875 16.5 36.375 \r\nQ 16.5 21.390625 20.328125 13.890625 \r\nQ 24.171875 6.390625 31.78125 6.390625 \r\nQ 39.453125 6.390625 43.28125 13.890625 \r\nQ 47.125 21.390625 47.125 36.375 \r\nQ 47.125 51.421875 43.28125 58.90625 \r\nQ 39.453125 66.40625 31.78125 66.40625 \r\nz\r\nM 31.78125 74.21875 \r\nQ 44.046875 74.21875 50.515625 64.515625 \r\nQ 56.984375 54.828125 56.984375 36.375 \r\nQ 56.984375 17.96875 50.515625 8.265625 \r\nQ 44.046875 -1.421875 31.78125 -1.421875 \r\nQ 19.53125 -1.421875 13.0625 8.265625 \r\nQ 6.59375 17.96875 6.59375 36.375 \r\nQ 6.59375 54.828125 13.0625 64.515625 \r\nQ 19.53125 74.21875 31.78125 74.21875 \r\nz\r\n\" id=\"DejaVuSans-48\"/>\r\n      </defs>\r\n      <g transform=\"translate(27.933594 623.557656)scale(0.1 -0.1)\">\r\n       <use xlink:href=\"#DejaVuSans-8722\"/>\r\n       <use x=\"83.789062\" xlink:href=\"#DejaVuSans-51\"/>\r\n       <use x=\"147.412109\" xlink:href=\"#DejaVuSans-48\"/>\r\n       <use x=\"211.035156\" xlink:href=\"#DejaVuSans-48\"/>\r\n      </g>\r\n     </g>\r\n    </g>\r\n    <g id=\"xtick_2\">\r\n     <g id=\"line2d_2\">\r\n      <g>\r\n       <use style=\"stroke:#000000;stroke-width:0.8;\" x=\"153.267188\" xlink:href=\"#m607ffd01e2\" y=\"608.959219\"/>\r\n      </g>\r\n     </g>\r\n     <g id=\"text_2\">\r\n      <!-- −200 -->\r\n      <defs>\r\n       <path d=\"M 19.1875 8.296875 \r\nL 53.609375 8.296875 \r\nL 53.609375 0 \r\nL 7.328125 0 \r\nL 7.328125 8.296875 \r\nQ 12.9375 14.109375 22.625 23.890625 \r\nQ 32.328125 33.6875 34.8125 36.53125 \r\nQ 39.546875 41.84375 41.421875 45.53125 \r\nQ 43.3125 49.21875 43.3125 52.78125 \r\nQ 43.3125 58.59375 39.234375 62.25 \r\nQ 35.15625 65.921875 28.609375 65.921875 \r\nQ 23.96875 65.921875 18.8125 64.3125 \r\nQ 13.671875 62.703125 7.8125 59.421875 \r\nL 7.8125 69.390625 \r\nQ 13.765625 71.78125 18.9375 73 \r\nQ 24.125 74.21875 28.421875 74.21875 \r\nQ 39.75 74.21875 46.484375 68.546875 \r\nQ 53.21875 62.890625 53.21875 53.421875 \r\nQ 53.21875 48.921875 51.53125 44.890625 \r\nQ 49.859375 40.875 45.40625 35.40625 \r\nQ 44.1875 33.984375 37.640625 27.21875 \r\nQ 31.109375 20.453125 19.1875 8.296875 \r\nz\r\n\" id=\"DejaVuSans-50\"/>\r\n      </defs>\r\n      <g transform=\"translate(139.533594 623.557656)scale(0.1 -0.1)\">\r\n       <use xlink:href=\"#DejaVuSans-8722\"/>\r\n       <use x=\"83.789062\" xlink:href=\"#DejaVuSans-50\"/>\r\n       <use x=\"147.412109\" xlink:href=\"#DejaVuSans-48\"/>\r\n       <use x=\"211.035156\" xlink:href=\"#DejaVuSans-48\"/>\r\n      </g>\r\n     </g>\r\n    </g>\r\n    <g id=\"xtick_3\">\r\n     <g id=\"line2d_3\">\r\n      <g>\r\n       <use style=\"stroke:#000000;stroke-width:0.8;\" x=\"264.867188\" xlink:href=\"#m607ffd01e2\" y=\"608.959219\"/>\r\n      </g>\r\n     </g>\r\n     <g id=\"text_3\">\r\n      <!-- −100 -->\r\n      <defs>\r\n       <path d=\"M 12.40625 8.296875 \r\nL 28.515625 8.296875 \r\nL 28.515625 63.921875 \r\nL 10.984375 60.40625 \r\nL 10.984375 69.390625 \r\nL 28.421875 72.90625 \r\nL 38.28125 72.90625 \r\nL 38.28125 8.296875 \r\nL 54.390625 8.296875 \r\nL 54.390625 0 \r\nL 12.40625 0 \r\nz\r\n\" id=\"DejaVuSans-49\"/>\r\n      </defs>\r\n      <g transform=\"translate(251.133594 623.557656)scale(0.1 -0.1)\">\r\n       <use xlink:href=\"#DejaVuSans-8722\"/>\r\n       <use x=\"83.789062\" xlink:href=\"#DejaVuSans-49\"/>\r\n       <use x=\"147.412109\" xlink:href=\"#DejaVuSans-48\"/>\r\n       <use x=\"211.035156\" xlink:href=\"#DejaVuSans-48\"/>\r\n      </g>\r\n     </g>\r\n    </g>\r\n    <g id=\"xtick_4\">\r\n     <g id=\"line2d_4\">\r\n      <g>\r\n       <use style=\"stroke:#000000;stroke-width:0.8;\" x=\"376.467188\" xlink:href=\"#m607ffd01e2\" y=\"608.959219\"/>\r\n      </g>\r\n     </g>\r\n     <g id=\"text_4\">\r\n      <!-- 0 -->\r\n      <g transform=\"translate(373.285938 623.557656)scale(0.1 -0.1)\">\r\n       <use xlink:href=\"#DejaVuSans-48\"/>\r\n      </g>\r\n     </g>\r\n    </g>\r\n    <g id=\"xtick_5\">\r\n     <g id=\"line2d_5\">\r\n      <g>\r\n       <use style=\"stroke:#000000;stroke-width:0.8;\" x=\"488.067188\" xlink:href=\"#m607ffd01e2\" y=\"608.959219\"/>\r\n      </g>\r\n     </g>\r\n     <g id=\"text_5\">\r\n      <!-- 100 -->\r\n      <g transform=\"translate(478.523438 623.557656)scale(0.1 -0.1)\">\r\n       <use xlink:href=\"#DejaVuSans-49\"/>\r\n       <use x=\"63.623047\" xlink:href=\"#DejaVuSans-48\"/>\r\n       <use x=\"127.246094\" xlink:href=\"#DejaVuSans-48\"/>\r\n      </g>\r\n     </g>\r\n    </g>\r\n    <g id=\"xtick_6\">\r\n     <g id=\"line2d_6\">\r\n      <g>\r\n       <use style=\"stroke:#000000;stroke-width:0.8;\" x=\"599.667188\" xlink:href=\"#m607ffd01e2\" y=\"608.959219\"/>\r\n      </g>\r\n     </g>\r\n     <g id=\"text_6\">\r\n      <!-- 200 -->\r\n      <g transform=\"translate(590.123438 623.557656)scale(0.1 -0.1)\">\r\n       <use xlink:href=\"#DejaVuSans-50\"/>\r\n       <use x=\"63.623047\" xlink:href=\"#DejaVuSans-48\"/>\r\n       <use x=\"127.246094\" xlink:href=\"#DejaVuSans-48\"/>\r\n      </g>\r\n     </g>\r\n    </g>\r\n    <g id=\"xtick_7\">\r\n     <g id=\"line2d_7\">\r\n      <g>\r\n       <use style=\"stroke:#000000;stroke-width:0.8;\" x=\"711.267188\" xlink:href=\"#m607ffd01e2\" y=\"608.959219\"/>\r\n      </g>\r\n     </g>\r\n     <g id=\"text_7\">\r\n      <!-- 300 -->\r\n      <g transform=\"translate(701.723438 623.557656)scale(0.1 -0.1)\">\r\n       <use xlink:href=\"#DejaVuSans-51\"/>\r\n       <use x=\"63.623047\" xlink:href=\"#DejaVuSans-48\"/>\r\n       <use x=\"127.246094\" xlink:href=\"#DejaVuSans-48\"/>\r\n      </g>\r\n     </g>\r\n    </g>\r\n   </g>\r\n   <g id=\"matplotlib.axis_2\">\r\n    <g id=\"ytick_1\">\r\n     <g id=\"line2d_8\">\r\n      <defs>\r\n       <path d=\"M 0 0 \r\nL -3.5 0 \r\n\" id=\"m5af82cfc03\" style=\"stroke:#000000;stroke-width:0.8;\"/>\r\n      </defs>\r\n      <g>\r\n       <use style=\"stroke:#000000;stroke-width:0.8;\" x=\"41.667187\" xlink:href=\"#m5af82cfc03\" y=\"608.959219\"/>\r\n      </g>\r\n     </g>\r\n     <g id=\"text_8\">\r\n      <!-- −100 -->\r\n      <g transform=\"translate(7.2 612.758438)scale(0.1 -0.1)\">\r\n       <use xlink:href=\"#DejaVuSans-8722\"/>\r\n       <use x=\"83.789062\" xlink:href=\"#DejaVuSans-49\"/>\r\n       <use x=\"147.412109\" xlink:href=\"#DejaVuSans-48\"/>\r\n       <use x=\"211.035156\" xlink:href=\"#DejaVuSans-48\"/>\r\n      </g>\r\n     </g>\r\n    </g>\r\n    <g id=\"ytick_2\">\r\n     <g id=\"line2d_9\">\r\n      <g>\r\n       <use style=\"stroke:#000000;stroke-width:0.8;\" x=\"41.667187\" xlink:href=\"#m5af82cfc03\" y=\"509.299219\"/>\r\n      </g>\r\n     </g>\r\n     <g id=\"text_9\">\r\n      <!-- 0 -->\r\n      <g transform=\"translate(28.304687 513.098438)scale(0.1 -0.1)\">\r\n       <use xlink:href=\"#DejaVuSans-48\"/>\r\n      </g>\r\n     </g>\r\n    </g>\r\n    <g id=\"ytick_3\">\r\n     <g id=\"line2d_10\">\r\n      <g>\r\n       <use style=\"stroke:#000000;stroke-width:0.8;\" x=\"41.667187\" xlink:href=\"#m5af82cfc03\" y=\"409.639219\"/>\r\n      </g>\r\n     </g>\r\n     <g id=\"text_10\">\r\n      <!-- 100 -->\r\n      <g transform=\"translate(15.579687 413.438438)scale(0.1 -0.1)\">\r\n       <use xlink:href=\"#DejaVuSans-49\"/>\r\n       <use x=\"63.623047\" xlink:href=\"#DejaVuSans-48\"/>\r\n       <use x=\"127.246094\" xlink:href=\"#DejaVuSans-48\"/>\r\n      </g>\r\n     </g>\r\n    </g>\r\n    <g id=\"ytick_4\">\r\n     <g id=\"line2d_11\">\r\n      <g>\r\n       <use style=\"stroke:#000000;stroke-width:0.8;\" x=\"41.667187\" xlink:href=\"#m5af82cfc03\" y=\"309.979219\"/>\r\n      </g>\r\n     </g>\r\n     <g id=\"text_11\">\r\n      <!-- 200 -->\r\n      <g transform=\"translate(15.579687 313.778438)scale(0.1 -0.1)\">\r\n       <use xlink:href=\"#DejaVuSans-50\"/>\r\n       <use x=\"63.623047\" xlink:href=\"#DejaVuSans-48\"/>\r\n       <use x=\"127.246094\" xlink:href=\"#DejaVuSans-48\"/>\r\n      </g>\r\n     </g>\r\n    </g>\r\n    <g id=\"ytick_5\">\r\n     <g id=\"line2d_12\">\r\n      <g>\r\n       <use style=\"stroke:#000000;stroke-width:0.8;\" x=\"41.667187\" xlink:href=\"#m5af82cfc03\" y=\"210.319219\"/>\r\n      </g>\r\n     </g>\r\n     <g id=\"text_12\">\r\n      <!-- 300 -->\r\n      <g transform=\"translate(15.579687 214.118438)scale(0.1 -0.1)\">\r\n       <use xlink:href=\"#DejaVuSans-51\"/>\r\n       <use x=\"63.623047\" xlink:href=\"#DejaVuSans-48\"/>\r\n       <use x=\"127.246094\" xlink:href=\"#DejaVuSans-48\"/>\r\n      </g>\r\n     </g>\r\n    </g>\r\n    <g id=\"ytick_6\">\r\n     <g id=\"line2d_13\">\r\n      <g>\r\n       <use style=\"stroke:#000000;stroke-width:0.8;\" x=\"41.667187\" xlink:href=\"#m5af82cfc03\" y=\"110.659219\"/>\r\n      </g>\r\n     </g>\r\n     <g id=\"text_13\">\r\n      <!-- 400 -->\r\n      <defs>\r\n       <path d=\"M 37.796875 64.3125 \r\nL 12.890625 25.390625 \r\nL 37.796875 25.390625 \r\nz\r\nM 35.203125 72.90625 \r\nL 47.609375 72.90625 \r\nL 47.609375 25.390625 \r\nL 58.015625 25.390625 \r\nL 58.015625 17.1875 \r\nL 47.609375 17.1875 \r\nL 47.609375 0 \r\nL 37.796875 0 \r\nL 37.796875 17.1875 \r\nL 4.890625 17.1875 \r\nL 4.890625 26.703125 \r\nz\r\n\" id=\"DejaVuSans-52\"/>\r\n      </defs>\r\n      <g transform=\"translate(15.579687 114.458438)scale(0.1 -0.1)\">\r\n       <use xlink:href=\"#DejaVuSans-52\"/>\r\n       <use x=\"63.623047\" xlink:href=\"#DejaVuSans-48\"/>\r\n       <use x=\"127.246094\" xlink:href=\"#DejaVuSans-48\"/>\r\n      </g>\r\n     </g>\r\n    </g>\r\n    <g id=\"ytick_7\">\r\n     <g id=\"line2d_14\">\r\n      <g>\r\n       <use style=\"stroke:#000000;stroke-width:0.8;\" x=\"41.667187\" xlink:href=\"#m5af82cfc03\" y=\"10.999219\"/>\r\n      </g>\r\n     </g>\r\n     <g id=\"text_14\">\r\n      <!-- 500 -->\r\n      <defs>\r\n       <path d=\"M 10.796875 72.90625 \r\nL 49.515625 72.90625 \r\nL 49.515625 64.59375 \r\nL 19.828125 64.59375 \r\nL 19.828125 46.734375 \r\nQ 21.96875 47.46875 24.109375 47.828125 \r\nQ 26.265625 48.1875 28.421875 48.1875 \r\nQ 40.625 48.1875 47.75 41.5 \r\nQ 54.890625 34.8125 54.890625 23.390625 \r\nQ 54.890625 11.625 47.5625 5.09375 \r\nQ 40.234375 -1.421875 26.90625 -1.421875 \r\nQ 22.3125 -1.421875 17.546875 -0.640625 \r\nQ 12.796875 0.140625 7.71875 1.703125 \r\nL 7.71875 11.625 \r\nQ 12.109375 9.234375 16.796875 8.0625 \r\nQ 21.484375 6.890625 26.703125 6.890625 \r\nQ 35.15625 6.890625 40.078125 11.328125 \r\nQ 45.015625 15.765625 45.015625 23.390625 \r\nQ 45.015625 31 40.078125 35.4375 \r\nQ 35.15625 39.890625 26.703125 39.890625 \r\nQ 22.75 39.890625 18.8125 39.015625 \r\nQ 14.890625 38.140625 10.796875 36.28125 \r\nz\r\n\" id=\"DejaVuSans-53\"/>\r\n      </defs>\r\n      <g transform=\"translate(15.579687 14.798437)scale(0.1 -0.1)\">\r\n       <use xlink:href=\"#DejaVuSans-53\"/>\r\n       <use x=\"63.623047\" xlink:href=\"#DejaVuSans-48\"/>\r\n       <use x=\"127.246094\" xlink:href=\"#DejaVuSans-48\"/>\r\n      </g>\r\n     </g>\r\n    </g>\r\n   </g>\r\n   <g id=\"patch_16\">\r\n    <path d=\"M 41.667187 608.959219 \r\nL 41.667187 10.999219 \r\n\" style=\"fill:none;stroke:#000000;stroke-linecap:square;stroke-linejoin:miter;stroke-width:0.8;\"/>\r\n   </g>\r\n   <g id=\"patch_17\">\r\n    <path d=\"M 711.267187 608.959219 \r\nL 711.267187 10.999219 \r\n\" style=\"fill:none;stroke:#000000;stroke-linecap:square;stroke-linejoin:miter;stroke-width:0.8;\"/>\r\n   </g>\r\n   <g id=\"patch_18\">\r\n    <path d=\"M 41.667188 608.959219 \r\nL 711.267188 608.959219 \r\n\" style=\"fill:none;stroke:#000000;stroke-linecap:square;stroke-linejoin:miter;stroke-width:0.8;\"/>\r\n   </g>\r\n   <g id=\"patch_19\">\r\n    <path d=\"M 41.667188 10.999219 \r\nL 711.267188 10.999219 \r\n\" style=\"fill:none;stroke:#000000;stroke-linecap:square;stroke-linejoin:miter;stroke-width:0.8;\"/>\r\n   </g>\r\n   <g id=\"legend_1\">\r\n    <g id=\"patch_20\">\r\n     <path d=\"M 477.126563 268.805469 \r\nL 704.267188 268.805469 \r\nQ 706.267188 268.805469 706.267188 266.805469 \r\nL 706.267188 17.999219 \r\nQ 706.267188 15.999219 704.267188 15.999219 \r\nL 477.126563 15.999219 \r\nQ 475.126563 15.999219 475.126563 17.999219 \r\nL 475.126563 266.805469 \r\nQ 475.126563 268.805469 477.126563 268.805469 \r\nz\r\n\" style=\"fill:#ffffff;opacity:0.8;stroke:#cccccc;stroke-linejoin:miter;\"/>\r\n    </g>\r\n    <g id=\"PathCollection_18\">\r\n     <g>\r\n      <use style=\"fill:#008000;stroke:#008000;\" x=\"489.126563\" xlink:href=\"#mbc1fb1a37a\" y=\"24.972656\"/>\r\n     </g>\r\n    </g>\r\n    <g id=\"text_15\">\r\n     <!-- Jewel Llyod -->\r\n     <defs>\r\n      <path d=\"M 9.8125 72.90625 \r\nL 19.671875 72.90625 \r\nL 19.671875 5.078125 \r\nQ 19.671875 -8.109375 14.671875 -14.0625 \r\nQ 9.671875 -20.015625 -1.421875 -20.015625 \r\nL -5.171875 -20.015625 \r\nL -5.171875 -11.71875 \r\nL -2.09375 -11.71875 \r\nQ 4.4375 -11.71875 7.125 -8.046875 \r\nQ 9.8125 -4.390625 9.8125 5.078125 \r\nz\r\n\" id=\"DejaVuSans-74\"/>\r\n      <path d=\"M 56.203125 29.59375 \r\nL 56.203125 25.203125 \r\nL 14.890625 25.203125 \r\nQ 15.484375 15.921875 20.484375 11.0625 \r\nQ 25.484375 6.203125 34.421875 6.203125 \r\nQ 39.59375 6.203125 44.453125 7.46875 \r\nQ 49.3125 8.734375 54.109375 11.28125 \r\nL 54.109375 2.78125 \r\nQ 49.265625 0.734375 44.1875 -0.34375 \r\nQ 39.109375 -1.421875 33.890625 -1.421875 \r\nQ 20.796875 -1.421875 13.15625 6.1875 \r\nQ 5.515625 13.8125 5.515625 26.8125 \r\nQ 5.515625 40.234375 12.765625 48.109375 \r\nQ 20.015625 56 32.328125 56 \r\nQ 43.359375 56 49.78125 48.890625 \r\nQ 56.203125 41.796875 56.203125 29.59375 \r\nz\r\nM 47.21875 32.234375 \r\nQ 47.125 39.59375 43.09375 43.984375 \r\nQ 39.0625 48.390625 32.421875 48.390625 \r\nQ 24.90625 48.390625 20.390625 44.140625 \r\nQ 15.875 39.890625 15.1875 32.171875 \r\nz\r\n\" id=\"DejaVuSans-101\"/>\r\n      <path d=\"M 4.203125 54.6875 \r\nL 13.1875 54.6875 \r\nL 24.421875 12.015625 \r\nL 35.59375 54.6875 \r\nL 46.1875 54.6875 \r\nL 57.421875 12.015625 \r\nL 68.609375 54.6875 \r\nL 77.59375 54.6875 \r\nL 63.28125 0 \r\nL 52.6875 0 \r\nL 40.921875 44.828125 \r\nL 29.109375 0 \r\nL 18.5 0 \r\nz\r\n\" id=\"DejaVuSans-119\"/>\r\n      <path d=\"M 9.421875 75.984375 \r\nL 18.40625 75.984375 \r\nL 18.40625 0 \r\nL 9.421875 0 \r\nz\r\n\" id=\"DejaVuSans-108\"/>\r\n      <path id=\"DejaVuSans-32\"/>\r\n      <path d=\"M 9.8125 72.90625 \r\nL 19.671875 72.90625 \r\nL 19.671875 8.296875 \r\nL 55.171875 8.296875 \r\nL 55.171875 0 \r\nL 9.8125 0 \r\nz\r\n\" id=\"DejaVuSans-76\"/>\r\n      <path d=\"M 32.171875 -5.078125 \r\nQ 28.375 -14.84375 24.75 -17.8125 \r\nQ 21.140625 -20.796875 15.09375 -20.796875 \r\nL 7.90625 -20.796875 \r\nL 7.90625 -13.28125 \r\nL 13.1875 -13.28125 \r\nQ 16.890625 -13.28125 18.9375 -11.515625 \r\nQ 21 -9.765625 23.484375 -3.21875 \r\nL 25.09375 0.875 \r\nL 2.984375 54.6875 \r\nL 12.5 54.6875 \r\nL 29.59375 11.921875 \r\nL 46.6875 54.6875 \r\nL 56.203125 54.6875 \r\nz\r\n\" id=\"DejaVuSans-121\"/>\r\n      <path d=\"M 30.609375 48.390625 \r\nQ 23.390625 48.390625 19.1875 42.75 \r\nQ 14.984375 37.109375 14.984375 27.296875 \r\nQ 14.984375 17.484375 19.15625 11.84375 \r\nQ 23.34375 6.203125 30.609375 6.203125 \r\nQ 37.796875 6.203125 41.984375 11.859375 \r\nQ 46.1875 17.53125 46.1875 27.296875 \r\nQ 46.1875 37.015625 41.984375 42.703125 \r\nQ 37.796875 48.390625 30.609375 48.390625 \r\nz\r\nM 30.609375 56 \r\nQ 42.328125 56 49.015625 48.375 \r\nQ 55.71875 40.765625 55.71875 27.296875 \r\nQ 55.71875 13.875 49.015625 6.21875 \r\nQ 42.328125 -1.421875 30.609375 -1.421875 \r\nQ 18.84375 -1.421875 12.171875 6.21875 \r\nQ 5.515625 13.875 5.515625 27.296875 \r\nQ 5.515625 40.765625 12.171875 48.375 \r\nQ 18.84375 56 30.609375 56 \r\nz\r\n\" id=\"DejaVuSans-111\"/>\r\n      <path d=\"M 45.40625 46.390625 \r\nL 45.40625 75.984375 \r\nL 54.390625 75.984375 \r\nL 54.390625 0 \r\nL 45.40625 0 \r\nL 45.40625 8.203125 \r\nQ 42.578125 3.328125 38.25 0.953125 \r\nQ 33.9375 -1.421875 27.875 -1.421875 \r\nQ 17.96875 -1.421875 11.734375 6.484375 \r\nQ 5.515625 14.40625 5.515625 27.296875 \r\nQ 5.515625 40.1875 11.734375 48.09375 \r\nQ 17.96875 56 27.875 56 \r\nQ 33.9375 56 38.25 53.625 \r\nQ 42.578125 51.265625 45.40625 46.390625 \r\nz\r\nM 14.796875 27.296875 \r\nQ 14.796875 17.390625 18.875 11.75 \r\nQ 22.953125 6.109375 30.078125 6.109375 \r\nQ 37.203125 6.109375 41.296875 11.75 \r\nQ 45.40625 17.390625 45.40625 27.296875 \r\nQ 45.40625 37.203125 41.296875 42.84375 \r\nQ 37.203125 48.484375 30.078125 48.484375 \r\nQ 22.953125 48.484375 18.875 42.84375 \r\nQ 14.796875 37.203125 14.796875 27.296875 \r\nz\r\n\" id=\"DejaVuSans-100\"/>\r\n     </defs>\r\n     <g transform=\"translate(507.126563 27.597656)scale(0.1 -0.1)\">\r\n      <use xlink:href=\"#DejaVuSans-74\"/>\r\n      <use x=\"29.492188\" xlink:href=\"#DejaVuSans-101\"/>\r\n      <use x=\"91.015625\" xlink:href=\"#DejaVuSans-119\"/>\r\n      <use x=\"172.802734\" xlink:href=\"#DejaVuSans-101\"/>\r\n      <use x=\"234.326172\" xlink:href=\"#DejaVuSans-108\"/>\r\n      <use x=\"262.109375\" xlink:href=\"#DejaVuSans-32\"/>\r\n      <use x=\"293.896484\" xlink:href=\"#DejaVuSans-76\"/>\r\n      <use x=\"349.609375\" xlink:href=\"#DejaVuSans-108\"/>\r\n      <use x=\"377.392578\" xlink:href=\"#DejaVuSans-121\"/>\r\n      <use x=\"436.572266\" xlink:href=\"#DejaVuSans-111\"/>\r\n      <use x=\"497.753906\" xlink:href=\"#DejaVuSans-100\"/>\r\n     </g>\r\n    </g>\r\n    <g id=\"PathCollection_19\">\r\n     <g>\r\n      <use style=\"fill:#ff0000;stroke:#ff0000;\" x=\"489.126563\" xlink:href=\"#mc34c72cf56\" y=\"39.650781\"/>\r\n     </g>\r\n    </g>\r\n    <g id=\"text_16\">\r\n     <!-- Satou Sabally -->\r\n     <defs>\r\n      <path d=\"M 53.515625 70.515625 \r\nL 53.515625 60.890625 \r\nQ 47.90625 63.578125 42.921875 64.890625 \r\nQ 37.9375 66.21875 33.296875 66.21875 \r\nQ 25.25 66.21875 20.875 63.09375 \r\nQ 16.5 59.96875 16.5 54.203125 \r\nQ 16.5 49.359375 19.40625 46.890625 \r\nQ 22.3125 44.4375 30.421875 42.921875 \r\nL 36.375 41.703125 \r\nQ 47.40625 39.59375 52.65625 34.296875 \r\nQ 57.90625 29 57.90625 20.125 \r\nQ 57.90625 9.515625 50.796875 4.046875 \r\nQ 43.703125 -1.421875 29.984375 -1.421875 \r\nQ 24.8125 -1.421875 18.96875 -0.25 \r\nQ 13.140625 0.921875 6.890625 3.21875 \r\nL 6.890625 13.375 \r\nQ 12.890625 10.015625 18.65625 8.296875 \r\nQ 24.421875 6.59375 29.984375 6.59375 \r\nQ 38.421875 6.59375 43.015625 9.90625 \r\nQ 47.609375 13.234375 47.609375 19.390625 \r\nQ 47.609375 24.75 44.3125 27.78125 \r\nQ 41.015625 30.8125 33.5 32.328125 \r\nL 27.484375 33.5 \r\nQ 16.453125 35.6875 11.515625 40.375 \r\nQ 6.59375 45.0625 6.59375 53.421875 \r\nQ 6.59375 63.09375 13.40625 68.65625 \r\nQ 20.21875 74.21875 32.171875 74.21875 \r\nQ 37.3125 74.21875 42.625 73.28125 \r\nQ 47.953125 72.359375 53.515625 70.515625 \r\nz\r\n\" id=\"DejaVuSans-83\"/>\r\n      <path d=\"M 34.28125 27.484375 \r\nQ 23.390625 27.484375 19.1875 25 \r\nQ 14.984375 22.515625 14.984375 16.5 \r\nQ 14.984375 11.71875 18.140625 8.90625 \r\nQ 21.296875 6.109375 26.703125 6.109375 \r\nQ 34.1875 6.109375 38.703125 11.40625 \r\nQ 43.21875 16.703125 43.21875 25.484375 \r\nL 43.21875 27.484375 \r\nz\r\nM 52.203125 31.203125 \r\nL 52.203125 0 \r\nL 43.21875 0 \r\nL 43.21875 8.296875 \r\nQ 40.140625 3.328125 35.546875 0.953125 \r\nQ 30.953125 -1.421875 24.3125 -1.421875 \r\nQ 15.921875 -1.421875 10.953125 3.296875 \r\nQ 6 8.015625 6 15.921875 \r\nQ 6 25.140625 12.171875 29.828125 \r\nQ 18.359375 34.515625 30.609375 34.515625 \r\nL 43.21875 34.515625 \r\nL 43.21875 35.40625 \r\nQ 43.21875 41.609375 39.140625 45 \r\nQ 35.0625 48.390625 27.6875 48.390625 \r\nQ 23 48.390625 18.546875 47.265625 \r\nQ 14.109375 46.140625 10.015625 43.890625 \r\nL 10.015625 52.203125 \r\nQ 14.9375 54.109375 19.578125 55.046875 \r\nQ 24.21875 56 28.609375 56 \r\nQ 40.484375 56 46.34375 49.84375 \r\nQ 52.203125 43.703125 52.203125 31.203125 \r\nz\r\n\" id=\"DejaVuSans-97\"/>\r\n      <path d=\"M 18.3125 70.21875 \r\nL 18.3125 54.6875 \r\nL 36.8125 54.6875 \r\nL 36.8125 47.703125 \r\nL 18.3125 47.703125 \r\nL 18.3125 18.015625 \r\nQ 18.3125 11.328125 20.140625 9.421875 \r\nQ 21.96875 7.515625 27.59375 7.515625 \r\nL 36.8125 7.515625 \r\nL 36.8125 0 \r\nL 27.59375 0 \r\nQ 17.1875 0 13.234375 3.875 \r\nQ 9.28125 7.765625 9.28125 18.015625 \r\nL 9.28125 47.703125 \r\nL 2.6875 47.703125 \r\nL 2.6875 54.6875 \r\nL 9.28125 54.6875 \r\nL 9.28125 70.21875 \r\nz\r\n\" id=\"DejaVuSans-116\"/>\r\n      <path d=\"M 8.5 21.578125 \r\nL 8.5 54.6875 \r\nL 17.484375 54.6875 \r\nL 17.484375 21.921875 \r\nQ 17.484375 14.15625 20.5 10.265625 \r\nQ 23.53125 6.390625 29.59375 6.390625 \r\nQ 36.859375 6.390625 41.078125 11.03125 \r\nQ 45.3125 15.671875 45.3125 23.6875 \r\nL 45.3125 54.6875 \r\nL 54.296875 54.6875 \r\nL 54.296875 0 \r\nL 45.3125 0 \r\nL 45.3125 8.40625 \r\nQ 42.046875 3.421875 37.71875 1 \r\nQ 33.40625 -1.421875 27.6875 -1.421875 \r\nQ 18.265625 -1.421875 13.375 4.4375 \r\nQ 8.5 10.296875 8.5 21.578125 \r\nz\r\nM 31.109375 56 \r\nz\r\n\" id=\"DejaVuSans-117\"/>\r\n      <path d=\"M 48.6875 27.296875 \r\nQ 48.6875 37.203125 44.609375 42.84375 \r\nQ 40.53125 48.484375 33.40625 48.484375 \r\nQ 26.265625 48.484375 22.1875 42.84375 \r\nQ 18.109375 37.203125 18.109375 27.296875 \r\nQ 18.109375 17.390625 22.1875 11.75 \r\nQ 26.265625 6.109375 33.40625 6.109375 \r\nQ 40.53125 6.109375 44.609375 11.75 \r\nQ 48.6875 17.390625 48.6875 27.296875 \r\nz\r\nM 18.109375 46.390625 \r\nQ 20.953125 51.265625 25.265625 53.625 \r\nQ 29.59375 56 35.59375 56 \r\nQ 45.5625 56 51.78125 48.09375 \r\nQ 58.015625 40.1875 58.015625 27.296875 \r\nQ 58.015625 14.40625 51.78125 6.484375 \r\nQ 45.5625 -1.421875 35.59375 -1.421875 \r\nQ 29.59375 -1.421875 25.265625 0.953125 \r\nQ 20.953125 3.328125 18.109375 8.203125 \r\nL 18.109375 0 \r\nL 9.078125 0 \r\nL 9.078125 75.984375 \r\nL 18.109375 75.984375 \r\nz\r\n\" id=\"DejaVuSans-98\"/>\r\n     </defs>\r\n     <g transform=\"translate(507.126563 42.275781)scale(0.1 -0.1)\">\r\n      <use xlink:href=\"#DejaVuSans-83\"/>\r\n      <use x=\"63.476562\" xlink:href=\"#DejaVuSans-97\"/>\r\n      <use x=\"124.755859\" xlink:href=\"#DejaVuSans-116\"/>\r\n      <use x=\"163.964844\" xlink:href=\"#DejaVuSans-111\"/>\r\n      <use x=\"225.146484\" xlink:href=\"#DejaVuSans-117\"/>\r\n      <use x=\"288.525391\" xlink:href=\"#DejaVuSans-32\"/>\r\n      <use x=\"320.3125\" xlink:href=\"#DejaVuSans-83\"/>\r\n      <use x=\"383.789062\" xlink:href=\"#DejaVuSans-97\"/>\r\n      <use x=\"445.068359\" xlink:href=\"#DejaVuSans-98\"/>\r\n      <use x=\"508.544922\" xlink:href=\"#DejaVuSans-97\"/>\r\n      <use x=\"569.824219\" xlink:href=\"#DejaVuSans-108\"/>\r\n      <use x=\"597.607422\" xlink:href=\"#DejaVuSans-108\"/>\r\n      <use x=\"625.390625\" xlink:href=\"#DejaVuSans-121\"/>\r\n     </g>\r\n    </g>\r\n    <g id=\"PathCollection_20\">\r\n     <g>\r\n      <use style=\"fill:#0000ff;stroke:#0000ff;\" x=\"489.126563\" xlink:href=\"#mdb828ff3dc\" y=\"54.328906\"/>\r\n     </g>\r\n    </g>\r\n    <g id=\"text_17\">\r\n     <!-- Allie Quigley -->\r\n     <defs>\r\n      <path d=\"M 34.1875 63.1875 \r\nL 20.796875 26.90625 \r\nL 47.609375 26.90625 \r\nz\r\nM 28.609375 72.90625 \r\nL 39.796875 72.90625 \r\nL 67.578125 0 \r\nL 57.328125 0 \r\nL 50.6875 18.703125 \r\nL 17.828125 18.703125 \r\nL 11.1875 0 \r\nL 0.78125 0 \r\nz\r\n\" id=\"DejaVuSans-65\"/>\r\n      <path d=\"M 9.421875 54.6875 \r\nL 18.40625 54.6875 \r\nL 18.40625 0 \r\nL 9.421875 0 \r\nz\r\nM 9.421875 75.984375 \r\nL 18.40625 75.984375 \r\nL 18.40625 64.59375 \r\nL 9.421875 64.59375 \r\nz\r\n\" id=\"DejaVuSans-105\"/>\r\n      <path d=\"M 39.40625 66.21875 \r\nQ 28.65625 66.21875 22.328125 58.203125 \r\nQ 16.015625 50.203125 16.015625 36.375 \r\nQ 16.015625 22.609375 22.328125 14.59375 \r\nQ 28.65625 6.59375 39.40625 6.59375 \r\nQ 50.140625 6.59375 56.421875 14.59375 \r\nQ 62.703125 22.609375 62.703125 36.375 \r\nQ 62.703125 50.203125 56.421875 58.203125 \r\nQ 50.140625 66.21875 39.40625 66.21875 \r\nz\r\nM 53.21875 1.3125 \r\nL 66.21875 -12.890625 \r\nL 54.296875 -12.890625 \r\nL 43.5 -1.21875 \r\nQ 41.890625 -1.3125 41.03125 -1.359375 \r\nQ 40.1875 -1.421875 39.40625 -1.421875 \r\nQ 24.03125 -1.421875 14.8125 8.859375 \r\nQ 5.609375 19.140625 5.609375 36.375 \r\nQ 5.609375 53.65625 14.8125 63.9375 \r\nQ 24.03125 74.21875 39.40625 74.21875 \r\nQ 54.734375 74.21875 63.90625 63.9375 \r\nQ 73.09375 53.65625 73.09375 36.375 \r\nQ 73.09375 23.6875 67.984375 14.640625 \r\nQ 62.890625 5.609375 53.21875 1.3125 \r\nz\r\n\" id=\"DejaVuSans-81\"/>\r\n      <path d=\"M 45.40625 27.984375 \r\nQ 45.40625 37.75 41.375 43.109375 \r\nQ 37.359375 48.484375 30.078125 48.484375 \r\nQ 22.859375 48.484375 18.828125 43.109375 \r\nQ 14.796875 37.75 14.796875 27.984375 \r\nQ 14.796875 18.265625 18.828125 12.890625 \r\nQ 22.859375 7.515625 30.078125 7.515625 \r\nQ 37.359375 7.515625 41.375 12.890625 \r\nQ 45.40625 18.265625 45.40625 27.984375 \r\nz\r\nM 54.390625 6.78125 \r\nQ 54.390625 -7.171875 48.1875 -13.984375 \r\nQ 42 -20.796875 29.203125 -20.796875 \r\nQ 24.46875 -20.796875 20.265625 -20.09375 \r\nQ 16.0625 -19.390625 12.109375 -17.921875 \r\nL 12.109375 -9.1875 \r\nQ 16.0625 -11.328125 19.921875 -12.34375 \r\nQ 23.78125 -13.375 27.78125 -13.375 \r\nQ 36.625 -13.375 41.015625 -8.765625 \r\nQ 45.40625 -4.15625 45.40625 5.171875 \r\nL 45.40625 9.625 \r\nQ 42.625 4.78125 38.28125 2.390625 \r\nQ 33.9375 0 27.875 0 \r\nQ 17.828125 0 11.671875 7.65625 \r\nQ 5.515625 15.328125 5.515625 27.984375 \r\nQ 5.515625 40.671875 11.671875 48.328125 \r\nQ 17.828125 56 27.875 56 \r\nQ 33.9375 56 38.28125 53.609375 \r\nQ 42.625 51.21875 45.40625 46.390625 \r\nL 45.40625 54.6875 \r\nL 54.390625 54.6875 \r\nz\r\n\" id=\"DejaVuSans-103\"/>\r\n     </defs>\r\n     <g transform=\"translate(507.126563 56.953906)scale(0.1 -0.1)\">\r\n      <use xlink:href=\"#DejaVuSans-65\"/>\r\n      <use x=\"68.408203\" xlink:href=\"#DejaVuSans-108\"/>\r\n      <use x=\"96.191406\" xlink:href=\"#DejaVuSans-108\"/>\r\n      <use x=\"123.974609\" xlink:href=\"#DejaVuSans-105\"/>\r\n      <use x=\"151.757812\" xlink:href=\"#DejaVuSans-101\"/>\r\n      <use x=\"213.28125\" xlink:href=\"#DejaVuSans-32\"/>\r\n      <use x=\"245.068359\" xlink:href=\"#DejaVuSans-81\"/>\r\n      <use x=\"323.779297\" xlink:href=\"#DejaVuSans-117\"/>\r\n      <use x=\"387.158203\" xlink:href=\"#DejaVuSans-105\"/>\r\n      <use x=\"414.941406\" xlink:href=\"#DejaVuSans-103\"/>\r\n      <use x=\"478.417969\" xlink:href=\"#DejaVuSans-108\"/>\r\n      <use x=\"506.201172\" xlink:href=\"#DejaVuSans-101\"/>\r\n      <use x=\"567.724609\" xlink:href=\"#DejaVuSans-121\"/>\r\n     </g>\r\n    </g>\r\n    <g id=\"PathCollection_21\">\r\n     <g>\r\n      <use style=\"fill:#808080;stroke:#808080;\" x=\"489.126563\" xlink:href=\"#m3459b06068\" y=\"69.007031\"/>\r\n     </g>\r\n    </g>\r\n    <g id=\"text_18\">\r\n     <!-- Courtney Williams -->\r\n     <defs>\r\n      <path d=\"M 64.40625 67.28125 \r\nL 64.40625 56.890625 \r\nQ 59.421875 61.53125 53.78125 63.8125 \r\nQ 48.140625 66.109375 41.796875 66.109375 \r\nQ 29.296875 66.109375 22.65625 58.46875 \r\nQ 16.015625 50.828125 16.015625 36.375 \r\nQ 16.015625 21.96875 22.65625 14.328125 \r\nQ 29.296875 6.6875 41.796875 6.6875 \r\nQ 48.140625 6.6875 53.78125 8.984375 \r\nQ 59.421875 11.28125 64.40625 15.921875 \r\nL 64.40625 5.609375 \r\nQ 59.234375 2.09375 53.4375 0.328125 \r\nQ 47.65625 -1.421875 41.21875 -1.421875 \r\nQ 24.65625 -1.421875 15.125 8.703125 \r\nQ 5.609375 18.84375 5.609375 36.375 \r\nQ 5.609375 53.953125 15.125 64.078125 \r\nQ 24.65625 74.21875 41.21875 74.21875 \r\nQ 47.75 74.21875 53.53125 72.484375 \r\nQ 59.328125 70.75 64.40625 67.28125 \r\nz\r\n\" id=\"DejaVuSans-67\"/>\r\n      <path d=\"M 41.109375 46.296875 \r\nQ 39.59375 47.171875 37.8125 47.578125 \r\nQ 36.03125 48 33.890625 48 \r\nQ 26.265625 48 22.1875 43.046875 \r\nQ 18.109375 38.09375 18.109375 28.8125 \r\nL 18.109375 0 \r\nL 9.078125 0 \r\nL 9.078125 54.6875 \r\nL 18.109375 54.6875 \r\nL 18.109375 46.1875 \r\nQ 20.953125 51.171875 25.484375 53.578125 \r\nQ 30.03125 56 36.53125 56 \r\nQ 37.453125 56 38.578125 55.875 \r\nQ 39.703125 55.765625 41.0625 55.515625 \r\nz\r\n\" id=\"DejaVuSans-114\"/>\r\n      <path d=\"M 54.890625 33.015625 \r\nL 54.890625 0 \r\nL 45.90625 0 \r\nL 45.90625 32.71875 \r\nQ 45.90625 40.484375 42.875 44.328125 \r\nQ 39.84375 48.1875 33.796875 48.1875 \r\nQ 26.515625 48.1875 22.3125 43.546875 \r\nQ 18.109375 38.921875 18.109375 30.90625 \r\nL 18.109375 0 \r\nL 9.078125 0 \r\nL 9.078125 54.6875 \r\nL 18.109375 54.6875 \r\nL 18.109375 46.1875 \r\nQ 21.34375 51.125 25.703125 53.5625 \r\nQ 30.078125 56 35.796875 56 \r\nQ 45.21875 56 50.046875 50.171875 \r\nQ 54.890625 44.34375 54.890625 33.015625 \r\nz\r\n\" id=\"DejaVuSans-110\"/>\r\n      <path d=\"M 3.328125 72.90625 \r\nL 13.28125 72.90625 \r\nL 28.609375 11.28125 \r\nL 43.890625 72.90625 \r\nL 54.984375 72.90625 \r\nL 70.3125 11.28125 \r\nL 85.59375 72.90625 \r\nL 95.609375 72.90625 \r\nL 77.296875 0 \r\nL 64.890625 0 \r\nL 49.515625 63.28125 \r\nL 33.984375 0 \r\nL 21.578125 0 \r\nz\r\n\" id=\"DejaVuSans-87\"/>\r\n      <path d=\"M 52 44.1875 \r\nQ 55.375 50.25 60.0625 53.125 \r\nQ 64.75 56 71.09375 56 \r\nQ 79.640625 56 84.28125 50.015625 \r\nQ 88.921875 44.046875 88.921875 33.015625 \r\nL 88.921875 0 \r\nL 79.890625 0 \r\nL 79.890625 32.71875 \r\nQ 79.890625 40.578125 77.09375 44.375 \r\nQ 74.3125 48.1875 68.609375 48.1875 \r\nQ 61.625 48.1875 57.5625 43.546875 \r\nQ 53.515625 38.921875 53.515625 30.90625 \r\nL 53.515625 0 \r\nL 44.484375 0 \r\nL 44.484375 32.71875 \r\nQ 44.484375 40.625 41.703125 44.40625 \r\nQ 38.921875 48.1875 33.109375 48.1875 \r\nQ 26.21875 48.1875 22.15625 43.53125 \r\nQ 18.109375 38.875 18.109375 30.90625 \r\nL 18.109375 0 \r\nL 9.078125 0 \r\nL 9.078125 54.6875 \r\nL 18.109375 54.6875 \r\nL 18.109375 46.1875 \r\nQ 21.1875 51.21875 25.484375 53.609375 \r\nQ 29.78125 56 35.6875 56 \r\nQ 41.65625 56 45.828125 52.96875 \r\nQ 50 49.953125 52 44.1875 \r\nz\r\n\" id=\"DejaVuSans-109\"/>\r\n      <path d=\"M 44.28125 53.078125 \r\nL 44.28125 44.578125 \r\nQ 40.484375 46.53125 36.375 47.5 \r\nQ 32.28125 48.484375 27.875 48.484375 \r\nQ 21.1875 48.484375 17.84375 46.4375 \r\nQ 14.5 44.390625 14.5 40.28125 \r\nQ 14.5 37.15625 16.890625 35.375 \r\nQ 19.28125 33.59375 26.515625 31.984375 \r\nL 29.59375 31.296875 \r\nQ 39.15625 29.25 43.1875 25.515625 \r\nQ 47.21875 21.78125 47.21875 15.09375 \r\nQ 47.21875 7.46875 41.1875 3.015625 \r\nQ 35.15625 -1.421875 24.609375 -1.421875 \r\nQ 20.21875 -1.421875 15.453125 -0.5625 \r\nQ 10.6875 0.296875 5.421875 2 \r\nL 5.421875 11.28125 \r\nQ 10.40625 8.6875 15.234375 7.390625 \r\nQ 20.0625 6.109375 24.8125 6.109375 \r\nQ 31.15625 6.109375 34.5625 8.28125 \r\nQ 37.984375 10.453125 37.984375 14.40625 \r\nQ 37.984375 18.0625 35.515625 20.015625 \r\nQ 33.0625 21.96875 24.703125 23.78125 \r\nL 21.578125 24.515625 \r\nQ 13.234375 26.265625 9.515625 29.90625 \r\nQ 5.8125 33.546875 5.8125 39.890625 \r\nQ 5.8125 47.609375 11.28125 51.796875 \r\nQ 16.75 56 26.8125 56 \r\nQ 31.78125 56 36.171875 55.265625 \r\nQ 40.578125 54.546875 44.28125 53.078125 \r\nz\r\n\" id=\"DejaVuSans-115\"/>\r\n     </defs>\r\n     <g transform=\"translate(507.126563 71.632031)scale(0.1 -0.1)\">\r\n      <use xlink:href=\"#DejaVuSans-67\"/>\r\n      <use x=\"69.824219\" xlink:href=\"#DejaVuSans-111\"/>\r\n      <use x=\"131.005859\" xlink:href=\"#DejaVuSans-117\"/>\r\n      <use x=\"194.384766\" xlink:href=\"#DejaVuSans-114\"/>\r\n      <use x=\"235.498047\" xlink:href=\"#DejaVuSans-116\"/>\r\n      <use x=\"274.707031\" xlink:href=\"#DejaVuSans-110\"/>\r\n      <use x=\"338.085938\" xlink:href=\"#DejaVuSans-101\"/>\r\n      <use x=\"399.609375\" xlink:href=\"#DejaVuSans-121\"/>\r\n      <use x=\"458.789062\" xlink:href=\"#DejaVuSans-32\"/>\r\n      <use x=\"490.576172\" xlink:href=\"#DejaVuSans-87\"/>\r\n      <use x=\"587.203125\" xlink:href=\"#DejaVuSans-105\"/>\r\n      <use x=\"614.986328\" xlink:href=\"#DejaVuSans-108\"/>\r\n      <use x=\"642.769531\" xlink:href=\"#DejaVuSans-108\"/>\r\n      <use x=\"670.552734\" xlink:href=\"#DejaVuSans-105\"/>\r\n      <use x=\"698.335938\" xlink:href=\"#DejaVuSans-97\"/>\r\n      <use x=\"759.615234\" xlink:href=\"#DejaVuSans-109\"/>\r\n      <use x=\"857.027344\" xlink:href=\"#DejaVuSans-115\"/>\r\n     </g>\r\n    </g>\r\n    <g id=\"PathCollection_22\">\r\n     <g>\r\n      <use style=\"stroke:#000000;\" x=\"489.126563\" xlink:href=\"#m3d8459c7c9\" y=\"83.685156\"/>\r\n     </g>\r\n    </g>\r\n    <g id=\"text_19\">\r\n     <!-- Kayla McBride -->\r\n     <defs>\r\n      <path d=\"M 9.8125 72.90625 \r\nL 19.671875 72.90625 \r\nL 19.671875 42.09375 \r\nL 52.390625 72.90625 \r\nL 65.09375 72.90625 \r\nL 28.90625 38.921875 \r\nL 67.671875 0 \r\nL 54.6875 0 \r\nL 19.671875 35.109375 \r\nL 19.671875 0 \r\nL 9.8125 0 \r\nz\r\n\" id=\"DejaVuSans-75\"/>\r\n      <path d=\"M 9.8125 72.90625 \r\nL 24.515625 72.90625 \r\nL 43.109375 23.296875 \r\nL 61.8125 72.90625 \r\nL 76.515625 72.90625 \r\nL 76.515625 0 \r\nL 66.890625 0 \r\nL 66.890625 64.015625 \r\nL 48.09375 14.015625 \r\nL 38.1875 14.015625 \r\nL 19.390625 64.015625 \r\nL 19.390625 0 \r\nL 9.8125 0 \r\nz\r\n\" id=\"DejaVuSans-77\"/>\r\n      <path d=\"M 48.78125 52.59375 \r\nL 48.78125 44.1875 \r\nQ 44.96875 46.296875 41.140625 47.34375 \r\nQ 37.3125 48.390625 33.40625 48.390625 \r\nQ 24.65625 48.390625 19.8125 42.84375 \r\nQ 14.984375 37.3125 14.984375 27.296875 \r\nQ 14.984375 17.28125 19.8125 11.734375 \r\nQ 24.65625 6.203125 33.40625 6.203125 \r\nQ 37.3125 6.203125 41.140625 7.25 \r\nQ 44.96875 8.296875 48.78125 10.40625 \r\nL 48.78125 2.09375 \r\nQ 45.015625 0.34375 40.984375 -0.53125 \r\nQ 36.96875 -1.421875 32.421875 -1.421875 \r\nQ 20.0625 -1.421875 12.78125 6.34375 \r\nQ 5.515625 14.109375 5.515625 27.296875 \r\nQ 5.515625 40.671875 12.859375 48.328125 \r\nQ 20.21875 56 33.015625 56 \r\nQ 37.15625 56 41.109375 55.140625 \r\nQ 45.0625 54.296875 48.78125 52.59375 \r\nz\r\n\" id=\"DejaVuSans-99\"/>\r\n      <path d=\"M 19.671875 34.8125 \r\nL 19.671875 8.109375 \r\nL 35.5 8.109375 \r\nQ 43.453125 8.109375 47.28125 11.40625 \r\nQ 51.125 14.703125 51.125 21.484375 \r\nQ 51.125 28.328125 47.28125 31.5625 \r\nQ 43.453125 34.8125 35.5 34.8125 \r\nz\r\nM 19.671875 64.796875 \r\nL 19.671875 42.828125 \r\nL 34.28125 42.828125 \r\nQ 41.5 42.828125 45.03125 45.53125 \r\nQ 48.578125 48.25 48.578125 53.8125 \r\nQ 48.578125 59.328125 45.03125 62.0625 \r\nQ 41.5 64.796875 34.28125 64.796875 \r\nz\r\nM 9.8125 72.90625 \r\nL 35.015625 72.90625 \r\nQ 46.296875 72.90625 52.390625 68.21875 \r\nQ 58.5 63.53125 58.5 54.890625 \r\nQ 58.5 48.1875 55.375 44.234375 \r\nQ 52.25 40.28125 46.1875 39.3125 \r\nQ 53.46875 37.75 57.5 32.78125 \r\nQ 61.53125 27.828125 61.53125 20.40625 \r\nQ 61.53125 10.640625 54.890625 5.3125 \r\nQ 48.25 0 35.984375 0 \r\nL 9.8125 0 \r\nz\r\n\" id=\"DejaVuSans-66\"/>\r\n     </defs>\r\n     <g transform=\"translate(507.126563 86.310156)scale(0.1 -0.1)\">\r\n      <use xlink:href=\"#DejaVuSans-75\"/>\r\n      <use x=\"63.826172\" xlink:href=\"#DejaVuSans-97\"/>\r\n      <use x=\"125.105469\" xlink:href=\"#DejaVuSans-121\"/>\r\n      <use x=\"184.285156\" xlink:href=\"#DejaVuSans-108\"/>\r\n      <use x=\"212.068359\" xlink:href=\"#DejaVuSans-97\"/>\r\n      <use x=\"273.347656\" xlink:href=\"#DejaVuSans-32\"/>\r\n      <use x=\"305.134766\" xlink:href=\"#DejaVuSans-77\"/>\r\n      <use x=\"391.414062\" xlink:href=\"#DejaVuSans-99\"/>\r\n      <use x=\"446.394531\" xlink:href=\"#DejaVuSans-66\"/>\r\n      <use x=\"514.998047\" xlink:href=\"#DejaVuSans-114\"/>\r\n      <use x=\"556.111328\" xlink:href=\"#DejaVuSans-105\"/>\r\n      <use x=\"583.894531\" xlink:href=\"#DejaVuSans-100\"/>\r\n      <use x=\"647.371094\" xlink:href=\"#DejaVuSans-101\"/>\r\n     </g>\r\n    </g>\r\n    <g id=\"PathCollection_23\">\r\n     <g>\r\n      <use style=\"fill:#ffc0cb;stroke:#ffc0cb;\" x=\"489.126563\" xlink:href=\"#m2d2ca0a9f9\" y=\"98.363281\"/>\r\n     </g>\r\n    </g>\r\n    <g id=\"text_20\">\r\n     <!-- Aja Wilson and Allie Quigley -->\r\n     <defs>\r\n      <path d=\"M 9.421875 54.6875 \r\nL 18.40625 54.6875 \r\nL 18.40625 -0.984375 \r\nQ 18.40625 -11.421875 14.421875 -16.109375 \r\nQ 10.453125 -20.796875 1.609375 -20.796875 \r\nL -1.8125 -20.796875 \r\nL -1.8125 -13.1875 \r\nL 0.59375 -13.1875 \r\nQ 5.71875 -13.1875 7.5625 -10.8125 \r\nQ 9.421875 -8.453125 9.421875 -0.984375 \r\nz\r\nM 9.421875 75.984375 \r\nL 18.40625 75.984375 \r\nL 18.40625 64.59375 \r\nL 9.421875 64.59375 \r\nz\r\n\" id=\"DejaVuSans-106\"/>\r\n     </defs>\r\n     <g transform=\"translate(507.126563 100.988281)scale(0.1 -0.1)\">\r\n      <use xlink:href=\"#DejaVuSans-65\"/>\r\n      <use x=\"68.408203\" xlink:href=\"#DejaVuSans-106\"/>\r\n      <use x=\"96.191406\" xlink:href=\"#DejaVuSans-97\"/>\r\n      <use x=\"157.470703\" xlink:href=\"#DejaVuSans-32\"/>\r\n      <use x=\"189.257812\" xlink:href=\"#DejaVuSans-87\"/>\r\n      <use x=\"285.884766\" xlink:href=\"#DejaVuSans-105\"/>\r\n      <use x=\"313.667969\" xlink:href=\"#DejaVuSans-108\"/>\r\n      <use x=\"341.451172\" xlink:href=\"#DejaVuSans-115\"/>\r\n      <use x=\"393.550781\" xlink:href=\"#DejaVuSans-111\"/>\r\n      <use x=\"454.732422\" xlink:href=\"#DejaVuSans-110\"/>\r\n      <use x=\"518.111328\" xlink:href=\"#DejaVuSans-32\"/>\r\n      <use x=\"549.898438\" xlink:href=\"#DejaVuSans-97\"/>\r\n      <use x=\"611.177734\" xlink:href=\"#DejaVuSans-110\"/>\r\n      <use x=\"674.556641\" xlink:href=\"#DejaVuSans-100\"/>\r\n      <use x=\"738.033203\" xlink:href=\"#DejaVuSans-32\"/>\r\n      <use x=\"769.820312\" xlink:href=\"#DejaVuSans-65\"/>\r\n      <use x=\"838.228516\" xlink:href=\"#DejaVuSans-108\"/>\r\n      <use x=\"866.011719\" xlink:href=\"#DejaVuSans-108\"/>\r\n      <use x=\"893.794922\" xlink:href=\"#DejaVuSans-105\"/>\r\n      <use x=\"921.578125\" xlink:href=\"#DejaVuSans-101\"/>\r\n      <use x=\"983.101562\" xlink:href=\"#DejaVuSans-32\"/>\r\n      <use x=\"1014.888672\" xlink:href=\"#DejaVuSans-81\"/>\r\n      <use x=\"1093.599609\" xlink:href=\"#DejaVuSans-117\"/>\r\n      <use x=\"1156.978516\" xlink:href=\"#DejaVuSans-105\"/>\r\n      <use x=\"1184.761719\" xlink:href=\"#DejaVuSans-103\"/>\r\n      <use x=\"1248.238281\" xlink:href=\"#DejaVuSans-108\"/>\r\n      <use x=\"1276.021484\" xlink:href=\"#DejaVuSans-101\"/>\r\n      <use x=\"1337.544922\" xlink:href=\"#DejaVuSans-121\"/>\r\n     </g>\r\n    </g>\r\n    <g id=\"PathCollection_24\">\r\n     <g>\r\n      <use style=\"fill:#808080;stroke:#808080;\" x=\"489.126563\" xlink:href=\"#m3459b06068\" y=\"113.041406\"/>\r\n     </g>\r\n    </g>\r\n    <g id=\"text_21\">\r\n     <!-- Courtney Williams -->\r\n     <g transform=\"translate(507.126563 115.666406)scale(0.1 -0.1)\">\r\n      <use xlink:href=\"#DejaVuSans-67\"/>\r\n      <use x=\"69.824219\" xlink:href=\"#DejaVuSans-111\"/>\r\n      <use x=\"131.005859\" xlink:href=\"#DejaVuSans-117\"/>\r\n      <use x=\"194.384766\" xlink:href=\"#DejaVuSans-114\"/>\r\n      <use x=\"235.498047\" xlink:href=\"#DejaVuSans-116\"/>\r\n      <use x=\"274.707031\" xlink:href=\"#DejaVuSans-110\"/>\r\n      <use x=\"338.085938\" xlink:href=\"#DejaVuSans-101\"/>\r\n      <use x=\"399.609375\" xlink:href=\"#DejaVuSans-121\"/>\r\n      <use x=\"458.789062\" xlink:href=\"#DejaVuSans-32\"/>\r\n      <use x=\"490.576172\" xlink:href=\"#DejaVuSans-87\"/>\r\n      <use x=\"587.203125\" xlink:href=\"#DejaVuSans-105\"/>\r\n      <use x=\"614.986328\" xlink:href=\"#DejaVuSans-108\"/>\r\n      <use x=\"642.769531\" xlink:href=\"#DejaVuSans-108\"/>\r\n      <use x=\"670.552734\" xlink:href=\"#DejaVuSans-105\"/>\r\n      <use x=\"698.335938\" xlink:href=\"#DejaVuSans-97\"/>\r\n      <use x=\"759.615234\" xlink:href=\"#DejaVuSans-109\"/>\r\n      <use x=\"857.027344\" xlink:href=\"#DejaVuSans-115\"/>\r\n     </g>\r\n    </g>\r\n    <g id=\"PathCollection_25\">\r\n     <g>\r\n      <use style=\"fill:#808080;stroke:#808080;\" x=\"489.126563\" xlink:href=\"#m3459b06068\" y=\"127.719531\"/>\r\n     </g>\r\n    </g>\r\n    <g id=\"text_22\">\r\n     <!-- Courtney Williams -->\r\n     <g transform=\"translate(507.126563 130.344531)scale(0.1 -0.1)\">\r\n      <use xlink:href=\"#DejaVuSans-67\"/>\r\n      <use x=\"69.824219\" xlink:href=\"#DejaVuSans-111\"/>\r\n      <use x=\"131.005859\" xlink:href=\"#DejaVuSans-117\"/>\r\n      <use x=\"194.384766\" xlink:href=\"#DejaVuSans-114\"/>\r\n      <use x=\"235.498047\" xlink:href=\"#DejaVuSans-116\"/>\r\n      <use x=\"274.707031\" xlink:href=\"#DejaVuSans-110\"/>\r\n      <use x=\"338.085938\" xlink:href=\"#DejaVuSans-101\"/>\r\n      <use x=\"399.609375\" xlink:href=\"#DejaVuSans-121\"/>\r\n      <use x=\"458.789062\" xlink:href=\"#DejaVuSans-32\"/>\r\n      <use x=\"490.576172\" xlink:href=\"#DejaVuSans-87\"/>\r\n      <use x=\"587.203125\" xlink:href=\"#DejaVuSans-105\"/>\r\n      <use x=\"614.986328\" xlink:href=\"#DejaVuSans-108\"/>\r\n      <use x=\"642.769531\" xlink:href=\"#DejaVuSans-108\"/>\r\n      <use x=\"670.552734\" xlink:href=\"#DejaVuSans-105\"/>\r\n      <use x=\"698.335938\" xlink:href=\"#DejaVuSans-97\"/>\r\n      <use x=\"759.615234\" xlink:href=\"#DejaVuSans-109\"/>\r\n      <use x=\"857.027344\" xlink:href=\"#DejaVuSans-115\"/>\r\n     </g>\r\n    </g>\r\n    <g id=\"PathCollection_26\">\r\n     <g>\r\n      <use style=\"fill:#ffc0cb;stroke:#ffc0cb;\" x=\"489.126563\" xlink:href=\"#m2d2ca0a9f9\" y=\"142.397656\"/>\r\n     </g>\r\n    </g>\r\n    <g id=\"text_23\">\r\n     <!-- Chennedy Carter and Napheesa Collier -->\r\n     <defs>\r\n      <path d=\"M 54.890625 33.015625 \r\nL 54.890625 0 \r\nL 45.90625 0 \r\nL 45.90625 32.71875 \r\nQ 45.90625 40.484375 42.875 44.328125 \r\nQ 39.84375 48.1875 33.796875 48.1875 \r\nQ 26.515625 48.1875 22.3125 43.546875 \r\nQ 18.109375 38.921875 18.109375 30.90625 \r\nL 18.109375 0 \r\nL 9.078125 0 \r\nL 9.078125 75.984375 \r\nL 18.109375 75.984375 \r\nL 18.109375 46.1875 \r\nQ 21.34375 51.125 25.703125 53.5625 \r\nQ 30.078125 56 35.796875 56 \r\nQ 45.21875 56 50.046875 50.171875 \r\nQ 54.890625 44.34375 54.890625 33.015625 \r\nz\r\n\" id=\"DejaVuSans-104\"/>\r\n      <path d=\"M 9.8125 72.90625 \r\nL 23.09375 72.90625 \r\nL 55.421875 11.921875 \r\nL 55.421875 72.90625 \r\nL 64.984375 72.90625 \r\nL 64.984375 0 \r\nL 51.703125 0 \r\nL 19.390625 60.984375 \r\nL 19.390625 0 \r\nL 9.8125 0 \r\nz\r\n\" id=\"DejaVuSans-78\"/>\r\n      <path d=\"M 18.109375 8.203125 \r\nL 18.109375 -20.796875 \r\nL 9.078125 -20.796875 \r\nL 9.078125 54.6875 \r\nL 18.109375 54.6875 \r\nL 18.109375 46.390625 \r\nQ 20.953125 51.265625 25.265625 53.625 \r\nQ 29.59375 56 35.59375 56 \r\nQ 45.5625 56 51.78125 48.09375 \r\nQ 58.015625 40.1875 58.015625 27.296875 \r\nQ 58.015625 14.40625 51.78125 6.484375 \r\nQ 45.5625 -1.421875 35.59375 -1.421875 \r\nQ 29.59375 -1.421875 25.265625 0.953125 \r\nQ 20.953125 3.328125 18.109375 8.203125 \r\nz\r\nM 48.6875 27.296875 \r\nQ 48.6875 37.203125 44.609375 42.84375 \r\nQ 40.53125 48.484375 33.40625 48.484375 \r\nQ 26.265625 48.484375 22.1875 42.84375 \r\nQ 18.109375 37.203125 18.109375 27.296875 \r\nQ 18.109375 17.390625 22.1875 11.75 \r\nQ 26.265625 6.109375 33.40625 6.109375 \r\nQ 40.53125 6.109375 44.609375 11.75 \r\nQ 48.6875 17.390625 48.6875 27.296875 \r\nz\r\n\" id=\"DejaVuSans-112\"/>\r\n     </defs>\r\n     <g transform=\"translate(507.126563 145.022656)scale(0.1 -0.1)\">\r\n      <use xlink:href=\"#DejaVuSans-67\"/>\r\n      <use x=\"69.824219\" xlink:href=\"#DejaVuSans-104\"/>\r\n      <use x=\"133.203125\" xlink:href=\"#DejaVuSans-101\"/>\r\n      <use x=\"194.726562\" xlink:href=\"#DejaVuSans-110\"/>\r\n      <use x=\"258.105469\" xlink:href=\"#DejaVuSans-110\"/>\r\n      <use x=\"321.484375\" xlink:href=\"#DejaVuSans-101\"/>\r\n      <use x=\"383.007812\" xlink:href=\"#DejaVuSans-100\"/>\r\n      <use x=\"446.484375\" xlink:href=\"#DejaVuSans-121\"/>\r\n      <use x=\"505.664062\" xlink:href=\"#DejaVuSans-32\"/>\r\n      <use x=\"537.451172\" xlink:href=\"#DejaVuSans-67\"/>\r\n      <use x=\"607.275391\" xlink:href=\"#DejaVuSans-97\"/>\r\n      <use x=\"668.554688\" xlink:href=\"#DejaVuSans-114\"/>\r\n      <use x=\"709.667969\" xlink:href=\"#DejaVuSans-116\"/>\r\n      <use x=\"748.876953\" xlink:href=\"#DejaVuSans-101\"/>\r\n      <use x=\"810.400391\" xlink:href=\"#DejaVuSans-114\"/>\r\n      <use x=\"851.513672\" xlink:href=\"#DejaVuSans-32\"/>\r\n      <use x=\"883.300781\" xlink:href=\"#DejaVuSans-97\"/>\r\n      <use x=\"944.580078\" xlink:href=\"#DejaVuSans-110\"/>\r\n      <use x=\"1007.958984\" xlink:href=\"#DejaVuSans-100\"/>\r\n      <use x=\"1071.435547\" xlink:href=\"#DejaVuSans-32\"/>\r\n      <use x=\"1103.222656\" xlink:href=\"#DejaVuSans-78\"/>\r\n      <use x=\"1178.027344\" xlink:href=\"#DejaVuSans-97\"/>\r\n      <use x=\"1239.306641\" xlink:href=\"#DejaVuSans-112\"/>\r\n      <use x=\"1302.783203\" xlink:href=\"#DejaVuSans-104\"/>\r\n      <use x=\"1366.162109\" xlink:href=\"#DejaVuSans-101\"/>\r\n      <use x=\"1427.685547\" xlink:href=\"#DejaVuSans-101\"/>\r\n      <use x=\"1489.208984\" xlink:href=\"#DejaVuSans-115\"/>\r\n      <use x=\"1541.308594\" xlink:href=\"#DejaVuSans-97\"/>\r\n      <use x=\"1602.587891\" xlink:href=\"#DejaVuSans-32\"/>\r\n      <use x=\"1634.375\" xlink:href=\"#DejaVuSans-67\"/>\r\n      <use x=\"1704.199219\" xlink:href=\"#DejaVuSans-111\"/>\r\n      <use x=\"1765.380859\" xlink:href=\"#DejaVuSans-108\"/>\r\n      <use x=\"1793.164062\" xlink:href=\"#DejaVuSans-108\"/>\r\n      <use x=\"1820.947266\" xlink:href=\"#DejaVuSans-105\"/>\r\n      <use x=\"1848.730469\" xlink:href=\"#DejaVuSans-101\"/>\r\n      <use x=\"1910.253906\" xlink:href=\"#DejaVuSans-114\"/>\r\n     </g>\r\n    </g>\r\n    <g id=\"PathCollection_27\">\r\n     <g>\r\n      <use style=\"fill:#ffa500;stroke:#ffa500;\" x=\"489.126563\" xlink:href=\"#m8a4df93cd7\" y=\"157.075781\"/>\r\n     </g>\r\n    </g>\r\n    <g id=\"text_24\">\r\n     <!-- Candice Dupree -->\r\n     <defs>\r\n      <path d=\"M 19.671875 64.796875 \r\nL 19.671875 8.109375 \r\nL 31.59375 8.109375 \r\nQ 46.6875 8.109375 53.6875 14.9375 \r\nQ 60.6875 21.78125 60.6875 36.53125 \r\nQ 60.6875 51.171875 53.6875 57.984375 \r\nQ 46.6875 64.796875 31.59375 64.796875 \r\nz\r\nM 9.8125 72.90625 \r\nL 30.078125 72.90625 \r\nQ 51.265625 72.90625 61.171875 64.09375 \r\nQ 71.09375 55.28125 71.09375 36.53125 \r\nQ 71.09375 17.671875 61.125 8.828125 \r\nQ 51.171875 0 30.078125 0 \r\nL 9.8125 0 \r\nz\r\n\" id=\"DejaVuSans-68\"/>\r\n     </defs>\r\n     <g transform=\"translate(507.126563 159.700781)scale(0.1 -0.1)\">\r\n      <use xlink:href=\"#DejaVuSans-67\"/>\r\n      <use x=\"69.824219\" xlink:href=\"#DejaVuSans-97\"/>\r\n      <use x=\"131.103516\" xlink:href=\"#DejaVuSans-110\"/>\r\n      <use x=\"194.482422\" xlink:href=\"#DejaVuSans-100\"/>\r\n      <use x=\"257.958984\" xlink:href=\"#DejaVuSans-105\"/>\r\n      <use x=\"285.742188\" xlink:href=\"#DejaVuSans-99\"/>\r\n      <use x=\"340.722656\" xlink:href=\"#DejaVuSans-101\"/>\r\n      <use x=\"402.246094\" xlink:href=\"#DejaVuSans-32\"/>\r\n      <use x=\"434.033203\" xlink:href=\"#DejaVuSans-68\"/>\r\n      <use x=\"511.035156\" xlink:href=\"#DejaVuSans-117\"/>\r\n      <use x=\"574.414062\" xlink:href=\"#DejaVuSans-112\"/>\r\n      <use x=\"637.890625\" xlink:href=\"#DejaVuSans-114\"/>\r\n      <use x=\"676.753906\" xlink:href=\"#DejaVuSans-101\"/>\r\n      <use x=\"738.277344\" xlink:href=\"#DejaVuSans-101\"/>\r\n     </g>\r\n    </g>\r\n    <g id=\"PathCollection_28\">\r\n     <g>\r\n      <use style=\"fill:#800080;stroke:#800080;\" x=\"489.126563\" xlink:href=\"#m5791f1a4cc\" y=\"171.753906\"/>\r\n     </g>\r\n    </g>\r\n    <g id=\"text_25\">\r\n     <!-- Alyssa Thomas -->\r\n     <defs>\r\n      <path d=\"M -0.296875 72.90625 \r\nL 61.375 72.90625 \r\nL 61.375 64.59375 \r\nL 35.5 64.59375 \r\nL 35.5 0 \r\nL 25.59375 0 \r\nL 25.59375 64.59375 \r\nL -0.296875 64.59375 \r\nz\r\n\" id=\"DejaVuSans-84\"/>\r\n     </defs>\r\n     <g transform=\"translate(507.126563 174.378906)scale(0.1 -0.1)\">\r\n      <use xlink:href=\"#DejaVuSans-65\"/>\r\n      <use x=\"68.408203\" xlink:href=\"#DejaVuSans-108\"/>\r\n      <use x=\"96.191406\" xlink:href=\"#DejaVuSans-121\"/>\r\n      <use x=\"155.371094\" xlink:href=\"#DejaVuSans-115\"/>\r\n      <use x=\"207.470703\" xlink:href=\"#DejaVuSans-115\"/>\r\n      <use x=\"259.570312\" xlink:href=\"#DejaVuSans-97\"/>\r\n      <use x=\"320.849609\" xlink:href=\"#DejaVuSans-32\"/>\r\n      <use x=\"352.636719\" xlink:href=\"#DejaVuSans-84\"/>\r\n      <use x=\"413.720703\" xlink:href=\"#DejaVuSans-104\"/>\r\n      <use x=\"477.099609\" xlink:href=\"#DejaVuSans-111\"/>\r\n      <use x=\"538.28125\" xlink:href=\"#DejaVuSans-109\"/>\r\n      <use x=\"635.693359\" xlink:href=\"#DejaVuSans-97\"/>\r\n      <use x=\"696.972656\" xlink:href=\"#DejaVuSans-115\"/>\r\n     </g>\r\n    </g>\r\n    <g id=\"PathCollection_29\">\r\n     <g>\r\n      <use style=\"fill:#a52a2a;stroke:#a52a2a;\" x=\"489.126563\" xlink:href=\"#m81def63863\" y=\"186.432031\"/>\r\n     </g>\r\n    </g>\r\n    <g id=\"text_26\">\r\n     <!-- Napheesa Collier -->\r\n     <g transform=\"translate(507.126563 189.057031)scale(0.1 -0.1)\">\r\n      <use xlink:href=\"#DejaVuSans-78\"/>\r\n      <use x=\"74.804688\" xlink:href=\"#DejaVuSans-97\"/>\r\n      <use x=\"136.083984\" xlink:href=\"#DejaVuSans-112\"/>\r\n      <use x=\"199.560547\" xlink:href=\"#DejaVuSans-104\"/>\r\n      <use x=\"262.939453\" xlink:href=\"#DejaVuSans-101\"/>\r\n      <use x=\"324.462891\" xlink:href=\"#DejaVuSans-101\"/>\r\n      <use x=\"385.986328\" xlink:href=\"#DejaVuSans-115\"/>\r\n      <use x=\"438.085938\" xlink:href=\"#DejaVuSans-97\"/>\r\n      <use x=\"499.365234\" xlink:href=\"#DejaVuSans-32\"/>\r\n      <use x=\"531.152344\" xlink:href=\"#DejaVuSans-67\"/>\r\n      <use x=\"600.976562\" xlink:href=\"#DejaVuSans-111\"/>\r\n      <use x=\"662.158203\" xlink:href=\"#DejaVuSans-108\"/>\r\n      <use x=\"689.941406\" xlink:href=\"#DejaVuSans-108\"/>\r\n      <use x=\"717.724609\" xlink:href=\"#DejaVuSans-105\"/>\r\n      <use x=\"745.507812\" xlink:href=\"#DejaVuSans-101\"/>\r\n      <use x=\"807.03125\" xlink:href=\"#DejaVuSans-114\"/>\r\n     </g>\r\n    </g>\r\n    <g id=\"PathCollection_30\">\r\n     <g>\r\n      <use style=\"fill:#ffff00;stroke:#ffff00;\" x=\"489.126563\" xlink:href=\"#m04ea1b804b\" y=\"201.110156\"/>\r\n     </g>\r\n    </g>\r\n    <g id=\"text_27\">\r\n     <!-- Emma Messeman -->\r\n     <defs>\r\n      <path d=\"M 9.8125 72.90625 \r\nL 55.90625 72.90625 \r\nL 55.90625 64.59375 \r\nL 19.671875 64.59375 \r\nL 19.671875 43.015625 \r\nL 54.390625 43.015625 \r\nL 54.390625 34.71875 \r\nL 19.671875 34.71875 \r\nL 19.671875 8.296875 \r\nL 56.78125 8.296875 \r\nL 56.78125 0 \r\nL 9.8125 0 \r\nz\r\n\" id=\"DejaVuSans-69\"/>\r\n     </defs>\r\n     <g transform=\"translate(507.126563 203.735156)scale(0.1 -0.1)\">\r\n      <use xlink:href=\"#DejaVuSans-69\"/>\r\n      <use x=\"63.183594\" xlink:href=\"#DejaVuSans-109\"/>\r\n      <use x=\"160.595703\" xlink:href=\"#DejaVuSans-109\"/>\r\n      <use x=\"258.007812\" xlink:href=\"#DejaVuSans-97\"/>\r\n      <use x=\"319.287109\" xlink:href=\"#DejaVuSans-32\"/>\r\n      <use x=\"351.074219\" xlink:href=\"#DejaVuSans-77\"/>\r\n      <use x=\"437.353516\" xlink:href=\"#DejaVuSans-101\"/>\r\n      <use x=\"498.876953\" xlink:href=\"#DejaVuSans-115\"/>\r\n      <use x=\"550.976562\" xlink:href=\"#DejaVuSans-115\"/>\r\n      <use x=\"603.076172\" xlink:href=\"#DejaVuSans-101\"/>\r\n      <use x=\"664.599609\" xlink:href=\"#DejaVuSans-109\"/>\r\n      <use x=\"762.011719\" xlink:href=\"#DejaVuSans-97\"/>\r\n      <use x=\"823.291016\" xlink:href=\"#DejaVuSans-110\"/>\r\n     </g>\r\n    </g>\r\n    <g id=\"PathCollection_31\">\r\n     <g>\r\n      <use style=\"fill:#ffd700;stroke:#ffd700;\" x=\"489.126563\" xlink:href=\"#m801773668e\" y=\"215.788281\"/>\r\n     </g>\r\n    </g>\r\n    <g id=\"text_28\">\r\n     <!-- Dearica Hamby -->\r\n     <defs>\r\n      <path d=\"M 9.8125 72.90625 \r\nL 19.671875 72.90625 \r\nL 19.671875 43.015625 \r\nL 55.515625 43.015625 \r\nL 55.515625 72.90625 \r\nL 65.375 72.90625 \r\nL 65.375 0 \r\nL 55.515625 0 \r\nL 55.515625 34.71875 \r\nL 19.671875 34.71875 \r\nL 19.671875 0 \r\nL 9.8125 0 \r\nz\r\n\" id=\"DejaVuSans-72\"/>\r\n     </defs>\r\n     <g transform=\"translate(507.126563 218.413281)scale(0.1 -0.1)\">\r\n      <use xlink:href=\"#DejaVuSans-68\"/>\r\n      <use x=\"77.001953\" xlink:href=\"#DejaVuSans-101\"/>\r\n      <use x=\"138.525391\" xlink:href=\"#DejaVuSans-97\"/>\r\n      <use x=\"199.804688\" xlink:href=\"#DejaVuSans-114\"/>\r\n      <use x=\"240.917969\" xlink:href=\"#DejaVuSans-105\"/>\r\n      <use x=\"268.701172\" xlink:href=\"#DejaVuSans-99\"/>\r\n      <use x=\"323.681641\" xlink:href=\"#DejaVuSans-97\"/>\r\n      <use x=\"384.960938\" xlink:href=\"#DejaVuSans-32\"/>\r\n      <use x=\"416.748047\" xlink:href=\"#DejaVuSans-72\"/>\r\n      <use x=\"491.943359\" xlink:href=\"#DejaVuSans-97\"/>\r\n      <use x=\"553.222656\" xlink:href=\"#DejaVuSans-109\"/>\r\n      <use x=\"650.634766\" xlink:href=\"#DejaVuSans-98\"/>\r\n      <use x=\"714.111328\" xlink:href=\"#DejaVuSans-121\"/>\r\n     </g>\r\n    </g>\r\n    <g id=\"PathCollection_32\">\r\n     <g>\r\n      <use style=\"fill:#dc143c;stroke:#dc143c;\" x=\"489.126563\" xlink:href=\"#m238fb534c6\" y=\"230.466406\"/>\r\n     </g>\r\n    </g>\r\n    <g id=\"text_29\">\r\n     <!-- Arike Ogunbowale -->\r\n     <defs>\r\n      <path d=\"M 9.078125 75.984375 \r\nL 18.109375 75.984375 \r\nL 18.109375 31.109375 \r\nL 44.921875 54.6875 \r\nL 56.390625 54.6875 \r\nL 27.390625 29.109375 \r\nL 57.625 0 \r\nL 45.90625 0 \r\nL 18.109375 26.703125 \r\nL 18.109375 0 \r\nL 9.078125 0 \r\nz\r\n\" id=\"DejaVuSans-107\"/>\r\n      <path d=\"M 39.40625 66.21875 \r\nQ 28.65625 66.21875 22.328125 58.203125 \r\nQ 16.015625 50.203125 16.015625 36.375 \r\nQ 16.015625 22.609375 22.328125 14.59375 \r\nQ 28.65625 6.59375 39.40625 6.59375 \r\nQ 50.140625 6.59375 56.421875 14.59375 \r\nQ 62.703125 22.609375 62.703125 36.375 \r\nQ 62.703125 50.203125 56.421875 58.203125 \r\nQ 50.140625 66.21875 39.40625 66.21875 \r\nz\r\nM 39.40625 74.21875 \r\nQ 54.734375 74.21875 63.90625 63.9375 \r\nQ 73.09375 53.65625 73.09375 36.375 \r\nQ 73.09375 19.140625 63.90625 8.859375 \r\nQ 54.734375 -1.421875 39.40625 -1.421875 \r\nQ 24.03125 -1.421875 14.8125 8.828125 \r\nQ 5.609375 19.09375 5.609375 36.375 \r\nQ 5.609375 53.65625 14.8125 63.9375 \r\nQ 24.03125 74.21875 39.40625 74.21875 \r\nz\r\n\" id=\"DejaVuSans-79\"/>\r\n     </defs>\r\n     <g transform=\"translate(507.126563 233.091406)scale(0.1 -0.1)\">\r\n      <use xlink:href=\"#DejaVuSans-65\"/>\r\n      <use x=\"68.408203\" xlink:href=\"#DejaVuSans-114\"/>\r\n      <use x=\"109.521484\" xlink:href=\"#DejaVuSans-105\"/>\r\n      <use x=\"137.304688\" xlink:href=\"#DejaVuSans-107\"/>\r\n      <use x=\"191.589844\" xlink:href=\"#DejaVuSans-101\"/>\r\n      <use x=\"253.113281\" xlink:href=\"#DejaVuSans-32\"/>\r\n      <use x=\"284.900391\" xlink:href=\"#DejaVuSans-79\"/>\r\n      <use x=\"363.611328\" xlink:href=\"#DejaVuSans-103\"/>\r\n      <use x=\"427.087891\" xlink:href=\"#DejaVuSans-117\"/>\r\n      <use x=\"490.466797\" xlink:href=\"#DejaVuSans-110\"/>\r\n      <use x=\"553.845703\" xlink:href=\"#DejaVuSans-98\"/>\r\n      <use x=\"617.322266\" xlink:href=\"#DejaVuSans-111\"/>\r\n      <use x=\"678.503906\" xlink:href=\"#DejaVuSans-119\"/>\r\n      <use x=\"760.291016\" xlink:href=\"#DejaVuSans-97\"/>\r\n      <use x=\"821.570312\" xlink:href=\"#DejaVuSans-108\"/>\r\n      <use x=\"849.353516\" xlink:href=\"#DejaVuSans-101\"/>\r\n     </g>\r\n    </g>\r\n    <g id=\"PathCollection_33\">\r\n     <g>\r\n      <use style=\"fill:#808000;stroke:#808000;\" x=\"489.126563\" xlink:href=\"#m105916cd15\" y=\"245.144531\"/>\r\n     </g>\r\n    </g>\r\n    <g id=\"text_30\">\r\n     <!-- Julie Allemand Kelsey_Mitchell  -->\r\n     <defs>\r\n      <path d=\"M 50.984375 -16.609375 \r\nL 50.984375 -23.578125 \r\nL -0.984375 -23.578125 \r\nL -0.984375 -16.609375 \r\nz\r\n\" id=\"DejaVuSans-95\"/>\r\n     </defs>\r\n     <g transform=\"translate(507.126563 247.769531)scale(0.1 -0.1)\">\r\n      <use xlink:href=\"#DejaVuSans-74\"/>\r\n      <use x=\"29.492188\" xlink:href=\"#DejaVuSans-117\"/>\r\n      <use x=\"92.871094\" xlink:href=\"#DejaVuSans-108\"/>\r\n      <use x=\"120.654297\" xlink:href=\"#DejaVuSans-105\"/>\r\n      <use x=\"148.4375\" xlink:href=\"#DejaVuSans-101\"/>\r\n      <use x=\"209.960938\" xlink:href=\"#DejaVuSans-32\"/>\r\n      <use x=\"241.748047\" xlink:href=\"#DejaVuSans-65\"/>\r\n      <use x=\"310.15625\" xlink:href=\"#DejaVuSans-108\"/>\r\n      <use x=\"337.939453\" xlink:href=\"#DejaVuSans-108\"/>\r\n      <use x=\"365.722656\" xlink:href=\"#DejaVuSans-101\"/>\r\n      <use x=\"427.246094\" xlink:href=\"#DejaVuSans-109\"/>\r\n      <use x=\"524.658203\" xlink:href=\"#DejaVuSans-97\"/>\r\n      <use x=\"585.9375\" xlink:href=\"#DejaVuSans-110\"/>\r\n      <use x=\"649.316406\" xlink:href=\"#DejaVuSans-100\"/>\r\n      <use x=\"712.792969\" xlink:href=\"#DejaVuSans-32\"/>\r\n      <use x=\"744.580078\" xlink:href=\"#DejaVuSans-75\"/>\r\n      <use x=\"805.15625\" xlink:href=\"#DejaVuSans-101\"/>\r\n      <use x=\"866.679688\" xlink:href=\"#DejaVuSans-108\"/>\r\n      <use x=\"894.462891\" xlink:href=\"#DejaVuSans-115\"/>\r\n      <use x=\"946.5625\" xlink:href=\"#DejaVuSans-101\"/>\r\n      <use x=\"1008.085938\" xlink:href=\"#DejaVuSans-121\"/>\r\n      <use x=\"1067.265625\" xlink:href=\"#DejaVuSans-95\"/>\r\n      <use x=\"1117.265625\" xlink:href=\"#DejaVuSans-77\"/>\r\n      <use x=\"1203.544922\" xlink:href=\"#DejaVuSans-105\"/>\r\n      <use x=\"1231.328125\" xlink:href=\"#DejaVuSans-116\"/>\r\n      <use x=\"1270.537109\" xlink:href=\"#DejaVuSans-99\"/>\r\n      <use x=\"1325.517578\" xlink:href=\"#DejaVuSans-104\"/>\r\n      <use x=\"1388.896484\" xlink:href=\"#DejaVuSans-101\"/>\r\n      <use x=\"1450.419922\" xlink:href=\"#DejaVuSans-108\"/>\r\n      <use x=\"1478.203125\" xlink:href=\"#DejaVuSans-108\"/>\r\n      <use x=\"1505.986328\" xlink:href=\"#DejaVuSans-32\"/>\r\n     </g>\r\n    </g>\r\n    <g id=\"PathCollection_34\">\r\n     <g>\r\n      <use style=\"fill:#00ff00;stroke:#00ff00;\" x=\"489.126563\" xlink:href=\"#m0bead6ccdd\" y=\"260.100781\"/>\r\n     </g>\r\n    </g>\r\n    <g id=\"text_31\">\r\n     <!-- Kelsey Mitchell -->\r\n     <g transform=\"translate(507.126563 262.725781)scale(0.1 -0.1)\">\r\n      <use xlink:href=\"#DejaVuSans-75\"/>\r\n      <use x=\"60.576172\" xlink:href=\"#DejaVuSans-101\"/>\r\n      <use x=\"122.099609\" xlink:href=\"#DejaVuSans-108\"/>\r\n      <use x=\"149.882812\" xlink:href=\"#DejaVuSans-115\"/>\r\n      <use x=\"201.982422\" xlink:href=\"#DejaVuSans-101\"/>\r\n      <use x=\"263.505859\" xlink:href=\"#DejaVuSans-121\"/>\r\n      <use x=\"322.685547\" xlink:href=\"#DejaVuSans-32\"/>\r\n      <use x=\"354.472656\" xlink:href=\"#DejaVuSans-77\"/>\r\n      <use x=\"440.751953\" xlink:href=\"#DejaVuSans-105\"/>\r\n      <use x=\"468.535156\" xlink:href=\"#DejaVuSans-116\"/>\r\n      <use x=\"507.744141\" xlink:href=\"#DejaVuSans-99\"/>\r\n      <use x=\"562.724609\" xlink:href=\"#DejaVuSans-104\"/>\r\n      <use x=\"626.103516\" xlink:href=\"#DejaVuSans-101\"/>\r\n      <use x=\"687.626953\" xlink:href=\"#DejaVuSans-108\"/>\r\n      <use x=\"715.410156\" xlink:href=\"#DejaVuSans-108\"/>\r\n     </g>\r\n    </g>\r\n   </g>\r\n  </g>\r\n </g>\r\n <defs>\r\n  <clipPath id=\"p1206d561c2\">\r\n   <rect height=\"597.96\" width=\"669.6\" x=\"41.667187\" y=\"10.999219\"/>\r\n  </clipPath>\r\n </defs>\r\n</svg>\r\n",
      "image/png": "[encoded data removed]"
     },
     "metadata": {
      "needs_background": "light"
     }
    }
   ],
   "source": [
    "plt.figure(figsize=(12,11))\n",
    "draw_court(outer_lines=True, color=\"black\")\n",
    "plt.scatter(Jewel_Lloyd_made.LOC_X, Jewel_Lloyd_made.LOC_Y,label='Jewel Llyod', color='Green')\n",
    "plt.scatter(Satou_Sabally_made_shots.LOC_X, Satou_Sabally_made_shots.LOC_Y,label='Satou Sabally', color=\"red\")\n",
    "plt.scatter(Allie_Quigley_made.LOC_X, Allie_Quigley_made.LOC_Y,label='Allie Quigley', color=\"blue\")\n",
    "plt.scatter(Courtney_Williams_made.LOC_X, Courtney_Williams_made.LOC_Y,label='Courtney Williams', color=\"grey\")\n",
    "plt.scatter(Kayla_McBride_made.LOC_X, Kayla_McBride_made.LOC_Y,label='Kayla McBride', color=\"black\")\n",
    "plt.scatter(test_center.LOC_X, test_center.LOC_Y,label='Aja Wilson and Allie Quigley', color=\"pink\")\n",
    "plt.scatter(Courtney_Williams_made_2.LOC_X, Courtney_Williams_made_2.LOC_Y,label='Courtney Williams', color=\"grey\")\n",
    "plt.scatter(Courtney_Williams_made_3.LOC_X, Courtney_Williams_made_3.LOC_Y,label='Courtney Williams', color=\"grey\")\n",
    "plt.scatter(Chennedy_Carter_made.LOC_X, Chennedy_Carter_made.LOC_Y,label='Chennedy Carter and Napheesa Collier', color=\"pink\")\n",
    "plt.scatter(Candice_Dupree_made.LOC_X, Candice_Dupree_made.LOC_Y,label='Candice Dupree', color=\"orange\")\n",
    "plt.scatter(A_THomas.LOC_X, A_THomas.LOC_Y,label='Alyssa Thomas', color=\"purple\")\n",
    "plt.scatter(Napheesa_Collier_made.LOC_X, Napheesa_Collier_made.LOC_Y,label='Napheesa Collier', color=\"brown\")\n",
    "plt.scatter(Emma_Messeman_made.LOC_X, Emma_Messeman_made.LOC_Y,label='Emma Messeman', color=\"yellow\")\n",
    "plt.scatter(Dearica_Hamby_made.LOC_X, Dearica_Hamby_made.LOC_Y,label='Dearica Hamby', color=\"gold\")\n",
    "plt.scatter(Arike_Ogunbowale_made.LOC_X, Arike_Ogunbowale_made.LOC_Y,label='Arike Ogunbowale', color=\"crimson\")\n",
    "plt.scatter(Julie_allemand_Kelsey_Mitchell_made.LOC_X, Julie_allemand_Kelsey_Mitchell_made.LOC_Y,label='Julie Allemand Kelsey_Mitchell ', color=\"olive\")\n",
    "plt.scatter(Kelsey_Mitchell_made.LOC_X, Kelsey_Mitchell_made.LOC_Y,label='Kelsey Mitchell', color=\"lime\")\n",
    "\n",
    "plt.xlim(-300,300)\n",
    "plt.ylim(-100,500)\n",
    "plt.legend(loc='upper right')\n",
    "plt.show()"
   ]
  },
  {
   "cell_type": "code",
   "execution_count": null,
   "metadata": {},
   "outputs": [],
   "source": []
  },
  {
   "cell_type": "code",
   "execution_count": null,
   "metadata": {},
   "outputs": [],
   "source": []
  },
  {
   "cell_type": "code",
   "execution_count": null,
   "metadata": {},
   "outputs": [],
   "source": []
  },
  {
   "cell_type": "code",
   "execution_count": null,
   "metadata": {},
   "outputs": [],
   "source": []
  },
  {
   "cell_type": "code",
   "execution_count": null,
   "metadata": {},
   "outputs": [],
   "source": []
  },
  {
   "cell_type": "code",
   "execution_count": null,
   "metadata": {},
   "outputs": [],
   "source": []
  }
 ],
 "metadata": {
  "kernelspec": {
   "display_name": "Python 3",
   "language": "python",
   "name": "python3"
  },
  "language_info": {
   "codemirror_mode": {
    "name": "ipython",
    "version": 3
   },
   "file_extension": ".py",
   "mimetype": "text/x-python",
   "name": "python",
   "nbconvert_exporter": "python",
   "pygments_lexer": "ipython3",
   "version": "3.8.3-final"
  }
 },
 "nbformat": 4,
 "nbformat_minor": 4
}